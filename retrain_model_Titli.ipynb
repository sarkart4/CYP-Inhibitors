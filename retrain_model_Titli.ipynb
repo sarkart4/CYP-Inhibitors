{
 "cells": [
  {
   "cell_type": "code",
   "execution_count": 2,
   "metadata": {},
   "outputs": [],
   "source": [
    "##I am testing this script in ampl-1.4.0 env -> $ conda activate ampl-1.4.0\n",
    "from atomsci.ddm.utils import model_retrain as mr\n",
    "import sys\n",
    "import os\n",
    "%config Completer.use_jedi=False"
   ]
  },
  {
   "cell_type": "code",
   "execution_count": 3,
   "metadata": {},
   "outputs": [
    {
     "name": "stdout",
     "output_type": "stream",
     "text": [
      "CHRM1-ampl-1.1.0\r\n",
      "CHRM1-ampl-1.1.0.tar.gz\r\n",
      "chrm1_union_trainset_graphconv_ampl-1.1.0\r\n",
      "chrm1_union_trainset_graphconv_ampl-1.1.0.tar.gz\r\n",
      "CHRM2-ampl-1.1.0\r\n",
      "CHRM2-ampl-1.1.0.tar.gz\r\n",
      "chrm2_union_trainset_graphconv_ampl-1.1.0\r\n",
      "chrm2_union_trainset_graphconv_ampl-1.1.0.tar.gz\r\n",
      "CHRM3-ampl-1.1.0\r\n",
      "CHRM3-ampl-1.1.0.tar.gz\r\n",
      "chrm3_union_trainset_graphconv_ampl-1.1.0\r\n",
      "chrm3_union_trainset_graphconv_ampl-1.1.0.tar.gz\r\n",
      "CYP2C9-ampl-1.1.0\r\n",
      "CYP2C9-ampl-1.1.0.tar.gz\r\n",
      "cyp2c9_union_trainset_graphconv_ampl-1.1.0\r\n",
      "cyp2c9_union_trainset_graphconv_ampl-1.1.0.tar.gz\r\n",
      "CYP2D6-ampl-1.1.0\r\n",
      "CYP2D6-ampl-1.1.0.tar.gz\r\n",
      "cyp2d6_union_trainset_graphconv_ampl-1.1.0\r\n",
      "cyp2d6_union_trainset_graphconv_ampl-1.1.0.tar.gz\r\n",
      "CYP3A4-ampl-1.1.0\r\n",
      "CYP3A4-ampl-1.1.0.tar.gz\r\n",
      "cyp3a4_union_trainset_graphconv_ampl-1.1.0\r\n",
      "cyp3a4_union_trainset_graphconv_ampl-1.1.0.tar.gz\r\n",
      "HRH1-ampl-1.1.0\r\n",
      "HRH1-ampl-1.1.0.tar.gz\r\n",
      "hrh1_union_trainset_graphconv_ampl-1.1.0\r\n",
      "hrh1_union_trainset_graphconv_ampl-1.1.0.tar.gz\r\n",
      "KCNH2-ampl-1.1.0\r\n",
      "KCNH2-ampl-1.1.0.tar.gz\r\n",
      "kcnh2_union_trainset_graphconv_ampl-1.1.0\r\n",
      "kcnh2_union_trainset_graphconv_ampl-1.1.0.tar.gz\r\n",
      "output1_ampl-1.4.0\r\n",
      "output_ampl-1.4.0\r\n",
      "PIK3CG-ampl-1.1.0\r\n",
      "PIK3CG-ampl-1.1.0.tar.gz\r\n",
      "pik3cg_union_trainset_mordred_ampl-1.1.0\r\n",
      "pik3cg_union_trainset_mordred_ampl-1.1.0.tar.gz\r\n"
     ]
    }
   ],
   "source": [
    "home_dir = \"/g/g92/sarkar7/atom/titli/MoDaC/NCI_DOE_Archive/ATOM/Safety_Screen_Targets/\"\n",
    "!ls $home_dir\n",
    "outdir= home_dir + \"output_ampl-1.4.0/\"# output dir\n",
    "if not os.path.exists(outdir):\n",
    "  os.makedirs(outdir)\n",
    "input_dir = os.path.join(home_dir, 'cyp3a4_union_trainset_graphconv_ampl-1.1.0.tar.gz')\n",
    "output_dir= os.path.join(home_dir, 'cyp3a4_model_retrain-ampl-1.4.0')\n",
    "dataset_key=os.path.join(home_dir, 'CYP3A4-ampl-1.1.0/cyp3a4_union_trainset_base_smiles.csv')"
   ]
  },
  {
   "cell_type": "code",
   "execution_count": null,
   "metadata": {},
   "outputs": [],
   "source": [
    "# retrain model:\n",
    "date\n",
    "python /usr/WS2/sarkar7/AMPL-1.4.0/AMPL/atomsci/ddm/utils/model_retrain.py -i \"${WRK}pik3cg_union_trainset_graphconv_ampl-1.1.0.tar.gz\" -o $outdir -pd_type regression -dk \"${WRK}PIK3CG-ampl-1.1.0/pik3cg_union_trainset_base_smiles.csv\" && date\n",
    "\n"
   ]
  }
 ],
 "metadata": {
  "kernelspec": {
   "display_name": "ampl-1.4.0",
   "language": "python",
   "name": "ampl-1.4.0"
  },
  "language_info": {
   "codemirror_mode": {
    "name": "ipython",
    "version": 3
   },
   "file_extension": ".py",
   "mimetype": "text/x-python",
   "name": "python",
   "nbconvert_exporter": "python",
   "pygments_lexer": "ipython3",
   "version": "3.7.10"
  }
 },
 "nbformat": 4,
 "nbformat_minor": 4
}
