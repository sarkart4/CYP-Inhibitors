{
 "cells": [
  {
   "cell_type": "markdown",
   "metadata": {},
   "source": [
    "# HyperOpt for CYP2C9 dataset\n",
    "I used cyp2c9_union_trainset_base_smiles.csv from MoDaC old data.\n",
    "Goal:Generate models with RF, NN, XGBoost with different parameter setting and select best model based on valid_r2 score."
   ]
  },
  {
   "cell_type": "code",
   "execution_count": 1,
   "metadata": {},
   "outputs": [
    {
     "name": "stderr",
     "output_type": "stream",
     "text": [
      "DEBUG:ATOM:Model tracker client not supported in your environment; will save models in filesystem only.\n",
      "DEBUG:ATOM:Model tracker client not supported in your environment; can look at models in filesystem only.\n"
     ]
    },
    {
     "name": "stdout",
     "output_type": "stream",
     "text": [
      "Imports Done.\n"
     ]
    }
   ],
   "source": [
    "import matplotlib.pyplot as plt\n",
    "import seaborn as sns\n",
    "import numpy as np\n",
    "import pandas as pd\n",
    "import os, time\n",
    "import multiprocessing\n",
    "from joblib import Parallel, delayed\n",
    "\n",
    "from atomsci.ddm.pipeline import model_pipeline as mp\n",
    "from atomsci.ddm.pipeline import parameter_parser as parse\n",
    "from atomsci.ddm.pipeline import predict_from_model as pfm \n",
    "from atomsci.ddm.pipeline import compare_models as cm \n",
    "\n",
    "sns.set_context(\"poster\")\n",
    "sns.set_style(\"whitegrid\")\n",
    "sns.set_palette(\"Set2\")\n",
    "pal = sns.color_palette()\n",
    "\n",
    "pd.set_option('display.max_rows', 15)\n",
    "pd.set_option('display.max_columns', 150)\n",
    "\n",
    "print(\"Imports Done.\")"
   ]
  },
  {
   "cell_type": "code",
   "execution_count": 2,
   "metadata": {},
   "outputs": [],
   "source": [
    "target='CYP2C9'"
   ]
  },
  {
   "cell_type": "markdown",
   "metadata": {},
   "source": [
    "# load data and examine"
   ]
  },
  {
   "cell_type": "code",
   "execution_count": 3,
   "metadata": {},
   "outputs": [
    {
     "name": "stdout",
     "output_type": "stream",
     "text": [
      "CHEMBL25-CYP2C9_human_IC50_26Nov2019.txt\r\n",
      "cyp2c9_chembl_testset_base_smiles_union.csv\r\n",
      "cyp2c9_dtc_smiles.csv\r\n",
      "cyp2c9_dtc_testset_base_smiles_union.csv\r\n",
      "cyp2c9_excape_smiles.csv\r\n",
      "cyp2c9_excape_testset_base_smiles_union.csv\r\n",
      "cyp2c9_union_testset_base_smiles.csv\r\n",
      "cyp2c9_union_trainset_base_smiles.csv\r\n",
      "cyp2c9_union_trainset_base_smiles_train_valid_test_scaffold_050a3c4b-46f1-4678-8029-94ddb31b9622.csv\r\n",
      "cyp2c9_union_trainset_base_smiles_train_valid_test_scaffold_1f2dd205-7845-4c8a-bf5d-62e207655095.csv\r\n",
      "cyp2c9_union_trainset_base_smiles_train_valid_test_scaffold_68950577-f8a1-4373-a48f-d8c644312e8e.csv\r\n",
      "cyp2c9_union_trainset_base_smiles_train_valid_test_scaffold_c4fd7f92-a4b1-41a4-a85b-1990dfac0204.csv\r\n",
      "cyp2c9_union_trainset_base_smiles_train_valid_test_scaffold_e6041d91-df79-4bc6-93b6-ad13b3205d06.csv\r\n",
      "scaled_descriptors\r\n"
     ]
    }
   ],
   "source": [
    "data_dir = './../Data/'+target+'-ampl-1.1.0_old/'\n",
    "!ls $data_dir\n",
    "outdir = './../HPO/HPO_models_'+target+'_old/'\n",
    "if not os.path.exists(outdir):\n",
    "    os.makedirs(outdir)"
   ]
  },
  {
   "cell_type": "code",
   "execution_count": 4,
   "metadata": {},
   "outputs": [
    {
     "data": {
      "text/html": [
       "<div>\n",
       "<style scoped>\n",
       "    .dataframe tbody tr th:only-of-type {\n",
       "        vertical-align: middle;\n",
       "    }\n",
       "\n",
       "    .dataframe tbody tr th {\n",
       "        vertical-align: top;\n",
       "    }\n",
       "\n",
       "    .dataframe thead th {\n",
       "        text-align: right;\n",
       "    }\n",
       "</style>\n",
       "<table border=\"1\" class=\"dataframe\">\n",
       "  <thead>\n",
       "    <tr style=\"text-align: right;\">\n",
       "      <th></th>\n",
       "      <th>base_rdkit_smiles</th>\n",
       "      <th>compound_id</th>\n",
       "      <th>pIC50</th>\n",
       "      <th>relation</th>\n",
       "      <th>active</th>\n",
       "    </tr>\n",
       "  </thead>\n",
       "  <tbody>\n",
       "    <tr>\n",
       "      <th>0</th>\n",
       "      <td>Nc1nc(Br)c2c(F)cccc2c1-c1ccc(F)cc1</td>\n",
       "      <td>XOKMVGNSLZHCLO-SDRQFZCRNA-N</td>\n",
       "      <td>5.6</td>\n",
       "      <td>NaN</td>\n",
       "      <td>1</td>\n",
       "    </tr>\n",
       "    <tr>\n",
       "      <th>1</th>\n",
       "      <td>CCOC(=O)c1sc2nc3c(cc2c1N)COC(C)(CC)C3</td>\n",
       "      <td>OQOQNULQSFFCLL-UHFFFAOYNA-N</td>\n",
       "      <td>5.0</td>\n",
       "      <td>NaN</td>\n",
       "      <td>1</td>\n",
       "    </tr>\n",
       "  </tbody>\n",
       "</table>\n",
       "</div>"
      ],
      "text/plain": [
       "                       base_rdkit_smiles                  compound_id  pIC50  \\\n",
       "0     Nc1nc(Br)c2c(F)cccc2c1-c1ccc(F)cc1  XOKMVGNSLZHCLO-SDRQFZCRNA-N    5.6   \n",
       "1  CCOC(=O)c1sc2nc3c(cc2c1N)COC(C)(CC)C3  OQOQNULQSFFCLL-UHFFFAOYNA-N    5.0   \n",
       "\n",
       "  relation  active  \n",
       "0      NaN       1  \n",
       "1      NaN       1  "
      ]
     },
     "execution_count": 4,
     "metadata": {},
     "output_type": "execute_result"
    }
   ],
   "source": [
    "#test_file = data_dir + \"cyp2d6_union_testset_base_smiles.csv\"\n",
    "data_file = data_dir + target.lower()+\"_union_trainset_base_smiles.csv\"\n",
    "data = pd.read_csv(data_file)\n",
    "data.head(2)"
   ]
  },
  {
   "cell_type": "code",
   "execution_count": 5,
   "metadata": {},
   "outputs": [
    {
     "name": "stdout",
     "output_type": "stream",
     "text": [
      "Duplicate SMILES: 0 \tDuplicate compound IDs: 0 \tDuplicate indices: 0 \tNA SMILES: 0\n",
      "Shape: (11321, 5)\n",
      "actives: 10422\n",
      "inactives: 899\n"
     ]
    }
   ],
   "source": [
    "print(\"Duplicate SMILES:\",data.duplicated(subset=\"base_rdkit_smiles\").sum(), \"\\tDuplicate compound IDs:\",data.duplicated(subset=\"compound_id\").sum(), \"\\tDuplicate indices:\",data.index.duplicated().sum(), \"\\tNA SMILES:\",data.base_rdkit_smiles.isna().sum())\n",
    "print(\"Shape:\", data.shape)\n",
    "print('actives:', data.active.sum())\n",
    "print('inactives:', len(data)-data.active.sum())"
   ]
  },
  {
   "cell_type": "code",
   "execution_count": 5,
   "metadata": {},
   "outputs": [
    {
     "data": {
      "text/plain": [
       "['050a3c4b-46f1-4678-8029-94ddb31b9622',\n",
       " './../Data/CYP2C9-ampl-1.1.0_old/cyp2c9_union_trainset_base_smiles.csv']"
      ]
     },
     "execution_count": 5,
     "metadata": {},
     "output_type": "execute_result"
    }
   ],
   "source": [
    "## save split uuids for future reference\n",
    "# all are mordread_filtered\n",
    "# /home/sarkart4/MoDaC/NCI_DOE_Archive/ATOM/Safety_Screen_Targets/CYP2D6-ampl-1.1.0/cyp2d6_union_trainset_base_smiles_train_valid_test_scaffold_c8c36365-b294-41a4-983a-57879bbde0c0.csv\n",
    "# /home/sarkart4/MoDaC/NCI_DOE_Archive/ATOM/Safety_Screen_Targets/CYP2D6-ampl-1.1.0/cyp2d6_union_trainset_base_smiles_train_valid_test_scaffold_4cb49d5e-1882-474e-ae0b-781d77a4738a.csv\n",
    "# Dataset split table saved to /mnt/projects/ATOM/sarkart4/Data/CYP2D6-ampl-1.1.0/cyp2d6_union_trainset_base_smiles_train_valid_test_scaffold_5fdd8051-5b67-4a13-a768-a8a702d0182b.csv\n",
    "\n",
    "#CYP2D6_old (splitted on FRCE, moe-featurized on LC)\n",
    "#Dataset split table saved to /mnt/projects/ATOM/sarkart4/Data/CYP2D6-ampl-1.1.0_old/cyp2d6_union_trainset_base_smiles_train_valid_test_scaffold_c391ef72-9cd5-4bb7-a88e-9c55be5012a9.csv\n",
    "#split_uuid = 'c391ef72-9cd5-4bb7-a88e-9c55be5012a9' # scaffold, ecfp\n",
    "#split_uuid =  '4dc24a89-e3c9-4c91-b8b1-6244f5a76132'# scaffold, graphconv\n",
    "#split_uuid =  '621c5873-bd9e-400e-a379-fd94996d547a' # scaffold, rdkit_raw\n",
    "#split_uuid = 'c517f69d-dd98-46c9-a9ae-94e6488149fb' # scaffold,mord\n",
    "\n",
    "# CYP2C9 old\n",
    "#Dataset split table saved to /usr/WS2/atom/titli/MoDaC/Data/CYP2C9-ampl-1.1.0_old/cyp2c9_union_trainset_base_smiles_train_valid_test_scaffold_c4fd7f92-a4b1-41a4-a85b-1990dfac0204.csv\n",
    "#split_uuid ='c4fd7f92-a4b1-41a4-a85b-1990dfac0204' # ecfp\n",
    "#split_uuid ='68950577-f8a1-4373-a48f-d8c644312e8e' # graphconv\n",
    "#split_uuid = 'e6041d91-df79-4bc6-93b6-ad13b3205d06' # mordred_filtered\n",
    "split_uuid = '050a3c4b-46f1-4678-8029-94ddb31b9622' # moe\n",
    "#split_uuid = '1f2dd205-7845-4c8a-bf5d-62e207655095' #rdkit_raw\n",
    "# tried - RF/ECFP/NN, NN/graphconv, RF/NN/mordred_filtered(WORSE)\n",
    "[split_uuid,data_file]"
   ]
  },
  {
   "cell_type": "code",
   "execution_count": null,
   "metadata": {},
   "outputs": [],
   "source": [
    "#mf = pd.read_csv(data_dir+\"scaled_descriptors/cyp2d6_union_trainset_base_smiles_with_mordred_filtered_descriptors.csv\")\n",
    "#mf.shape"
   ]
  },
  {
   "cell_type": "markdown",
   "metadata": {},
   "source": [
    "# Grid Search - RF"
   ]
  },
  {
   "cell_type": "code",
   "execution_count": 7,
   "metadata": {},
   "outputs": [],
   "source": [
    "params = {\n",
    "  #  \"hyperparam\": \"True\",\n",
    "    \"search_type\" : \"user_specified\",\n",
    "    \"save_results\": \"False\",\n",
    "    \"collection_name\": \"CYP2C9\",\n",
    "    \"rerun\": \"False\",\n",
    "    \"dataset_key\" : data_file,\n",
    "    \"datastore\": \"False\",\n",
    "    \"response_cols\" : \"pIC50\", \n",
    "    \"id_col\": \"compound_id\",\n",
    "    \"smiles_col\" : \"base_rdkit_smiles\",\n",
    "    \"result_dir\": outdir, \n",
    "    \"split_only\": \"False\",\n",
    "    \"previously_split\": \"True\",\n",
    "    \"split_uuid\": split_uuid,\n",
    "    \"splitter\": \"scaffold\",\n",
    "    #\"split_valid_frac\": \"0.15\",\n",
    "    #\"split_test_frac\": \"0.002\",\n",
    "    \"prediction_type\": \"regression\",\n",
    "    \"transformers\": \"True\",\n",
    "    \"featurizer\": \"computed_descriptors\",\n",
    "    \"descriptor_type\": \"moe\", \n",
    "    \"max_epochs\": \"100\",\n",
    "    \"model_type\" :\"RF\",\n",
    "    \"uncertainty\": \"True\",\n",
    "    \"verbose\": \"True\"\n",
    "}"
   ]
  },
  {
   "cell_type": "code",
   "execution_count": 8,
   "metadata": {},
   "outputs": [
    {
     "name": "stderr",
     "output_type": "stream",
     "text": [
      "INFO:ATOM:Created a dataset hash '5784653341796c83c2c652313bd6db26' from dataset_key '/usr/WS2/atom/titli/MoDaC/Data/CYP2C9-ampl-1.1.0_old/cyp2c9_union_trainset_base_smiles.csv'\n",
      "INFO:ATOM:Reading descriptor spec table from /g/g92/sarkar7/.conda/envs/AMPL-1.4.1/lib/python3.7/site-packages/atomsci/ddm/data/descriptor_sets_sources_by_descr_type.csv\n",
      "DEBUG:ATOM:Attempting to load featurized dataset\n",
      "DEBUG:ATOM:Got dataset, attempting to extract data\n",
      "DEBUG:ATOM:Creating deepchem dataset\n",
      "INFO:ATOM:Using prefeaturized data; number of features = 306\n",
      "WARNING:ATOM:Previous dataset split restored\n",
      "INFO:ATOM:Wrote transformers to ./../HPO/HPO_models_CYP2C9_old/cyp2c9_union_trainset_base_smiles/RF_computed_descriptors_scaffold_regression/b89fb48d-425b-47d6-b475-14b8f0166228/transformers.pkl\n",
      "INFO:ATOM:Transforming response data\n",
      "INFO:ATOM:Transforming feature data\n",
      "INFO:ATOM:Transforming response data\n",
      "INFO:ATOM:Transforming feature data\n",
      "INFO:ATOM:Transforming response data\n",
      "INFO:ATOM:Transforming feature data\n",
      "INFO:ATOM:Fitting random forest model\n",
      "INFO:ATOM:Fold 0: training r2_score = 0.769, validation r2_score = 0.087, test r2_score = 0.912\n",
      "INFO:ATOM:Wrote model tarball to ./../HPO/HPO_models_CYP2C9_old/cyp2c9_union_trainset_base_smiles_model_b89fb48d-425b-47d6-b475-14b8f0166228.tar.gz\n",
      "INFO:ATOM:Created a dataset hash '5784653341796c83c2c652313bd6db26' from dataset_key '/usr/WS2/atom/titli/MoDaC/Data/CYP2C9-ampl-1.1.0_old/cyp2c9_union_trainset_base_smiles.csv'\n",
      "DEBUG:ATOM:Attempting to load featurized dataset\n"
     ]
    },
    {
     "name": "stdout",
     "output_type": "stream",
     "text": [
      "rf_estimators: 16, rf_max_depth: 16, rf_max_features: 16, valid_r2: 0.08664263446457143\n"
     ]
    },
    {
     "name": "stderr",
     "output_type": "stream",
     "text": [
      "DEBUG:ATOM:Got dataset, attempting to extract data\n",
      "DEBUG:ATOM:Creating deepchem dataset\n",
      "INFO:ATOM:Using prefeaturized data; number of features = 306\n",
      "WARNING:ATOM:Previous dataset split restored\n",
      "INFO:ATOM:Wrote transformers to ./../HPO/HPO_models_CYP2C9_old/cyp2c9_union_trainset_base_smiles/RF_computed_descriptors_scaffold_regression/2d197251-8481-491d-8d1d-0fc9e73560d2/transformers.pkl\n",
      "INFO:ATOM:Transforming response data\n",
      "INFO:ATOM:Transforming feature data\n",
      "INFO:ATOM:Transforming response data\n",
      "INFO:ATOM:Transforming feature data\n",
      "INFO:ATOM:Transforming response data\n",
      "INFO:ATOM:Transforming feature data\n",
      "INFO:ATOM:Fitting random forest model\n",
      "INFO:ATOM:Fold 0: training r2_score = 0.775, validation r2_score = 0.105, test r2_score = 0.925\n",
      "INFO:ATOM:Wrote model tarball to ./../HPO/HPO_models_CYP2C9_old/cyp2c9_union_trainset_base_smiles_model_2d197251-8481-491d-8d1d-0fc9e73560d2.tar.gz\n",
      "INFO:ATOM:Created a dataset hash '5784653341796c83c2c652313bd6db26' from dataset_key '/usr/WS2/atom/titli/MoDaC/Data/CYP2C9-ampl-1.1.0_old/cyp2c9_union_trainset_base_smiles.csv'\n",
      "DEBUG:ATOM:Attempting to load featurized dataset\n"
     ]
    },
    {
     "name": "stdout",
     "output_type": "stream",
     "text": [
      "rf_estimators: 16, rf_max_depth: 16, rf_max_features: 24, valid_r2: 0.10544501174022158\n"
     ]
    },
    {
     "name": "stderr",
     "output_type": "stream",
     "text": [
      "DEBUG:ATOM:Got dataset, attempting to extract data\n",
      "DEBUG:ATOM:Creating deepchem dataset\n",
      "INFO:ATOM:Using prefeaturized data; number of features = 306\n",
      "WARNING:ATOM:Previous dataset split restored\n",
      "INFO:ATOM:Wrote transformers to ./../HPO/HPO_models_CYP2C9_old/cyp2c9_union_trainset_base_smiles/RF_computed_descriptors_scaffold_regression/8e020045-739a-4c09-b33b-219b6ea8171a/transformers.pkl\n",
      "INFO:ATOM:Transforming response data\n",
      "INFO:ATOM:Transforming feature data\n",
      "INFO:ATOM:Transforming response data\n",
      "INFO:ATOM:Transforming feature data\n",
      "INFO:ATOM:Transforming response data\n",
      "INFO:ATOM:Transforming feature data\n",
      "INFO:ATOM:Fitting random forest model\n",
      "INFO:ATOM:Fold 0: training r2_score = 0.771, validation r2_score = 0.093, test r2_score = 0.847\n",
      "INFO:ATOM:Wrote model tarball to ./../HPO/HPO_models_CYP2C9_old/cyp2c9_union_trainset_base_smiles_model_8e020045-739a-4c09-b33b-219b6ea8171a.tar.gz\n",
      "INFO:ATOM:Created a dataset hash '5784653341796c83c2c652313bd6db26' from dataset_key '/usr/WS2/atom/titli/MoDaC/Data/CYP2C9-ampl-1.1.0_old/cyp2c9_union_trainset_base_smiles.csv'\n",
      "DEBUG:ATOM:Attempting to load featurized dataset\n"
     ]
    },
    {
     "name": "stdout",
     "output_type": "stream",
     "text": [
      "rf_estimators: 16, rf_max_depth: 16, rf_max_features: 32, valid_r2: 0.09344097596263568\n"
     ]
    },
    {
     "name": "stderr",
     "output_type": "stream",
     "text": [
      "DEBUG:ATOM:Got dataset, attempting to extract data\n",
      "DEBUG:ATOM:Creating deepchem dataset\n",
      "INFO:ATOM:Using prefeaturized data; number of features = 306\n",
      "WARNING:ATOM:Previous dataset split restored\n",
      "INFO:ATOM:Wrote transformers to ./../HPO/HPO_models_CYP2C9_old/cyp2c9_union_trainset_base_smiles/RF_computed_descriptors_scaffold_regression/48ccce9a-3617-4d0f-b1f7-ecddb3e93c47/transformers.pkl\n",
      "INFO:ATOM:Transforming response data\n",
      "INFO:ATOM:Transforming feature data\n",
      "INFO:ATOM:Transforming response data\n",
      "INFO:ATOM:Transforming feature data\n",
      "INFO:ATOM:Transforming response data\n",
      "INFO:ATOM:Transforming feature data\n",
      "INFO:ATOM:Fitting random forest model\n",
      "INFO:ATOM:Fold 0: training r2_score = 0.760, validation r2_score = 0.113, test r2_score = 0.834\n",
      "INFO:ATOM:Wrote model tarball to ./../HPO/HPO_models_CYP2C9_old/cyp2c9_union_trainset_base_smiles_model_48ccce9a-3617-4d0f-b1f7-ecddb3e93c47.tar.gz\n",
      "INFO:ATOM:Created a dataset hash '5784653341796c83c2c652313bd6db26' from dataset_key '/usr/WS2/atom/titli/MoDaC/Data/CYP2C9-ampl-1.1.0_old/cyp2c9_union_trainset_base_smiles.csv'\n",
      "DEBUG:ATOM:Attempting to load featurized dataset\n"
     ]
    },
    {
     "name": "stdout",
     "output_type": "stream",
     "text": [
      "rf_estimators: 16, rf_max_depth: 16, rf_max_features: 64, valid_r2: 0.11268073223027764\n"
     ]
    },
    {
     "name": "stderr",
     "output_type": "stream",
     "text": [
      "DEBUG:ATOM:Got dataset, attempting to extract data\n",
      "DEBUG:ATOM:Creating deepchem dataset\n",
      "INFO:ATOM:Using prefeaturized data; number of features = 306\n",
      "WARNING:ATOM:Previous dataset split restored\n",
      "INFO:ATOM:Wrote transformers to ./../HPO/HPO_models_CYP2C9_old/cyp2c9_union_trainset_base_smiles/RF_computed_descriptors_scaffold_regression/dc0f72b8-b8c4-43da-977c-cce1b12161d8/transformers.pkl\n",
      "INFO:ATOM:Transforming response data\n",
      "INFO:ATOM:Transforming feature data\n",
      "INFO:ATOM:Transforming response data\n",
      "INFO:ATOM:Transforming feature data\n",
      "INFO:ATOM:Transforming response data\n",
      "INFO:ATOM:Transforming feature data\n",
      "INFO:ATOM:Fitting random forest model\n",
      "INFO:ATOM:Fold 0: training r2_score = 0.765, validation r2_score = 0.115, test r2_score = 0.842\n",
      "INFO:ATOM:Wrote model tarball to ./../HPO/HPO_models_CYP2C9_old/cyp2c9_union_trainset_base_smiles_model_dc0f72b8-b8c4-43da-977c-cce1b12161d8.tar.gz\n",
      "INFO:ATOM:Created a dataset hash '5784653341796c83c2c652313bd6db26' from dataset_key '/usr/WS2/atom/titli/MoDaC/Data/CYP2C9-ampl-1.1.0_old/cyp2c9_union_trainset_base_smiles.csv'\n",
      "DEBUG:ATOM:Attempting to load featurized dataset\n"
     ]
    },
    {
     "name": "stdout",
     "output_type": "stream",
     "text": [
      "rf_estimators: 16, rf_max_depth: 16, rf_max_features: 128, valid_r2: 0.11502942160012031\n"
     ]
    },
    {
     "name": "stderr",
     "output_type": "stream",
     "text": [
      "DEBUG:ATOM:Got dataset, attempting to extract data\n",
      "DEBUG:ATOM:Creating deepchem dataset\n",
      "INFO:ATOM:Using prefeaturized data; number of features = 306\n",
      "WARNING:ATOM:Previous dataset split restored\n",
      "INFO:ATOM:Wrote transformers to ./../HPO/HPO_models_CYP2C9_old/cyp2c9_union_trainset_base_smiles/RF_computed_descriptors_scaffold_regression/2cfa29a4-0c48-4cc9-9d37-ded50abdb83c/transformers.pkl\n",
      "INFO:ATOM:Transforming response data\n",
      "INFO:ATOM:Transforming feature data\n",
      "INFO:ATOM:Transforming response data\n",
      "INFO:ATOM:Transforming feature data\n",
      "INFO:ATOM:Transforming response data\n",
      "INFO:ATOM:Transforming feature data\n",
      "INFO:ATOM:Fitting random forest model\n",
      "INFO:ATOM:Fold 0: training r2_score = 0.868, validation r2_score = 0.100, test r2_score = 0.488\n",
      "INFO:ATOM:Wrote model tarball to ./../HPO/HPO_models_CYP2C9_old/cyp2c9_union_trainset_base_smiles_model_2cfa29a4-0c48-4cc9-9d37-ded50abdb83c.tar.gz\n",
      "INFO:ATOM:Created a dataset hash '5784653341796c83c2c652313bd6db26' from dataset_key '/usr/WS2/atom/titli/MoDaC/Data/CYP2C9-ampl-1.1.0_old/cyp2c9_union_trainset_base_smiles.csv'\n",
      "DEBUG:ATOM:Attempting to load featurized dataset\n"
     ]
    },
    {
     "name": "stdout",
     "output_type": "stream",
     "text": [
      "rf_estimators: 16, rf_max_depth: 24, rf_max_features: 16, valid_r2: 0.10044737766649825\n"
     ]
    },
    {
     "name": "stderr",
     "output_type": "stream",
     "text": [
      "DEBUG:ATOM:Got dataset, attempting to extract data\n",
      "DEBUG:ATOM:Creating deepchem dataset\n",
      "INFO:ATOM:Using prefeaturized data; number of features = 306\n",
      "WARNING:ATOM:Previous dataset split restored\n",
      "INFO:ATOM:Wrote transformers to ./../HPO/HPO_models_CYP2C9_old/cyp2c9_union_trainset_base_smiles/RF_computed_descriptors_scaffold_regression/e352708a-424d-45c3-a7f3-3aaf325ca177/transformers.pkl\n",
      "INFO:ATOM:Transforming response data\n",
      "INFO:ATOM:Transforming feature data\n",
      "INFO:ATOM:Transforming response data\n",
      "INFO:ATOM:Transforming feature data\n",
      "INFO:ATOM:Transforming response data\n",
      "INFO:ATOM:Transforming feature data\n",
      "INFO:ATOM:Fitting random forest model\n",
      "INFO:ATOM:Fold 0: training r2_score = 0.870, validation r2_score = 0.079, test r2_score = 0.929\n",
      "INFO:ATOM:Wrote model tarball to ./../HPO/HPO_models_CYP2C9_old/cyp2c9_union_trainset_base_smiles_model_e352708a-424d-45c3-a7f3-3aaf325ca177.tar.gz\n",
      "INFO:ATOM:Created a dataset hash '5784653341796c83c2c652313bd6db26' from dataset_key '/usr/WS2/atom/titli/MoDaC/Data/CYP2C9-ampl-1.1.0_old/cyp2c9_union_trainset_base_smiles.csv'\n",
      "DEBUG:ATOM:Attempting to load featurized dataset\n"
     ]
    },
    {
     "name": "stdout",
     "output_type": "stream",
     "text": [
      "rf_estimators: 16, rf_max_depth: 24, rf_max_features: 24, valid_r2: 0.07895656721065669\n"
     ]
    },
    {
     "name": "stderr",
     "output_type": "stream",
     "text": [
      "DEBUG:ATOM:Got dataset, attempting to extract data\n",
      "DEBUG:ATOM:Creating deepchem dataset\n",
      "INFO:ATOM:Using prefeaturized data; number of features = 306\n",
      "WARNING:ATOM:Previous dataset split restored\n",
      "INFO:ATOM:Wrote transformers to ./../HPO/HPO_models_CYP2C9_old/cyp2c9_union_trainset_base_smiles/RF_computed_descriptors_scaffold_regression/13c13fa5-831d-425c-8ef0-3ec94ea286b1/transformers.pkl\n",
      "INFO:ATOM:Transforming response data\n",
      "INFO:ATOM:Transforming feature data\n",
      "INFO:ATOM:Transforming response data\n",
      "INFO:ATOM:Transforming feature data\n",
      "INFO:ATOM:Transforming response data\n",
      "INFO:ATOM:Transforming feature data\n",
      "INFO:ATOM:Fitting random forest model\n",
      "INFO:ATOM:Fold 0: training r2_score = 0.873, validation r2_score = 0.079, test r2_score = 0.039\n",
      "INFO:ATOM:Wrote model tarball to ./../HPO/HPO_models_CYP2C9_old/cyp2c9_union_trainset_base_smiles_model_13c13fa5-831d-425c-8ef0-3ec94ea286b1.tar.gz\n",
      "INFO:ATOM:Created a dataset hash '5784653341796c83c2c652313bd6db26' from dataset_key '/usr/WS2/atom/titli/MoDaC/Data/CYP2C9-ampl-1.1.0_old/cyp2c9_union_trainset_base_smiles.csv'\n",
      "DEBUG:ATOM:Attempting to load featurized dataset\n"
     ]
    },
    {
     "name": "stdout",
     "output_type": "stream",
     "text": [
      "rf_estimators: 16, rf_max_depth: 24, rf_max_features: 32, valid_r2: 0.07866225180265174\n"
     ]
    },
    {
     "name": "stderr",
     "output_type": "stream",
     "text": [
      "DEBUG:ATOM:Got dataset, attempting to extract data\n",
      "DEBUG:ATOM:Creating deepchem dataset\n",
      "INFO:ATOM:Using prefeaturized data; number of features = 306\n",
      "WARNING:ATOM:Previous dataset split restored\n",
      "INFO:ATOM:Wrote transformers to ./../HPO/HPO_models_CYP2C9_old/cyp2c9_union_trainset_base_smiles/RF_computed_descriptors_scaffold_regression/94e6d99f-60f5-41a4-8b8c-1c4475be55a6/transformers.pkl\n",
      "INFO:ATOM:Transforming response data\n",
      "INFO:ATOM:Transforming feature data\n",
      "INFO:ATOM:Transforming response data\n",
      "INFO:ATOM:Transforming feature data\n",
      "INFO:ATOM:Transforming response data\n",
      "INFO:ATOM:Transforming feature data\n",
      "INFO:ATOM:Fitting random forest model\n",
      "INFO:ATOM:Fold 0: training r2_score = 0.868, validation r2_score = 0.105, test r2_score = 0.637\n",
      "INFO:ATOM:Wrote model tarball to ./../HPO/HPO_models_CYP2C9_old/cyp2c9_union_trainset_base_smiles_model_94e6d99f-60f5-41a4-8b8c-1c4475be55a6.tar.gz\n",
      "INFO:ATOM:Created a dataset hash '5784653341796c83c2c652313bd6db26' from dataset_key '/usr/WS2/atom/titli/MoDaC/Data/CYP2C9-ampl-1.1.0_old/cyp2c9_union_trainset_base_smiles.csv'\n",
      "DEBUG:ATOM:Attempting to load featurized dataset\n"
     ]
    },
    {
     "name": "stdout",
     "output_type": "stream",
     "text": [
      "rf_estimators: 16, rf_max_depth: 24, rf_max_features: 64, valid_r2: 0.10541025533642479\n"
     ]
    },
    {
     "name": "stderr",
     "output_type": "stream",
     "text": [
      "DEBUG:ATOM:Got dataset, attempting to extract data\n",
      "DEBUG:ATOM:Creating deepchem dataset\n",
      "INFO:ATOM:Using prefeaturized data; number of features = 306\n",
      "WARNING:ATOM:Previous dataset split restored\n",
      "INFO:ATOM:Wrote transformers to ./../HPO/HPO_models_CYP2C9_old/cyp2c9_union_trainset_base_smiles/RF_computed_descriptors_scaffold_regression/069e0a6a-27db-4bf3-94eb-46bc6e22cdcc/transformers.pkl\n",
      "INFO:ATOM:Transforming response data\n",
      "INFO:ATOM:Transforming feature data\n",
      "INFO:ATOM:Transforming response data\n",
      "INFO:ATOM:Transforming feature data\n",
      "INFO:ATOM:Transforming response data\n",
      "INFO:ATOM:Transforming feature data\n",
      "INFO:ATOM:Fitting random forest model\n",
      "INFO:ATOM:Fold 0: training r2_score = 0.861, validation r2_score = 0.097, test r2_score = 0.583\n",
      "INFO:ATOM:Wrote model tarball to ./../HPO/HPO_models_CYP2C9_old/cyp2c9_union_trainset_base_smiles_model_069e0a6a-27db-4bf3-94eb-46bc6e22cdcc.tar.gz\n",
      "INFO:ATOM:Created a dataset hash '5784653341796c83c2c652313bd6db26' from dataset_key '/usr/WS2/atom/titli/MoDaC/Data/CYP2C9-ampl-1.1.0_old/cyp2c9_union_trainset_base_smiles.csv'\n",
      "DEBUG:ATOM:Attempting to load featurized dataset\n"
     ]
    },
    {
     "name": "stdout",
     "output_type": "stream",
     "text": [
      "rf_estimators: 16, rf_max_depth: 24, rf_max_features: 128, valid_r2: 0.09713229572977056\n"
     ]
    },
    {
     "name": "stderr",
     "output_type": "stream",
     "text": [
      "DEBUG:ATOM:Got dataset, attempting to extract data\n",
      "DEBUG:ATOM:Creating deepchem dataset\n",
      "INFO:ATOM:Using prefeaturized data; number of features = 306\n",
      "WARNING:ATOM:Previous dataset split restored\n",
      "INFO:ATOM:Wrote transformers to ./../HPO/HPO_models_CYP2C9_old/cyp2c9_union_trainset_base_smiles/RF_computed_descriptors_scaffold_regression/4bd492ff-2adb-49d0-b7be-ee3bb27a75d0/transformers.pkl\n",
      "INFO:ATOM:Transforming response data\n",
      "INFO:ATOM:Transforming feature data\n",
      "INFO:ATOM:Transforming response data\n",
      "INFO:ATOM:Transforming feature data\n",
      "INFO:ATOM:Transforming response data\n",
      "INFO:ATOM:Transforming feature data\n",
      "INFO:ATOM:Fitting random forest model\n",
      "INFO:ATOM:Fold 0: training r2_score = 0.878, validation r2_score = 0.073, test r2_score = 0.037\n",
      "INFO:ATOM:Wrote model tarball to ./../HPO/HPO_models_CYP2C9_old/cyp2c9_union_trainset_base_smiles_model_4bd492ff-2adb-49d0-b7be-ee3bb27a75d0.tar.gz\n",
      "INFO:ATOM:Created a dataset hash '5784653341796c83c2c652313bd6db26' from dataset_key '/usr/WS2/atom/titli/MoDaC/Data/CYP2C9-ampl-1.1.0_old/cyp2c9_union_trainset_base_smiles.csv'\n",
      "DEBUG:ATOM:Attempting to load featurized dataset\n"
     ]
    },
    {
     "name": "stdout",
     "output_type": "stream",
     "text": [
      "rf_estimators: 16, rf_max_depth: 32, rf_max_features: 16, valid_r2: 0.07305887639716446\n"
     ]
    },
    {
     "name": "stderr",
     "output_type": "stream",
     "text": [
      "DEBUG:ATOM:Got dataset, attempting to extract data\n",
      "DEBUG:ATOM:Creating deepchem dataset\n",
      "INFO:ATOM:Using prefeaturized data; number of features = 306\n",
      "WARNING:ATOM:Previous dataset split restored\n",
      "INFO:ATOM:Wrote transformers to ./../HPO/HPO_models_CYP2C9_old/cyp2c9_union_trainset_base_smiles/RF_computed_descriptors_scaffold_regression/e86b8663-8b24-469a-83cd-9b77401cf701/transformers.pkl\n",
      "INFO:ATOM:Transforming response data\n",
      "INFO:ATOM:Transforming feature data\n",
      "INFO:ATOM:Transforming response data\n",
      "INFO:ATOM:Transforming feature data\n",
      "INFO:ATOM:Transforming response data\n",
      "INFO:ATOM:Transforming feature data\n",
      "INFO:ATOM:Fitting random forest model\n",
      "INFO:ATOM:Fold 0: training r2_score = 0.877, validation r2_score = 0.092, test r2_score = 0.557\n",
      "INFO:ATOM:Wrote model tarball to ./../HPO/HPO_models_CYP2C9_old/cyp2c9_union_trainset_base_smiles_model_e86b8663-8b24-469a-83cd-9b77401cf701.tar.gz\n",
      "INFO:ATOM:Created a dataset hash '5784653341796c83c2c652313bd6db26' from dataset_key '/usr/WS2/atom/titli/MoDaC/Data/CYP2C9-ampl-1.1.0_old/cyp2c9_union_trainset_base_smiles.csv'\n",
      "DEBUG:ATOM:Attempting to load featurized dataset\n"
     ]
    },
    {
     "name": "stdout",
     "output_type": "stream",
     "text": [
      "rf_estimators: 16, rf_max_depth: 32, rf_max_features: 24, valid_r2: 0.09160349928044542\n"
     ]
    },
    {
     "name": "stderr",
     "output_type": "stream",
     "text": [
      "DEBUG:ATOM:Got dataset, attempting to extract data\n",
      "DEBUG:ATOM:Creating deepchem dataset\n",
      "INFO:ATOM:Using prefeaturized data; number of features = 306\n",
      "WARNING:ATOM:Previous dataset split restored\n",
      "INFO:ATOM:Wrote transformers to ./../HPO/HPO_models_CYP2C9_old/cyp2c9_union_trainset_base_smiles/RF_computed_descriptors_scaffold_regression/d0ad2266-bb48-4b02-8efb-73f632c13a18/transformers.pkl\n",
      "INFO:ATOM:Transforming response data\n",
      "INFO:ATOM:Transforming feature data\n",
      "INFO:ATOM:Transforming response data\n",
      "INFO:ATOM:Transforming feature data\n",
      "INFO:ATOM:Transforming response data\n",
      "INFO:ATOM:Transforming feature data\n",
      "INFO:ATOM:Fitting random forest model\n",
      "INFO:ATOM:Fold 0: training r2_score = 0.879, validation r2_score = 0.086, test r2_score = 0.842\n",
      "INFO:ATOM:Wrote model tarball to ./../HPO/HPO_models_CYP2C9_old/cyp2c9_union_trainset_base_smiles_model_d0ad2266-bb48-4b02-8efb-73f632c13a18.tar.gz\n",
      "INFO:ATOM:Created a dataset hash '5784653341796c83c2c652313bd6db26' from dataset_key '/usr/WS2/atom/titli/MoDaC/Data/CYP2C9-ampl-1.1.0_old/cyp2c9_union_trainset_base_smiles.csv'\n",
      "DEBUG:ATOM:Attempting to load featurized dataset\n"
     ]
    },
    {
     "name": "stdout",
     "output_type": "stream",
     "text": [
      "rf_estimators: 16, rf_max_depth: 32, rf_max_features: 32, valid_r2: 0.08614307605140104\n"
     ]
    },
    {
     "name": "stderr",
     "output_type": "stream",
     "text": [
      "DEBUG:ATOM:Got dataset, attempting to extract data\n",
      "DEBUG:ATOM:Creating deepchem dataset\n",
      "INFO:ATOM:Using prefeaturized data; number of features = 306\n",
      "WARNING:ATOM:Previous dataset split restored\n",
      "INFO:ATOM:Wrote transformers to ./../HPO/HPO_models_CYP2C9_old/cyp2c9_union_trainset_base_smiles/RF_computed_descriptors_scaffold_regression/6e1050b4-e80f-43c6-8b22-2dbdb2a14831/transformers.pkl\n",
      "INFO:ATOM:Transforming response data\n",
      "INFO:ATOM:Transforming feature data\n",
      "INFO:ATOM:Transforming response data\n",
      "INFO:ATOM:Transforming feature data\n",
      "INFO:ATOM:Transforming response data\n",
      "INFO:ATOM:Transforming feature data\n",
      "INFO:ATOM:Fitting random forest model\n",
      "INFO:ATOM:Fold 0: training r2_score = 0.879, validation r2_score = 0.096, test r2_score = 0.692\n",
      "INFO:ATOM:Wrote model tarball to ./../HPO/HPO_models_CYP2C9_old/cyp2c9_union_trainset_base_smiles_model_6e1050b4-e80f-43c6-8b22-2dbdb2a14831.tar.gz\n",
      "INFO:ATOM:Created a dataset hash '5784653341796c83c2c652313bd6db26' from dataset_key '/usr/WS2/atom/titli/MoDaC/Data/CYP2C9-ampl-1.1.0_old/cyp2c9_union_trainset_base_smiles.csv'\n",
      "DEBUG:ATOM:Attempting to load featurized dataset\n"
     ]
    },
    {
     "name": "stdout",
     "output_type": "stream",
     "text": [
      "rf_estimators: 16, rf_max_depth: 32, rf_max_features: 64, valid_r2: 0.09607471120090916\n"
     ]
    },
    {
     "name": "stderr",
     "output_type": "stream",
     "text": [
      "DEBUG:ATOM:Got dataset, attempting to extract data\n",
      "DEBUG:ATOM:Creating deepchem dataset\n",
      "INFO:ATOM:Using prefeaturized data; number of features = 306\n",
      "WARNING:ATOM:Previous dataset split restored\n",
      "INFO:ATOM:Wrote transformers to ./../HPO/HPO_models_CYP2C9_old/cyp2c9_union_trainset_base_smiles/RF_computed_descriptors_scaffold_regression/ce8d8609-420a-4ef5-b874-cbc4338a51a1/transformers.pkl\n",
      "INFO:ATOM:Transforming response data\n",
      "INFO:ATOM:Transforming feature data\n",
      "INFO:ATOM:Transforming response data\n",
      "INFO:ATOM:Transforming feature data\n",
      "INFO:ATOM:Transforming response data\n",
      "INFO:ATOM:Transforming feature data\n",
      "INFO:ATOM:Fitting random forest model\n",
      "INFO:ATOM:Fold 0: training r2_score = 0.877, validation r2_score = 0.089, test r2_score = 0.829\n",
      "INFO:ATOM:Wrote model tarball to ./../HPO/HPO_models_CYP2C9_old/cyp2c9_union_trainset_base_smiles_model_ce8d8609-420a-4ef5-b874-cbc4338a51a1.tar.gz\n",
      "INFO:ATOM:Created a dataset hash '5784653341796c83c2c652313bd6db26' from dataset_key '/usr/WS2/atom/titli/MoDaC/Data/CYP2C9-ampl-1.1.0_old/cyp2c9_union_trainset_base_smiles.csv'\n",
      "DEBUG:ATOM:Attempting to load featurized dataset\n"
     ]
    },
    {
     "name": "stdout",
     "output_type": "stream",
     "text": [
      "rf_estimators: 16, rf_max_depth: 32, rf_max_features: 128, valid_r2: 0.08903240504734722\n"
     ]
    },
    {
     "name": "stderr",
     "output_type": "stream",
     "text": [
      "DEBUG:ATOM:Got dataset, attempting to extract data\n",
      "DEBUG:ATOM:Creating deepchem dataset\n",
      "INFO:ATOM:Using prefeaturized data; number of features = 306\n",
      "WARNING:ATOM:Previous dataset split restored\n",
      "INFO:ATOM:Wrote transformers to ./../HPO/HPO_models_CYP2C9_old/cyp2c9_union_trainset_base_smiles/RF_computed_descriptors_scaffold_regression/a63f416d-8002-4de4-9860-392e39859992/transformers.pkl\n",
      "INFO:ATOM:Transforming response data\n",
      "INFO:ATOM:Transforming feature data\n",
      "INFO:ATOM:Transforming response data\n",
      "INFO:ATOM:Transforming feature data\n",
      "INFO:ATOM:Transforming response data\n",
      "INFO:ATOM:Transforming feature data\n",
      "INFO:ATOM:Fitting random forest model\n",
      "INFO:ATOM:Fold 0: training r2_score = 0.880, validation r2_score = 0.090, test r2_score = 0.404\n",
      "INFO:ATOM:Wrote model tarball to ./../HPO/HPO_models_CYP2C9_old/cyp2c9_union_trainset_base_smiles_model_a63f416d-8002-4de4-9860-392e39859992.tar.gz\n",
      "INFO:ATOM:Created a dataset hash '5784653341796c83c2c652313bd6db26' from dataset_key '/usr/WS2/atom/titli/MoDaC/Data/CYP2C9-ampl-1.1.0_old/cyp2c9_union_trainset_base_smiles.csv'\n",
      "DEBUG:ATOM:Attempting to load featurized dataset\n"
     ]
    },
    {
     "name": "stdout",
     "output_type": "stream",
     "text": [
      "rf_estimators: 16, rf_max_depth: 64, rf_max_features: 16, valid_r2: 0.08992330080810151\n"
     ]
    },
    {
     "name": "stderr",
     "output_type": "stream",
     "text": [
      "DEBUG:ATOM:Got dataset, attempting to extract data\n",
      "DEBUG:ATOM:Creating deepchem dataset\n",
      "INFO:ATOM:Using prefeaturized data; number of features = 306\n",
      "WARNING:ATOM:Previous dataset split restored\n",
      "INFO:ATOM:Wrote transformers to ./../HPO/HPO_models_CYP2C9_old/cyp2c9_union_trainset_base_smiles/RF_computed_descriptors_scaffold_regression/538c6946-f573-4310-820f-defa8d282370/transformers.pkl\n",
      "INFO:ATOM:Transforming response data\n",
      "INFO:ATOM:Transforming feature data\n",
      "INFO:ATOM:Transforming response data\n",
      "INFO:ATOM:Transforming feature data\n",
      "INFO:ATOM:Transforming response data\n",
      "INFO:ATOM:Transforming feature data\n",
      "INFO:ATOM:Fitting random forest model\n",
      "INFO:ATOM:Fold 0: training r2_score = 0.879, validation r2_score = 0.083, test r2_score = 0.993\n",
      "INFO:ATOM:Wrote model tarball to ./../HPO/HPO_models_CYP2C9_old/cyp2c9_union_trainset_base_smiles_model_538c6946-f573-4310-820f-defa8d282370.tar.gz\n",
      "INFO:ATOM:Created a dataset hash '5784653341796c83c2c652313bd6db26' from dataset_key '/usr/WS2/atom/titli/MoDaC/Data/CYP2C9-ampl-1.1.0_old/cyp2c9_union_trainset_base_smiles.csv'\n",
      "DEBUG:ATOM:Attempting to load featurized dataset\n"
     ]
    },
    {
     "name": "stdout",
     "output_type": "stream",
     "text": [
      "rf_estimators: 16, rf_max_depth: 64, rf_max_features: 24, valid_r2: 0.08254039412646053\n"
     ]
    },
    {
     "name": "stderr",
     "output_type": "stream",
     "text": [
      "DEBUG:ATOM:Got dataset, attempting to extract data\n",
      "DEBUG:ATOM:Creating deepchem dataset\n",
      "INFO:ATOM:Using prefeaturized data; number of features = 306\n",
      "WARNING:ATOM:Previous dataset split restored\n",
      "INFO:ATOM:Wrote transformers to ./../HPO/HPO_models_CYP2C9_old/cyp2c9_union_trainset_base_smiles/RF_computed_descriptors_scaffold_regression/24911ef7-496a-465b-b9a7-7e874f5a6b3e/transformers.pkl\n",
      "INFO:ATOM:Transforming response data\n",
      "INFO:ATOM:Transforming feature data\n",
      "INFO:ATOM:Transforming response data\n",
      "INFO:ATOM:Transforming feature data\n",
      "INFO:ATOM:Transforming response data\n",
      "INFO:ATOM:Transforming feature data\n",
      "INFO:ATOM:Fitting random forest model\n",
      "INFO:ATOM:Fold 0: training r2_score = 0.878, validation r2_score = 0.085, test r2_score = 0.787\n",
      "INFO:ATOM:Wrote model tarball to ./../HPO/HPO_models_CYP2C9_old/cyp2c9_union_trainset_base_smiles_model_24911ef7-496a-465b-b9a7-7e874f5a6b3e.tar.gz\n",
      "INFO:ATOM:Created a dataset hash '5784653341796c83c2c652313bd6db26' from dataset_key '/usr/WS2/atom/titli/MoDaC/Data/CYP2C9-ampl-1.1.0_old/cyp2c9_union_trainset_base_smiles.csv'\n",
      "DEBUG:ATOM:Attempting to load featurized dataset\n"
     ]
    },
    {
     "name": "stdout",
     "output_type": "stream",
     "text": [
      "rf_estimators: 16, rf_max_depth: 64, rf_max_features: 32, valid_r2: 0.08464435343380161\n"
     ]
    },
    {
     "name": "stderr",
     "output_type": "stream",
     "text": [
      "DEBUG:ATOM:Got dataset, attempting to extract data\n",
      "DEBUG:ATOM:Creating deepchem dataset\n",
      "INFO:ATOM:Using prefeaturized data; number of features = 306\n",
      "WARNING:ATOM:Previous dataset split restored\n",
      "INFO:ATOM:Wrote transformers to ./../HPO/HPO_models_CYP2C9_old/cyp2c9_union_trainset_base_smiles/RF_computed_descriptors_scaffold_regression/03726a96-888e-4ff2-a160-ca9ad6ed2693/transformers.pkl\n",
      "INFO:ATOM:Transforming response data\n",
      "INFO:ATOM:Transforming feature data\n",
      "INFO:ATOM:Transforming response data\n",
      "INFO:ATOM:Transforming feature data\n",
      "INFO:ATOM:Transforming response data\n",
      "INFO:ATOM:Transforming feature data\n",
      "INFO:ATOM:Fitting random forest model\n",
      "INFO:ATOM:Fold 0: training r2_score = 0.881, validation r2_score = 0.106, test r2_score = 0.169\n",
      "INFO:ATOM:Wrote model tarball to ./../HPO/HPO_models_CYP2C9_old/cyp2c9_union_trainset_base_smiles_model_03726a96-888e-4ff2-a160-ca9ad6ed2693.tar.gz\n",
      "INFO:ATOM:Created a dataset hash '5784653341796c83c2c652313bd6db26' from dataset_key '/usr/WS2/atom/titli/MoDaC/Data/CYP2C9-ampl-1.1.0_old/cyp2c9_union_trainset_base_smiles.csv'\n",
      "DEBUG:ATOM:Attempting to load featurized dataset\n"
     ]
    },
    {
     "name": "stdout",
     "output_type": "stream",
     "text": [
      "rf_estimators: 16, rf_max_depth: 64, rf_max_features: 64, valid_r2: 0.10606759175497338\n"
     ]
    },
    {
     "name": "stderr",
     "output_type": "stream",
     "text": [
      "DEBUG:ATOM:Got dataset, attempting to extract data\n",
      "DEBUG:ATOM:Creating deepchem dataset\n",
      "INFO:ATOM:Using prefeaturized data; number of features = 306\n",
      "WARNING:ATOM:Previous dataset split restored\n",
      "INFO:ATOM:Wrote transformers to ./../HPO/HPO_models_CYP2C9_old/cyp2c9_union_trainset_base_smiles/RF_computed_descriptors_scaffold_regression/b352e6c6-73fd-4d9e-9d39-26f55a21fcd0/transformers.pkl\n",
      "INFO:ATOM:Transforming response data\n",
      "INFO:ATOM:Transforming feature data\n",
      "INFO:ATOM:Transforming response data\n",
      "INFO:ATOM:Transforming feature data\n",
      "INFO:ATOM:Transforming response data\n",
      "INFO:ATOM:Transforming feature data\n",
      "INFO:ATOM:Fitting random forest model\n",
      "INFO:ATOM:Fold 0: training r2_score = 0.879, validation r2_score = 0.076, test r2_score = 0.836\n",
      "INFO:ATOM:Wrote model tarball to ./../HPO/HPO_models_CYP2C9_old/cyp2c9_union_trainset_base_smiles_model_b352e6c6-73fd-4d9e-9d39-26f55a21fcd0.tar.gz\n",
      "INFO:ATOM:Created a dataset hash '5784653341796c83c2c652313bd6db26' from dataset_key '/usr/WS2/atom/titli/MoDaC/Data/CYP2C9-ampl-1.1.0_old/cyp2c9_union_trainset_base_smiles.csv'\n",
      "DEBUG:ATOM:Attempting to load featurized dataset\n"
     ]
    },
    {
     "name": "stdout",
     "output_type": "stream",
     "text": [
      "rf_estimators: 16, rf_max_depth: 64, rf_max_features: 128, valid_r2: 0.0759814535968042\n"
     ]
    },
    {
     "name": "stderr",
     "output_type": "stream",
     "text": [
      "DEBUG:ATOM:Got dataset, attempting to extract data\n",
      "DEBUG:ATOM:Creating deepchem dataset\n",
      "INFO:ATOM:Using prefeaturized data; number of features = 306\n",
      "WARNING:ATOM:Previous dataset split restored\n",
      "INFO:ATOM:Wrote transformers to ./../HPO/HPO_models_CYP2C9_old/cyp2c9_union_trainset_base_smiles/RF_computed_descriptors_scaffold_regression/8de610a5-19ee-4cf9-8b05-9677330257dc/transformers.pkl\n",
      "INFO:ATOM:Transforming response data\n",
      "INFO:ATOM:Transforming feature data\n",
      "INFO:ATOM:Transforming response data\n",
      "INFO:ATOM:Transforming feature data\n",
      "INFO:ATOM:Transforming response data\n",
      "INFO:ATOM:Transforming feature data\n",
      "INFO:ATOM:Fitting random forest model\n",
      "INFO:ATOM:Fold 0: training r2_score = 0.878, validation r2_score = 0.106, test r2_score = 0.960\n",
      "INFO:ATOM:Wrote model tarball to ./../HPO/HPO_models_CYP2C9_old/cyp2c9_union_trainset_base_smiles_model_8de610a5-19ee-4cf9-8b05-9677330257dc.tar.gz\n",
      "INFO:ATOM:Created a dataset hash '5784653341796c83c2c652313bd6db26' from dataset_key '/usr/WS2/atom/titli/MoDaC/Data/CYP2C9-ampl-1.1.0_old/cyp2c9_union_trainset_base_smiles.csv'\n",
      "DEBUG:ATOM:Attempting to load featurized dataset\n"
     ]
    },
    {
     "name": "stdout",
     "output_type": "stream",
     "text": [
      "rf_estimators: 16, rf_max_depth: 128, rf_max_features: 16, valid_r2: 0.10645375170252125\n"
     ]
    },
    {
     "name": "stderr",
     "output_type": "stream",
     "text": [
      "DEBUG:ATOM:Got dataset, attempting to extract data\n",
      "DEBUG:ATOM:Creating deepchem dataset\n",
      "INFO:ATOM:Using prefeaturized data; number of features = 306\n",
      "WARNING:ATOM:Previous dataset split restored\n",
      "INFO:ATOM:Wrote transformers to ./../HPO/HPO_models_CYP2C9_old/cyp2c9_union_trainset_base_smiles/RF_computed_descriptors_scaffold_regression/89b7037e-19f2-42d4-b3cd-ed3c00d2e057/transformers.pkl\n",
      "INFO:ATOM:Transforming response data\n",
      "INFO:ATOM:Transforming feature data\n",
      "INFO:ATOM:Transforming response data\n",
      "INFO:ATOM:Transforming feature data\n",
      "INFO:ATOM:Transforming response data\n",
      "INFO:ATOM:Transforming feature data\n",
      "INFO:ATOM:Fitting random forest model\n",
      "INFO:ATOM:Fold 0: training r2_score = 0.880, validation r2_score = 0.083, test r2_score = 0.293\n",
      "INFO:ATOM:Wrote model tarball to ./../HPO/HPO_models_CYP2C9_old/cyp2c9_union_trainset_base_smiles_model_89b7037e-19f2-42d4-b3cd-ed3c00d2e057.tar.gz\n",
      "INFO:ATOM:Created a dataset hash '5784653341796c83c2c652313bd6db26' from dataset_key '/usr/WS2/atom/titli/MoDaC/Data/CYP2C9-ampl-1.1.0_old/cyp2c9_union_trainset_base_smiles.csv'\n",
      "DEBUG:ATOM:Attempting to load featurized dataset\n"
     ]
    },
    {
     "name": "stdout",
     "output_type": "stream",
     "text": [
      "rf_estimators: 16, rf_max_depth: 128, rf_max_features: 24, valid_r2: 0.0830690933259991\n"
     ]
    },
    {
     "name": "stderr",
     "output_type": "stream",
     "text": [
      "DEBUG:ATOM:Got dataset, attempting to extract data\n",
      "DEBUG:ATOM:Creating deepchem dataset\n",
      "INFO:ATOM:Using prefeaturized data; number of features = 306\n",
      "WARNING:ATOM:Previous dataset split restored\n",
      "INFO:ATOM:Wrote transformers to ./../HPO/HPO_models_CYP2C9_old/cyp2c9_union_trainset_base_smiles/RF_computed_descriptors_scaffold_regression/968145e9-6375-4c98-bacf-432ef880e765/transformers.pkl\n",
      "INFO:ATOM:Transforming response data\n",
      "INFO:ATOM:Transforming feature data\n",
      "INFO:ATOM:Transforming response data\n",
      "INFO:ATOM:Transforming feature data\n",
      "INFO:ATOM:Transforming response data\n",
      "INFO:ATOM:Transforming feature data\n",
      "INFO:ATOM:Fitting random forest model\n",
      "INFO:ATOM:Fold 0: training r2_score = 0.881, validation r2_score = 0.096, test r2_score = 0.899\n",
      "INFO:ATOM:Wrote model tarball to ./../HPO/HPO_models_CYP2C9_old/cyp2c9_union_trainset_base_smiles_model_968145e9-6375-4c98-bacf-432ef880e765.tar.gz\n",
      "INFO:ATOM:Created a dataset hash '5784653341796c83c2c652313bd6db26' from dataset_key '/usr/WS2/atom/titli/MoDaC/Data/CYP2C9-ampl-1.1.0_old/cyp2c9_union_trainset_base_smiles.csv'\n",
      "DEBUG:ATOM:Attempting to load featurized dataset\n"
     ]
    },
    {
     "name": "stdout",
     "output_type": "stream",
     "text": [
      "rf_estimators: 16, rf_max_depth: 128, rf_max_features: 32, valid_r2: 0.09578970707215584\n"
     ]
    },
    {
     "name": "stderr",
     "output_type": "stream",
     "text": [
      "DEBUG:ATOM:Got dataset, attempting to extract data\n",
      "DEBUG:ATOM:Creating deepchem dataset\n",
      "INFO:ATOM:Using prefeaturized data; number of features = 306\n",
      "WARNING:ATOM:Previous dataset split restored\n",
      "INFO:ATOM:Wrote transformers to ./../HPO/HPO_models_CYP2C9_old/cyp2c9_union_trainset_base_smiles/RF_computed_descriptors_scaffold_regression/053c8eda-6527-415a-94df-518cf0178edb/transformers.pkl\n",
      "INFO:ATOM:Transforming response data\n",
      "INFO:ATOM:Transforming feature data\n",
      "INFO:ATOM:Transforming response data\n",
      "INFO:ATOM:Transforming feature data\n",
      "INFO:ATOM:Transforming response data\n",
      "INFO:ATOM:Transforming feature data\n",
      "INFO:ATOM:Fitting random forest model\n",
      "INFO:ATOM:Fold 0: training r2_score = 0.879, validation r2_score = 0.083, test r2_score = 0.604\n",
      "INFO:ATOM:Wrote model tarball to ./../HPO/HPO_models_CYP2C9_old/cyp2c9_union_trainset_base_smiles_model_053c8eda-6527-415a-94df-518cf0178edb.tar.gz\n",
      "INFO:ATOM:Created a dataset hash '5784653341796c83c2c652313bd6db26' from dataset_key '/usr/WS2/atom/titli/MoDaC/Data/CYP2C9-ampl-1.1.0_old/cyp2c9_union_trainset_base_smiles.csv'\n",
      "DEBUG:ATOM:Attempting to load featurized dataset\n"
     ]
    },
    {
     "name": "stdout",
     "output_type": "stream",
     "text": [
      "rf_estimators: 16, rf_max_depth: 128, rf_max_features: 64, valid_r2: 0.08291249350877394\n"
     ]
    },
    {
     "name": "stderr",
     "output_type": "stream",
     "text": [
      "DEBUG:ATOM:Got dataset, attempting to extract data\n",
      "DEBUG:ATOM:Creating deepchem dataset\n",
      "INFO:ATOM:Using prefeaturized data; number of features = 306\n",
      "WARNING:ATOM:Previous dataset split restored\n",
      "INFO:ATOM:Wrote transformers to ./../HPO/HPO_models_CYP2C9_old/cyp2c9_union_trainset_base_smiles/RF_computed_descriptors_scaffold_regression/6f209be2-ba83-4e82-9fde-47b4ae905ab6/transformers.pkl\n",
      "INFO:ATOM:Transforming response data\n",
      "INFO:ATOM:Transforming feature data\n",
      "INFO:ATOM:Transforming response data\n",
      "INFO:ATOM:Transforming feature data\n",
      "INFO:ATOM:Transforming response data\n",
      "INFO:ATOM:Transforming feature data\n",
      "INFO:ATOM:Fitting random forest model\n",
      "INFO:ATOM:Fold 0: training r2_score = 0.880, validation r2_score = 0.111, test r2_score = 0.839\n",
      "INFO:ATOM:Wrote model tarball to ./../HPO/HPO_models_CYP2C9_old/cyp2c9_union_trainset_base_smiles_model_6f209be2-ba83-4e82-9fde-47b4ae905ab6.tar.gz\n",
      "INFO:ATOM:Created a dataset hash '5784653341796c83c2c652313bd6db26' from dataset_key '/usr/WS2/atom/titli/MoDaC/Data/CYP2C9-ampl-1.1.0_old/cyp2c9_union_trainset_base_smiles.csv'\n",
      "DEBUG:ATOM:Attempting to load featurized dataset\n"
     ]
    },
    {
     "name": "stdout",
     "output_type": "stream",
     "text": [
      "rf_estimators: 16, rf_max_depth: 128, rf_max_features: 128, valid_r2: 0.11142311554585704\n"
     ]
    },
    {
     "name": "stderr",
     "output_type": "stream",
     "text": [
      "DEBUG:ATOM:Got dataset, attempting to extract data\n",
      "DEBUG:ATOM:Creating deepchem dataset\n",
      "INFO:ATOM:Using prefeaturized data; number of features = 306\n",
      "WARNING:ATOM:Previous dataset split restored\n",
      "INFO:ATOM:Wrote transformers to ./../HPO/HPO_models_CYP2C9_old/cyp2c9_union_trainset_base_smiles/RF_computed_descriptors_scaffold_regression/d1e6ea35-f015-43ab-aea9-5dcf7e59bda3/transformers.pkl\n",
      "INFO:ATOM:Transforming response data\n",
      "INFO:ATOM:Transforming feature data\n",
      "INFO:ATOM:Transforming response data\n",
      "INFO:ATOM:Transforming feature data\n",
      "INFO:ATOM:Transforming response data\n",
      "INFO:ATOM:Transforming feature data\n",
      "INFO:ATOM:Fitting random forest model\n",
      "INFO:ATOM:Fold 0: training r2_score = 0.878, validation r2_score = 0.081, test r2_score = 0.611\n",
      "INFO:ATOM:Wrote model tarball to ./../HPO/HPO_models_CYP2C9_old/cyp2c9_union_trainset_base_smiles_model_d1e6ea35-f015-43ab-aea9-5dcf7e59bda3.tar.gz\n",
      "INFO:ATOM:Created a dataset hash '5784653341796c83c2c652313bd6db26' from dataset_key '/usr/WS2/atom/titli/MoDaC/Data/CYP2C9-ampl-1.1.0_old/cyp2c9_union_trainset_base_smiles.csv'\n",
      "DEBUG:ATOM:Attempting to load featurized dataset\n"
     ]
    },
    {
     "name": "stdout",
     "output_type": "stream",
     "text": [
      "rf_estimators: 16, rf_max_depth: 256, rf_max_features: 16, valid_r2: 0.08070710570827322\n"
     ]
    },
    {
     "name": "stderr",
     "output_type": "stream",
     "text": [
      "DEBUG:ATOM:Got dataset, attempting to extract data\n",
      "DEBUG:ATOM:Creating deepchem dataset\n",
      "INFO:ATOM:Using prefeaturized data; number of features = 306\n",
      "WARNING:ATOM:Previous dataset split restored\n",
      "INFO:ATOM:Wrote transformers to ./../HPO/HPO_models_CYP2C9_old/cyp2c9_union_trainset_base_smiles/RF_computed_descriptors_scaffold_regression/b1d95b5e-e3f4-479b-9dfa-b401c2aad5f1/transformers.pkl\n",
      "INFO:ATOM:Transforming response data\n",
      "INFO:ATOM:Transforming feature data\n",
      "INFO:ATOM:Transforming response data\n",
      "INFO:ATOM:Transforming feature data\n",
      "INFO:ATOM:Transforming response data\n",
      "INFO:ATOM:Transforming feature data\n",
      "INFO:ATOM:Fitting random forest model\n",
      "INFO:ATOM:Fold 0: training r2_score = 0.878, validation r2_score = 0.082, test r2_score = 0.750\n",
      "INFO:ATOM:Wrote model tarball to ./../HPO/HPO_models_CYP2C9_old/cyp2c9_union_trainset_base_smiles_model_b1d95b5e-e3f4-479b-9dfa-b401c2aad5f1.tar.gz\n",
      "INFO:ATOM:Created a dataset hash '5784653341796c83c2c652313bd6db26' from dataset_key '/usr/WS2/atom/titli/MoDaC/Data/CYP2C9-ampl-1.1.0_old/cyp2c9_union_trainset_base_smiles.csv'\n",
      "DEBUG:ATOM:Attempting to load featurized dataset\n"
     ]
    },
    {
     "name": "stdout",
     "output_type": "stream",
     "text": [
      "rf_estimators: 16, rf_max_depth: 256, rf_max_features: 24, valid_r2: 0.08172886311973449\n"
     ]
    },
    {
     "name": "stderr",
     "output_type": "stream",
     "text": [
      "DEBUG:ATOM:Got dataset, attempting to extract data\n",
      "DEBUG:ATOM:Creating deepchem dataset\n",
      "INFO:ATOM:Using prefeaturized data; number of features = 306\n",
      "WARNING:ATOM:Previous dataset split restored\n",
      "INFO:ATOM:Wrote transformers to ./../HPO/HPO_models_CYP2C9_old/cyp2c9_union_trainset_base_smiles/RF_computed_descriptors_scaffold_regression/1da77996-7dd4-45b0-9c3f-585255f8e5ab/transformers.pkl\n",
      "INFO:ATOM:Transforming response data\n",
      "INFO:ATOM:Transforming feature data\n",
      "INFO:ATOM:Transforming response data\n",
      "INFO:ATOM:Transforming feature data\n",
      "INFO:ATOM:Transforming response data\n",
      "INFO:ATOM:Transforming feature data\n",
      "INFO:ATOM:Fitting random forest model\n",
      "INFO:ATOM:Fold 0: training r2_score = 0.874, validation r2_score = 0.105, test r2_score = 0.583\n",
      "INFO:ATOM:Wrote model tarball to ./../HPO/HPO_models_CYP2C9_old/cyp2c9_union_trainset_base_smiles_model_1da77996-7dd4-45b0-9c3f-585255f8e5ab.tar.gz\n",
      "INFO:ATOM:Created a dataset hash '5784653341796c83c2c652313bd6db26' from dataset_key '/usr/WS2/atom/titli/MoDaC/Data/CYP2C9-ampl-1.1.0_old/cyp2c9_union_trainset_base_smiles.csv'\n",
      "DEBUG:ATOM:Attempting to load featurized dataset\n"
     ]
    },
    {
     "name": "stdout",
     "output_type": "stream",
     "text": [
      "rf_estimators: 16, rf_max_depth: 256, rf_max_features: 32, valid_r2: 0.1052753828249432\n"
     ]
    },
    {
     "name": "stderr",
     "output_type": "stream",
     "text": [
      "DEBUG:ATOM:Got dataset, attempting to extract data\n",
      "DEBUG:ATOM:Creating deepchem dataset\n",
      "INFO:ATOM:Using prefeaturized data; number of features = 306\n",
      "WARNING:ATOM:Previous dataset split restored\n",
      "INFO:ATOM:Wrote transformers to ./../HPO/HPO_models_CYP2C9_old/cyp2c9_union_trainset_base_smiles/RF_computed_descriptors_scaffold_regression/1c5f2065-288e-4a59-9e07-4a07ce20a645/transformers.pkl\n",
      "INFO:ATOM:Transforming response data\n",
      "INFO:ATOM:Transforming feature data\n",
      "INFO:ATOM:Transforming response data\n",
      "INFO:ATOM:Transforming feature data\n",
      "INFO:ATOM:Transforming response data\n",
      "INFO:ATOM:Transforming feature data\n",
      "INFO:ATOM:Fitting random forest model\n",
      "INFO:ATOM:Fold 0: training r2_score = 0.877, validation r2_score = 0.084, test r2_score = 0.177\n",
      "INFO:ATOM:Wrote model tarball to ./../HPO/HPO_models_CYP2C9_old/cyp2c9_union_trainset_base_smiles_model_1c5f2065-288e-4a59-9e07-4a07ce20a645.tar.gz\n",
      "INFO:ATOM:Created a dataset hash '5784653341796c83c2c652313bd6db26' from dataset_key '/usr/WS2/atom/titli/MoDaC/Data/CYP2C9-ampl-1.1.0_old/cyp2c9_union_trainset_base_smiles.csv'\n",
      "DEBUG:ATOM:Attempting to load featurized dataset\n"
     ]
    },
    {
     "name": "stdout",
     "output_type": "stream",
     "text": [
      "rf_estimators: 16, rf_max_depth: 256, rf_max_features: 64, valid_r2: 0.08437881381627999\n"
     ]
    },
    {
     "name": "stderr",
     "output_type": "stream",
     "text": [
      "DEBUG:ATOM:Got dataset, attempting to extract data\n",
      "DEBUG:ATOM:Creating deepchem dataset\n",
      "INFO:ATOM:Using prefeaturized data; number of features = 306\n",
      "WARNING:ATOM:Previous dataset split restored\n",
      "INFO:ATOM:Wrote transformers to ./../HPO/HPO_models_CYP2C9_old/cyp2c9_union_trainset_base_smiles/RF_computed_descriptors_scaffold_regression/8f78ea98-7a0e-4fa1-b81a-750616269526/transformers.pkl\n",
      "INFO:ATOM:Transforming response data\n",
      "INFO:ATOM:Transforming feature data\n",
      "INFO:ATOM:Transforming response data\n",
      "INFO:ATOM:Transforming feature data\n",
      "INFO:ATOM:Transforming response data\n",
      "INFO:ATOM:Transforming feature data\n",
      "INFO:ATOM:Fitting random forest model\n",
      "INFO:ATOM:Fold 0: training r2_score = 0.885, validation r2_score = 0.109, test r2_score = 0.880\n",
      "INFO:ATOM:Wrote model tarball to ./../HPO/HPO_models_CYP2C9_old/cyp2c9_union_trainset_base_smiles_model_8f78ea98-7a0e-4fa1-b81a-750616269526.tar.gz\n",
      "INFO:ATOM:Created a dataset hash '5784653341796c83c2c652313bd6db26' from dataset_key '/usr/WS2/atom/titli/MoDaC/Data/CYP2C9-ampl-1.1.0_old/cyp2c9_union_trainset_base_smiles.csv'\n",
      "DEBUG:ATOM:Attempting to load featurized dataset\n"
     ]
    },
    {
     "name": "stdout",
     "output_type": "stream",
     "text": [
      "rf_estimators: 16, rf_max_depth: 256, rf_max_features: 128, valid_r2: 0.10882046438506654\n"
     ]
    },
    {
     "name": "stderr",
     "output_type": "stream",
     "text": [
      "DEBUG:ATOM:Got dataset, attempting to extract data\n",
      "DEBUG:ATOM:Creating deepchem dataset\n",
      "INFO:ATOM:Using prefeaturized data; number of features = 306\n",
      "WARNING:ATOM:Previous dataset split restored\n",
      "INFO:ATOM:Wrote transformers to ./../HPO/HPO_models_CYP2C9_old/cyp2c9_union_trainset_base_smiles/RF_computed_descriptors_scaffold_regression/f80e9af7-1341-49c1-93b2-f096b00f889a/transformers.pkl\n",
      "INFO:ATOM:Transforming response data\n",
      "INFO:ATOM:Transforming feature data\n",
      "INFO:ATOM:Transforming response data\n",
      "INFO:ATOM:Transforming feature data\n",
      "INFO:ATOM:Transforming response data\n",
      "INFO:ATOM:Transforming feature data\n",
      "INFO:ATOM:Fitting random forest model\n",
      "INFO:ATOM:Fold 0: training r2_score = 0.780, validation r2_score = 0.117, test r2_score = 0.892\n",
      "INFO:ATOM:Wrote model tarball to ./../HPO/HPO_models_CYP2C9_old/cyp2c9_union_trainset_base_smiles_model_f80e9af7-1341-49c1-93b2-f096b00f889a.tar.gz\n",
      "INFO:ATOM:Created a dataset hash '5784653341796c83c2c652313bd6db26' from dataset_key '/usr/WS2/atom/titli/MoDaC/Data/CYP2C9-ampl-1.1.0_old/cyp2c9_union_trainset_base_smiles.csv'\n",
      "DEBUG:ATOM:Attempting to load featurized dataset\n"
     ]
    },
    {
     "name": "stdout",
     "output_type": "stream",
     "text": [
      "rf_estimators: 24, rf_max_depth: 16, rf_max_features: 16, valid_r2: 0.11668809603868402\n"
     ]
    },
    {
     "name": "stderr",
     "output_type": "stream",
     "text": [
      "DEBUG:ATOM:Got dataset, attempting to extract data\n",
      "DEBUG:ATOM:Creating deepchem dataset\n",
      "INFO:ATOM:Using prefeaturized data; number of features = 306\n",
      "WARNING:ATOM:Previous dataset split restored\n",
      "INFO:ATOM:Wrote transformers to ./../HPO/HPO_models_CYP2C9_old/cyp2c9_union_trainset_base_smiles/RF_computed_descriptors_scaffold_regression/12c46cd1-5b30-4d22-8b5c-d770f04944f1/transformers.pkl\n",
      "INFO:ATOM:Transforming response data\n",
      "INFO:ATOM:Transforming feature data\n",
      "INFO:ATOM:Transforming response data\n",
      "INFO:ATOM:Transforming feature data\n",
      "INFO:ATOM:Transforming response data\n",
      "INFO:ATOM:Transforming feature data\n",
      "INFO:ATOM:Fitting random forest model\n",
      "INFO:ATOM:Fold 0: training r2_score = 0.778, validation r2_score = 0.111, test r2_score = 0.588\n",
      "INFO:ATOM:Wrote model tarball to ./../HPO/HPO_models_CYP2C9_old/cyp2c9_union_trainset_base_smiles_model_12c46cd1-5b30-4d22-8b5c-d770f04944f1.tar.gz\n",
      "INFO:ATOM:Created a dataset hash '5784653341796c83c2c652313bd6db26' from dataset_key '/usr/WS2/atom/titli/MoDaC/Data/CYP2C9-ampl-1.1.0_old/cyp2c9_union_trainset_base_smiles.csv'\n",
      "DEBUG:ATOM:Attempting to load featurized dataset\n"
     ]
    },
    {
     "name": "stdout",
     "output_type": "stream",
     "text": [
      "rf_estimators: 24, rf_max_depth: 16, rf_max_features: 24, valid_r2: 0.11079517339029266\n"
     ]
    },
    {
     "name": "stderr",
     "output_type": "stream",
     "text": [
      "DEBUG:ATOM:Got dataset, attempting to extract data\n",
      "DEBUG:ATOM:Creating deepchem dataset\n",
      "INFO:ATOM:Using prefeaturized data; number of features = 306\n",
      "WARNING:ATOM:Previous dataset split restored\n",
      "INFO:ATOM:Wrote transformers to ./../HPO/HPO_models_CYP2C9_old/cyp2c9_union_trainset_base_smiles/RF_computed_descriptors_scaffold_regression/cc65f104-5c2d-443d-bd0a-e66a0539d783/transformers.pkl\n",
      "INFO:ATOM:Transforming response data\n",
      "INFO:ATOM:Transforming feature data\n",
      "INFO:ATOM:Transforming response data\n",
      "INFO:ATOM:Transforming feature data\n",
      "INFO:ATOM:Transforming response data\n",
      "INFO:ATOM:Transforming feature data\n",
      "INFO:ATOM:Fitting random forest model\n",
      "INFO:ATOM:Fold 0: training r2_score = 0.781, validation r2_score = 0.128, test r2_score = 0.554\n",
      "INFO:ATOM:Wrote model tarball to ./../HPO/HPO_models_CYP2C9_old/cyp2c9_union_trainset_base_smiles_model_cc65f104-5c2d-443d-bd0a-e66a0539d783.tar.gz\n",
      "INFO:ATOM:Created a dataset hash '5784653341796c83c2c652313bd6db26' from dataset_key '/usr/WS2/atom/titli/MoDaC/Data/CYP2C9-ampl-1.1.0_old/cyp2c9_union_trainset_base_smiles.csv'\n",
      "DEBUG:ATOM:Attempting to load featurized dataset\n"
     ]
    },
    {
     "name": "stdout",
     "output_type": "stream",
     "text": [
      "rf_estimators: 24, rf_max_depth: 16, rf_max_features: 32, valid_r2: 0.1279072700590126\n"
     ]
    },
    {
     "name": "stderr",
     "output_type": "stream",
     "text": [
      "DEBUG:ATOM:Got dataset, attempting to extract data\n",
      "DEBUG:ATOM:Creating deepchem dataset\n",
      "INFO:ATOM:Using prefeaturized data; number of features = 306\n",
      "WARNING:ATOM:Previous dataset split restored\n",
      "INFO:ATOM:Wrote transformers to ./../HPO/HPO_models_CYP2C9_old/cyp2c9_union_trainset_base_smiles/RF_computed_descriptors_scaffold_regression/e7c833e6-c658-493e-a93e-a419f03e7db3/transformers.pkl\n",
      "INFO:ATOM:Transforming response data\n",
      "INFO:ATOM:Transforming feature data\n",
      "INFO:ATOM:Transforming response data\n",
      "INFO:ATOM:Transforming feature data\n",
      "INFO:ATOM:Transforming response data\n",
      "INFO:ATOM:Transforming feature data\n",
      "INFO:ATOM:Fitting random forest model\n",
      "INFO:ATOM:Fold 0: training r2_score = 0.787, validation r2_score = 0.120, test r2_score = 0.814\n",
      "INFO:ATOM:Wrote model tarball to ./../HPO/HPO_models_CYP2C9_old/cyp2c9_union_trainset_base_smiles_model_e7c833e6-c658-493e-a93e-a419f03e7db3.tar.gz\n",
      "INFO:ATOM:Created a dataset hash '5784653341796c83c2c652313bd6db26' from dataset_key '/usr/WS2/atom/titli/MoDaC/Data/CYP2C9-ampl-1.1.0_old/cyp2c9_union_trainset_base_smiles.csv'\n",
      "DEBUG:ATOM:Attempting to load featurized dataset\n"
     ]
    },
    {
     "name": "stdout",
     "output_type": "stream",
     "text": [
      "rf_estimators: 24, rf_max_depth: 16, rf_max_features: 64, valid_r2: 0.11951134545609776\n"
     ]
    },
    {
     "name": "stderr",
     "output_type": "stream",
     "text": [
      "DEBUG:ATOM:Got dataset, attempting to extract data\n",
      "DEBUG:ATOM:Creating deepchem dataset\n",
      "INFO:ATOM:Using prefeaturized data; number of features = 306\n",
      "WARNING:ATOM:Previous dataset split restored\n",
      "INFO:ATOM:Wrote transformers to ./../HPO/HPO_models_CYP2C9_old/cyp2c9_union_trainset_base_smiles/RF_computed_descriptors_scaffold_regression/fc619e9f-6cc7-4913-a007-9ee6ac15260b/transformers.pkl\n",
      "INFO:ATOM:Transforming response data\n",
      "INFO:ATOM:Transforming feature data\n",
      "INFO:ATOM:Transforming response data\n",
      "INFO:ATOM:Transforming feature data\n",
      "INFO:ATOM:Transforming response data\n",
      "INFO:ATOM:Transforming feature data\n",
      "INFO:ATOM:Fitting random forest model\n",
      "INFO:ATOM:Fold 0: training r2_score = 0.779, validation r2_score = 0.118, test r2_score = 0.953\n",
      "INFO:ATOM:Wrote model tarball to ./../HPO/HPO_models_CYP2C9_old/cyp2c9_union_trainset_base_smiles_model_fc619e9f-6cc7-4913-a007-9ee6ac15260b.tar.gz\n",
      "INFO:ATOM:Created a dataset hash '5784653341796c83c2c652313bd6db26' from dataset_key '/usr/WS2/atom/titli/MoDaC/Data/CYP2C9-ampl-1.1.0_old/cyp2c9_union_trainset_base_smiles.csv'\n",
      "DEBUG:ATOM:Attempting to load featurized dataset\n"
     ]
    },
    {
     "name": "stdout",
     "output_type": "stream",
     "text": [
      "rf_estimators: 24, rf_max_depth: 16, rf_max_features: 128, valid_r2: 0.11760776198147416\n"
     ]
    },
    {
     "name": "stderr",
     "output_type": "stream",
     "text": [
      "DEBUG:ATOM:Got dataset, attempting to extract data\n",
      "DEBUG:ATOM:Creating deepchem dataset\n",
      "INFO:ATOM:Using prefeaturized data; number of features = 306\n",
      "WARNING:ATOM:Previous dataset split restored\n",
      "INFO:ATOM:Wrote transformers to ./../HPO/HPO_models_CYP2C9_old/cyp2c9_union_trainset_base_smiles/RF_computed_descriptors_scaffold_regression/b596b098-e12f-4fd6-8be8-abae4ad0916c/transformers.pkl\n",
      "INFO:ATOM:Transforming response data\n",
      "INFO:ATOM:Transforming feature data\n",
      "INFO:ATOM:Transforming response data\n",
      "INFO:ATOM:Transforming feature data\n",
      "INFO:ATOM:Transforming response data\n",
      "INFO:ATOM:Transforming feature data\n",
      "INFO:ATOM:Fitting random forest model\n",
      "INFO:ATOM:Fold 0: training r2_score = 0.878, validation r2_score = 0.126, test r2_score = 0.693\n",
      "INFO:ATOM:Wrote model tarball to ./../HPO/HPO_models_CYP2C9_old/cyp2c9_union_trainset_base_smiles_model_b596b098-e12f-4fd6-8be8-abae4ad0916c.tar.gz\n",
      "INFO:ATOM:Created a dataset hash '5784653341796c83c2c652313bd6db26' from dataset_key '/usr/WS2/atom/titli/MoDaC/Data/CYP2C9-ampl-1.1.0_old/cyp2c9_union_trainset_base_smiles.csv'\n",
      "DEBUG:ATOM:Attempting to load featurized dataset\n"
     ]
    },
    {
     "name": "stdout",
     "output_type": "stream",
     "text": [
      "rf_estimators: 24, rf_max_depth: 24, rf_max_features: 16, valid_r2: 0.12557229963943561\n"
     ]
    },
    {
     "name": "stderr",
     "output_type": "stream",
     "text": [
      "DEBUG:ATOM:Got dataset, attempting to extract data\n",
      "DEBUG:ATOM:Creating deepchem dataset\n",
      "INFO:ATOM:Using prefeaturized data; number of features = 306\n",
      "WARNING:ATOM:Previous dataset split restored\n",
      "INFO:ATOM:Wrote transformers to ./../HPO/HPO_models_CYP2C9_old/cyp2c9_union_trainset_base_smiles/RF_computed_descriptors_scaffold_regression/cb8a9725-2038-4779-984e-7ce665760295/transformers.pkl\n",
      "INFO:ATOM:Transforming response data\n",
      "INFO:ATOM:Transforming feature data\n",
      "INFO:ATOM:Transforming response data\n",
      "INFO:ATOM:Transforming feature data\n",
      "INFO:ATOM:Transforming response data\n",
      "INFO:ATOM:Transforming feature data\n",
      "INFO:ATOM:Fitting random forest model\n",
      "INFO:ATOM:Fold 0: training r2_score = 0.878, validation r2_score = 0.108, test r2_score = 0.639\n",
      "INFO:ATOM:Wrote model tarball to ./../HPO/HPO_models_CYP2C9_old/cyp2c9_union_trainset_base_smiles_model_cb8a9725-2038-4779-984e-7ce665760295.tar.gz\n",
      "INFO:ATOM:Created a dataset hash '5784653341796c83c2c652313bd6db26' from dataset_key '/usr/WS2/atom/titli/MoDaC/Data/CYP2C9-ampl-1.1.0_old/cyp2c9_union_trainset_base_smiles.csv'\n",
      "DEBUG:ATOM:Attempting to load featurized dataset\n"
     ]
    },
    {
     "name": "stdout",
     "output_type": "stream",
     "text": [
      "rf_estimators: 24, rf_max_depth: 24, rf_max_features: 24, valid_r2: 0.10827852428165163\n"
     ]
    },
    {
     "name": "stderr",
     "output_type": "stream",
     "text": [
      "DEBUG:ATOM:Got dataset, attempting to extract data\n",
      "DEBUG:ATOM:Creating deepchem dataset\n",
      "INFO:ATOM:Using prefeaturized data; number of features = 306\n",
      "WARNING:ATOM:Previous dataset split restored\n",
      "INFO:ATOM:Wrote transformers to ./../HPO/HPO_models_CYP2C9_old/cyp2c9_union_trainset_base_smiles/RF_computed_descriptors_scaffold_regression/621eaaf8-9e90-4ac9-99b9-949214ec03e0/transformers.pkl\n",
      "INFO:ATOM:Transforming response data\n",
      "INFO:ATOM:Transforming feature data\n",
      "INFO:ATOM:Transforming response data\n",
      "INFO:ATOM:Transforming feature data\n",
      "INFO:ATOM:Transforming response data\n",
      "INFO:ATOM:Transforming feature data\n",
      "INFO:ATOM:Fitting random forest model\n",
      "INFO:ATOM:Fold 0: training r2_score = 0.878, validation r2_score = 0.101, test r2_score = -0.105\n",
      "INFO:ATOM:Wrote model tarball to ./../HPO/HPO_models_CYP2C9_old/cyp2c9_union_trainset_base_smiles_model_621eaaf8-9e90-4ac9-99b9-949214ec03e0.tar.gz\n",
      "INFO:ATOM:Created a dataset hash '5784653341796c83c2c652313bd6db26' from dataset_key '/usr/WS2/atom/titli/MoDaC/Data/CYP2C9-ampl-1.1.0_old/cyp2c9_union_trainset_base_smiles.csv'\n",
      "DEBUG:ATOM:Attempting to load featurized dataset\n"
     ]
    },
    {
     "name": "stdout",
     "output_type": "stream",
     "text": [
      "rf_estimators: 24, rf_max_depth: 24, rf_max_features: 32, valid_r2: 0.10056731677940689\n"
     ]
    },
    {
     "name": "stderr",
     "output_type": "stream",
     "text": [
      "DEBUG:ATOM:Got dataset, attempting to extract data\n",
      "DEBUG:ATOM:Creating deepchem dataset\n",
      "INFO:ATOM:Using prefeaturized data; number of features = 306\n",
      "WARNING:ATOM:Previous dataset split restored\n",
      "INFO:ATOM:Wrote transformers to ./../HPO/HPO_models_CYP2C9_old/cyp2c9_union_trainset_base_smiles/RF_computed_descriptors_scaffold_regression/a143bc36-749b-4f5c-a5fd-6c672d1331f6/transformers.pkl\n",
      "INFO:ATOM:Transforming response data\n",
      "INFO:ATOM:Transforming feature data\n",
      "INFO:ATOM:Transforming response data\n",
      "INFO:ATOM:Transforming feature data\n",
      "INFO:ATOM:Transforming response data\n",
      "INFO:ATOM:Transforming feature data\n",
      "INFO:ATOM:Fitting random forest model\n",
      "INFO:ATOM:Fold 0: training r2_score = 0.876, validation r2_score = 0.117, test r2_score = 0.810\n",
      "INFO:ATOM:Wrote model tarball to ./../HPO/HPO_models_CYP2C9_old/cyp2c9_union_trainset_base_smiles_model_a143bc36-749b-4f5c-a5fd-6c672d1331f6.tar.gz\n",
      "INFO:ATOM:Created a dataset hash '5784653341796c83c2c652313bd6db26' from dataset_key '/usr/WS2/atom/titli/MoDaC/Data/CYP2C9-ampl-1.1.0_old/cyp2c9_union_trainset_base_smiles.csv'\n",
      "DEBUG:ATOM:Attempting to load featurized dataset\n"
     ]
    },
    {
     "name": "stdout",
     "output_type": "stream",
     "text": [
      "rf_estimators: 24, rf_max_depth: 24, rf_max_features: 64, valid_r2: 0.11650601275237482\n"
     ]
    },
    {
     "name": "stderr",
     "output_type": "stream",
     "text": [
      "DEBUG:ATOM:Got dataset, attempting to extract data\n",
      "DEBUG:ATOM:Creating deepchem dataset\n",
      "INFO:ATOM:Using prefeaturized data; number of features = 306\n",
      "WARNING:ATOM:Previous dataset split restored\n",
      "INFO:ATOM:Wrote transformers to ./../HPO/HPO_models_CYP2C9_old/cyp2c9_union_trainset_base_smiles/RF_computed_descriptors_scaffold_regression/6dfd723f-f711-44da-ad15-6f1fb59280c0/transformers.pkl\n",
      "INFO:ATOM:Transforming response data\n",
      "INFO:ATOM:Transforming feature data\n",
      "INFO:ATOM:Transforming response data\n",
      "INFO:ATOM:Transforming feature data\n",
      "INFO:ATOM:Transforming response data\n",
      "INFO:ATOM:Transforming feature data\n",
      "INFO:ATOM:Fitting random forest model\n",
      "INFO:ATOM:Fold 0: training r2_score = 0.873, validation r2_score = 0.129, test r2_score = 0.644\n",
      "INFO:ATOM:Wrote model tarball to ./../HPO/HPO_models_CYP2C9_old/cyp2c9_union_trainset_base_smiles_model_6dfd723f-f711-44da-ad15-6f1fb59280c0.tar.gz\n",
      "INFO:ATOM:Created a dataset hash '5784653341796c83c2c652313bd6db26' from dataset_key '/usr/WS2/atom/titli/MoDaC/Data/CYP2C9-ampl-1.1.0_old/cyp2c9_union_trainset_base_smiles.csv'\n",
      "DEBUG:ATOM:Attempting to load featurized dataset\n"
     ]
    },
    {
     "name": "stdout",
     "output_type": "stream",
     "text": [
      "rf_estimators: 24, rf_max_depth: 24, rf_max_features: 128, valid_r2: 0.1288376474745625\n"
     ]
    },
    {
     "name": "stderr",
     "output_type": "stream",
     "text": [
      "DEBUG:ATOM:Got dataset, attempting to extract data\n",
      "DEBUG:ATOM:Creating deepchem dataset\n",
      "INFO:ATOM:Using prefeaturized data; number of features = 306\n",
      "WARNING:ATOM:Previous dataset split restored\n",
      "INFO:ATOM:Wrote transformers to ./../HPO/HPO_models_CYP2C9_old/cyp2c9_union_trainset_base_smiles/RF_computed_descriptors_scaffold_regression/8d4e3686-9ded-4e26-8d0e-6ac28b79f084/transformers.pkl\n",
      "INFO:ATOM:Transforming response data\n",
      "INFO:ATOM:Transforming feature data\n",
      "INFO:ATOM:Transforming response data\n",
      "INFO:ATOM:Transforming feature data\n",
      "INFO:ATOM:Transforming response data\n",
      "INFO:ATOM:Transforming feature data\n",
      "INFO:ATOM:Fitting random forest model\n",
      "INFO:ATOM:Fold 0: training r2_score = 0.887, validation r2_score = 0.105, test r2_score = 0.521\n",
      "INFO:ATOM:Wrote model tarball to ./../HPO/HPO_models_CYP2C9_old/cyp2c9_union_trainset_base_smiles_model_8d4e3686-9ded-4e26-8d0e-6ac28b79f084.tar.gz\n",
      "INFO:ATOM:Created a dataset hash '5784653341796c83c2c652313bd6db26' from dataset_key '/usr/WS2/atom/titli/MoDaC/Data/CYP2C9-ampl-1.1.0_old/cyp2c9_union_trainset_base_smiles.csv'\n",
      "DEBUG:ATOM:Attempting to load featurized dataset\n"
     ]
    },
    {
     "name": "stdout",
     "output_type": "stream",
     "text": [
      "rf_estimators: 24, rf_max_depth: 32, rf_max_features: 16, valid_r2: 0.1045625387512964\n"
     ]
    },
    {
     "name": "stderr",
     "output_type": "stream",
     "text": [
      "DEBUG:ATOM:Got dataset, attempting to extract data\n",
      "DEBUG:ATOM:Creating deepchem dataset\n",
      "INFO:ATOM:Using prefeaturized data; number of features = 306\n",
      "WARNING:ATOM:Previous dataset split restored\n",
      "INFO:ATOM:Wrote transformers to ./../HPO/HPO_models_CYP2C9_old/cyp2c9_union_trainset_base_smiles/RF_computed_descriptors_scaffold_regression/5d417020-6cfa-4513-97db-527ccf39e26d/transformers.pkl\n",
      "INFO:ATOM:Transforming response data\n",
      "INFO:ATOM:Transforming feature data\n",
      "INFO:ATOM:Transforming response data\n",
      "INFO:ATOM:Transforming feature data\n",
      "INFO:ATOM:Transforming response data\n",
      "INFO:ATOM:Transforming feature data\n",
      "INFO:ATOM:Fitting random forest model\n",
      "INFO:ATOM:Fold 0: training r2_score = 0.888, validation r2_score = 0.094, test r2_score = 0.913\n",
      "INFO:ATOM:Wrote model tarball to ./../HPO/HPO_models_CYP2C9_old/cyp2c9_union_trainset_base_smiles_model_5d417020-6cfa-4513-97db-527ccf39e26d.tar.gz\n",
      "INFO:ATOM:Created a dataset hash '5784653341796c83c2c652313bd6db26' from dataset_key '/usr/WS2/atom/titli/MoDaC/Data/CYP2C9-ampl-1.1.0_old/cyp2c9_union_trainset_base_smiles.csv'\n",
      "DEBUG:ATOM:Attempting to load featurized dataset\n"
     ]
    },
    {
     "name": "stdout",
     "output_type": "stream",
     "text": [
      "rf_estimators: 24, rf_max_depth: 32, rf_max_features: 24, valid_r2: 0.09361882321360082\n"
     ]
    },
    {
     "name": "stderr",
     "output_type": "stream",
     "text": [
      "DEBUG:ATOM:Got dataset, attempting to extract data\n",
      "DEBUG:ATOM:Creating deepchem dataset\n",
      "INFO:ATOM:Using prefeaturized data; number of features = 306\n",
      "WARNING:ATOM:Previous dataset split restored\n",
      "INFO:ATOM:Wrote transformers to ./../HPO/HPO_models_CYP2C9_old/cyp2c9_union_trainset_base_smiles/RF_computed_descriptors_scaffold_regression/8ef5f17c-ddba-4a5d-aa1e-59365ddb234f/transformers.pkl\n",
      "INFO:ATOM:Transforming response data\n",
      "INFO:ATOM:Transforming feature data\n",
      "INFO:ATOM:Transforming response data\n",
      "INFO:ATOM:Transforming feature data\n",
      "INFO:ATOM:Transforming response data\n",
      "INFO:ATOM:Transforming feature data\n",
      "INFO:ATOM:Fitting random forest model\n",
      "INFO:ATOM:Fold 0: training r2_score = 0.889, validation r2_score = 0.107, test r2_score = 0.553\n",
      "INFO:ATOM:Wrote model tarball to ./../HPO/HPO_models_CYP2C9_old/cyp2c9_union_trainset_base_smiles_model_8ef5f17c-ddba-4a5d-aa1e-59365ddb234f.tar.gz\n",
      "INFO:ATOM:Created a dataset hash '5784653341796c83c2c652313bd6db26' from dataset_key '/usr/WS2/atom/titli/MoDaC/Data/CYP2C9-ampl-1.1.0_old/cyp2c9_union_trainset_base_smiles.csv'\n",
      "DEBUG:ATOM:Attempting to load featurized dataset\n"
     ]
    },
    {
     "name": "stdout",
     "output_type": "stream",
     "text": [
      "rf_estimators: 24, rf_max_depth: 32, rf_max_features: 32, valid_r2: 0.10655396760934865\n"
     ]
    },
    {
     "name": "stderr",
     "output_type": "stream",
     "text": [
      "DEBUG:ATOM:Got dataset, attempting to extract data\n",
      "DEBUG:ATOM:Creating deepchem dataset\n",
      "INFO:ATOM:Using prefeaturized data; number of features = 306\n",
      "WARNING:ATOM:Previous dataset split restored\n",
      "INFO:ATOM:Wrote transformers to ./../HPO/HPO_models_CYP2C9_old/cyp2c9_union_trainset_base_smiles/RF_computed_descriptors_scaffold_regression/30bcddfc-6531-491a-9e2a-ae29fcf5ff12/transformers.pkl\n",
      "INFO:ATOM:Transforming response data\n",
      "INFO:ATOM:Transforming feature data\n",
      "INFO:ATOM:Transforming response data\n",
      "INFO:ATOM:Transforming feature data\n",
      "INFO:ATOM:Transforming response data\n",
      "INFO:ATOM:Transforming feature data\n",
      "INFO:ATOM:Fitting random forest model\n",
      "INFO:ATOM:Fold 0: training r2_score = 0.889, validation r2_score = 0.124, test r2_score = 0.649\n",
      "INFO:ATOM:Wrote model tarball to ./../HPO/HPO_models_CYP2C9_old/cyp2c9_union_trainset_base_smiles_model_30bcddfc-6531-491a-9e2a-ae29fcf5ff12.tar.gz\n",
      "INFO:ATOM:Created a dataset hash '5784653341796c83c2c652313bd6db26' from dataset_key '/usr/WS2/atom/titli/MoDaC/Data/CYP2C9-ampl-1.1.0_old/cyp2c9_union_trainset_base_smiles.csv'\n",
      "DEBUG:ATOM:Attempting to load featurized dataset\n"
     ]
    },
    {
     "name": "stdout",
     "output_type": "stream",
     "text": [
      "rf_estimators: 24, rf_max_depth: 32, rf_max_features: 64, valid_r2: 0.1241969263794056\n"
     ]
    },
    {
     "name": "stderr",
     "output_type": "stream",
     "text": [
      "DEBUG:ATOM:Got dataset, attempting to extract data\n",
      "DEBUG:ATOM:Creating deepchem dataset\n",
      "INFO:ATOM:Using prefeaturized data; number of features = 306\n",
      "WARNING:ATOM:Previous dataset split restored\n",
      "INFO:ATOM:Wrote transformers to ./../HPO/HPO_models_CYP2C9_old/cyp2c9_union_trainset_base_smiles/RF_computed_descriptors_scaffold_regression/62401d64-29f0-4980-8e4b-22e107e06911/transformers.pkl\n",
      "INFO:ATOM:Transforming response data\n",
      "INFO:ATOM:Transforming feature data\n",
      "INFO:ATOM:Transforming response data\n",
      "INFO:ATOM:Transforming feature data\n",
      "INFO:ATOM:Transforming response data\n",
      "INFO:ATOM:Transforming feature data\n",
      "INFO:ATOM:Fitting random forest model\n",
      "INFO:ATOM:Fold 0: training r2_score = 0.890, validation r2_score = 0.117, test r2_score = 0.407\n",
      "INFO:ATOM:Wrote model tarball to ./../HPO/HPO_models_CYP2C9_old/cyp2c9_union_trainset_base_smiles_model_62401d64-29f0-4980-8e4b-22e107e06911.tar.gz\n",
      "INFO:ATOM:Created a dataset hash '5784653341796c83c2c652313bd6db26' from dataset_key '/usr/WS2/atom/titli/MoDaC/Data/CYP2C9-ampl-1.1.0_old/cyp2c9_union_trainset_base_smiles.csv'\n",
      "DEBUG:ATOM:Attempting to load featurized dataset\n"
     ]
    },
    {
     "name": "stdout",
     "output_type": "stream",
     "text": [
      "rf_estimators: 24, rf_max_depth: 32, rf_max_features: 128, valid_r2: 0.11731194116018073\n"
     ]
    },
    {
     "name": "stderr",
     "output_type": "stream",
     "text": [
      "DEBUG:ATOM:Got dataset, attempting to extract data\n",
      "DEBUG:ATOM:Creating deepchem dataset\n",
      "INFO:ATOM:Using prefeaturized data; number of features = 306\n",
      "WARNING:ATOM:Previous dataset split restored\n",
      "INFO:ATOM:Wrote transformers to ./../HPO/HPO_models_CYP2C9_old/cyp2c9_union_trainset_base_smiles/RF_computed_descriptors_scaffold_regression/cde4bc77-21ae-40c3-9890-1689b9c7d420/transformers.pkl\n",
      "INFO:ATOM:Transforming response data\n",
      "INFO:ATOM:Transforming feature data\n",
      "INFO:ATOM:Transforming response data\n",
      "INFO:ATOM:Transforming feature data\n",
      "INFO:ATOM:Transforming response data\n",
      "INFO:ATOM:Transforming feature data\n",
      "INFO:ATOM:Fitting random forest model\n",
      "INFO:ATOM:Fold 0: training r2_score = 0.888, validation r2_score = 0.117, test r2_score = 0.429\n",
      "INFO:ATOM:Wrote model tarball to ./../HPO/HPO_models_CYP2C9_old/cyp2c9_union_trainset_base_smiles_model_cde4bc77-21ae-40c3-9890-1689b9c7d420.tar.gz\n",
      "INFO:ATOM:Created a dataset hash '5784653341796c83c2c652313bd6db26' from dataset_key '/usr/WS2/atom/titli/MoDaC/Data/CYP2C9-ampl-1.1.0_old/cyp2c9_union_trainset_base_smiles.csv'\n",
      "DEBUG:ATOM:Attempting to load featurized dataset\n"
     ]
    },
    {
     "name": "stdout",
     "output_type": "stream",
     "text": [
      "rf_estimators: 24, rf_max_depth: 64, rf_max_features: 16, valid_r2: 0.1168657338330028\n"
     ]
    },
    {
     "name": "stderr",
     "output_type": "stream",
     "text": [
      "DEBUG:ATOM:Got dataset, attempting to extract data\n",
      "DEBUG:ATOM:Creating deepchem dataset\n",
      "INFO:ATOM:Using prefeaturized data; number of features = 306\n",
      "WARNING:ATOM:Previous dataset split restored\n",
      "INFO:ATOM:Wrote transformers to ./../HPO/HPO_models_CYP2C9_old/cyp2c9_union_trainset_base_smiles/RF_computed_descriptors_scaffold_regression/8d0aa27f-8409-410b-8020-9dbb583c06d0/transformers.pkl\n",
      "INFO:ATOM:Transforming response data\n",
      "INFO:ATOM:Transforming feature data\n",
      "INFO:ATOM:Transforming response data\n",
      "INFO:ATOM:Transforming feature data\n",
      "INFO:ATOM:Transforming response data\n",
      "INFO:ATOM:Transforming feature data\n",
      "INFO:ATOM:Fitting random forest model\n",
      "INFO:ATOM:Fold 0: training r2_score = 0.888, validation r2_score = 0.110, test r2_score = 0.555\n",
      "INFO:ATOM:Wrote model tarball to ./../HPO/HPO_models_CYP2C9_old/cyp2c9_union_trainset_base_smiles_model_8d0aa27f-8409-410b-8020-9dbb583c06d0.tar.gz\n",
      "INFO:ATOM:Created a dataset hash '5784653341796c83c2c652313bd6db26' from dataset_key '/usr/WS2/atom/titli/MoDaC/Data/CYP2C9-ampl-1.1.0_old/cyp2c9_union_trainset_base_smiles.csv'\n",
      "DEBUG:ATOM:Attempting to load featurized dataset\n"
     ]
    },
    {
     "name": "stdout",
     "output_type": "stream",
     "text": [
      "rf_estimators: 24, rf_max_depth: 64, rf_max_features: 24, valid_r2: 0.11000467939338243\n"
     ]
    },
    {
     "name": "stderr",
     "output_type": "stream",
     "text": [
      "DEBUG:ATOM:Got dataset, attempting to extract data\n",
      "DEBUG:ATOM:Creating deepchem dataset\n",
      "INFO:ATOM:Using prefeaturized data; number of features = 306\n",
      "WARNING:ATOM:Previous dataset split restored\n",
      "INFO:ATOM:Wrote transformers to ./../HPO/HPO_models_CYP2C9_old/cyp2c9_union_trainset_base_smiles/RF_computed_descriptors_scaffold_regression/ad40b64f-a43a-4fe0-aef3-cdc72550d9c6/transformers.pkl\n",
      "INFO:ATOM:Transforming response data\n",
      "INFO:ATOM:Transforming feature data\n",
      "INFO:ATOM:Transforming response data\n",
      "INFO:ATOM:Transforming feature data\n",
      "INFO:ATOM:Transforming response data\n",
      "INFO:ATOM:Transforming feature data\n",
      "INFO:ATOM:Fitting random forest model\n",
      "INFO:ATOM:Fold 0: training r2_score = 0.890, validation r2_score = 0.097, test r2_score = 0.867\n",
      "INFO:ATOM:Wrote model tarball to ./../HPO/HPO_models_CYP2C9_old/cyp2c9_union_trainset_base_smiles_model_ad40b64f-a43a-4fe0-aef3-cdc72550d9c6.tar.gz\n",
      "INFO:ATOM:Created a dataset hash '5784653341796c83c2c652313bd6db26' from dataset_key '/usr/WS2/atom/titli/MoDaC/Data/CYP2C9-ampl-1.1.0_old/cyp2c9_union_trainset_base_smiles.csv'\n",
      "DEBUG:ATOM:Attempting to load featurized dataset\n"
     ]
    },
    {
     "name": "stdout",
     "output_type": "stream",
     "text": [
      "rf_estimators: 24, rf_max_depth: 64, rf_max_features: 32, valid_r2: 0.09671835865889133\n"
     ]
    },
    {
     "name": "stderr",
     "output_type": "stream",
     "text": [
      "DEBUG:ATOM:Got dataset, attempting to extract data\n",
      "DEBUG:ATOM:Creating deepchem dataset\n",
      "INFO:ATOM:Using prefeaturized data; number of features = 306\n",
      "WARNING:ATOM:Previous dataset split restored\n",
      "INFO:ATOM:Wrote transformers to ./../HPO/HPO_models_CYP2C9_old/cyp2c9_union_trainset_base_smiles/RF_computed_descriptors_scaffold_regression/922d03d2-43a3-4bc5-814e-6b8796b5d2ac/transformers.pkl\n",
      "INFO:ATOM:Transforming response data\n",
      "INFO:ATOM:Transforming feature data\n",
      "INFO:ATOM:Transforming response data\n",
      "INFO:ATOM:Transforming feature data\n",
      "INFO:ATOM:Transforming response data\n",
      "INFO:ATOM:Transforming feature data\n",
      "INFO:ATOM:Fitting random forest model\n",
      "INFO:ATOM:Fold 0: training r2_score = 0.892, validation r2_score = 0.102, test r2_score = 0.932\n",
      "INFO:ATOM:Wrote model tarball to ./../HPO/HPO_models_CYP2C9_old/cyp2c9_union_trainset_base_smiles_model_922d03d2-43a3-4bc5-814e-6b8796b5d2ac.tar.gz\n",
      "INFO:ATOM:Created a dataset hash '5784653341796c83c2c652313bd6db26' from dataset_key '/usr/WS2/atom/titli/MoDaC/Data/CYP2C9-ampl-1.1.0_old/cyp2c9_union_trainset_base_smiles.csv'\n",
      "DEBUG:ATOM:Attempting to load featurized dataset\n"
     ]
    },
    {
     "name": "stdout",
     "output_type": "stream",
     "text": [
      "rf_estimators: 24, rf_max_depth: 64, rf_max_features: 64, valid_r2: 0.10171116528526436\n"
     ]
    },
    {
     "name": "stderr",
     "output_type": "stream",
     "text": [
      "DEBUG:ATOM:Got dataset, attempting to extract data\n",
      "DEBUG:ATOM:Creating deepchem dataset\n",
      "INFO:ATOM:Using prefeaturized data; number of features = 306\n",
      "WARNING:ATOM:Previous dataset split restored\n",
      "INFO:ATOM:Wrote transformers to ./../HPO/HPO_models_CYP2C9_old/cyp2c9_union_trainset_base_smiles/RF_computed_descriptors_scaffold_regression/b8a1c48e-da58-4387-93f8-7b45f6192ae9/transformers.pkl\n",
      "INFO:ATOM:Transforming response data\n",
      "INFO:ATOM:Transforming feature data\n",
      "INFO:ATOM:Transforming response data\n",
      "INFO:ATOM:Transforming feature data\n",
      "INFO:ATOM:Transforming response data\n",
      "INFO:ATOM:Transforming feature data\n",
      "INFO:ATOM:Fitting random forest model\n",
      "INFO:ATOM:Fold 0: training r2_score = 0.889, validation r2_score = 0.133, test r2_score = 0.812\n",
      "INFO:ATOM:Wrote model tarball to ./../HPO/HPO_models_CYP2C9_old/cyp2c9_union_trainset_base_smiles_model_b8a1c48e-da58-4387-93f8-7b45f6192ae9.tar.gz\n",
      "INFO:ATOM:Created a dataset hash '5784653341796c83c2c652313bd6db26' from dataset_key '/usr/WS2/atom/titli/MoDaC/Data/CYP2C9-ampl-1.1.0_old/cyp2c9_union_trainset_base_smiles.csv'\n",
      "DEBUG:ATOM:Attempting to load featurized dataset\n"
     ]
    },
    {
     "name": "stdout",
     "output_type": "stream",
     "text": [
      "rf_estimators: 24, rf_max_depth: 64, rf_max_features: 128, valid_r2: 0.13331363970821875\n"
     ]
    },
    {
     "name": "stderr",
     "output_type": "stream",
     "text": [
      "DEBUG:ATOM:Got dataset, attempting to extract data\n",
      "DEBUG:ATOM:Creating deepchem dataset\n",
      "INFO:ATOM:Using prefeaturized data; number of features = 306\n",
      "WARNING:ATOM:Previous dataset split restored\n",
      "INFO:ATOM:Wrote transformers to ./../HPO/HPO_models_CYP2C9_old/cyp2c9_union_trainset_base_smiles/RF_computed_descriptors_scaffold_regression/a407537a-4d6f-422f-817f-9ccc5a6cb979/transformers.pkl\n",
      "INFO:ATOM:Transforming response data\n",
      "INFO:ATOM:Transforming feature data\n",
      "INFO:ATOM:Transforming response data\n",
      "INFO:ATOM:Transforming feature data\n",
      "INFO:ATOM:Transforming response data\n",
      "INFO:ATOM:Transforming feature data\n",
      "INFO:ATOM:Fitting random forest model\n",
      "INFO:ATOM:Fold 0: training r2_score = 0.886, validation r2_score = 0.113, test r2_score = 0.913\n",
      "INFO:ATOM:Wrote model tarball to ./../HPO/HPO_models_CYP2C9_old/cyp2c9_union_trainset_base_smiles_model_a407537a-4d6f-422f-817f-9ccc5a6cb979.tar.gz\n",
      "INFO:ATOM:Created a dataset hash '5784653341796c83c2c652313bd6db26' from dataset_key '/usr/WS2/atom/titli/MoDaC/Data/CYP2C9-ampl-1.1.0_old/cyp2c9_union_trainset_base_smiles.csv'\n",
      "DEBUG:ATOM:Attempting to load featurized dataset\n"
     ]
    },
    {
     "name": "stdout",
     "output_type": "stream",
     "text": [
      "rf_estimators: 24, rf_max_depth: 128, rf_max_features: 16, valid_r2: 0.1125984868454436\n"
     ]
    },
    {
     "name": "stderr",
     "output_type": "stream",
     "text": [
      "DEBUG:ATOM:Got dataset, attempting to extract data\n",
      "DEBUG:ATOM:Creating deepchem dataset\n",
      "INFO:ATOM:Using prefeaturized data; number of features = 306\n",
      "WARNING:ATOM:Previous dataset split restored\n",
      "INFO:ATOM:Wrote transformers to ./../HPO/HPO_models_CYP2C9_old/cyp2c9_union_trainset_base_smiles/RF_computed_descriptors_scaffold_regression/0f7270a3-897b-48eb-955c-93ad8d27a7e4/transformers.pkl\n",
      "INFO:ATOM:Transforming response data\n",
      "INFO:ATOM:Transforming feature data\n",
      "INFO:ATOM:Transforming response data\n",
      "INFO:ATOM:Transforming feature data\n",
      "INFO:ATOM:Transforming response data\n",
      "INFO:ATOM:Transforming feature data\n",
      "INFO:ATOM:Fitting random forest model\n",
      "INFO:ATOM:Fold 0: training r2_score = 0.888, validation r2_score = 0.113, test r2_score = 0.754\n",
      "INFO:ATOM:Wrote model tarball to ./../HPO/HPO_models_CYP2C9_old/cyp2c9_union_trainset_base_smiles_model_0f7270a3-897b-48eb-955c-93ad8d27a7e4.tar.gz\n",
      "INFO:ATOM:Created a dataset hash '5784653341796c83c2c652313bd6db26' from dataset_key '/usr/WS2/atom/titli/MoDaC/Data/CYP2C9-ampl-1.1.0_old/cyp2c9_union_trainset_base_smiles.csv'\n",
      "DEBUG:ATOM:Attempting to load featurized dataset\n"
     ]
    },
    {
     "name": "stdout",
     "output_type": "stream",
     "text": [
      "rf_estimators: 24, rf_max_depth: 128, rf_max_features: 24, valid_r2: 0.11261654405151522\n"
     ]
    },
    {
     "name": "stderr",
     "output_type": "stream",
     "text": [
      "DEBUG:ATOM:Got dataset, attempting to extract data\n",
      "DEBUG:ATOM:Creating deepchem dataset\n",
      "INFO:ATOM:Using prefeaturized data; number of features = 306\n",
      "WARNING:ATOM:Previous dataset split restored\n",
      "INFO:ATOM:Wrote transformers to ./../HPO/HPO_models_CYP2C9_old/cyp2c9_union_trainset_base_smiles/RF_computed_descriptors_scaffold_regression/0f3682d2-3916-4f2e-a7c6-6f2fad9fad44/transformers.pkl\n",
      "INFO:ATOM:Transforming response data\n",
      "INFO:ATOM:Transforming feature data\n",
      "INFO:ATOM:Transforming response data\n",
      "INFO:ATOM:Transforming feature data\n",
      "INFO:ATOM:Transforming response data\n",
      "INFO:ATOM:Transforming feature data\n",
      "INFO:ATOM:Fitting random forest model\n",
      "INFO:ATOM:Fold 0: training r2_score = 0.889, validation r2_score = 0.099, test r2_score = 0.363\n",
      "INFO:ATOM:Wrote model tarball to ./../HPO/HPO_models_CYP2C9_old/cyp2c9_union_trainset_base_smiles_model_0f3682d2-3916-4f2e-a7c6-6f2fad9fad44.tar.gz\n",
      "INFO:ATOM:Created a dataset hash '5784653341796c83c2c652313bd6db26' from dataset_key '/usr/WS2/atom/titli/MoDaC/Data/CYP2C9-ampl-1.1.0_old/cyp2c9_union_trainset_base_smiles.csv'\n",
      "DEBUG:ATOM:Attempting to load featurized dataset\n"
     ]
    },
    {
     "name": "stdout",
     "output_type": "stream",
     "text": [
      "rf_estimators: 24, rf_max_depth: 128, rf_max_features: 32, valid_r2: 0.0992147651802544\n"
     ]
    },
    {
     "name": "stderr",
     "output_type": "stream",
     "text": [
      "DEBUG:ATOM:Got dataset, attempting to extract data\n",
      "DEBUG:ATOM:Creating deepchem dataset\n",
      "INFO:ATOM:Using prefeaturized data; number of features = 306\n",
      "WARNING:ATOM:Previous dataset split restored\n",
      "INFO:ATOM:Wrote transformers to ./../HPO/HPO_models_CYP2C9_old/cyp2c9_union_trainset_base_smiles/RF_computed_descriptors_scaffold_regression/906e967e-7525-480b-aed2-db0c99d4404c/transformers.pkl\n",
      "INFO:ATOM:Transforming response data\n",
      "INFO:ATOM:Transforming feature data\n",
      "INFO:ATOM:Transforming response data\n",
      "INFO:ATOM:Transforming feature data\n",
      "INFO:ATOM:Transforming response data\n",
      "INFO:ATOM:Transforming feature data\n",
      "INFO:ATOM:Fitting random forest model\n",
      "INFO:ATOM:Fold 0: training r2_score = 0.888, validation r2_score = 0.101, test r2_score = 0.955\n",
      "INFO:ATOM:Wrote model tarball to ./../HPO/HPO_models_CYP2C9_old/cyp2c9_union_trainset_base_smiles_model_906e967e-7525-480b-aed2-db0c99d4404c.tar.gz\n",
      "INFO:ATOM:Created a dataset hash '5784653341796c83c2c652313bd6db26' from dataset_key '/usr/WS2/atom/titli/MoDaC/Data/CYP2C9-ampl-1.1.0_old/cyp2c9_union_trainset_base_smiles.csv'\n",
      "DEBUG:ATOM:Attempting to load featurized dataset\n"
     ]
    },
    {
     "name": "stdout",
     "output_type": "stream",
     "text": [
      "rf_estimators: 24, rf_max_depth: 128, rf_max_features: 64, valid_r2: 0.10149826247925797\n"
     ]
    },
    {
     "name": "stderr",
     "output_type": "stream",
     "text": [
      "DEBUG:ATOM:Got dataset, attempting to extract data\n",
      "DEBUG:ATOM:Creating deepchem dataset\n",
      "INFO:ATOM:Using prefeaturized data; number of features = 306\n",
      "WARNING:ATOM:Previous dataset split restored\n",
      "INFO:ATOM:Wrote transformers to ./../HPO/HPO_models_CYP2C9_old/cyp2c9_union_trainset_base_smiles/RF_computed_descriptors_scaffold_regression/81eb3375-31ce-42ec-b9f7-f6ac3d514e1f/transformers.pkl\n",
      "INFO:ATOM:Transforming response data\n",
      "INFO:ATOM:Transforming feature data\n",
      "INFO:ATOM:Transforming response data\n",
      "INFO:ATOM:Transforming feature data\n",
      "INFO:ATOM:Transforming response data\n",
      "INFO:ATOM:Transforming feature data\n",
      "INFO:ATOM:Fitting random forest model\n",
      "INFO:ATOM:Fold 0: training r2_score = 0.891, validation r2_score = 0.128, test r2_score = 0.698\n",
      "INFO:ATOM:Wrote model tarball to ./../HPO/HPO_models_CYP2C9_old/cyp2c9_union_trainset_base_smiles_model_81eb3375-31ce-42ec-b9f7-f6ac3d514e1f.tar.gz\n",
      "INFO:ATOM:Created a dataset hash '5784653341796c83c2c652313bd6db26' from dataset_key '/usr/WS2/atom/titli/MoDaC/Data/CYP2C9-ampl-1.1.0_old/cyp2c9_union_trainset_base_smiles.csv'\n",
      "DEBUG:ATOM:Attempting to load featurized dataset\n"
     ]
    },
    {
     "name": "stdout",
     "output_type": "stream",
     "text": [
      "rf_estimators: 24, rf_max_depth: 128, rf_max_features: 128, valid_r2: 0.12848414170472044\n"
     ]
    },
    {
     "name": "stderr",
     "output_type": "stream",
     "text": [
      "DEBUG:ATOM:Got dataset, attempting to extract data\n",
      "DEBUG:ATOM:Creating deepchem dataset\n",
      "INFO:ATOM:Using prefeaturized data; number of features = 306\n",
      "WARNING:ATOM:Previous dataset split restored\n",
      "INFO:ATOM:Wrote transformers to ./../HPO/HPO_models_CYP2C9_old/cyp2c9_union_trainset_base_smiles/RF_computed_descriptors_scaffold_regression/3a79b5b8-8830-40ac-a2b9-c6221b100376/transformers.pkl\n",
      "INFO:ATOM:Transforming response data\n",
      "INFO:ATOM:Transforming feature data\n",
      "INFO:ATOM:Transforming response data\n",
      "INFO:ATOM:Transforming feature data\n",
      "INFO:ATOM:Transforming response data\n",
      "INFO:ATOM:Transforming feature data\n",
      "INFO:ATOM:Fitting random forest model\n",
      "INFO:ATOM:Fold 0: training r2_score = 0.888, validation r2_score = 0.112, test r2_score = 0.932\n",
      "INFO:ATOM:Wrote model tarball to ./../HPO/HPO_models_CYP2C9_old/cyp2c9_union_trainset_base_smiles_model_3a79b5b8-8830-40ac-a2b9-c6221b100376.tar.gz\n",
      "INFO:ATOM:Created a dataset hash '5784653341796c83c2c652313bd6db26' from dataset_key '/usr/WS2/atom/titli/MoDaC/Data/CYP2C9-ampl-1.1.0_old/cyp2c9_union_trainset_base_smiles.csv'\n",
      "DEBUG:ATOM:Attempting to load featurized dataset\n"
     ]
    },
    {
     "name": "stdout",
     "output_type": "stream",
     "text": [
      "rf_estimators: 24, rf_max_depth: 256, rf_max_features: 16, valid_r2: 0.11190316266303724\n"
     ]
    },
    {
     "name": "stderr",
     "output_type": "stream",
     "text": [
      "DEBUG:ATOM:Got dataset, attempting to extract data\n",
      "DEBUG:ATOM:Creating deepchem dataset\n",
      "INFO:ATOM:Using prefeaturized data; number of features = 306\n",
      "WARNING:ATOM:Previous dataset split restored\n",
      "INFO:ATOM:Wrote transformers to ./../HPO/HPO_models_CYP2C9_old/cyp2c9_union_trainset_base_smiles/RF_computed_descriptors_scaffold_regression/470386e4-fbf2-4499-b57a-cb530c5fbc00/transformers.pkl\n",
      "INFO:ATOM:Transforming response data\n",
      "INFO:ATOM:Transforming feature data\n",
      "INFO:ATOM:Transforming response data\n",
      "INFO:ATOM:Transforming feature data\n",
      "INFO:ATOM:Transforming response data\n",
      "INFO:ATOM:Transforming feature data\n",
      "INFO:ATOM:Fitting random forest model\n",
      "INFO:ATOM:Fold 0: training r2_score = 0.890, validation r2_score = 0.135, test r2_score = 0.761\n",
      "INFO:ATOM:Wrote model tarball to ./../HPO/HPO_models_CYP2C9_old/cyp2c9_union_trainset_base_smiles_model_470386e4-fbf2-4499-b57a-cb530c5fbc00.tar.gz\n",
      "INFO:ATOM:Created a dataset hash '5784653341796c83c2c652313bd6db26' from dataset_key '/usr/WS2/atom/titli/MoDaC/Data/CYP2C9-ampl-1.1.0_old/cyp2c9_union_trainset_base_smiles.csv'\n",
      "DEBUG:ATOM:Attempting to load featurized dataset\n"
     ]
    },
    {
     "name": "stdout",
     "output_type": "stream",
     "text": [
      "rf_estimators: 24, rf_max_depth: 256, rf_max_features: 24, valid_r2: 0.13511908745187917\n"
     ]
    },
    {
     "name": "stderr",
     "output_type": "stream",
     "text": [
      "DEBUG:ATOM:Got dataset, attempting to extract data\n",
      "DEBUG:ATOM:Creating deepchem dataset\n",
      "INFO:ATOM:Using prefeaturized data; number of features = 306\n",
      "WARNING:ATOM:Previous dataset split restored\n",
      "INFO:ATOM:Wrote transformers to ./../HPO/HPO_models_CYP2C9_old/cyp2c9_union_trainset_base_smiles/RF_computed_descriptors_scaffold_regression/2af9b7eb-f56f-48fc-a52b-732c845d0ebd/transformers.pkl\n",
      "INFO:ATOM:Transforming response data\n",
      "INFO:ATOM:Transforming feature data\n",
      "INFO:ATOM:Transforming response data\n",
      "INFO:ATOM:Transforming feature data\n",
      "INFO:ATOM:Transforming response data\n",
      "INFO:ATOM:Transforming feature data\n",
      "INFO:ATOM:Fitting random forest model\n",
      "INFO:ATOM:Fold 0: training r2_score = 0.886, validation r2_score = 0.113, test r2_score = 0.573\n",
      "INFO:ATOM:Wrote model tarball to ./../HPO/HPO_models_CYP2C9_old/cyp2c9_union_trainset_base_smiles_model_2af9b7eb-f56f-48fc-a52b-732c845d0ebd.tar.gz\n",
      "INFO:ATOM:Created a dataset hash '5784653341796c83c2c652313bd6db26' from dataset_key '/usr/WS2/atom/titli/MoDaC/Data/CYP2C9-ampl-1.1.0_old/cyp2c9_union_trainset_base_smiles.csv'\n",
      "DEBUG:ATOM:Attempting to load featurized dataset\n"
     ]
    },
    {
     "name": "stdout",
     "output_type": "stream",
     "text": [
      "rf_estimators: 24, rf_max_depth: 256, rf_max_features: 32, valid_r2: 0.11262149803749333\n"
     ]
    },
    {
     "name": "stderr",
     "output_type": "stream",
     "text": [
      "DEBUG:ATOM:Got dataset, attempting to extract data\n",
      "DEBUG:ATOM:Creating deepchem dataset\n",
      "INFO:ATOM:Using prefeaturized data; number of features = 306\n",
      "WARNING:ATOM:Previous dataset split restored\n",
      "INFO:ATOM:Wrote transformers to ./../HPO/HPO_models_CYP2C9_old/cyp2c9_union_trainset_base_smiles/RF_computed_descriptors_scaffold_regression/de3d8315-6d13-4df4-ac18-b5c25703dea7/transformers.pkl\n",
      "INFO:ATOM:Transforming response data\n",
      "INFO:ATOM:Transforming feature data\n",
      "INFO:ATOM:Transforming response data\n",
      "INFO:ATOM:Transforming feature data\n",
      "INFO:ATOM:Transforming response data\n",
      "INFO:ATOM:Transforming feature data\n",
      "INFO:ATOM:Fitting random forest model\n",
      "INFO:ATOM:Fold 0: training r2_score = 0.891, validation r2_score = 0.112, test r2_score = 0.628\n",
      "INFO:ATOM:Wrote model tarball to ./../HPO/HPO_models_CYP2C9_old/cyp2c9_union_trainset_base_smiles_model_de3d8315-6d13-4df4-ac18-b5c25703dea7.tar.gz\n",
      "INFO:ATOM:Created a dataset hash '5784653341796c83c2c652313bd6db26' from dataset_key '/usr/WS2/atom/titli/MoDaC/Data/CYP2C9-ampl-1.1.0_old/cyp2c9_union_trainset_base_smiles.csv'\n",
      "DEBUG:ATOM:Attempting to load featurized dataset\n"
     ]
    },
    {
     "name": "stdout",
     "output_type": "stream",
     "text": [
      "rf_estimators: 24, rf_max_depth: 256, rf_max_features: 64, valid_r2: 0.11202325464412044\n"
     ]
    },
    {
     "name": "stderr",
     "output_type": "stream",
     "text": [
      "DEBUG:ATOM:Got dataset, attempting to extract data\n",
      "DEBUG:ATOM:Creating deepchem dataset\n",
      "INFO:ATOM:Using prefeaturized data; number of features = 306\n",
      "WARNING:ATOM:Previous dataset split restored\n",
      "INFO:ATOM:Wrote transformers to ./../HPO/HPO_models_CYP2C9_old/cyp2c9_union_trainset_base_smiles/RF_computed_descriptors_scaffold_regression/d118d9b5-7c59-45af-83fc-e42a564f8191/transformers.pkl\n",
      "INFO:ATOM:Transforming response data\n",
      "INFO:ATOM:Transforming feature data\n",
      "INFO:ATOM:Transforming response data\n",
      "INFO:ATOM:Transforming feature data\n",
      "INFO:ATOM:Transforming response data\n",
      "INFO:ATOM:Transforming feature data\n",
      "INFO:ATOM:Fitting random forest model\n",
      "INFO:ATOM:Fold 0: training r2_score = 0.893, validation r2_score = 0.128, test r2_score = 0.397\n",
      "INFO:ATOM:Wrote model tarball to ./../HPO/HPO_models_CYP2C9_old/cyp2c9_union_trainset_base_smiles_model_d118d9b5-7c59-45af-83fc-e42a564f8191.tar.gz\n",
      "INFO:ATOM:Created a dataset hash '5784653341796c83c2c652313bd6db26' from dataset_key '/usr/WS2/atom/titli/MoDaC/Data/CYP2C9-ampl-1.1.0_old/cyp2c9_union_trainset_base_smiles.csv'\n",
      "DEBUG:ATOM:Attempting to load featurized dataset\n"
     ]
    },
    {
     "name": "stdout",
     "output_type": "stream",
     "text": [
      "rf_estimators: 24, rf_max_depth: 256, rf_max_features: 128, valid_r2: 0.12778552464587123\n"
     ]
    },
    {
     "name": "stderr",
     "output_type": "stream",
     "text": [
      "DEBUG:ATOM:Got dataset, attempting to extract data\n",
      "DEBUG:ATOM:Creating deepchem dataset\n",
      "INFO:ATOM:Using prefeaturized data; number of features = 306\n",
      "WARNING:ATOM:Previous dataset split restored\n",
      "INFO:ATOM:Wrote transformers to ./../HPO/HPO_models_CYP2C9_old/cyp2c9_union_trainset_base_smiles/RF_computed_descriptors_scaffold_regression/ccbe6d87-f6b0-4055-bed9-ca230f3a6477/transformers.pkl\n",
      "INFO:ATOM:Transforming response data\n",
      "INFO:ATOM:Transforming feature data\n",
      "INFO:ATOM:Transforming response data\n",
      "INFO:ATOM:Transforming feature data\n",
      "INFO:ATOM:Transforming response data\n",
      "INFO:ATOM:Transforming feature data\n",
      "INFO:ATOM:Fitting random forest model\n",
      "INFO:ATOM:Fold 0: training r2_score = 0.785, validation r2_score = 0.123, test r2_score = 0.905\n",
      "INFO:ATOM:Wrote model tarball to ./../HPO/HPO_models_CYP2C9_old/cyp2c9_union_trainset_base_smiles_model_ccbe6d87-f6b0-4055-bed9-ca230f3a6477.tar.gz\n",
      "INFO:ATOM:Created a dataset hash '5784653341796c83c2c652313bd6db26' from dataset_key '/usr/WS2/atom/titli/MoDaC/Data/CYP2C9-ampl-1.1.0_old/cyp2c9_union_trainset_base_smiles.csv'\n",
      "DEBUG:ATOM:Attempting to load featurized dataset\n"
     ]
    },
    {
     "name": "stdout",
     "output_type": "stream",
     "text": [
      "rf_estimators: 32, rf_max_depth: 16, rf_max_features: 16, valid_r2: 0.12341211232977778\n"
     ]
    },
    {
     "name": "stderr",
     "output_type": "stream",
     "text": [
      "DEBUG:ATOM:Got dataset, attempting to extract data\n",
      "DEBUG:ATOM:Creating deepchem dataset\n",
      "INFO:ATOM:Using prefeaturized data; number of features = 306\n",
      "WARNING:ATOM:Previous dataset split restored\n",
      "INFO:ATOM:Wrote transformers to ./../HPO/HPO_models_CYP2C9_old/cyp2c9_union_trainset_base_smiles/RF_computed_descriptors_scaffold_regression/4a3393f3-a36c-4985-9145-a629721318d3/transformers.pkl\n",
      "INFO:ATOM:Transforming response data\n",
      "INFO:ATOM:Transforming feature data\n",
      "INFO:ATOM:Transforming response data\n",
      "INFO:ATOM:Transforming feature data\n",
      "INFO:ATOM:Transforming response data\n",
      "INFO:ATOM:Transforming feature data\n",
      "INFO:ATOM:Fitting random forest model\n",
      "INFO:ATOM:Fold 0: training r2_score = 0.787, validation r2_score = 0.122, test r2_score = 0.646\n",
      "INFO:ATOM:Wrote model tarball to ./../HPO/HPO_models_CYP2C9_old/cyp2c9_union_trainset_base_smiles_model_4a3393f3-a36c-4985-9145-a629721318d3.tar.gz\n",
      "INFO:ATOM:Created a dataset hash '5784653341796c83c2c652313bd6db26' from dataset_key '/usr/WS2/atom/titli/MoDaC/Data/CYP2C9-ampl-1.1.0_old/cyp2c9_union_trainset_base_smiles.csv'\n",
      "DEBUG:ATOM:Attempting to load featurized dataset\n"
     ]
    },
    {
     "name": "stdout",
     "output_type": "stream",
     "text": [
      "rf_estimators: 32, rf_max_depth: 16, rf_max_features: 24, valid_r2: 0.12233186400380114\n"
     ]
    },
    {
     "name": "stderr",
     "output_type": "stream",
     "text": [
      "DEBUG:ATOM:Got dataset, attempting to extract data\n",
      "DEBUG:ATOM:Creating deepchem dataset\n",
      "INFO:ATOM:Using prefeaturized data; number of features = 306\n",
      "WARNING:ATOM:Previous dataset split restored\n",
      "INFO:ATOM:Wrote transformers to ./../HPO/HPO_models_CYP2C9_old/cyp2c9_union_trainset_base_smiles/RF_computed_descriptors_scaffold_regression/fde72aa1-33a1-4a22-991d-ccca041b7be4/transformers.pkl\n",
      "INFO:ATOM:Transforming response data\n",
      "INFO:ATOM:Transforming feature data\n",
      "INFO:ATOM:Transforming response data\n",
      "INFO:ATOM:Transforming feature data\n",
      "INFO:ATOM:Transforming response data\n",
      "INFO:ATOM:Transforming feature data\n",
      "INFO:ATOM:Fitting random forest model\n",
      "INFO:ATOM:Fold 0: training r2_score = 0.786, validation r2_score = 0.125, test r2_score = 0.817\n",
      "INFO:ATOM:Wrote model tarball to ./../HPO/HPO_models_CYP2C9_old/cyp2c9_union_trainset_base_smiles_model_fde72aa1-33a1-4a22-991d-ccca041b7be4.tar.gz\n",
      "INFO:ATOM:Created a dataset hash '5784653341796c83c2c652313bd6db26' from dataset_key '/usr/WS2/atom/titli/MoDaC/Data/CYP2C9-ampl-1.1.0_old/cyp2c9_union_trainset_base_smiles.csv'\n",
      "DEBUG:ATOM:Attempting to load featurized dataset\n"
     ]
    },
    {
     "name": "stdout",
     "output_type": "stream",
     "text": [
      "rf_estimators: 32, rf_max_depth: 16, rf_max_features: 32, valid_r2: 0.12456110112120944\n"
     ]
    },
    {
     "name": "stderr",
     "output_type": "stream",
     "text": [
      "DEBUG:ATOM:Got dataset, attempting to extract data\n",
      "DEBUG:ATOM:Creating deepchem dataset\n",
      "INFO:ATOM:Using prefeaturized data; number of features = 306\n",
      "WARNING:ATOM:Previous dataset split restored\n",
      "INFO:ATOM:Wrote transformers to ./../HPO/HPO_models_CYP2C9_old/cyp2c9_union_trainset_base_smiles/RF_computed_descriptors_scaffold_regression/2cdcc174-eb1a-49b0-aca2-82d9ed3308ef/transformers.pkl\n",
      "INFO:ATOM:Transforming response data\n",
      "INFO:ATOM:Transforming feature data\n",
      "INFO:ATOM:Transforming response data\n",
      "INFO:ATOM:Transforming feature data\n",
      "INFO:ATOM:Transforming response data\n",
      "INFO:ATOM:Transforming feature data\n",
      "INFO:ATOM:Fitting random forest model\n",
      "INFO:ATOM:Fold 0: training r2_score = 0.790, validation r2_score = 0.137, test r2_score = 0.932\n",
      "INFO:ATOM:Wrote model tarball to ./../HPO/HPO_models_CYP2C9_old/cyp2c9_union_trainset_base_smiles_model_2cdcc174-eb1a-49b0-aca2-82d9ed3308ef.tar.gz\n",
      "INFO:ATOM:Created a dataset hash '5784653341796c83c2c652313bd6db26' from dataset_key '/usr/WS2/atom/titli/MoDaC/Data/CYP2C9-ampl-1.1.0_old/cyp2c9_union_trainset_base_smiles.csv'\n",
      "DEBUG:ATOM:Attempting to load featurized dataset\n"
     ]
    },
    {
     "name": "stdout",
     "output_type": "stream",
     "text": [
      "rf_estimators: 32, rf_max_depth: 16, rf_max_features: 64, valid_r2: 0.1371027282697843\n"
     ]
    },
    {
     "name": "stderr",
     "output_type": "stream",
     "text": [
      "DEBUG:ATOM:Got dataset, attempting to extract data\n",
      "DEBUG:ATOM:Creating deepchem dataset\n",
      "INFO:ATOM:Using prefeaturized data; number of features = 306\n",
      "WARNING:ATOM:Previous dataset split restored\n",
      "INFO:ATOM:Wrote transformers to ./../HPO/HPO_models_CYP2C9_old/cyp2c9_union_trainset_base_smiles/RF_computed_descriptors_scaffold_regression/693ff393-3174-4191-b247-cc3aa3f86f66/transformers.pkl\n",
      "INFO:ATOM:Transforming response data\n",
      "INFO:ATOM:Transforming feature data\n",
      "INFO:ATOM:Transforming response data\n",
      "INFO:ATOM:Transforming feature data\n",
      "INFO:ATOM:Transforming response data\n",
      "INFO:ATOM:Transforming feature data\n",
      "INFO:ATOM:Fitting random forest model\n",
      "INFO:ATOM:Fold 0: training r2_score = 0.781, validation r2_score = 0.125, test r2_score = 0.883\n",
      "INFO:ATOM:Wrote model tarball to ./../HPO/HPO_models_CYP2C9_old/cyp2c9_union_trainset_base_smiles_model_693ff393-3174-4191-b247-cc3aa3f86f66.tar.gz\n",
      "INFO:ATOM:Created a dataset hash '5784653341796c83c2c652313bd6db26' from dataset_key '/usr/WS2/atom/titli/MoDaC/Data/CYP2C9-ampl-1.1.0_old/cyp2c9_union_trainset_base_smiles.csv'\n",
      "DEBUG:ATOM:Attempting to load featurized dataset\n"
     ]
    },
    {
     "name": "stdout",
     "output_type": "stream",
     "text": [
      "rf_estimators: 32, rf_max_depth: 16, rf_max_features: 128, valid_r2: 0.12483483878299739\n"
     ]
    },
    {
     "name": "stderr",
     "output_type": "stream",
     "text": [
      "DEBUG:ATOM:Got dataset, attempting to extract data\n",
      "DEBUG:ATOM:Creating deepchem dataset\n",
      "INFO:ATOM:Using prefeaturized data; number of features = 306\n",
      "WARNING:ATOM:Previous dataset split restored\n",
      "INFO:ATOM:Wrote transformers to ./../HPO/HPO_models_CYP2C9_old/cyp2c9_union_trainset_base_smiles/RF_computed_descriptors_scaffold_regression/6bc0638f-5b3d-4e12-bfd8-e7d1459e1b7b/transformers.pkl\n",
      "INFO:ATOM:Transforming response data\n",
      "INFO:ATOM:Transforming feature data\n",
      "INFO:ATOM:Transforming response data\n",
      "INFO:ATOM:Transforming feature data\n",
      "INFO:ATOM:Transforming response data\n",
      "INFO:ATOM:Transforming feature data\n",
      "INFO:ATOM:Fitting random forest model\n",
      "INFO:ATOM:Fold 0: training r2_score = 0.883, validation r2_score = 0.124, test r2_score = 0.845\n",
      "INFO:ATOM:Wrote model tarball to ./../HPO/HPO_models_CYP2C9_old/cyp2c9_union_trainset_base_smiles_model_6bc0638f-5b3d-4e12-bfd8-e7d1459e1b7b.tar.gz\n",
      "INFO:ATOM:Created a dataset hash '5784653341796c83c2c652313bd6db26' from dataset_key '/usr/WS2/atom/titli/MoDaC/Data/CYP2C9-ampl-1.1.0_old/cyp2c9_union_trainset_base_smiles.csv'\n",
      "DEBUG:ATOM:Attempting to load featurized dataset\n"
     ]
    },
    {
     "name": "stdout",
     "output_type": "stream",
     "text": [
      "rf_estimators: 32, rf_max_depth: 24, rf_max_features: 16, valid_r2: 0.12416992378105152\n"
     ]
    },
    {
     "name": "stderr",
     "output_type": "stream",
     "text": [
      "DEBUG:ATOM:Got dataset, attempting to extract data\n",
      "DEBUG:ATOM:Creating deepchem dataset\n",
      "INFO:ATOM:Using prefeaturized data; number of features = 306\n",
      "WARNING:ATOM:Previous dataset split restored\n",
      "INFO:ATOM:Wrote transformers to ./../HPO/HPO_models_CYP2C9_old/cyp2c9_union_trainset_base_smiles/RF_computed_descriptors_scaffold_regression/382a108f-d501-4088-af37-e23058580097/transformers.pkl\n",
      "INFO:ATOM:Transforming response data\n",
      "INFO:ATOM:Transforming feature data\n",
      "INFO:ATOM:Transforming response data\n",
      "INFO:ATOM:Transforming feature data\n",
      "INFO:ATOM:Transforming response data\n",
      "INFO:ATOM:Transforming feature data\n",
      "INFO:ATOM:Fitting random forest model\n",
      "INFO:ATOM:Fold 0: training r2_score = 0.879, validation r2_score = 0.129, test r2_score = 0.919\n",
      "INFO:ATOM:Wrote model tarball to ./../HPO/HPO_models_CYP2C9_old/cyp2c9_union_trainset_base_smiles_model_382a108f-d501-4088-af37-e23058580097.tar.gz\n",
      "INFO:ATOM:Created a dataset hash '5784653341796c83c2c652313bd6db26' from dataset_key '/usr/WS2/atom/titli/MoDaC/Data/CYP2C9-ampl-1.1.0_old/cyp2c9_union_trainset_base_smiles.csv'\n",
      "DEBUG:ATOM:Attempting to load featurized dataset\n"
     ]
    },
    {
     "name": "stdout",
     "output_type": "stream",
     "text": [
      "rf_estimators: 32, rf_max_depth: 24, rf_max_features: 24, valid_r2: 0.12884862515901352\n"
     ]
    },
    {
     "name": "stderr",
     "output_type": "stream",
     "text": [
      "DEBUG:ATOM:Got dataset, attempting to extract data\n",
      "DEBUG:ATOM:Creating deepchem dataset\n",
      "INFO:ATOM:Using prefeaturized data; number of features = 306\n",
      "WARNING:ATOM:Previous dataset split restored\n",
      "INFO:ATOM:Wrote transformers to ./../HPO/HPO_models_CYP2C9_old/cyp2c9_union_trainset_base_smiles/RF_computed_descriptors_scaffold_regression/df8bc3a1-e8fd-4902-812b-f3f7091a34fa/transformers.pkl\n",
      "INFO:ATOM:Transforming response data\n",
      "INFO:ATOM:Transforming feature data\n",
      "INFO:ATOM:Transforming response data\n",
      "INFO:ATOM:Transforming feature data\n",
      "INFO:ATOM:Transforming response data\n",
      "INFO:ATOM:Transforming feature data\n",
      "INFO:ATOM:Fitting random forest model\n",
      "INFO:ATOM:Fold 0: training r2_score = 0.882, validation r2_score = 0.125, test r2_score = 0.609\n",
      "INFO:ATOM:Wrote model tarball to ./../HPO/HPO_models_CYP2C9_old/cyp2c9_union_trainset_base_smiles_model_df8bc3a1-e8fd-4902-812b-f3f7091a34fa.tar.gz\n",
      "INFO:ATOM:Created a dataset hash '5784653341796c83c2c652313bd6db26' from dataset_key '/usr/WS2/atom/titli/MoDaC/Data/CYP2C9-ampl-1.1.0_old/cyp2c9_union_trainset_base_smiles.csv'\n",
      "DEBUG:ATOM:Attempting to load featurized dataset\n"
     ]
    },
    {
     "name": "stdout",
     "output_type": "stream",
     "text": [
      "rf_estimators: 32, rf_max_depth: 24, rf_max_features: 32, valid_r2: 0.1245476508258434\n"
     ]
    },
    {
     "name": "stderr",
     "output_type": "stream",
     "text": [
      "DEBUG:ATOM:Got dataset, attempting to extract data\n",
      "DEBUG:ATOM:Creating deepchem dataset\n",
      "INFO:ATOM:Using prefeaturized data; number of features = 306\n",
      "WARNING:ATOM:Previous dataset split restored\n",
      "INFO:ATOM:Wrote transformers to ./../HPO/HPO_models_CYP2C9_old/cyp2c9_union_trainset_base_smiles/RF_computed_descriptors_scaffold_regression/b9ded1c4-30e9-42f7-998b-1a8de115c1bb/transformers.pkl\n",
      "INFO:ATOM:Transforming response data\n",
      "INFO:ATOM:Transforming feature data\n",
      "INFO:ATOM:Transforming response data\n",
      "INFO:ATOM:Transforming feature data\n",
      "INFO:ATOM:Transforming response data\n",
      "INFO:ATOM:Transforming feature data\n",
      "INFO:ATOM:Fitting random forest model\n",
      "INFO:ATOM:Fold 0: training r2_score = 0.882, validation r2_score = 0.140, test r2_score = 0.731\n",
      "INFO:ATOM:Wrote model tarball to ./../HPO/HPO_models_CYP2C9_old/cyp2c9_union_trainset_base_smiles_model_b9ded1c4-30e9-42f7-998b-1a8de115c1bb.tar.gz\n",
      "INFO:ATOM:Created a dataset hash '5784653341796c83c2c652313bd6db26' from dataset_key '/usr/WS2/atom/titli/MoDaC/Data/CYP2C9-ampl-1.1.0_old/cyp2c9_union_trainset_base_smiles.csv'\n",
      "DEBUG:ATOM:Attempting to load featurized dataset\n"
     ]
    },
    {
     "name": "stdout",
     "output_type": "stream",
     "text": [
      "rf_estimators: 32, rf_max_depth: 24, rf_max_features: 64, valid_r2: 0.14026712368382344\n"
     ]
    },
    {
     "name": "stderr",
     "output_type": "stream",
     "text": [
      "DEBUG:ATOM:Got dataset, attempting to extract data\n",
      "DEBUG:ATOM:Creating deepchem dataset\n",
      "INFO:ATOM:Using prefeaturized data; number of features = 306\n",
      "WARNING:ATOM:Previous dataset split restored\n",
      "INFO:ATOM:Wrote transformers to ./../HPO/HPO_models_CYP2C9_old/cyp2c9_union_trainset_base_smiles/RF_computed_descriptors_scaffold_regression/5f3defdc-8725-434d-a9b1-e72304479f7d/transformers.pkl\n",
      "INFO:ATOM:Transforming response data\n",
      "INFO:ATOM:Transforming feature data\n",
      "INFO:ATOM:Transforming response data\n",
      "INFO:ATOM:Transforming feature data\n",
      "INFO:ATOM:Transforming response data\n",
      "INFO:ATOM:Transforming feature data\n",
      "INFO:ATOM:Fitting random forest model\n",
      "INFO:ATOM:Fold 0: training r2_score = 0.884, validation r2_score = 0.147, test r2_score = 0.633\n",
      "INFO:ATOM:Wrote model tarball to ./../HPO/HPO_models_CYP2C9_old/cyp2c9_union_trainset_base_smiles_model_5f3defdc-8725-434d-a9b1-e72304479f7d.tar.gz\n",
      "INFO:ATOM:Created a dataset hash '5784653341796c83c2c652313bd6db26' from dataset_key '/usr/WS2/atom/titli/MoDaC/Data/CYP2C9-ampl-1.1.0_old/cyp2c9_union_trainset_base_smiles.csv'\n",
      "DEBUG:ATOM:Attempting to load featurized dataset\n"
     ]
    },
    {
     "name": "stdout",
     "output_type": "stream",
     "text": [
      "rf_estimators: 32, rf_max_depth: 24, rf_max_features: 128, valid_r2: 0.14704999621568526\n"
     ]
    },
    {
     "name": "stderr",
     "output_type": "stream",
     "text": [
      "DEBUG:ATOM:Got dataset, attempting to extract data\n",
      "DEBUG:ATOM:Creating deepchem dataset\n",
      "INFO:ATOM:Using prefeaturized data; number of features = 306\n",
      "WARNING:ATOM:Previous dataset split restored\n",
      "INFO:ATOM:Wrote transformers to ./../HPO/HPO_models_CYP2C9_old/cyp2c9_union_trainset_base_smiles/RF_computed_descriptors_scaffold_regression/7f9f7368-e61c-41fd-8199-756fad3e0616/transformers.pkl\n",
      "INFO:ATOM:Transforming response data\n",
      "INFO:ATOM:Transforming feature data\n",
      "INFO:ATOM:Transforming response data\n",
      "INFO:ATOM:Transforming feature data\n",
      "INFO:ATOM:Transforming response data\n",
      "INFO:ATOM:Transforming feature data\n",
      "INFO:ATOM:Fitting random forest model\n",
      "INFO:ATOM:Fold 0: training r2_score = 0.891, validation r2_score = 0.129, test r2_score = 0.419\n",
      "INFO:ATOM:Wrote model tarball to ./../HPO/HPO_models_CYP2C9_old/cyp2c9_union_trainset_base_smiles_model_7f9f7368-e61c-41fd-8199-756fad3e0616.tar.gz\n",
      "INFO:ATOM:Created a dataset hash '5784653341796c83c2c652313bd6db26' from dataset_key '/usr/WS2/atom/titli/MoDaC/Data/CYP2C9-ampl-1.1.0_old/cyp2c9_union_trainset_base_smiles.csv'\n",
      "DEBUG:ATOM:Attempting to load featurized dataset\n"
     ]
    },
    {
     "name": "stdout",
     "output_type": "stream",
     "text": [
      "rf_estimators: 32, rf_max_depth: 32, rf_max_features: 16, valid_r2: 0.12855275817710143\n"
     ]
    },
    {
     "name": "stderr",
     "output_type": "stream",
     "text": [
      "DEBUG:ATOM:Got dataset, attempting to extract data\n",
      "DEBUG:ATOM:Creating deepchem dataset\n",
      "INFO:ATOM:Using prefeaturized data; number of features = 306\n",
      "WARNING:ATOM:Previous dataset split restored\n",
      "INFO:ATOM:Wrote transformers to ./../HPO/HPO_models_CYP2C9_old/cyp2c9_union_trainset_base_smiles/RF_computed_descriptors_scaffold_regression/1e7db253-2497-474a-82f2-3b204e739700/transformers.pkl\n",
      "INFO:ATOM:Transforming response data\n",
      "INFO:ATOM:Transforming feature data\n",
      "INFO:ATOM:Transforming response data\n",
      "INFO:ATOM:Transforming feature data\n",
      "INFO:ATOM:Transforming response data\n",
      "INFO:ATOM:Transforming feature data\n",
      "INFO:ATOM:Fitting random forest model\n",
      "INFO:ATOM:Fold 0: training r2_score = 0.894, validation r2_score = 0.123, test r2_score = 0.713\n",
      "INFO:ATOM:Wrote model tarball to ./../HPO/HPO_models_CYP2C9_old/cyp2c9_union_trainset_base_smiles_model_1e7db253-2497-474a-82f2-3b204e739700.tar.gz\n",
      "INFO:ATOM:Created a dataset hash '5784653341796c83c2c652313bd6db26' from dataset_key '/usr/WS2/atom/titli/MoDaC/Data/CYP2C9-ampl-1.1.0_old/cyp2c9_union_trainset_base_smiles.csv'\n",
      "DEBUG:ATOM:Attempting to load featurized dataset\n"
     ]
    },
    {
     "name": "stdout",
     "output_type": "stream",
     "text": [
      "rf_estimators: 32, rf_max_depth: 32, rf_max_features: 24, valid_r2: 0.1234316171319898\n"
     ]
    },
    {
     "name": "stderr",
     "output_type": "stream",
     "text": [
      "DEBUG:ATOM:Got dataset, attempting to extract data\n",
      "DEBUG:ATOM:Creating deepchem dataset\n",
      "INFO:ATOM:Using prefeaturized data; number of features = 306\n",
      "WARNING:ATOM:Previous dataset split restored\n",
      "INFO:ATOM:Wrote transformers to ./../HPO/HPO_models_CYP2C9_old/cyp2c9_union_trainset_base_smiles/RF_computed_descriptors_scaffold_regression/9b8453e3-d3d4-4d4e-8014-e9b37364a176/transformers.pkl\n",
      "INFO:ATOM:Transforming response data\n",
      "INFO:ATOM:Transforming feature data\n",
      "INFO:ATOM:Transforming response data\n",
      "INFO:ATOM:Transforming feature data\n",
      "INFO:ATOM:Transforming response data\n",
      "INFO:ATOM:Transforming feature data\n",
      "INFO:ATOM:Fitting random forest model\n",
      "INFO:ATOM:Fold 0: training r2_score = 0.894, validation r2_score = 0.142, test r2_score = 0.927\n",
      "INFO:ATOM:Wrote model tarball to ./../HPO/HPO_models_CYP2C9_old/cyp2c9_union_trainset_base_smiles_model_9b8453e3-d3d4-4d4e-8014-e9b37364a176.tar.gz\n",
      "INFO:ATOM:Created a dataset hash '5784653341796c83c2c652313bd6db26' from dataset_key '/usr/WS2/atom/titli/MoDaC/Data/CYP2C9-ampl-1.1.0_old/cyp2c9_union_trainset_base_smiles.csv'\n",
      "DEBUG:ATOM:Attempting to load featurized dataset\n"
     ]
    },
    {
     "name": "stdout",
     "output_type": "stream",
     "text": [
      "rf_estimators: 32, rf_max_depth: 32, rf_max_features: 32, valid_r2: 0.1415597602114539\n"
     ]
    },
    {
     "name": "stderr",
     "output_type": "stream",
     "text": [
      "DEBUG:ATOM:Got dataset, attempting to extract data\n",
      "DEBUG:ATOM:Creating deepchem dataset\n",
      "INFO:ATOM:Using prefeaturized data; number of features = 306\n",
      "WARNING:ATOM:Previous dataset split restored\n",
      "INFO:ATOM:Wrote transformers to ./../HPO/HPO_models_CYP2C9_old/cyp2c9_union_trainset_base_smiles/RF_computed_descriptors_scaffold_regression/0d42d4b1-94a5-43d4-bddf-4cd9d76a9258/transformers.pkl\n",
      "INFO:ATOM:Transforming response data\n",
      "INFO:ATOM:Transforming feature data\n",
      "INFO:ATOM:Transforming response data\n",
      "INFO:ATOM:Transforming feature data\n",
      "INFO:ATOM:Transforming response data\n",
      "INFO:ATOM:Transforming feature data\n",
      "INFO:ATOM:Fitting random forest model\n",
      "INFO:ATOM:Fold 0: training r2_score = 0.893, validation r2_score = 0.123, test r2_score = 0.707\n",
      "INFO:ATOM:Wrote model tarball to ./../HPO/HPO_models_CYP2C9_old/cyp2c9_union_trainset_base_smiles_model_0d42d4b1-94a5-43d4-bddf-4cd9d76a9258.tar.gz\n",
      "INFO:ATOM:Created a dataset hash '5784653341796c83c2c652313bd6db26' from dataset_key '/usr/WS2/atom/titli/MoDaC/Data/CYP2C9-ampl-1.1.0_old/cyp2c9_union_trainset_base_smiles.csv'\n",
      "DEBUG:ATOM:Attempting to load featurized dataset\n"
     ]
    },
    {
     "name": "stdout",
     "output_type": "stream",
     "text": [
      "rf_estimators: 32, rf_max_depth: 32, rf_max_features: 64, valid_r2: 0.12265854107896357\n"
     ]
    },
    {
     "name": "stderr",
     "output_type": "stream",
     "text": [
      "DEBUG:ATOM:Got dataset, attempting to extract data\n",
      "DEBUG:ATOM:Creating deepchem dataset\n",
      "INFO:ATOM:Using prefeaturized data; number of features = 306\n",
      "WARNING:ATOM:Previous dataset split restored\n",
      "INFO:ATOM:Wrote transformers to ./../HPO/HPO_models_CYP2C9_old/cyp2c9_union_trainset_base_smiles/RF_computed_descriptors_scaffold_regression/6ac71f37-4574-4801-8285-9239b1227a9e/transformers.pkl\n",
      "INFO:ATOM:Transforming response data\n",
      "INFO:ATOM:Transforming feature data\n",
      "INFO:ATOM:Transforming response data\n",
      "INFO:ATOM:Transforming feature data\n",
      "INFO:ATOM:Transforming response data\n",
      "INFO:ATOM:Transforming feature data\n",
      "INFO:ATOM:Fitting random forest model\n",
      "INFO:ATOM:Fold 0: training r2_score = 0.893, validation r2_score = 0.130, test r2_score = 0.612\n",
      "INFO:ATOM:Wrote model tarball to ./../HPO/HPO_models_CYP2C9_old/cyp2c9_union_trainset_base_smiles_model_6ac71f37-4574-4801-8285-9239b1227a9e.tar.gz\n",
      "INFO:ATOM:Created a dataset hash '5784653341796c83c2c652313bd6db26' from dataset_key '/usr/WS2/atom/titli/MoDaC/Data/CYP2C9-ampl-1.1.0_old/cyp2c9_union_trainset_base_smiles.csv'\n",
      "DEBUG:ATOM:Attempting to load featurized dataset\n"
     ]
    },
    {
     "name": "stdout",
     "output_type": "stream",
     "text": [
      "rf_estimators: 32, rf_max_depth: 32, rf_max_features: 128, valid_r2: 0.12956676667024258\n"
     ]
    },
    {
     "name": "stderr",
     "output_type": "stream",
     "text": [
      "DEBUG:ATOM:Got dataset, attempting to extract data\n",
      "DEBUG:ATOM:Creating deepchem dataset\n",
      "INFO:ATOM:Using prefeaturized data; number of features = 306\n",
      "WARNING:ATOM:Previous dataset split restored\n",
      "INFO:ATOM:Wrote transformers to ./../HPO/HPO_models_CYP2C9_old/cyp2c9_union_trainset_base_smiles/RF_computed_descriptors_scaffold_regression/d46a3b92-3583-4a5f-88b1-962256c1feb2/transformers.pkl\n",
      "INFO:ATOM:Transforming response data\n",
      "INFO:ATOM:Transforming feature data\n",
      "INFO:ATOM:Transforming response data\n",
      "INFO:ATOM:Transforming feature data\n",
      "INFO:ATOM:Transforming response data\n",
      "INFO:ATOM:Transforming feature data\n",
      "INFO:ATOM:Fitting random forest model\n",
      "INFO:ATOM:Fold 0: training r2_score = 0.895, validation r2_score = 0.122, test r2_score = 0.846\n",
      "INFO:ATOM:Wrote model tarball to ./../HPO/HPO_models_CYP2C9_old/cyp2c9_union_trainset_base_smiles_model_d46a3b92-3583-4a5f-88b1-962256c1feb2.tar.gz\n",
      "INFO:ATOM:Created a dataset hash '5784653341796c83c2c652313bd6db26' from dataset_key '/usr/WS2/atom/titli/MoDaC/Data/CYP2C9-ampl-1.1.0_old/cyp2c9_union_trainset_base_smiles.csv'\n",
      "DEBUG:ATOM:Attempting to load featurized dataset\n"
     ]
    },
    {
     "name": "stdout",
     "output_type": "stream",
     "text": [
      "rf_estimators: 32, rf_max_depth: 64, rf_max_features: 16, valid_r2: 0.12150427654792251\n"
     ]
    },
    {
     "name": "stderr",
     "output_type": "stream",
     "text": [
      "DEBUG:ATOM:Got dataset, attempting to extract data\n",
      "DEBUG:ATOM:Creating deepchem dataset\n",
      "INFO:ATOM:Using prefeaturized data; number of features = 306\n",
      "WARNING:ATOM:Previous dataset split restored\n",
      "INFO:ATOM:Wrote transformers to ./../HPO/HPO_models_CYP2C9_old/cyp2c9_union_trainset_base_smiles/RF_computed_descriptors_scaffold_regression/b6187e4f-e3c7-4a69-8318-41c15643a09b/transformers.pkl\n",
      "INFO:ATOM:Transforming response data\n",
      "INFO:ATOM:Transforming feature data\n",
      "INFO:ATOM:Transforming response data\n",
      "INFO:ATOM:Transforming feature data\n",
      "INFO:ATOM:Transforming response data\n",
      "INFO:ATOM:Transforming feature data\n",
      "INFO:ATOM:Fitting random forest model\n",
      "INFO:ATOM:Fold 0: training r2_score = 0.894, validation r2_score = 0.138, test r2_score = 0.989\n",
      "INFO:ATOM:Wrote model tarball to ./../HPO/HPO_models_CYP2C9_old/cyp2c9_union_trainset_base_smiles_model_b6187e4f-e3c7-4a69-8318-41c15643a09b.tar.gz\n",
      "INFO:ATOM:Created a dataset hash '5784653341796c83c2c652313bd6db26' from dataset_key '/usr/WS2/atom/titli/MoDaC/Data/CYP2C9-ampl-1.1.0_old/cyp2c9_union_trainset_base_smiles.csv'\n",
      "DEBUG:ATOM:Attempting to load featurized dataset\n"
     ]
    },
    {
     "name": "stdout",
     "output_type": "stream",
     "text": [
      "rf_estimators: 32, rf_max_depth: 64, rf_max_features: 24, valid_r2: 0.13761223234402942\n"
     ]
    },
    {
     "name": "stderr",
     "output_type": "stream",
     "text": [
      "DEBUG:ATOM:Got dataset, attempting to extract data\n",
      "DEBUG:ATOM:Creating deepchem dataset\n",
      "INFO:ATOM:Using prefeaturized data; number of features = 306\n",
      "WARNING:ATOM:Previous dataset split restored\n",
      "INFO:ATOM:Wrote transformers to ./../HPO/HPO_models_CYP2C9_old/cyp2c9_union_trainset_base_smiles/RF_computed_descriptors_scaffold_regression/2a1511e2-0186-4961-bd25-18087be3ef79/transformers.pkl\n",
      "INFO:ATOM:Transforming response data\n",
      "INFO:ATOM:Transforming feature data\n",
      "INFO:ATOM:Transforming response data\n",
      "INFO:ATOM:Transforming feature data\n",
      "INFO:ATOM:Transforming response data\n",
      "INFO:ATOM:Transforming feature data\n",
      "INFO:ATOM:Fitting random forest model\n",
      "INFO:ATOM:Fold 0: training r2_score = 0.891, validation r2_score = 0.114, test r2_score = 0.849\n",
      "INFO:ATOM:Wrote model tarball to ./../HPO/HPO_models_CYP2C9_old/cyp2c9_union_trainset_base_smiles_model_2a1511e2-0186-4961-bd25-18087be3ef79.tar.gz\n",
      "INFO:ATOM:Created a dataset hash '5784653341796c83c2c652313bd6db26' from dataset_key '/usr/WS2/atom/titli/MoDaC/Data/CYP2C9-ampl-1.1.0_old/cyp2c9_union_trainset_base_smiles.csv'\n",
      "DEBUG:ATOM:Attempting to load featurized dataset\n"
     ]
    },
    {
     "name": "stdout",
     "output_type": "stream",
     "text": [
      "rf_estimators: 32, rf_max_depth: 64, rf_max_features: 32, valid_r2: 0.11404594776569488\n"
     ]
    },
    {
     "name": "stderr",
     "output_type": "stream",
     "text": [
      "DEBUG:ATOM:Got dataset, attempting to extract data\n",
      "DEBUG:ATOM:Creating deepchem dataset\n",
      "INFO:ATOM:Using prefeaturized data; number of features = 306\n",
      "WARNING:ATOM:Previous dataset split restored\n",
      "INFO:ATOM:Wrote transformers to ./../HPO/HPO_models_CYP2C9_old/cyp2c9_union_trainset_base_smiles/RF_computed_descriptors_scaffold_regression/55e2ea37-f383-4d3d-93da-1c8d27b849b8/transformers.pkl\n",
      "INFO:ATOM:Transforming response data\n",
      "INFO:ATOM:Transforming feature data\n",
      "INFO:ATOM:Transforming response data\n",
      "INFO:ATOM:Transforming feature data\n",
      "INFO:ATOM:Transforming response data\n",
      "INFO:ATOM:Transforming feature data\n",
      "INFO:ATOM:Fitting random forest model\n",
      "INFO:ATOM:Fold 0: training r2_score = 0.897, validation r2_score = 0.132, test r2_score = 0.689\n",
      "INFO:ATOM:Wrote model tarball to ./../HPO/HPO_models_CYP2C9_old/cyp2c9_union_trainset_base_smiles_model_55e2ea37-f383-4d3d-93da-1c8d27b849b8.tar.gz\n",
      "INFO:ATOM:Created a dataset hash '5784653341796c83c2c652313bd6db26' from dataset_key '/usr/WS2/atom/titli/MoDaC/Data/CYP2C9-ampl-1.1.0_old/cyp2c9_union_trainset_base_smiles.csv'\n",
      "DEBUG:ATOM:Attempting to load featurized dataset\n"
     ]
    },
    {
     "name": "stdout",
     "output_type": "stream",
     "text": [
      "rf_estimators: 32, rf_max_depth: 64, rf_max_features: 64, valid_r2: 0.1322402649568727\n"
     ]
    },
    {
     "name": "stderr",
     "output_type": "stream",
     "text": [
      "DEBUG:ATOM:Got dataset, attempting to extract data\n",
      "DEBUG:ATOM:Creating deepchem dataset\n",
      "INFO:ATOM:Using prefeaturized data; number of features = 306\n",
      "WARNING:ATOM:Previous dataset split restored\n",
      "INFO:ATOM:Wrote transformers to ./../HPO/HPO_models_CYP2C9_old/cyp2c9_union_trainset_base_smiles/RF_computed_descriptors_scaffold_regression/bbe143e5-f0e9-45f1-8f03-960e855d2be9/transformers.pkl\n",
      "INFO:ATOM:Transforming response data\n",
      "INFO:ATOM:Transforming feature data\n",
      "INFO:ATOM:Transforming response data\n",
      "INFO:ATOM:Transforming feature data\n",
      "INFO:ATOM:Transforming response data\n",
      "INFO:ATOM:Transforming feature data\n",
      "INFO:ATOM:Fitting random forest model\n",
      "INFO:ATOM:Fold 0: training r2_score = 0.896, validation r2_score = 0.140, test r2_score = 0.791\n",
      "INFO:ATOM:Wrote model tarball to ./../HPO/HPO_models_CYP2C9_old/cyp2c9_union_trainset_base_smiles_model_bbe143e5-f0e9-45f1-8f03-960e855d2be9.tar.gz\n",
      "INFO:ATOM:Created a dataset hash '5784653341796c83c2c652313bd6db26' from dataset_key '/usr/WS2/atom/titli/MoDaC/Data/CYP2C9-ampl-1.1.0_old/cyp2c9_union_trainset_base_smiles.csv'\n",
      "DEBUG:ATOM:Attempting to load featurized dataset\n"
     ]
    },
    {
     "name": "stdout",
     "output_type": "stream",
     "text": [
      "rf_estimators: 32, rf_max_depth: 64, rf_max_features: 128, valid_r2: 0.14034228994314513\n"
     ]
    },
    {
     "name": "stderr",
     "output_type": "stream",
     "text": [
      "DEBUG:ATOM:Got dataset, attempting to extract data\n",
      "DEBUG:ATOM:Creating deepchem dataset\n",
      "INFO:ATOM:Using prefeaturized data; number of features = 306\n",
      "WARNING:ATOM:Previous dataset split restored\n",
      "INFO:ATOM:Wrote transformers to ./../HPO/HPO_models_CYP2C9_old/cyp2c9_union_trainset_base_smiles/RF_computed_descriptors_scaffold_regression/3b6f237b-b2c1-4b0c-a362-891e1b29ddc8/transformers.pkl\n",
      "INFO:ATOM:Transforming response data\n",
      "INFO:ATOM:Transforming feature data\n",
      "INFO:ATOM:Transforming response data\n",
      "INFO:ATOM:Transforming feature data\n",
      "INFO:ATOM:Transforming response data\n",
      "INFO:ATOM:Transforming feature data\n",
      "INFO:ATOM:Fitting random forest model\n",
      "INFO:ATOM:Fold 0: training r2_score = 0.894, validation r2_score = 0.135, test r2_score = 0.117\n",
      "INFO:ATOM:Wrote model tarball to ./../HPO/HPO_models_CYP2C9_old/cyp2c9_union_trainset_base_smiles_model_3b6f237b-b2c1-4b0c-a362-891e1b29ddc8.tar.gz\n",
      "INFO:ATOM:Created a dataset hash '5784653341796c83c2c652313bd6db26' from dataset_key '/usr/WS2/atom/titli/MoDaC/Data/CYP2C9-ampl-1.1.0_old/cyp2c9_union_trainset_base_smiles.csv'\n",
      "DEBUG:ATOM:Attempting to load featurized dataset\n"
     ]
    },
    {
     "name": "stdout",
     "output_type": "stream",
     "text": [
      "rf_estimators: 32, rf_max_depth: 128, rf_max_features: 16, valid_r2: 0.1352205717684397\n"
     ]
    },
    {
     "name": "stderr",
     "output_type": "stream",
     "text": [
      "DEBUG:ATOM:Got dataset, attempting to extract data\n",
      "DEBUG:ATOM:Creating deepchem dataset\n",
      "INFO:ATOM:Using prefeaturized data; number of features = 306\n",
      "WARNING:ATOM:Previous dataset split restored\n",
      "INFO:ATOM:Wrote transformers to ./../HPO/HPO_models_CYP2C9_old/cyp2c9_union_trainset_base_smiles/RF_computed_descriptors_scaffold_regression/4a94baaa-cc46-4e72-b38f-8521fe05de3b/transformers.pkl\n",
      "INFO:ATOM:Transforming response data\n",
      "INFO:ATOM:Transforming feature data\n",
      "INFO:ATOM:Transforming response data\n",
      "INFO:ATOM:Transforming feature data\n",
      "INFO:ATOM:Transforming response data\n",
      "INFO:ATOM:Transforming feature data\n",
      "INFO:ATOM:Fitting random forest model\n",
      "INFO:ATOM:Fold 0: training r2_score = 0.897, validation r2_score = 0.122, test r2_score = 0.713\n",
      "INFO:ATOM:Wrote model tarball to ./../HPO/HPO_models_CYP2C9_old/cyp2c9_union_trainset_base_smiles_model_4a94baaa-cc46-4e72-b38f-8521fe05de3b.tar.gz\n",
      "INFO:ATOM:Created a dataset hash '5784653341796c83c2c652313bd6db26' from dataset_key '/usr/WS2/atom/titli/MoDaC/Data/CYP2C9-ampl-1.1.0_old/cyp2c9_union_trainset_base_smiles.csv'\n",
      "DEBUG:ATOM:Attempting to load featurized dataset\n"
     ]
    },
    {
     "name": "stdout",
     "output_type": "stream",
     "text": [
      "rf_estimators: 32, rf_max_depth: 128, rf_max_features: 24, valid_r2: 0.12151982630019542\n"
     ]
    },
    {
     "name": "stderr",
     "output_type": "stream",
     "text": [
      "DEBUG:ATOM:Got dataset, attempting to extract data\n",
      "DEBUG:ATOM:Creating deepchem dataset\n",
      "INFO:ATOM:Using prefeaturized data; number of features = 306\n",
      "WARNING:ATOM:Previous dataset split restored\n",
      "INFO:ATOM:Wrote transformers to ./../HPO/HPO_models_CYP2C9_old/cyp2c9_union_trainset_base_smiles/RF_computed_descriptors_scaffold_regression/b3e87b55-1047-49a5-9bae-607d2aa060ab/transformers.pkl\n",
      "INFO:ATOM:Transforming response data\n",
      "INFO:ATOM:Transforming feature data\n",
      "INFO:ATOM:Transforming response data\n",
      "INFO:ATOM:Transforming feature data\n",
      "INFO:ATOM:Transforming response data\n",
      "INFO:ATOM:Transforming feature data\n",
      "INFO:ATOM:Fitting random forest model\n",
      "INFO:ATOM:Fold 0: training r2_score = 0.894, validation r2_score = 0.102, test r2_score = 0.747\n",
      "INFO:ATOM:Wrote model tarball to ./../HPO/HPO_models_CYP2C9_old/cyp2c9_union_trainset_base_smiles_model_b3e87b55-1047-49a5-9bae-607d2aa060ab.tar.gz\n",
      "INFO:ATOM:Created a dataset hash '5784653341796c83c2c652313bd6db26' from dataset_key '/usr/WS2/atom/titli/MoDaC/Data/CYP2C9-ampl-1.1.0_old/cyp2c9_union_trainset_base_smiles.csv'\n",
      "DEBUG:ATOM:Attempting to load featurized dataset\n"
     ]
    },
    {
     "name": "stdout",
     "output_type": "stream",
     "text": [
      "rf_estimators: 32, rf_max_depth: 128, rf_max_features: 32, valid_r2: 0.10188252968332356\n"
     ]
    },
    {
     "name": "stderr",
     "output_type": "stream",
     "text": [
      "DEBUG:ATOM:Got dataset, attempting to extract data\n",
      "DEBUG:ATOM:Creating deepchem dataset\n",
      "INFO:ATOM:Using prefeaturized data; number of features = 306\n",
      "WARNING:ATOM:Previous dataset split restored\n",
      "INFO:ATOM:Wrote transformers to ./../HPO/HPO_models_CYP2C9_old/cyp2c9_union_trainset_base_smiles/RF_computed_descriptors_scaffold_regression/4fc019af-dde4-490a-ac40-e2f560a2204c/transformers.pkl\n",
      "INFO:ATOM:Transforming response data\n",
      "INFO:ATOM:Transforming feature data\n",
      "INFO:ATOM:Transforming response data\n",
      "INFO:ATOM:Transforming feature data\n",
      "INFO:ATOM:Transforming response data\n",
      "INFO:ATOM:Transforming feature data\n",
      "INFO:ATOM:Fitting random forest model\n",
      "INFO:ATOM:Fold 0: training r2_score = 0.896, validation r2_score = 0.129, test r2_score = 0.830\n",
      "INFO:ATOM:Wrote model tarball to ./../HPO/HPO_models_CYP2C9_old/cyp2c9_union_trainset_base_smiles_model_4fc019af-dde4-490a-ac40-e2f560a2204c.tar.gz\n",
      "INFO:ATOM:Created a dataset hash '5784653341796c83c2c652313bd6db26' from dataset_key '/usr/WS2/atom/titli/MoDaC/Data/CYP2C9-ampl-1.1.0_old/cyp2c9_union_trainset_base_smiles.csv'\n",
      "DEBUG:ATOM:Attempting to load featurized dataset\n"
     ]
    },
    {
     "name": "stdout",
     "output_type": "stream",
     "text": [
      "rf_estimators: 32, rf_max_depth: 128, rf_max_features: 64, valid_r2: 0.12916409170501542\n"
     ]
    },
    {
     "name": "stderr",
     "output_type": "stream",
     "text": [
      "DEBUG:ATOM:Got dataset, attempting to extract data\n",
      "DEBUG:ATOM:Creating deepchem dataset\n",
      "INFO:ATOM:Using prefeaturized data; number of features = 306\n",
      "WARNING:ATOM:Previous dataset split restored\n",
      "INFO:ATOM:Wrote transformers to ./../HPO/HPO_models_CYP2C9_old/cyp2c9_union_trainset_base_smiles/RF_computed_descriptors_scaffold_regression/b82c086b-24ab-41d4-a30c-6e880f17defb/transformers.pkl\n",
      "INFO:ATOM:Transforming response data\n",
      "INFO:ATOM:Transforming feature data\n",
      "INFO:ATOM:Transforming response data\n",
      "INFO:ATOM:Transforming feature data\n",
      "INFO:ATOM:Transforming response data\n",
      "INFO:ATOM:Transforming feature data\n",
      "INFO:ATOM:Fitting random forest model\n",
      "INFO:ATOM:Fold 0: training r2_score = 0.896, validation r2_score = 0.127, test r2_score = 0.890\n",
      "INFO:ATOM:Wrote model tarball to ./../HPO/HPO_models_CYP2C9_old/cyp2c9_union_trainset_base_smiles_model_b82c086b-24ab-41d4-a30c-6e880f17defb.tar.gz\n",
      "INFO:ATOM:Created a dataset hash '5784653341796c83c2c652313bd6db26' from dataset_key '/usr/WS2/atom/titli/MoDaC/Data/CYP2C9-ampl-1.1.0_old/cyp2c9_union_trainset_base_smiles.csv'\n",
      "DEBUG:ATOM:Attempting to load featurized dataset\n"
     ]
    },
    {
     "name": "stdout",
     "output_type": "stream",
     "text": [
      "rf_estimators: 32, rf_max_depth: 128, rf_max_features: 128, valid_r2: 0.1273123429037395\n"
     ]
    },
    {
     "name": "stderr",
     "output_type": "stream",
     "text": [
      "DEBUG:ATOM:Got dataset, attempting to extract data\n",
      "DEBUG:ATOM:Creating deepchem dataset\n",
      "INFO:ATOM:Using prefeaturized data; number of features = 306\n",
      "WARNING:ATOM:Previous dataset split restored\n",
      "INFO:ATOM:Wrote transformers to ./../HPO/HPO_models_CYP2C9_old/cyp2c9_union_trainset_base_smiles/RF_computed_descriptors_scaffold_regression/b543c8a4-4704-4298-9c7b-5b3efe984598/transformers.pkl\n",
      "INFO:ATOM:Transforming response data\n",
      "INFO:ATOM:Transforming feature data\n",
      "INFO:ATOM:Transforming response data\n",
      "INFO:ATOM:Transforming feature data\n",
      "INFO:ATOM:Transforming response data\n",
      "INFO:ATOM:Transforming feature data\n",
      "INFO:ATOM:Fitting random forest model\n",
      "INFO:ATOM:Fold 0: training r2_score = 0.893, validation r2_score = 0.125, test r2_score = 0.895\n",
      "INFO:ATOM:Wrote model tarball to ./../HPO/HPO_models_CYP2C9_old/cyp2c9_union_trainset_base_smiles_model_b543c8a4-4704-4298-9c7b-5b3efe984598.tar.gz\n",
      "INFO:ATOM:Created a dataset hash '5784653341796c83c2c652313bd6db26' from dataset_key '/usr/WS2/atom/titli/MoDaC/Data/CYP2C9-ampl-1.1.0_old/cyp2c9_union_trainset_base_smiles.csv'\n",
      "DEBUG:ATOM:Attempting to load featurized dataset\n"
     ]
    },
    {
     "name": "stdout",
     "output_type": "stream",
     "text": [
      "rf_estimators: 32, rf_max_depth: 256, rf_max_features: 16, valid_r2: 0.12502214185764537\n"
     ]
    },
    {
     "name": "stderr",
     "output_type": "stream",
     "text": [
      "DEBUG:ATOM:Got dataset, attempting to extract data\n",
      "DEBUG:ATOM:Creating deepchem dataset\n",
      "INFO:ATOM:Using prefeaturized data; number of features = 306\n",
      "WARNING:ATOM:Previous dataset split restored\n",
      "INFO:ATOM:Wrote transformers to ./../HPO/HPO_models_CYP2C9_old/cyp2c9_union_trainset_base_smiles/RF_computed_descriptors_scaffold_regression/890b0211-e914-4c54-9619-f2f0080d3c78/transformers.pkl\n",
      "INFO:ATOM:Transforming response data\n",
      "INFO:ATOM:Transforming feature data\n",
      "INFO:ATOM:Transforming response data\n",
      "INFO:ATOM:Transforming feature data\n",
      "INFO:ATOM:Transforming response data\n",
      "INFO:ATOM:Transforming feature data\n",
      "INFO:ATOM:Fitting random forest model\n",
      "INFO:ATOM:Fold 0: training r2_score = 0.894, validation r2_score = 0.123, test r2_score = 0.575\n",
      "INFO:ATOM:Wrote model tarball to ./../HPO/HPO_models_CYP2C9_old/cyp2c9_union_trainset_base_smiles_model_890b0211-e914-4c54-9619-f2f0080d3c78.tar.gz\n",
      "INFO:ATOM:Created a dataset hash '5784653341796c83c2c652313bd6db26' from dataset_key '/usr/WS2/atom/titli/MoDaC/Data/CYP2C9-ampl-1.1.0_old/cyp2c9_union_trainset_base_smiles.csv'\n",
      "DEBUG:ATOM:Attempting to load featurized dataset\n"
     ]
    },
    {
     "name": "stdout",
     "output_type": "stream",
     "text": [
      "rf_estimators: 32, rf_max_depth: 256, rf_max_features: 24, valid_r2: 0.1230911085528501\n"
     ]
    },
    {
     "name": "stderr",
     "output_type": "stream",
     "text": [
      "DEBUG:ATOM:Got dataset, attempting to extract data\n",
      "DEBUG:ATOM:Creating deepchem dataset\n",
      "INFO:ATOM:Using prefeaturized data; number of features = 306\n",
      "WARNING:ATOM:Previous dataset split restored\n",
      "INFO:ATOM:Wrote transformers to ./../HPO/HPO_models_CYP2C9_old/cyp2c9_union_trainset_base_smiles/RF_computed_descriptors_scaffold_regression/34d574c7-54d1-4a94-ae20-08029ecef5f8/transformers.pkl\n",
      "INFO:ATOM:Transforming response data\n",
      "INFO:ATOM:Transforming feature data\n",
      "INFO:ATOM:Transforming response data\n",
      "INFO:ATOM:Transforming feature data\n",
      "INFO:ATOM:Transforming response data\n",
      "INFO:ATOM:Transforming feature data\n",
      "INFO:ATOM:Fitting random forest model\n",
      "INFO:ATOM:Fold 0: training r2_score = 0.896, validation r2_score = 0.134, test r2_score = 0.637\n",
      "INFO:ATOM:Wrote model tarball to ./../HPO/HPO_models_CYP2C9_old/cyp2c9_union_trainset_base_smiles_model_34d574c7-54d1-4a94-ae20-08029ecef5f8.tar.gz\n",
      "INFO:ATOM:Created a dataset hash '5784653341796c83c2c652313bd6db26' from dataset_key '/usr/WS2/atom/titli/MoDaC/Data/CYP2C9-ampl-1.1.0_old/cyp2c9_union_trainset_base_smiles.csv'\n",
      "DEBUG:ATOM:Attempting to load featurized dataset\n"
     ]
    },
    {
     "name": "stdout",
     "output_type": "stream",
     "text": [
      "rf_estimators: 32, rf_max_depth: 256, rf_max_features: 32, valid_r2: 0.13445065603837314\n"
     ]
    },
    {
     "name": "stderr",
     "output_type": "stream",
     "text": [
      "DEBUG:ATOM:Got dataset, attempting to extract data\n",
      "DEBUG:ATOM:Creating deepchem dataset\n",
      "INFO:ATOM:Using prefeaturized data; number of features = 306\n",
      "WARNING:ATOM:Previous dataset split restored\n",
      "INFO:ATOM:Wrote transformers to ./../HPO/HPO_models_CYP2C9_old/cyp2c9_union_trainset_base_smiles/RF_computed_descriptors_scaffold_regression/de5b89c6-fb72-4f42-a1c3-4ade76d74572/transformers.pkl\n",
      "INFO:ATOM:Transforming response data\n",
      "INFO:ATOM:Transforming feature data\n",
      "INFO:ATOM:Transforming response data\n",
      "INFO:ATOM:Transforming feature data\n",
      "INFO:ATOM:Transforming response data\n",
      "INFO:ATOM:Transforming feature data\n",
      "INFO:ATOM:Fitting random forest model\n",
      "INFO:ATOM:Fold 0: training r2_score = 0.898, validation r2_score = 0.123, test r2_score = 0.919\n",
      "INFO:ATOM:Wrote model tarball to ./../HPO/HPO_models_CYP2C9_old/cyp2c9_union_trainset_base_smiles_model_de5b89c6-fb72-4f42-a1c3-4ade76d74572.tar.gz\n",
      "INFO:ATOM:Created a dataset hash '5784653341796c83c2c652313bd6db26' from dataset_key '/usr/WS2/atom/titli/MoDaC/Data/CYP2C9-ampl-1.1.0_old/cyp2c9_union_trainset_base_smiles.csv'\n",
      "DEBUG:ATOM:Attempting to load featurized dataset\n"
     ]
    },
    {
     "name": "stdout",
     "output_type": "stream",
     "text": [
      "rf_estimators: 32, rf_max_depth: 256, rf_max_features: 64, valid_r2: 0.12254617101678444\n"
     ]
    },
    {
     "name": "stderr",
     "output_type": "stream",
     "text": [
      "DEBUG:ATOM:Got dataset, attempting to extract data\n",
      "DEBUG:ATOM:Creating deepchem dataset\n",
      "INFO:ATOM:Using prefeaturized data; number of features = 306\n",
      "WARNING:ATOM:Previous dataset split restored\n",
      "INFO:ATOM:Wrote transformers to ./../HPO/HPO_models_CYP2C9_old/cyp2c9_union_trainset_base_smiles/RF_computed_descriptors_scaffold_regression/bb5e86c9-8310-403a-bbec-dc16dc17c825/transformers.pkl\n",
      "INFO:ATOM:Transforming response data\n",
      "INFO:ATOM:Transforming feature data\n",
      "INFO:ATOM:Transforming response data\n",
      "INFO:ATOM:Transforming feature data\n",
      "INFO:ATOM:Transforming response data\n",
      "INFO:ATOM:Transforming feature data\n",
      "INFO:ATOM:Fitting random forest model\n",
      "INFO:ATOM:Fold 0: training r2_score = 0.897, validation r2_score = 0.126, test r2_score = 0.745\n",
      "INFO:ATOM:Wrote model tarball to ./../HPO/HPO_models_CYP2C9_old/cyp2c9_union_trainset_base_smiles_model_bb5e86c9-8310-403a-bbec-dc16dc17c825.tar.gz\n",
      "INFO:ATOM:Created a dataset hash '5784653341796c83c2c652313bd6db26' from dataset_key '/usr/WS2/atom/titli/MoDaC/Data/CYP2C9-ampl-1.1.0_old/cyp2c9_union_trainset_base_smiles.csv'\n",
      "DEBUG:ATOM:Attempting to load featurized dataset\n"
     ]
    },
    {
     "name": "stdout",
     "output_type": "stream",
     "text": [
      "rf_estimators: 32, rf_max_depth: 256, rf_max_features: 128, valid_r2: 0.1261742509264957\n"
     ]
    },
    {
     "name": "stderr",
     "output_type": "stream",
     "text": [
      "DEBUG:ATOM:Got dataset, attempting to extract data\n",
      "DEBUG:ATOM:Creating deepchem dataset\n",
      "INFO:ATOM:Using prefeaturized data; number of features = 306\n",
      "WARNING:ATOM:Previous dataset split restored\n",
      "INFO:ATOM:Wrote transformers to ./../HPO/HPO_models_CYP2C9_old/cyp2c9_union_trainset_base_smiles/RF_computed_descriptors_scaffold_regression/e06e28eb-1480-4286-b074-1c0186e7bf72/transformers.pkl\n",
      "INFO:ATOM:Transforming response data\n",
      "INFO:ATOM:Transforming feature data\n",
      "INFO:ATOM:Transforming response data\n",
      "INFO:ATOM:Transforming feature data\n",
      "INFO:ATOM:Transforming response data\n",
      "INFO:ATOM:Transforming feature data\n",
      "INFO:ATOM:Fitting random forest model\n",
      "INFO:ATOM:Fold 0: training r2_score = 0.787, validation r2_score = 0.137, test r2_score = 0.753\n",
      "INFO:ATOM:Wrote model tarball to ./../HPO/HPO_models_CYP2C9_old/cyp2c9_union_trainset_base_smiles_model_e06e28eb-1480-4286-b074-1c0186e7bf72.tar.gz\n",
      "INFO:ATOM:Created a dataset hash '5784653341796c83c2c652313bd6db26' from dataset_key '/usr/WS2/atom/titli/MoDaC/Data/CYP2C9-ampl-1.1.0_old/cyp2c9_union_trainset_base_smiles.csv'\n",
      "DEBUG:ATOM:Attempting to load featurized dataset\n"
     ]
    },
    {
     "name": "stdout",
     "output_type": "stream",
     "text": [
      "rf_estimators: 64, rf_max_depth: 16, rf_max_features: 16, valid_r2: 0.13723419666147607\n"
     ]
    },
    {
     "name": "stderr",
     "output_type": "stream",
     "text": [
      "DEBUG:ATOM:Got dataset, attempting to extract data\n",
      "DEBUG:ATOM:Creating deepchem dataset\n",
      "INFO:ATOM:Using prefeaturized data; number of features = 306\n",
      "WARNING:ATOM:Previous dataset split restored\n",
      "INFO:ATOM:Wrote transformers to ./../HPO/HPO_models_CYP2C9_old/cyp2c9_union_trainset_base_smiles/RF_computed_descriptors_scaffold_regression/c62b2f04-7dcc-4644-b40e-2a97a6565e9f/transformers.pkl\n",
      "INFO:ATOM:Transforming response data\n",
      "INFO:ATOM:Transforming feature data\n",
      "INFO:ATOM:Transforming response data\n",
      "INFO:ATOM:Transforming feature data\n",
      "INFO:ATOM:Transforming response data\n",
      "INFO:ATOM:Transforming feature data\n",
      "INFO:ATOM:Fitting random forest model\n",
      "INFO:ATOM:Fold 0: training r2_score = 0.793, validation r2_score = 0.138, test r2_score = 0.859\n",
      "INFO:ATOM:Wrote model tarball to ./../HPO/HPO_models_CYP2C9_old/cyp2c9_union_trainset_base_smiles_model_c62b2f04-7dcc-4644-b40e-2a97a6565e9f.tar.gz\n",
      "INFO:ATOM:Created a dataset hash '5784653341796c83c2c652313bd6db26' from dataset_key '/usr/WS2/atom/titli/MoDaC/Data/CYP2C9-ampl-1.1.0_old/cyp2c9_union_trainset_base_smiles.csv'\n",
      "DEBUG:ATOM:Attempting to load featurized dataset\n"
     ]
    },
    {
     "name": "stdout",
     "output_type": "stream",
     "text": [
      "rf_estimators: 64, rf_max_depth: 16, rf_max_features: 24, valid_r2: 0.13757445673974378\n"
     ]
    },
    {
     "name": "stderr",
     "output_type": "stream",
     "text": [
      "DEBUG:ATOM:Got dataset, attempting to extract data\n",
      "DEBUG:ATOM:Creating deepchem dataset\n",
      "INFO:ATOM:Using prefeaturized data; number of features = 306\n",
      "WARNING:ATOM:Previous dataset split restored\n",
      "INFO:ATOM:Wrote transformers to ./../HPO/HPO_models_CYP2C9_old/cyp2c9_union_trainset_base_smiles/RF_computed_descriptors_scaffold_regression/155345c7-6404-48d0-8c67-fad3a9b1bb29/transformers.pkl\n",
      "INFO:ATOM:Transforming response data\n",
      "INFO:ATOM:Transforming feature data\n",
      "INFO:ATOM:Transforming response data\n",
      "INFO:ATOM:Transforming feature data\n",
      "INFO:ATOM:Transforming response data\n",
      "INFO:ATOM:Transforming feature data\n",
      "INFO:ATOM:Fitting random forest model\n",
      "INFO:ATOM:Fold 0: training r2_score = 0.791, validation r2_score = 0.148, test r2_score = 0.937\n",
      "INFO:ATOM:Wrote model tarball to ./../HPO/HPO_models_CYP2C9_old/cyp2c9_union_trainset_base_smiles_model_155345c7-6404-48d0-8c67-fad3a9b1bb29.tar.gz\n",
      "INFO:ATOM:Created a dataset hash '5784653341796c83c2c652313bd6db26' from dataset_key '/usr/WS2/atom/titli/MoDaC/Data/CYP2C9-ampl-1.1.0_old/cyp2c9_union_trainset_base_smiles.csv'\n",
      "DEBUG:ATOM:Attempting to load featurized dataset\n"
     ]
    },
    {
     "name": "stdout",
     "output_type": "stream",
     "text": [
      "rf_estimators: 64, rf_max_depth: 16, rf_max_features: 32, valid_r2: 0.14838537253976813\n"
     ]
    },
    {
     "name": "stderr",
     "output_type": "stream",
     "text": [
      "DEBUG:ATOM:Got dataset, attempting to extract data\n",
      "DEBUG:ATOM:Creating deepchem dataset\n",
      "INFO:ATOM:Using prefeaturized data; number of features = 306\n",
      "WARNING:ATOM:Previous dataset split restored\n",
      "INFO:ATOM:Wrote transformers to ./../HPO/HPO_models_CYP2C9_old/cyp2c9_union_trainset_base_smiles/RF_computed_descriptors_scaffold_regression/a4522303-a5ed-4ef0-9197-91f153439b3b/transformers.pkl\n",
      "INFO:ATOM:Transforming response data\n",
      "INFO:ATOM:Transforming feature data\n",
      "INFO:ATOM:Transforming response data\n",
      "INFO:ATOM:Transforming feature data\n",
      "INFO:ATOM:Transforming response data\n",
      "INFO:ATOM:Transforming feature data\n",
      "INFO:ATOM:Fitting random forest model\n",
      "INFO:ATOM:Fold 0: training r2_score = 0.787, validation r2_score = 0.139, test r2_score = 0.716\n",
      "INFO:ATOM:Wrote model tarball to ./../HPO/HPO_models_CYP2C9_old/cyp2c9_union_trainset_base_smiles_model_a4522303-a5ed-4ef0-9197-91f153439b3b.tar.gz\n",
      "INFO:ATOM:Created a dataset hash '5784653341796c83c2c652313bd6db26' from dataset_key '/usr/WS2/atom/titli/MoDaC/Data/CYP2C9-ampl-1.1.0_old/cyp2c9_union_trainset_base_smiles.csv'\n",
      "DEBUG:ATOM:Attempting to load featurized dataset\n"
     ]
    },
    {
     "name": "stdout",
     "output_type": "stream",
     "text": [
      "rf_estimators: 64, rf_max_depth: 16, rf_max_features: 64, valid_r2: 0.13860791349684642\n"
     ]
    },
    {
     "name": "stderr",
     "output_type": "stream",
     "text": [
      "DEBUG:ATOM:Got dataset, attempting to extract data\n",
      "DEBUG:ATOM:Creating deepchem dataset\n",
      "INFO:ATOM:Using prefeaturized data; number of features = 306\n",
      "WARNING:ATOM:Previous dataset split restored\n",
      "INFO:ATOM:Wrote transformers to ./../HPO/HPO_models_CYP2C9_old/cyp2c9_union_trainset_base_smiles/RF_computed_descriptors_scaffold_regression/b38ca651-6ce3-4a57-bab8-fedce47be709/transformers.pkl\n",
      "INFO:ATOM:Transforming response data\n",
      "INFO:ATOM:Transforming feature data\n",
      "INFO:ATOM:Transforming response data\n",
      "INFO:ATOM:Transforming feature data\n",
      "INFO:ATOM:Transforming response data\n",
      "INFO:ATOM:Transforming feature data\n",
      "INFO:ATOM:Fitting random forest model\n",
      "INFO:ATOM:Fold 0: training r2_score = 0.790, validation r2_score = 0.139, test r2_score = 0.872\n",
      "INFO:ATOM:Wrote model tarball to ./../HPO/HPO_models_CYP2C9_old/cyp2c9_union_trainset_base_smiles_model_b38ca651-6ce3-4a57-bab8-fedce47be709.tar.gz\n",
      "INFO:ATOM:Created a dataset hash '5784653341796c83c2c652313bd6db26' from dataset_key '/usr/WS2/atom/titli/MoDaC/Data/CYP2C9-ampl-1.1.0_old/cyp2c9_union_trainset_base_smiles.csv'\n",
      "DEBUG:ATOM:Attempting to load featurized dataset\n"
     ]
    },
    {
     "name": "stdout",
     "output_type": "stream",
     "text": [
      "rf_estimators: 64, rf_max_depth: 16, rf_max_features: 128, valid_r2: 0.13935911233261045\n"
     ]
    },
    {
     "name": "stderr",
     "output_type": "stream",
     "text": [
      "DEBUG:ATOM:Got dataset, attempting to extract data\n",
      "DEBUG:ATOM:Creating deepchem dataset\n",
      "INFO:ATOM:Using prefeaturized data; number of features = 306\n",
      "WARNING:ATOM:Previous dataset split restored\n",
      "INFO:ATOM:Wrote transformers to ./../HPO/HPO_models_CYP2C9_old/cyp2c9_union_trainset_base_smiles/RF_computed_descriptors_scaffold_regression/643310b6-7ad0-4f77-8a81-7e445c9f1430/transformers.pkl\n",
      "INFO:ATOM:Transforming response data\n",
      "INFO:ATOM:Transforming feature data\n",
      "INFO:ATOM:Transforming response data\n",
      "INFO:ATOM:Transforming feature data\n",
      "INFO:ATOM:Transforming response data\n",
      "INFO:ATOM:Transforming feature data\n",
      "INFO:ATOM:Fitting random forest model\n",
      "INFO:ATOM:Fold 0: training r2_score = 0.888, validation r2_score = 0.126, test r2_score = 0.723\n",
      "INFO:ATOM:Wrote model tarball to ./../HPO/HPO_models_CYP2C9_old/cyp2c9_union_trainset_base_smiles_model_643310b6-7ad0-4f77-8a81-7e445c9f1430.tar.gz\n",
      "INFO:ATOM:Created a dataset hash '5784653341796c83c2c652313bd6db26' from dataset_key '/usr/WS2/atom/titli/MoDaC/Data/CYP2C9-ampl-1.1.0_old/cyp2c9_union_trainset_base_smiles.csv'\n",
      "DEBUG:ATOM:Attempting to load featurized dataset\n"
     ]
    },
    {
     "name": "stdout",
     "output_type": "stream",
     "text": [
      "rf_estimators: 64, rf_max_depth: 24, rf_max_features: 16, valid_r2: 0.12570604109687267\n"
     ]
    },
    {
     "name": "stderr",
     "output_type": "stream",
     "text": [
      "DEBUG:ATOM:Got dataset, attempting to extract data\n",
      "DEBUG:ATOM:Creating deepchem dataset\n",
      "INFO:ATOM:Using prefeaturized data; number of features = 306\n",
      "WARNING:ATOM:Previous dataset split restored\n",
      "INFO:ATOM:Wrote transformers to ./../HPO/HPO_models_CYP2C9_old/cyp2c9_union_trainset_base_smiles/RF_computed_descriptors_scaffold_regression/81f86932-db91-43ea-a6bb-95f427b375b7/transformers.pkl\n",
      "INFO:ATOM:Transforming response data\n",
      "INFO:ATOM:Transforming feature data\n",
      "INFO:ATOM:Transforming response data\n",
      "INFO:ATOM:Transforming feature data\n",
      "INFO:ATOM:Transforming response data\n",
      "INFO:ATOM:Transforming feature data\n",
      "INFO:ATOM:Fitting random forest model\n",
      "INFO:ATOM:Fold 0: training r2_score = 0.889, validation r2_score = 0.144, test r2_score = 0.826\n",
      "INFO:ATOM:Wrote model tarball to ./../HPO/HPO_models_CYP2C9_old/cyp2c9_union_trainset_base_smiles_model_81f86932-db91-43ea-a6bb-95f427b375b7.tar.gz\n",
      "INFO:ATOM:Created a dataset hash '5784653341796c83c2c652313bd6db26' from dataset_key '/usr/WS2/atom/titli/MoDaC/Data/CYP2C9-ampl-1.1.0_old/cyp2c9_union_trainset_base_smiles.csv'\n",
      "DEBUG:ATOM:Attempting to load featurized dataset\n"
     ]
    },
    {
     "name": "stdout",
     "output_type": "stream",
     "text": [
      "rf_estimators: 64, rf_max_depth: 24, rf_max_features: 24, valid_r2: 0.1439098361105996\n"
     ]
    },
    {
     "name": "stderr",
     "output_type": "stream",
     "text": [
      "DEBUG:ATOM:Got dataset, attempting to extract data\n",
      "DEBUG:ATOM:Creating deepchem dataset\n",
      "INFO:ATOM:Using prefeaturized data; number of features = 306\n",
      "WARNING:ATOM:Previous dataset split restored\n",
      "INFO:ATOM:Wrote transformers to ./../HPO/HPO_models_CYP2C9_old/cyp2c9_union_trainset_base_smiles/RF_computed_descriptors_scaffold_regression/ecc2629c-2409-4a40-8435-de0be7310b6d/transformers.pkl\n",
      "INFO:ATOM:Transforming response data\n",
      "INFO:ATOM:Transforming feature data\n",
      "INFO:ATOM:Transforming response data\n",
      "INFO:ATOM:Transforming feature data\n",
      "INFO:ATOM:Transforming response data\n",
      "INFO:ATOM:Transforming feature data\n",
      "INFO:ATOM:Fitting random forest model\n",
      "INFO:ATOM:Fold 0: training r2_score = 0.891, validation r2_score = 0.149, test r2_score = 0.834\n",
      "INFO:ATOM:Wrote model tarball to ./../HPO/HPO_models_CYP2C9_old/cyp2c9_union_trainset_base_smiles_model_ecc2629c-2409-4a40-8435-de0be7310b6d.tar.gz\n",
      "INFO:ATOM:Created a dataset hash '5784653341796c83c2c652313bd6db26' from dataset_key '/usr/WS2/atom/titli/MoDaC/Data/CYP2C9-ampl-1.1.0_old/cyp2c9_union_trainset_base_smiles.csv'\n",
      "DEBUG:ATOM:Attempting to load featurized dataset\n"
     ]
    },
    {
     "name": "stdout",
     "output_type": "stream",
     "text": [
      "rf_estimators: 64, rf_max_depth: 24, rf_max_features: 32, valid_r2: 0.14892325943392815\n"
     ]
    },
    {
     "name": "stderr",
     "output_type": "stream",
     "text": [
      "DEBUG:ATOM:Got dataset, attempting to extract data\n",
      "DEBUG:ATOM:Creating deepchem dataset\n",
      "INFO:ATOM:Using prefeaturized data; number of features = 306\n",
      "WARNING:ATOM:Previous dataset split restored\n",
      "INFO:ATOM:Wrote transformers to ./../HPO/HPO_models_CYP2C9_old/cyp2c9_union_trainset_base_smiles/RF_computed_descriptors_scaffold_regression/6a7daf17-b78c-4791-be11-158d5168e29a/transformers.pkl\n",
      "INFO:ATOM:Transforming response data\n",
      "INFO:ATOM:Transforming feature data\n",
      "INFO:ATOM:Transforming response data\n",
      "INFO:ATOM:Transforming feature data\n",
      "INFO:ATOM:Transforming response data\n",
      "INFO:ATOM:Transforming feature data\n",
      "INFO:ATOM:Fitting random forest model\n",
      "INFO:ATOM:Fold 0: training r2_score = 0.891, validation r2_score = 0.146, test r2_score = 0.790\n",
      "INFO:ATOM:Wrote model tarball to ./../HPO/HPO_models_CYP2C9_old/cyp2c9_union_trainset_base_smiles_model_6a7daf17-b78c-4791-be11-158d5168e29a.tar.gz\n",
      "INFO:ATOM:Created a dataset hash '5784653341796c83c2c652313bd6db26' from dataset_key '/usr/WS2/atom/titli/MoDaC/Data/CYP2C9-ampl-1.1.0_old/cyp2c9_union_trainset_base_smiles.csv'\n",
      "DEBUG:ATOM:Attempting to load featurized dataset\n"
     ]
    },
    {
     "name": "stdout",
     "output_type": "stream",
     "text": [
      "rf_estimators: 64, rf_max_depth: 24, rf_max_features: 64, valid_r2: 0.1461595896791157\n"
     ]
    },
    {
     "name": "stderr",
     "output_type": "stream",
     "text": [
      "DEBUG:ATOM:Got dataset, attempting to extract data\n",
      "DEBUG:ATOM:Creating deepchem dataset\n",
      "INFO:ATOM:Using prefeaturized data; number of features = 306\n",
      "WARNING:ATOM:Previous dataset split restored\n",
      "INFO:ATOM:Wrote transformers to ./../HPO/HPO_models_CYP2C9_old/cyp2c9_union_trainset_base_smiles/RF_computed_descriptors_scaffold_regression/bbc4d1f6-03df-450c-8212-c5ac2fc9132d/transformers.pkl\n",
      "INFO:ATOM:Transforming response data\n",
      "INFO:ATOM:Transforming feature data\n",
      "INFO:ATOM:Transforming response data\n",
      "INFO:ATOM:Transforming feature data\n",
      "INFO:ATOM:Transforming response data\n",
      "INFO:ATOM:Transforming feature data\n",
      "INFO:ATOM:Fitting random forest model\n",
      "INFO:ATOM:Fold 0: training r2_score = 0.886, validation r2_score = 0.147, test r2_score = 0.561\n",
      "INFO:ATOM:Wrote model tarball to ./../HPO/HPO_models_CYP2C9_old/cyp2c9_union_trainset_base_smiles_model_bbc4d1f6-03df-450c-8212-c5ac2fc9132d.tar.gz\n",
      "INFO:ATOM:Created a dataset hash '5784653341796c83c2c652313bd6db26' from dataset_key '/usr/WS2/atom/titli/MoDaC/Data/CYP2C9-ampl-1.1.0_old/cyp2c9_union_trainset_base_smiles.csv'\n",
      "DEBUG:ATOM:Attempting to load featurized dataset\n"
     ]
    },
    {
     "name": "stdout",
     "output_type": "stream",
     "text": [
      "rf_estimators: 64, rf_max_depth: 24, rf_max_features: 128, valid_r2: 0.1471342335038166\n"
     ]
    },
    {
     "name": "stderr",
     "output_type": "stream",
     "text": [
      "DEBUG:ATOM:Got dataset, attempting to extract data\n",
      "DEBUG:ATOM:Creating deepchem dataset\n",
      "INFO:ATOM:Using prefeaturized data; number of features = 306\n",
      "WARNING:ATOM:Previous dataset split restored\n",
      "INFO:ATOM:Wrote transformers to ./../HPO/HPO_models_CYP2C9_old/cyp2c9_union_trainset_base_smiles/RF_computed_descriptors_scaffold_regression/59663feb-30ca-43f2-9c75-2b8966c3b8bc/transformers.pkl\n",
      "INFO:ATOM:Transforming response data\n",
      "INFO:ATOM:Transforming feature data\n",
      "INFO:ATOM:Transforming response data\n",
      "INFO:ATOM:Transforming feature data\n",
      "INFO:ATOM:Transforming response data\n",
      "INFO:ATOM:Transforming feature data\n",
      "INFO:ATOM:Fitting random forest model\n",
      "INFO:ATOM:Fold 0: training r2_score = 0.899, validation r2_score = 0.155, test r2_score = 0.966\n",
      "INFO:ATOM:Wrote model tarball to ./../HPO/HPO_models_CYP2C9_old/cyp2c9_union_trainset_base_smiles_model_59663feb-30ca-43f2-9c75-2b8966c3b8bc.tar.gz\n",
      "INFO:ATOM:Created a dataset hash '5784653341796c83c2c652313bd6db26' from dataset_key '/usr/WS2/atom/titli/MoDaC/Data/CYP2C9-ampl-1.1.0_old/cyp2c9_union_trainset_base_smiles.csv'\n",
      "DEBUG:ATOM:Attempting to load featurized dataset\n"
     ]
    },
    {
     "name": "stdout",
     "output_type": "stream",
     "text": [
      "rf_estimators: 64, rf_max_depth: 32, rf_max_features: 16, valid_r2: 0.1553900954155102\n"
     ]
    },
    {
     "name": "stderr",
     "output_type": "stream",
     "text": [
      "DEBUG:ATOM:Got dataset, attempting to extract data\n",
      "DEBUG:ATOM:Creating deepchem dataset\n",
      "INFO:ATOM:Using prefeaturized data; number of features = 306\n",
      "WARNING:ATOM:Previous dataset split restored\n",
      "INFO:ATOM:Wrote transformers to ./../HPO/HPO_models_CYP2C9_old/cyp2c9_union_trainset_base_smiles/RF_computed_descriptors_scaffold_regression/9ec4f762-c035-4f8f-ae66-d9cd9abd8592/transformers.pkl\n",
      "INFO:ATOM:Transforming response data\n",
      "INFO:ATOM:Transforming feature data\n",
      "INFO:ATOM:Transforming response data\n",
      "INFO:ATOM:Transforming feature data\n",
      "INFO:ATOM:Transforming response data\n",
      "INFO:ATOM:Transforming feature data\n",
      "INFO:ATOM:Fitting random forest model\n",
      "INFO:ATOM:Fold 0: training r2_score = 0.901, validation r2_score = 0.147, test r2_score = 0.659\n",
      "INFO:ATOM:Wrote model tarball to ./../HPO/HPO_models_CYP2C9_old/cyp2c9_union_trainset_base_smiles_model_9ec4f762-c035-4f8f-ae66-d9cd9abd8592.tar.gz\n",
      "INFO:ATOM:Created a dataset hash '5784653341796c83c2c652313bd6db26' from dataset_key '/usr/WS2/atom/titli/MoDaC/Data/CYP2C9-ampl-1.1.0_old/cyp2c9_union_trainset_base_smiles.csv'\n",
      "DEBUG:ATOM:Attempting to load featurized dataset\n"
     ]
    },
    {
     "name": "stdout",
     "output_type": "stream",
     "text": [
      "rf_estimators: 64, rf_max_depth: 32, rf_max_features: 24, valid_r2: 0.14699466818555318\n"
     ]
    },
    {
     "name": "stderr",
     "output_type": "stream",
     "text": [
      "DEBUG:ATOM:Got dataset, attempting to extract data\n",
      "DEBUG:ATOM:Creating deepchem dataset\n",
      "INFO:ATOM:Using prefeaturized data; number of features = 306\n",
      "WARNING:ATOM:Previous dataset split restored\n",
      "INFO:ATOM:Wrote transformers to ./../HPO/HPO_models_CYP2C9_old/cyp2c9_union_trainset_base_smiles/RF_computed_descriptors_scaffold_regression/47c0588d-4b7d-41f3-a6ca-52fe76a22044/transformers.pkl\n",
      "INFO:ATOM:Transforming response data\n",
      "INFO:ATOM:Transforming feature data\n",
      "INFO:ATOM:Transforming response data\n",
      "INFO:ATOM:Transforming feature data\n",
      "INFO:ATOM:Transforming response data\n",
      "INFO:ATOM:Transforming feature data\n",
      "INFO:ATOM:Fitting random forest model\n",
      "INFO:ATOM:Fold 0: training r2_score = 0.900, validation r2_score = 0.141, test r2_score = 0.695\n",
      "INFO:ATOM:Wrote model tarball to ./../HPO/HPO_models_CYP2C9_old/cyp2c9_union_trainset_base_smiles_model_47c0588d-4b7d-41f3-a6ca-52fe76a22044.tar.gz\n",
      "INFO:ATOM:Created a dataset hash '5784653341796c83c2c652313bd6db26' from dataset_key '/usr/WS2/atom/titli/MoDaC/Data/CYP2C9-ampl-1.1.0_old/cyp2c9_union_trainset_base_smiles.csv'\n",
      "DEBUG:ATOM:Attempting to load featurized dataset\n"
     ]
    },
    {
     "name": "stdout",
     "output_type": "stream",
     "text": [
      "rf_estimators: 64, rf_max_depth: 32, rf_max_features: 32, valid_r2: 0.1405996087169198\n"
     ]
    },
    {
     "name": "stderr",
     "output_type": "stream",
     "text": [
      "DEBUG:ATOM:Got dataset, attempting to extract data\n",
      "DEBUG:ATOM:Creating deepchem dataset\n",
      "INFO:ATOM:Using prefeaturized data; number of features = 306\n",
      "WARNING:ATOM:Previous dataset split restored\n",
      "INFO:ATOM:Wrote transformers to ./../HPO/HPO_models_CYP2C9_old/cyp2c9_union_trainset_base_smiles/RF_computed_descriptors_scaffold_regression/3a8d7003-dda7-4974-b392-3d21435a0a05/transformers.pkl\n",
      "INFO:ATOM:Transforming response data\n",
      "INFO:ATOM:Transforming feature data\n",
      "INFO:ATOM:Transforming response data\n",
      "INFO:ATOM:Transforming feature data\n",
      "INFO:ATOM:Transforming response data\n",
      "INFO:ATOM:Transforming feature data\n",
      "INFO:ATOM:Fitting random forest model\n",
      "INFO:ATOM:Fold 0: training r2_score = 0.900, validation r2_score = 0.149, test r2_score = 0.766\n",
      "INFO:ATOM:Wrote model tarball to ./../HPO/HPO_models_CYP2C9_old/cyp2c9_union_trainset_base_smiles_model_3a8d7003-dda7-4974-b392-3d21435a0a05.tar.gz\n",
      "INFO:ATOM:Created a dataset hash '5784653341796c83c2c652313bd6db26' from dataset_key '/usr/WS2/atom/titli/MoDaC/Data/CYP2C9-ampl-1.1.0_old/cyp2c9_union_trainset_base_smiles.csv'\n",
      "DEBUG:ATOM:Attempting to load featurized dataset\n"
     ]
    },
    {
     "name": "stdout",
     "output_type": "stream",
     "text": [
      "rf_estimators: 64, rf_max_depth: 32, rf_max_features: 64, valid_r2: 0.14907016498425163\n"
     ]
    },
    {
     "name": "stderr",
     "output_type": "stream",
     "text": [
      "DEBUG:ATOM:Got dataset, attempting to extract data\n",
      "DEBUG:ATOM:Creating deepchem dataset\n",
      "INFO:ATOM:Using prefeaturized data; number of features = 306\n",
      "WARNING:ATOM:Previous dataset split restored\n",
      "INFO:ATOM:Wrote transformers to ./../HPO/HPO_models_CYP2C9_old/cyp2c9_union_trainset_base_smiles/RF_computed_descriptors_scaffold_regression/4cdea3d4-67be-4139-90d5-ea82be117eba/transformers.pkl\n",
      "INFO:ATOM:Transforming response data\n",
      "INFO:ATOM:Transforming feature data\n",
      "INFO:ATOM:Transforming response data\n",
      "INFO:ATOM:Transforming feature data\n",
      "INFO:ATOM:Transforming response data\n",
      "INFO:ATOM:Transforming feature data\n",
      "INFO:ATOM:Fitting random forest model\n",
      "INFO:ATOM:Fold 0: training r2_score = 0.902, validation r2_score = 0.141, test r2_score = 0.802\n",
      "INFO:ATOM:Wrote model tarball to ./../HPO/HPO_models_CYP2C9_old/cyp2c9_union_trainset_base_smiles_model_4cdea3d4-67be-4139-90d5-ea82be117eba.tar.gz\n",
      "INFO:ATOM:Created a dataset hash '5784653341796c83c2c652313bd6db26' from dataset_key '/usr/WS2/atom/titli/MoDaC/Data/CYP2C9-ampl-1.1.0_old/cyp2c9_union_trainset_base_smiles.csv'\n",
      "DEBUG:ATOM:Attempting to load featurized dataset\n"
     ]
    },
    {
     "name": "stdout",
     "output_type": "stream",
     "text": [
      "rf_estimators: 64, rf_max_depth: 32, rf_max_features: 128, valid_r2: 0.1414815352938502\n"
     ]
    },
    {
     "name": "stderr",
     "output_type": "stream",
     "text": [
      "DEBUG:ATOM:Got dataset, attempting to extract data\n",
      "DEBUG:ATOM:Creating deepchem dataset\n",
      "INFO:ATOM:Using prefeaturized data; number of features = 306\n",
      "WARNING:ATOM:Previous dataset split restored\n",
      "INFO:ATOM:Wrote transformers to ./../HPO/HPO_models_CYP2C9_old/cyp2c9_union_trainset_base_smiles/RF_computed_descriptors_scaffold_regression/5c4701b4-76b7-4b7f-8fe4-17106c4e3dc7/transformers.pkl\n",
      "INFO:ATOM:Transforming response data\n",
      "INFO:ATOM:Transforming feature data\n",
      "INFO:ATOM:Transforming response data\n",
      "INFO:ATOM:Transforming feature data\n",
      "INFO:ATOM:Transforming response data\n",
      "INFO:ATOM:Transforming feature data\n",
      "INFO:ATOM:Fitting random forest model\n",
      "INFO:ATOM:Fold 0: training r2_score = 0.901, validation r2_score = 0.139, test r2_score = 0.542\n",
      "INFO:ATOM:Wrote model tarball to ./../HPO/HPO_models_CYP2C9_old/cyp2c9_union_trainset_base_smiles_model_5c4701b4-76b7-4b7f-8fe4-17106c4e3dc7.tar.gz\n",
      "INFO:ATOM:Created a dataset hash '5784653341796c83c2c652313bd6db26' from dataset_key '/usr/WS2/atom/titli/MoDaC/Data/CYP2C9-ampl-1.1.0_old/cyp2c9_union_trainset_base_smiles.csv'\n",
      "DEBUG:ATOM:Attempting to load featurized dataset\n"
     ]
    },
    {
     "name": "stdout",
     "output_type": "stream",
     "text": [
      "rf_estimators: 64, rf_max_depth: 64, rf_max_features: 16, valid_r2: 0.13858628640679016\n"
     ]
    },
    {
     "name": "stderr",
     "output_type": "stream",
     "text": [
      "DEBUG:ATOM:Got dataset, attempting to extract data\n",
      "DEBUG:ATOM:Creating deepchem dataset\n",
      "INFO:ATOM:Using prefeaturized data; number of features = 306\n",
      "WARNING:ATOM:Previous dataset split restored\n",
      "INFO:ATOM:Wrote transformers to ./../HPO/HPO_models_CYP2C9_old/cyp2c9_union_trainset_base_smiles/RF_computed_descriptors_scaffold_regression/16832ee2-33d0-4f4a-9752-31fd30a05cb1/transformers.pkl\n",
      "INFO:ATOM:Transforming response data\n",
      "INFO:ATOM:Transforming feature data\n",
      "INFO:ATOM:Transforming response data\n",
      "INFO:ATOM:Transforming feature data\n",
      "INFO:ATOM:Transforming response data\n",
      "INFO:ATOM:Transforming feature data\n",
      "INFO:ATOM:Fitting random forest model\n",
      "INFO:ATOM:Fold 0: training r2_score = 0.901, validation r2_score = 0.148, test r2_score = 0.854\n",
      "INFO:ATOM:Wrote model tarball to ./../HPO/HPO_models_CYP2C9_old/cyp2c9_union_trainset_base_smiles_model_16832ee2-33d0-4f4a-9752-31fd30a05cb1.tar.gz\n",
      "INFO:ATOM:Created a dataset hash '5784653341796c83c2c652313bd6db26' from dataset_key '/usr/WS2/atom/titli/MoDaC/Data/CYP2C9-ampl-1.1.0_old/cyp2c9_union_trainset_base_smiles.csv'\n",
      "DEBUG:ATOM:Attempting to load featurized dataset\n"
     ]
    },
    {
     "name": "stdout",
     "output_type": "stream",
     "text": [
      "rf_estimators: 64, rf_max_depth: 64, rf_max_features: 24, valid_r2: 0.1479006169246545\n"
     ]
    },
    {
     "name": "stderr",
     "output_type": "stream",
     "text": [
      "DEBUG:ATOM:Got dataset, attempting to extract data\n",
      "DEBUG:ATOM:Creating deepchem dataset\n",
      "INFO:ATOM:Using prefeaturized data; number of features = 306\n",
      "WARNING:ATOM:Previous dataset split restored\n",
      "INFO:ATOM:Wrote transformers to ./../HPO/HPO_models_CYP2C9_old/cyp2c9_union_trainset_base_smiles/RF_computed_descriptors_scaffold_regression/242e9030-36ca-4abf-81fe-99a6d5a2a206/transformers.pkl\n",
      "INFO:ATOM:Transforming response data\n",
      "INFO:ATOM:Transforming feature data\n",
      "INFO:ATOM:Transforming response data\n",
      "INFO:ATOM:Transforming feature data\n",
      "INFO:ATOM:Transforming response data\n",
      "INFO:ATOM:Transforming feature data\n",
      "INFO:ATOM:Fitting random forest model\n",
      "INFO:ATOM:Fold 0: training r2_score = 0.903, validation r2_score = 0.139, test r2_score = 0.819\n",
      "INFO:ATOM:Wrote model tarball to ./../HPO/HPO_models_CYP2C9_old/cyp2c9_union_trainset_base_smiles_model_242e9030-36ca-4abf-81fe-99a6d5a2a206.tar.gz\n",
      "INFO:ATOM:Created a dataset hash '5784653341796c83c2c652313bd6db26' from dataset_key '/usr/WS2/atom/titli/MoDaC/Data/CYP2C9-ampl-1.1.0_old/cyp2c9_union_trainset_base_smiles.csv'\n",
      "DEBUG:ATOM:Attempting to load featurized dataset\n"
     ]
    },
    {
     "name": "stdout",
     "output_type": "stream",
     "text": [
      "rf_estimators: 64, rf_max_depth: 64, rf_max_features: 32, valid_r2: 0.139364049160547\n"
     ]
    },
    {
     "name": "stderr",
     "output_type": "stream",
     "text": [
      "DEBUG:ATOM:Got dataset, attempting to extract data\n",
      "DEBUG:ATOM:Creating deepchem dataset\n",
      "INFO:ATOM:Using prefeaturized data; number of features = 306\n",
      "WARNING:ATOM:Previous dataset split restored\n",
      "INFO:ATOM:Wrote transformers to ./../HPO/HPO_models_CYP2C9_old/cyp2c9_union_trainset_base_smiles/RF_computed_descriptors_scaffold_regression/c1ff490b-90bc-4560-b601-9a18e78e3b2d/transformers.pkl\n",
      "INFO:ATOM:Transforming response data\n",
      "INFO:ATOM:Transforming feature data\n",
      "INFO:ATOM:Transforming response data\n",
      "INFO:ATOM:Transforming feature data\n",
      "INFO:ATOM:Transforming response data\n",
      "INFO:ATOM:Transforming feature data\n",
      "INFO:ATOM:Fitting random forest model\n",
      "INFO:ATOM:Fold 0: training r2_score = 0.903, validation r2_score = 0.138, test r2_score = 0.784\n",
      "INFO:ATOM:Wrote model tarball to ./../HPO/HPO_models_CYP2C9_old/cyp2c9_union_trainset_base_smiles_model_c1ff490b-90bc-4560-b601-9a18e78e3b2d.tar.gz\n",
      "INFO:ATOM:Created a dataset hash '5784653341796c83c2c652313bd6db26' from dataset_key '/usr/WS2/atom/titli/MoDaC/Data/CYP2C9-ampl-1.1.0_old/cyp2c9_union_trainset_base_smiles.csv'\n",
      "DEBUG:ATOM:Attempting to load featurized dataset\n"
     ]
    },
    {
     "name": "stdout",
     "output_type": "stream",
     "text": [
      "rf_estimators: 64, rf_max_depth: 64, rf_max_features: 64, valid_r2: 0.13775772352052262\n"
     ]
    },
    {
     "name": "stderr",
     "output_type": "stream",
     "text": [
      "DEBUG:ATOM:Got dataset, attempting to extract data\n",
      "DEBUG:ATOM:Creating deepchem dataset\n",
      "INFO:ATOM:Using prefeaturized data; number of features = 306\n",
      "WARNING:ATOM:Previous dataset split restored\n",
      "INFO:ATOM:Wrote transformers to ./../HPO/HPO_models_CYP2C9_old/cyp2c9_union_trainset_base_smiles/RF_computed_descriptors_scaffold_regression/79bfde9d-ce56-4b3b-8d03-3778826785b1/transformers.pkl\n",
      "INFO:ATOM:Transforming response data\n",
      "INFO:ATOM:Transforming feature data\n",
      "INFO:ATOM:Transforming response data\n",
      "INFO:ATOM:Transforming feature data\n",
      "INFO:ATOM:Transforming response data\n",
      "INFO:ATOM:Transforming feature data\n",
      "INFO:ATOM:Fitting random forest model\n",
      "INFO:ATOM:Fold 0: training r2_score = 0.903, validation r2_score = 0.149, test r2_score = 0.802\n",
      "INFO:ATOM:Wrote model tarball to ./../HPO/HPO_models_CYP2C9_old/cyp2c9_union_trainset_base_smiles_model_79bfde9d-ce56-4b3b-8d03-3778826785b1.tar.gz\n",
      "INFO:ATOM:Created a dataset hash '5784653341796c83c2c652313bd6db26' from dataset_key '/usr/WS2/atom/titli/MoDaC/Data/CYP2C9-ampl-1.1.0_old/cyp2c9_union_trainset_base_smiles.csv'\n",
      "DEBUG:ATOM:Attempting to load featurized dataset\n"
     ]
    },
    {
     "name": "stdout",
     "output_type": "stream",
     "text": [
      "rf_estimators: 64, rf_max_depth: 64, rf_max_features: 128, valid_r2: 0.14902886719386998\n"
     ]
    },
    {
     "name": "stderr",
     "output_type": "stream",
     "text": [
      "DEBUG:ATOM:Got dataset, attempting to extract data\n",
      "DEBUG:ATOM:Creating deepchem dataset\n",
      "INFO:ATOM:Using prefeaturized data; number of features = 306\n",
      "WARNING:ATOM:Previous dataset split restored\n",
      "INFO:ATOM:Wrote transformers to ./../HPO/HPO_models_CYP2C9_old/cyp2c9_union_trainset_base_smiles/RF_computed_descriptors_scaffold_regression/c80af654-ae4e-483c-aca0-662f63daab80/transformers.pkl\n",
      "INFO:ATOM:Transforming response data\n",
      "INFO:ATOM:Transforming feature data\n",
      "INFO:ATOM:Transforming response data\n",
      "INFO:ATOM:Transforming feature data\n",
      "INFO:ATOM:Transforming response data\n",
      "INFO:ATOM:Transforming feature data\n",
      "INFO:ATOM:Fitting random forest model\n",
      "INFO:ATOM:Fold 0: training r2_score = 0.902, validation r2_score = 0.134, test r2_score = 0.772\n",
      "INFO:ATOM:Wrote model tarball to ./../HPO/HPO_models_CYP2C9_old/cyp2c9_union_trainset_base_smiles_model_c80af654-ae4e-483c-aca0-662f63daab80.tar.gz\n",
      "INFO:ATOM:Created a dataset hash '5784653341796c83c2c652313bd6db26' from dataset_key '/usr/WS2/atom/titli/MoDaC/Data/CYP2C9-ampl-1.1.0_old/cyp2c9_union_trainset_base_smiles.csv'\n",
      "DEBUG:ATOM:Attempting to load featurized dataset\n"
     ]
    },
    {
     "name": "stdout",
     "output_type": "stream",
     "text": [
      "rf_estimators: 64, rf_max_depth: 128, rf_max_features: 16, valid_r2: 0.13417541595313243\n"
     ]
    },
    {
     "name": "stderr",
     "output_type": "stream",
     "text": [
      "DEBUG:ATOM:Got dataset, attempting to extract data\n",
      "DEBUG:ATOM:Creating deepchem dataset\n",
      "INFO:ATOM:Using prefeaturized data; number of features = 306\n",
      "WARNING:ATOM:Previous dataset split restored\n",
      "INFO:ATOM:Wrote transformers to ./../HPO/HPO_models_CYP2C9_old/cyp2c9_union_trainset_base_smiles/RF_computed_descriptors_scaffold_regression/bcec9e89-7727-4c84-8406-b95cec35aabf/transformers.pkl\n",
      "INFO:ATOM:Transforming response data\n",
      "INFO:ATOM:Transforming feature data\n",
      "INFO:ATOM:Transforming response data\n",
      "INFO:ATOM:Transforming feature data\n",
      "INFO:ATOM:Transforming response data\n",
      "INFO:ATOM:Transforming feature data\n",
      "INFO:ATOM:Fitting random forest model\n",
      "INFO:ATOM:Fold 0: training r2_score = 0.900, validation r2_score = 0.137, test r2_score = 0.723\n",
      "INFO:ATOM:Wrote model tarball to ./../HPO/HPO_models_CYP2C9_old/cyp2c9_union_trainset_base_smiles_model_bcec9e89-7727-4c84-8406-b95cec35aabf.tar.gz\n",
      "INFO:ATOM:Created a dataset hash '5784653341796c83c2c652313bd6db26' from dataset_key '/usr/WS2/atom/titli/MoDaC/Data/CYP2C9-ampl-1.1.0_old/cyp2c9_union_trainset_base_smiles.csv'\n",
      "DEBUG:ATOM:Attempting to load featurized dataset\n"
     ]
    },
    {
     "name": "stdout",
     "output_type": "stream",
     "text": [
      "rf_estimators: 64, rf_max_depth: 128, rf_max_features: 24, valid_r2: 0.13700058837550122\n"
     ]
    },
    {
     "name": "stderr",
     "output_type": "stream",
     "text": [
      "DEBUG:ATOM:Got dataset, attempting to extract data\n",
      "DEBUG:ATOM:Creating deepchem dataset\n",
      "INFO:ATOM:Using prefeaturized data; number of features = 306\n",
      "WARNING:ATOM:Previous dataset split restored\n",
      "INFO:ATOM:Wrote transformers to ./../HPO/HPO_models_CYP2C9_old/cyp2c9_union_trainset_base_smiles/RF_computed_descriptors_scaffold_regression/277bd78e-6c0d-4f21-b812-7078ab932782/transformers.pkl\n",
      "INFO:ATOM:Transforming response data\n",
      "INFO:ATOM:Transforming feature data\n",
      "INFO:ATOM:Transforming response data\n",
      "INFO:ATOM:Transforming feature data\n",
      "INFO:ATOM:Transforming response data\n",
      "INFO:ATOM:Transforming feature data\n",
      "INFO:ATOM:Fitting random forest model\n",
      "INFO:ATOM:Fold 0: training r2_score = 0.902, validation r2_score = 0.152, test r2_score = 0.639\n",
      "INFO:ATOM:Wrote model tarball to ./../HPO/HPO_models_CYP2C9_old/cyp2c9_union_trainset_base_smiles_model_277bd78e-6c0d-4f21-b812-7078ab932782.tar.gz\n"
     ]
    },
    {
     "name": "stdout",
     "output_type": "stream",
     "text": [
      "rf_estimators: 64, rf_max_depth: 128, rf_max_features: 32, valid_r2: 0.15244082045140528\n"
     ]
    },
    {
     "name": "stderr",
     "output_type": "stream",
     "text": [
      "INFO:ATOM:Created a dataset hash '5784653341796c83c2c652313bd6db26' from dataset_key '/usr/WS2/atom/titli/MoDaC/Data/CYP2C9-ampl-1.1.0_old/cyp2c9_union_trainset_base_smiles.csv'\n",
      "DEBUG:ATOM:Attempting to load featurized dataset\n",
      "DEBUG:ATOM:Got dataset, attempting to extract data\n",
      "DEBUG:ATOM:Creating deepchem dataset\n",
      "INFO:ATOM:Using prefeaturized data; number of features = 306\n",
      "WARNING:ATOM:Previous dataset split restored\n",
      "INFO:ATOM:Wrote transformers to ./../HPO/HPO_models_CYP2C9_old/cyp2c9_union_trainset_base_smiles/RF_computed_descriptors_scaffold_regression/b50e8cb0-13a5-4f6a-bed9-080ab8743477/transformers.pkl\n",
      "INFO:ATOM:Transforming response data\n",
      "INFO:ATOM:Transforming feature data\n",
      "INFO:ATOM:Transforming response data\n",
      "INFO:ATOM:Transforming feature data\n",
      "INFO:ATOM:Transforming response data\n",
      "INFO:ATOM:Transforming feature data\n",
      "INFO:ATOM:Fitting random forest model\n",
      "INFO:ATOM:Fold 0: training r2_score = 0.903, validation r2_score = 0.131, test r2_score = 0.710\n",
      "INFO:ATOM:Wrote model tarball to ./../HPO/HPO_models_CYP2C9_old/cyp2c9_union_trainset_base_smiles_model_b50e8cb0-13a5-4f6a-bed9-080ab8743477.tar.gz\n",
      "INFO:ATOM:Created a dataset hash '5784653341796c83c2c652313bd6db26' from dataset_key '/usr/WS2/atom/titli/MoDaC/Data/CYP2C9-ampl-1.1.0_old/cyp2c9_union_trainset_base_smiles.csv'\n",
      "DEBUG:ATOM:Attempting to load featurized dataset\n"
     ]
    },
    {
     "name": "stdout",
     "output_type": "stream",
     "text": [
      "rf_estimators: 64, rf_max_depth: 128, rf_max_features: 64, valid_r2: 0.13102469854168308\n"
     ]
    },
    {
     "name": "stderr",
     "output_type": "stream",
     "text": [
      "DEBUG:ATOM:Got dataset, attempting to extract data\n",
      "DEBUG:ATOM:Creating deepchem dataset\n",
      "INFO:ATOM:Using prefeaturized data; number of features = 306\n",
      "WARNING:ATOM:Previous dataset split restored\n",
      "INFO:ATOM:Wrote transformers to ./../HPO/HPO_models_CYP2C9_old/cyp2c9_union_trainset_base_smiles/RF_computed_descriptors_scaffold_regression/6013e339-a048-473a-98a8-ad6064b68082/transformers.pkl\n",
      "INFO:ATOM:Transforming response data\n",
      "INFO:ATOM:Transforming feature data\n",
      "INFO:ATOM:Transforming response data\n",
      "INFO:ATOM:Transforming feature data\n",
      "INFO:ATOM:Transforming response data\n",
      "INFO:ATOM:Transforming feature data\n",
      "INFO:ATOM:Fitting random forest model\n",
      "INFO:ATOM:Fold 0: training r2_score = 0.901, validation r2_score = 0.153, test r2_score = 0.826\n",
      "INFO:ATOM:Wrote model tarball to ./../HPO/HPO_models_CYP2C9_old/cyp2c9_union_trainset_base_smiles_model_6013e339-a048-473a-98a8-ad6064b68082.tar.gz\n",
      "INFO:ATOM:Created a dataset hash '5784653341796c83c2c652313bd6db26' from dataset_key '/usr/WS2/atom/titli/MoDaC/Data/CYP2C9-ampl-1.1.0_old/cyp2c9_union_trainset_base_smiles.csv'\n",
      "DEBUG:ATOM:Attempting to load featurized dataset\n"
     ]
    },
    {
     "name": "stdout",
     "output_type": "stream",
     "text": [
      "rf_estimators: 64, rf_max_depth: 128, rf_max_features: 128, valid_r2: 0.1534186999972328\n"
     ]
    },
    {
     "name": "stderr",
     "output_type": "stream",
     "text": [
      "DEBUG:ATOM:Got dataset, attempting to extract data\n",
      "DEBUG:ATOM:Creating deepchem dataset\n",
      "INFO:ATOM:Using prefeaturized data; number of features = 306\n",
      "WARNING:ATOM:Previous dataset split restored\n",
      "INFO:ATOM:Wrote transformers to ./../HPO/HPO_models_CYP2C9_old/cyp2c9_union_trainset_base_smiles/RF_computed_descriptors_scaffold_regression/e08ba8f4-d91e-413c-a9a9-e60d5dfab748/transformers.pkl\n",
      "INFO:ATOM:Transforming response data\n",
      "INFO:ATOM:Transforming feature data\n",
      "INFO:ATOM:Transforming response data\n",
      "INFO:ATOM:Transforming feature data\n",
      "INFO:ATOM:Transforming response data\n",
      "INFO:ATOM:Transforming feature data\n",
      "INFO:ATOM:Fitting random forest model\n",
      "INFO:ATOM:Fold 0: training r2_score = 0.902, validation r2_score = 0.144, test r2_score = 0.837\n",
      "INFO:ATOM:Wrote model tarball to ./../HPO/HPO_models_CYP2C9_old/cyp2c9_union_trainset_base_smiles_model_e08ba8f4-d91e-413c-a9a9-e60d5dfab748.tar.gz\n",
      "INFO:ATOM:Created a dataset hash '5784653341796c83c2c652313bd6db26' from dataset_key '/usr/WS2/atom/titli/MoDaC/Data/CYP2C9-ampl-1.1.0_old/cyp2c9_union_trainset_base_smiles.csv'\n",
      "DEBUG:ATOM:Attempting to load featurized dataset\n"
     ]
    },
    {
     "name": "stdout",
     "output_type": "stream",
     "text": [
      "rf_estimators: 64, rf_max_depth: 256, rf_max_features: 16, valid_r2: 0.1435576413269204\n"
     ]
    },
    {
     "name": "stderr",
     "output_type": "stream",
     "text": [
      "DEBUG:ATOM:Got dataset, attempting to extract data\n",
      "DEBUG:ATOM:Creating deepchem dataset\n",
      "INFO:ATOM:Using prefeaturized data; number of features = 306\n",
      "WARNING:ATOM:Previous dataset split restored\n",
      "INFO:ATOM:Wrote transformers to ./../HPO/HPO_models_CYP2C9_old/cyp2c9_union_trainset_base_smiles/RF_computed_descriptors_scaffold_regression/5b2689b1-fcac-4cab-9c71-9cf1ef5f59ed/transformers.pkl\n",
      "INFO:ATOM:Transforming response data\n",
      "INFO:ATOM:Transforming feature data\n",
      "INFO:ATOM:Transforming response data\n",
      "INFO:ATOM:Transforming feature data\n",
      "INFO:ATOM:Transforming response data\n",
      "INFO:ATOM:Transforming feature data\n",
      "INFO:ATOM:Fitting random forest model\n",
      "INFO:ATOM:Fold 0: training r2_score = 0.902, validation r2_score = 0.137, test r2_score = 0.630\n",
      "INFO:ATOM:Wrote model tarball to ./../HPO/HPO_models_CYP2C9_old/cyp2c9_union_trainset_base_smiles_model_5b2689b1-fcac-4cab-9c71-9cf1ef5f59ed.tar.gz\n",
      "INFO:ATOM:Created a dataset hash '5784653341796c83c2c652313bd6db26' from dataset_key '/usr/WS2/atom/titli/MoDaC/Data/CYP2C9-ampl-1.1.0_old/cyp2c9_union_trainset_base_smiles.csv'\n",
      "DEBUG:ATOM:Attempting to load featurized dataset\n"
     ]
    },
    {
     "name": "stdout",
     "output_type": "stream",
     "text": [
      "rf_estimators: 64, rf_max_depth: 256, rf_max_features: 24, valid_r2: 0.13653072765719865\n"
     ]
    },
    {
     "name": "stderr",
     "output_type": "stream",
     "text": [
      "DEBUG:ATOM:Got dataset, attempting to extract data\n",
      "DEBUG:ATOM:Creating deepchem dataset\n",
      "INFO:ATOM:Using prefeaturized data; number of features = 306\n",
      "WARNING:ATOM:Previous dataset split restored\n",
      "INFO:ATOM:Wrote transformers to ./../HPO/HPO_models_CYP2C9_old/cyp2c9_union_trainset_base_smiles/RF_computed_descriptors_scaffold_regression/58e14902-159d-43fb-9629-07047e441715/transformers.pkl\n",
      "INFO:ATOM:Transforming response data\n",
      "INFO:ATOM:Transforming feature data\n",
      "INFO:ATOM:Transforming response data\n",
      "INFO:ATOM:Transforming feature data\n",
      "INFO:ATOM:Transforming response data\n",
      "INFO:ATOM:Transforming feature data\n",
      "INFO:ATOM:Fitting random forest model\n",
      "INFO:ATOM:Fold 0: training r2_score = 0.902, validation r2_score = 0.143, test r2_score = 0.805\n",
      "INFO:ATOM:Wrote model tarball to ./../HPO/HPO_models_CYP2C9_old/cyp2c9_union_trainset_base_smiles_model_58e14902-159d-43fb-9629-07047e441715.tar.gz\n",
      "INFO:ATOM:Created a dataset hash '5784653341796c83c2c652313bd6db26' from dataset_key '/usr/WS2/atom/titli/MoDaC/Data/CYP2C9-ampl-1.1.0_old/cyp2c9_union_trainset_base_smiles.csv'\n",
      "DEBUG:ATOM:Attempting to load featurized dataset\n"
     ]
    },
    {
     "name": "stdout",
     "output_type": "stream",
     "text": [
      "rf_estimators: 64, rf_max_depth: 256, rf_max_features: 32, valid_r2: 0.14316868705121755\n"
     ]
    },
    {
     "name": "stderr",
     "output_type": "stream",
     "text": [
      "DEBUG:ATOM:Got dataset, attempting to extract data\n",
      "DEBUG:ATOM:Creating deepchem dataset\n",
      "INFO:ATOM:Using prefeaturized data; number of features = 306\n",
      "WARNING:ATOM:Previous dataset split restored\n",
      "INFO:ATOM:Wrote transformers to ./../HPO/HPO_models_CYP2C9_old/cyp2c9_union_trainset_base_smiles/RF_computed_descriptors_scaffold_regression/f7bd9fd3-b043-4b17-a436-2d938603e976/transformers.pkl\n",
      "INFO:ATOM:Transforming response data\n",
      "INFO:ATOM:Transforming feature data\n",
      "INFO:ATOM:Transforming response data\n",
      "INFO:ATOM:Transforming feature data\n",
      "INFO:ATOM:Transforming response data\n",
      "INFO:ATOM:Transforming feature data\n",
      "INFO:ATOM:Fitting random forest model\n",
      "INFO:ATOM:Fold 0: training r2_score = 0.903, validation r2_score = 0.140, test r2_score = 0.814\n",
      "INFO:ATOM:Wrote model tarball to ./../HPO/HPO_models_CYP2C9_old/cyp2c9_union_trainset_base_smiles_model_f7bd9fd3-b043-4b17-a436-2d938603e976.tar.gz\n",
      "INFO:ATOM:Created a dataset hash '5784653341796c83c2c652313bd6db26' from dataset_key '/usr/WS2/atom/titli/MoDaC/Data/CYP2C9-ampl-1.1.0_old/cyp2c9_union_trainset_base_smiles.csv'\n",
      "DEBUG:ATOM:Attempting to load featurized dataset\n"
     ]
    },
    {
     "name": "stdout",
     "output_type": "stream",
     "text": [
      "rf_estimators: 64, rf_max_depth: 256, rf_max_features: 64, valid_r2: 0.14041666534647845\n"
     ]
    },
    {
     "name": "stderr",
     "output_type": "stream",
     "text": [
      "DEBUG:ATOM:Got dataset, attempting to extract data\n",
      "DEBUG:ATOM:Creating deepchem dataset\n",
      "INFO:ATOM:Using prefeaturized data; number of features = 306\n",
      "WARNING:ATOM:Previous dataset split restored\n",
      "INFO:ATOM:Wrote transformers to ./../HPO/HPO_models_CYP2C9_old/cyp2c9_union_trainset_base_smiles/RF_computed_descriptors_scaffold_regression/b48c4eb9-b36d-4fb8-a6ca-6a3e744d297a/transformers.pkl\n",
      "INFO:ATOM:Transforming response data\n",
      "INFO:ATOM:Transforming feature data\n",
      "INFO:ATOM:Transforming response data\n",
      "INFO:ATOM:Transforming feature data\n",
      "INFO:ATOM:Transforming response data\n",
      "INFO:ATOM:Transforming feature data\n",
      "INFO:ATOM:Fitting random forest model\n",
      "INFO:ATOM:Fold 0: training r2_score = 0.904, validation r2_score = 0.143, test r2_score = 0.716\n",
      "INFO:ATOM:Wrote model tarball to ./../HPO/HPO_models_CYP2C9_old/cyp2c9_union_trainset_base_smiles_model_b48c4eb9-b36d-4fb8-a6ca-6a3e744d297a.tar.gz\n",
      "INFO:ATOM:Created a dataset hash '5784653341796c83c2c652313bd6db26' from dataset_key '/usr/WS2/atom/titli/MoDaC/Data/CYP2C9-ampl-1.1.0_old/cyp2c9_union_trainset_base_smiles.csv'\n",
      "DEBUG:ATOM:Attempting to load featurized dataset\n"
     ]
    },
    {
     "name": "stdout",
     "output_type": "stream",
     "text": [
      "rf_estimators: 64, rf_max_depth: 256, rf_max_features: 128, valid_r2: 0.14294897595438028\n"
     ]
    },
    {
     "name": "stderr",
     "output_type": "stream",
     "text": [
      "DEBUG:ATOM:Got dataset, attempting to extract data\n",
      "DEBUG:ATOM:Creating deepchem dataset\n",
      "INFO:ATOM:Using prefeaturized data; number of features = 306\n",
      "WARNING:ATOM:Previous dataset split restored\n",
      "INFO:ATOM:Wrote transformers to ./../HPO/HPO_models_CYP2C9_old/cyp2c9_union_trainset_base_smiles/RF_computed_descriptors_scaffold_regression/e500dd9c-78bb-4358-b9dc-0187057e1ce0/transformers.pkl\n",
      "INFO:ATOM:Transforming response data\n",
      "INFO:ATOM:Transforming feature data\n",
      "INFO:ATOM:Transforming response data\n",
      "INFO:ATOM:Transforming feature data\n",
      "INFO:ATOM:Transforming response data\n",
      "INFO:ATOM:Transforming feature data\n",
      "INFO:ATOM:Fitting random forest model\n",
      "INFO:ATOM:Fold 0: training r2_score = 0.790, validation r2_score = 0.149, test r2_score = 0.776\n",
      "INFO:ATOM:Wrote model tarball to ./../HPO/HPO_models_CYP2C9_old/cyp2c9_union_trainset_base_smiles_model_e500dd9c-78bb-4358-b9dc-0187057e1ce0.tar.gz\n",
      "INFO:ATOM:Created a dataset hash '5784653341796c83c2c652313bd6db26' from dataset_key '/usr/WS2/atom/titli/MoDaC/Data/CYP2C9-ampl-1.1.0_old/cyp2c9_union_trainset_base_smiles.csv'\n",
      "DEBUG:ATOM:Attempting to load featurized dataset\n"
     ]
    },
    {
     "name": "stdout",
     "output_type": "stream",
     "text": [
      "rf_estimators: 128, rf_max_depth: 16, rf_max_features: 16, valid_r2: 0.14909873310596022\n"
     ]
    },
    {
     "name": "stderr",
     "output_type": "stream",
     "text": [
      "DEBUG:ATOM:Got dataset, attempting to extract data\n",
      "DEBUG:ATOM:Creating deepchem dataset\n",
      "INFO:ATOM:Using prefeaturized data; number of features = 306\n",
      "WARNING:ATOM:Previous dataset split restored\n",
      "INFO:ATOM:Wrote transformers to ./../HPO/HPO_models_CYP2C9_old/cyp2c9_union_trainset_base_smiles/RF_computed_descriptors_scaffold_regression/22059ad8-4c56-40d5-b07d-691702bf74ef/transformers.pkl\n",
      "INFO:ATOM:Transforming response data\n",
      "INFO:ATOM:Transforming feature data\n",
      "INFO:ATOM:Transforming response data\n",
      "INFO:ATOM:Transforming feature data\n",
      "INFO:ATOM:Transforming response data\n",
      "INFO:ATOM:Transforming feature data\n",
      "INFO:ATOM:Fitting random forest model\n",
      "INFO:ATOM:Fold 0: training r2_score = 0.793, validation r2_score = 0.147, test r2_score = 0.791\n",
      "INFO:ATOM:Wrote model tarball to ./../HPO/HPO_models_CYP2C9_old/cyp2c9_union_trainset_base_smiles_model_22059ad8-4c56-40d5-b07d-691702bf74ef.tar.gz\n",
      "INFO:ATOM:Created a dataset hash '5784653341796c83c2c652313bd6db26' from dataset_key '/usr/WS2/atom/titli/MoDaC/Data/CYP2C9-ampl-1.1.0_old/cyp2c9_union_trainset_base_smiles.csv'\n",
      "DEBUG:ATOM:Attempting to load featurized dataset\n"
     ]
    },
    {
     "name": "stdout",
     "output_type": "stream",
     "text": [
      "rf_estimators: 128, rf_max_depth: 16, rf_max_features: 24, valid_r2: 0.14693081025437016\n"
     ]
    },
    {
     "name": "stderr",
     "output_type": "stream",
     "text": [
      "DEBUG:ATOM:Got dataset, attempting to extract data\n",
      "DEBUG:ATOM:Creating deepchem dataset\n",
      "INFO:ATOM:Using prefeaturized data; number of features = 306\n",
      "WARNING:ATOM:Previous dataset split restored\n",
      "INFO:ATOM:Wrote transformers to ./../HPO/HPO_models_CYP2C9_old/cyp2c9_union_trainset_base_smiles/RF_computed_descriptors_scaffold_regression/7eafe51a-1feb-42df-a25c-17a8d462ae1e/transformers.pkl\n",
      "INFO:ATOM:Transforming response data\n",
      "INFO:ATOM:Transforming feature data\n",
      "INFO:ATOM:Transforming response data\n",
      "INFO:ATOM:Transforming feature data\n",
      "INFO:ATOM:Transforming response data\n",
      "INFO:ATOM:Transforming feature data\n",
      "INFO:ATOM:Fitting random forest model\n",
      "INFO:ATOM:Fold 0: training r2_score = 0.790, validation r2_score = 0.148, test r2_score = 0.897\n",
      "INFO:ATOM:Wrote model tarball to ./../HPO/HPO_models_CYP2C9_old/cyp2c9_union_trainset_base_smiles_model_7eafe51a-1feb-42df-a25c-17a8d462ae1e.tar.gz\n",
      "INFO:ATOM:Created a dataset hash '5784653341796c83c2c652313bd6db26' from dataset_key '/usr/WS2/atom/titli/MoDaC/Data/CYP2C9-ampl-1.1.0_old/cyp2c9_union_trainset_base_smiles.csv'\n",
      "DEBUG:ATOM:Attempting to load featurized dataset\n"
     ]
    },
    {
     "name": "stdout",
     "output_type": "stream",
     "text": [
      "rf_estimators: 128, rf_max_depth: 16, rf_max_features: 32, valid_r2: 0.14848382706737762\n"
     ]
    },
    {
     "name": "stderr",
     "output_type": "stream",
     "text": [
      "DEBUG:ATOM:Got dataset, attempting to extract data\n",
      "DEBUG:ATOM:Creating deepchem dataset\n",
      "INFO:ATOM:Using prefeaturized data; number of features = 306\n",
      "WARNING:ATOM:Previous dataset split restored\n",
      "INFO:ATOM:Wrote transformers to ./../HPO/HPO_models_CYP2C9_old/cyp2c9_union_trainset_base_smiles/RF_computed_descriptors_scaffold_regression/16c896b0-fa9a-4b6f-997b-1d05817c398f/transformers.pkl\n",
      "INFO:ATOM:Transforming response data\n",
      "INFO:ATOM:Transforming feature data\n",
      "INFO:ATOM:Transforming response data\n",
      "INFO:ATOM:Transforming feature data\n",
      "INFO:ATOM:Transforming response data\n",
      "INFO:ATOM:Transforming feature data\n",
      "INFO:ATOM:Fitting random forest model\n",
      "INFO:ATOM:Fold 0: training r2_score = 0.793, validation r2_score = 0.148, test r2_score = 0.783\n",
      "INFO:ATOM:Wrote model tarball to ./../HPO/HPO_models_CYP2C9_old/cyp2c9_union_trainset_base_smiles_model_16c896b0-fa9a-4b6f-997b-1d05817c398f.tar.gz\n",
      "INFO:ATOM:Created a dataset hash '5784653341796c83c2c652313bd6db26' from dataset_key '/usr/WS2/atom/titli/MoDaC/Data/CYP2C9-ampl-1.1.0_old/cyp2c9_union_trainset_base_smiles.csv'\n",
      "DEBUG:ATOM:Attempting to load featurized dataset\n"
     ]
    },
    {
     "name": "stdout",
     "output_type": "stream",
     "text": [
      "rf_estimators: 128, rf_max_depth: 16, rf_max_features: 64, valid_r2: 0.14755281283706656\n"
     ]
    },
    {
     "name": "stderr",
     "output_type": "stream",
     "text": [
      "DEBUG:ATOM:Got dataset, attempting to extract data\n",
      "DEBUG:ATOM:Creating deepchem dataset\n",
      "INFO:ATOM:Using prefeaturized data; number of features = 306\n",
      "WARNING:ATOM:Previous dataset split restored\n",
      "INFO:ATOM:Wrote transformers to ./../HPO/HPO_models_CYP2C9_old/cyp2c9_union_trainset_base_smiles/RF_computed_descriptors_scaffold_regression/8e8ccb8f-5b6c-470c-9c20-524cd29f6232/transformers.pkl\n",
      "INFO:ATOM:Transforming response data\n",
      "INFO:ATOM:Transforming feature data\n",
      "INFO:ATOM:Transforming response data\n",
      "INFO:ATOM:Transforming feature data\n",
      "INFO:ATOM:Transforming response data\n",
      "INFO:ATOM:Transforming feature data\n",
      "INFO:ATOM:Fitting random forest model\n",
      "INFO:ATOM:Fold 0: training r2_score = 0.792, validation r2_score = 0.146, test r2_score = 0.887\n",
      "INFO:ATOM:Wrote model tarball to ./../HPO/HPO_models_CYP2C9_old/cyp2c9_union_trainset_base_smiles_model_8e8ccb8f-5b6c-470c-9c20-524cd29f6232.tar.gz\n",
      "INFO:ATOM:Created a dataset hash '5784653341796c83c2c652313bd6db26' from dataset_key '/usr/WS2/atom/titli/MoDaC/Data/CYP2C9-ampl-1.1.0_old/cyp2c9_union_trainset_base_smiles.csv'\n",
      "DEBUG:ATOM:Attempting to load featurized dataset\n"
     ]
    },
    {
     "name": "stdout",
     "output_type": "stream",
     "text": [
      "rf_estimators: 128, rf_max_depth: 16, rf_max_features: 128, valid_r2: 0.14588768750483805\n"
     ]
    },
    {
     "name": "stderr",
     "output_type": "stream",
     "text": [
      "DEBUG:ATOM:Got dataset, attempting to extract data\n",
      "DEBUG:ATOM:Creating deepchem dataset\n",
      "INFO:ATOM:Using prefeaturized data; number of features = 306\n",
      "WARNING:ATOM:Previous dataset split restored\n",
      "INFO:ATOM:Wrote transformers to ./../HPO/HPO_models_CYP2C9_old/cyp2c9_union_trainset_base_smiles/RF_computed_descriptors_scaffold_regression/e0be7d9a-0c3c-483a-ac44-c14e723f7068/transformers.pkl\n",
      "INFO:ATOM:Transforming response data\n",
      "INFO:ATOM:Transforming feature data\n",
      "INFO:ATOM:Transforming response data\n",
      "INFO:ATOM:Transforming feature data\n",
      "INFO:ATOM:Transforming response data\n",
      "INFO:ATOM:Transforming feature data\n",
      "INFO:ATOM:Fitting random forest model\n",
      "INFO:ATOM:Fold 0: training r2_score = 0.896, validation r2_score = 0.146, test r2_score = 0.876\n",
      "INFO:ATOM:Wrote model tarball to ./../HPO/HPO_models_CYP2C9_old/cyp2c9_union_trainset_base_smiles_model_e0be7d9a-0c3c-483a-ac44-c14e723f7068.tar.gz\n",
      "INFO:ATOM:Created a dataset hash '5784653341796c83c2c652313bd6db26' from dataset_key '/usr/WS2/atom/titli/MoDaC/Data/CYP2C9-ampl-1.1.0_old/cyp2c9_union_trainset_base_smiles.csv'\n",
      "DEBUG:ATOM:Attempting to load featurized dataset\n"
     ]
    },
    {
     "name": "stdout",
     "output_type": "stream",
     "text": [
      "rf_estimators: 128, rf_max_depth: 24, rf_max_features: 16, valid_r2: 0.14603803317565056\n"
     ]
    },
    {
     "name": "stderr",
     "output_type": "stream",
     "text": [
      "DEBUG:ATOM:Got dataset, attempting to extract data\n",
      "DEBUG:ATOM:Creating deepchem dataset\n",
      "INFO:ATOM:Using prefeaturized data; number of features = 306\n",
      "WARNING:ATOM:Previous dataset split restored\n",
      "INFO:ATOM:Wrote transformers to ./../HPO/HPO_models_CYP2C9_old/cyp2c9_union_trainset_base_smiles/RF_computed_descriptors_scaffold_regression/0484eedb-b4db-43c7-a12f-d511e3d369b3/transformers.pkl\n",
      "INFO:ATOM:Transforming response data\n",
      "INFO:ATOM:Transforming feature data\n",
      "INFO:ATOM:Transforming response data\n",
      "INFO:ATOM:Transforming feature data\n",
      "INFO:ATOM:Transforming response data\n",
      "INFO:ATOM:Transforming feature data\n",
      "INFO:ATOM:Fitting random forest model\n",
      "INFO:ATOM:Fold 0: training r2_score = 0.892, validation r2_score = 0.147, test r2_score = 0.821\n",
      "INFO:ATOM:Wrote model tarball to ./../HPO/HPO_models_CYP2C9_old/cyp2c9_union_trainset_base_smiles_model_0484eedb-b4db-43c7-a12f-d511e3d369b3.tar.gz\n",
      "INFO:ATOM:Created a dataset hash '5784653341796c83c2c652313bd6db26' from dataset_key '/usr/WS2/atom/titli/MoDaC/Data/CYP2C9-ampl-1.1.0_old/cyp2c9_union_trainset_base_smiles.csv'\n",
      "DEBUG:ATOM:Attempting to load featurized dataset\n"
     ]
    },
    {
     "name": "stdout",
     "output_type": "stream",
     "text": [
      "rf_estimators: 128, rf_max_depth: 24, rf_max_features: 24, valid_r2: 0.14720058507296285\n"
     ]
    },
    {
     "name": "stderr",
     "output_type": "stream",
     "text": [
      "DEBUG:ATOM:Got dataset, attempting to extract data\n",
      "DEBUG:ATOM:Creating deepchem dataset\n",
      "INFO:ATOM:Using prefeaturized data; number of features = 306\n",
      "WARNING:ATOM:Previous dataset split restored\n",
      "INFO:ATOM:Wrote transformers to ./../HPO/HPO_models_CYP2C9_old/cyp2c9_union_trainset_base_smiles/RF_computed_descriptors_scaffold_regression/d781454b-e1d2-4977-a6cf-205813e0986d/transformers.pkl\n",
      "INFO:ATOM:Transforming response data\n",
      "INFO:ATOM:Transforming feature data\n",
      "INFO:ATOM:Transforming response data\n",
      "INFO:ATOM:Transforming feature data\n",
      "INFO:ATOM:Transforming response data\n",
      "INFO:ATOM:Transforming feature data\n",
      "INFO:ATOM:Fitting random forest model\n",
      "INFO:ATOM:Fold 0: training r2_score = 0.892, validation r2_score = 0.152, test r2_score = 0.803\n",
      "INFO:ATOM:Wrote model tarball to ./../HPO/HPO_models_CYP2C9_old/cyp2c9_union_trainset_base_smiles_model_d781454b-e1d2-4977-a6cf-205813e0986d.tar.gz\n",
      "INFO:ATOM:Created a dataset hash '5784653341796c83c2c652313bd6db26' from dataset_key '/usr/WS2/atom/titli/MoDaC/Data/CYP2C9-ampl-1.1.0_old/cyp2c9_union_trainset_base_smiles.csv'\n",
      "DEBUG:ATOM:Attempting to load featurized dataset\n"
     ]
    },
    {
     "name": "stdout",
     "output_type": "stream",
     "text": [
      "rf_estimators: 128, rf_max_depth: 24, rf_max_features: 32, valid_r2: 0.1515207146354307\n"
     ]
    },
    {
     "name": "stderr",
     "output_type": "stream",
     "text": [
      "DEBUG:ATOM:Got dataset, attempting to extract data\n",
      "DEBUG:ATOM:Creating deepchem dataset\n",
      "INFO:ATOM:Using prefeaturized data; number of features = 306\n",
      "WARNING:ATOM:Previous dataset split restored\n",
      "INFO:ATOM:Wrote transformers to ./../HPO/HPO_models_CYP2C9_old/cyp2c9_union_trainset_base_smiles/RF_computed_descriptors_scaffold_regression/436f9fbe-1b91-43b4-88dc-3551f68b47fb/transformers.pkl\n",
      "INFO:ATOM:Transforming response data\n",
      "INFO:ATOM:Transforming feature data\n",
      "INFO:ATOM:Transforming response data\n",
      "INFO:ATOM:Transforming feature data\n",
      "INFO:ATOM:Transforming response data\n",
      "INFO:ATOM:Transforming feature data\n",
      "INFO:ATOM:Fitting random forest model\n",
      "INFO:ATOM:Fold 0: training r2_score = 0.893, validation r2_score = 0.164, test r2_score = 0.802\n",
      "INFO:ATOM:Wrote model tarball to ./../HPO/HPO_models_CYP2C9_old/cyp2c9_union_trainset_base_smiles_model_436f9fbe-1b91-43b4-88dc-3551f68b47fb.tar.gz\n",
      "INFO:ATOM:Created a dataset hash '5784653341796c83c2c652313bd6db26' from dataset_key '/usr/WS2/atom/titli/MoDaC/Data/CYP2C9-ampl-1.1.0_old/cyp2c9_union_trainset_base_smiles.csv'\n",
      "DEBUG:ATOM:Attempting to load featurized dataset\n"
     ]
    },
    {
     "name": "stdout",
     "output_type": "stream",
     "text": [
      "rf_estimators: 128, rf_max_depth: 24, rf_max_features: 64, valid_r2: 0.16441671396300306\n"
     ]
    },
    {
     "name": "stderr",
     "output_type": "stream",
     "text": [
      "DEBUG:ATOM:Got dataset, attempting to extract data\n",
      "DEBUG:ATOM:Creating deepchem dataset\n",
      "INFO:ATOM:Using prefeaturized data; number of features = 306\n",
      "WARNING:ATOM:Previous dataset split restored\n",
      "INFO:ATOM:Wrote transformers to ./../HPO/HPO_models_CYP2C9_old/cyp2c9_union_trainset_base_smiles/RF_computed_descriptors_scaffold_regression/531e7de8-bad3-4584-9cff-7c1219fefffc/transformers.pkl\n",
      "INFO:ATOM:Transforming response data\n",
      "INFO:ATOM:Transforming feature data\n",
      "INFO:ATOM:Transforming response data\n",
      "INFO:ATOM:Transforming feature data\n",
      "INFO:ATOM:Transforming response data\n",
      "INFO:ATOM:Transforming feature data\n",
      "INFO:ATOM:Fitting random forest model\n",
      "INFO:ATOM:Fold 0: training r2_score = 0.892, validation r2_score = 0.154, test r2_score = 0.952\n",
      "INFO:ATOM:Wrote model tarball to ./../HPO/HPO_models_CYP2C9_old/cyp2c9_union_trainset_base_smiles_model_531e7de8-bad3-4584-9cff-7c1219fefffc.tar.gz\n",
      "INFO:ATOM:Created a dataset hash '5784653341796c83c2c652313bd6db26' from dataset_key '/usr/WS2/atom/titli/MoDaC/Data/CYP2C9-ampl-1.1.0_old/cyp2c9_union_trainset_base_smiles.csv'\n",
      "DEBUG:ATOM:Attempting to load featurized dataset\n"
     ]
    },
    {
     "name": "stdout",
     "output_type": "stream",
     "text": [
      "rf_estimators: 128, rf_max_depth: 24, rf_max_features: 128, valid_r2: 0.15434386506535303\n"
     ]
    },
    {
     "name": "stderr",
     "output_type": "stream",
     "text": [
      "DEBUG:ATOM:Got dataset, attempting to extract data\n",
      "DEBUG:ATOM:Creating deepchem dataset\n",
      "INFO:ATOM:Using prefeaturized data; number of features = 306\n",
      "WARNING:ATOM:Previous dataset split restored\n",
      "INFO:ATOM:Wrote transformers to ./../HPO/HPO_models_CYP2C9_old/cyp2c9_union_trainset_base_smiles/RF_computed_descriptors_scaffold_regression/b44b245f-18d9-4f84-92b6-770048a07da2/transformers.pkl\n",
      "INFO:ATOM:Transforming response data\n",
      "INFO:ATOM:Transforming feature data\n",
      "INFO:ATOM:Transforming response data\n",
      "INFO:ATOM:Transforming feature data\n",
      "INFO:ATOM:Transforming response data\n",
      "INFO:ATOM:Transforming feature data\n",
      "INFO:ATOM:Fitting random forest model\n",
      "INFO:ATOM:Fold 0: training r2_score = 0.904, validation r2_score = 0.143, test r2_score = 0.862\n",
      "INFO:ATOM:Wrote model tarball to ./../HPO/HPO_models_CYP2C9_old/cyp2c9_union_trainset_base_smiles_model_b44b245f-18d9-4f84-92b6-770048a07da2.tar.gz\n"
     ]
    },
    {
     "name": "stdout",
     "output_type": "stream",
     "text": [
      "rf_estimators: 128, rf_max_depth: 32, rf_max_features: 16, valid_r2: 0.14257196966691066\n"
     ]
    },
    {
     "name": "stderr",
     "output_type": "stream",
     "text": [
      "INFO:ATOM:Created a dataset hash '5784653341796c83c2c652313bd6db26' from dataset_key '/usr/WS2/atom/titli/MoDaC/Data/CYP2C9-ampl-1.1.0_old/cyp2c9_union_trainset_base_smiles.csv'\n",
      "DEBUG:ATOM:Attempting to load featurized dataset\n",
      "DEBUG:ATOM:Got dataset, attempting to extract data\n",
      "DEBUG:ATOM:Creating deepchem dataset\n",
      "INFO:ATOM:Using prefeaturized data; number of features = 306\n",
      "WARNING:ATOM:Previous dataset split restored\n",
      "INFO:ATOM:Wrote transformers to ./../HPO/HPO_models_CYP2C9_old/cyp2c9_union_trainset_base_smiles/RF_computed_descriptors_scaffold_regression/662867b9-500d-4104-a323-b76933b40496/transformers.pkl\n",
      "INFO:ATOM:Transforming response data\n",
      "INFO:ATOM:Transforming feature data\n",
      "INFO:ATOM:Transforming response data\n",
      "INFO:ATOM:Transforming feature data\n",
      "INFO:ATOM:Transforming response data\n",
      "INFO:ATOM:Transforming feature data\n",
      "INFO:ATOM:Fitting random forest model\n",
      "INFO:ATOM:Fold 0: training r2_score = 0.905, validation r2_score = 0.152, test r2_score = 0.868\n",
      "INFO:ATOM:Wrote model tarball to ./../HPO/HPO_models_CYP2C9_old/cyp2c9_union_trainset_base_smiles_model_662867b9-500d-4104-a323-b76933b40496.tar.gz\n",
      "INFO:ATOM:Created a dataset hash '5784653341796c83c2c652313bd6db26' from dataset_key '/usr/WS2/atom/titli/MoDaC/Data/CYP2C9-ampl-1.1.0_old/cyp2c9_union_trainset_base_smiles.csv'\n",
      "DEBUG:ATOM:Attempting to load featurized dataset\n"
     ]
    },
    {
     "name": "stdout",
     "output_type": "stream",
     "text": [
      "rf_estimators: 128, rf_max_depth: 32, rf_max_features: 24, valid_r2: 0.15172963449860333\n"
     ]
    },
    {
     "name": "stderr",
     "output_type": "stream",
     "text": [
      "DEBUG:ATOM:Got dataset, attempting to extract data\n",
      "DEBUG:ATOM:Creating deepchem dataset\n",
      "INFO:ATOM:Using prefeaturized data; number of features = 306\n",
      "WARNING:ATOM:Previous dataset split restored\n",
      "INFO:ATOM:Wrote transformers to ./../HPO/HPO_models_CYP2C9_old/cyp2c9_union_trainset_base_smiles/RF_computed_descriptors_scaffold_regression/caaa1260-8715-4abb-8ce2-79366233a919/transformers.pkl\n",
      "INFO:ATOM:Transforming response data\n",
      "INFO:ATOM:Transforming feature data\n",
      "INFO:ATOM:Transforming response data\n",
      "INFO:ATOM:Transforming feature data\n",
      "INFO:ATOM:Transforming response data\n",
      "INFO:ATOM:Transforming feature data\n",
      "INFO:ATOM:Fitting random forest model\n",
      "INFO:ATOM:Fold 0: training r2_score = 0.904, validation r2_score = 0.145, test r2_score = 0.690\n",
      "INFO:ATOM:Wrote model tarball to ./../HPO/HPO_models_CYP2C9_old/cyp2c9_union_trainset_base_smiles_model_caaa1260-8715-4abb-8ce2-79366233a919.tar.gz\n",
      "INFO:ATOM:Created a dataset hash '5784653341796c83c2c652313bd6db26' from dataset_key '/usr/WS2/atom/titli/MoDaC/Data/CYP2C9-ampl-1.1.0_old/cyp2c9_union_trainset_base_smiles.csv'\n",
      "DEBUG:ATOM:Attempting to load featurized dataset\n"
     ]
    },
    {
     "name": "stdout",
     "output_type": "stream",
     "text": [
      "rf_estimators: 128, rf_max_depth: 32, rf_max_features: 32, valid_r2: 0.14506160302632676\n"
     ]
    },
    {
     "name": "stderr",
     "output_type": "stream",
     "text": [
      "DEBUG:ATOM:Got dataset, attempting to extract data\n",
      "DEBUG:ATOM:Creating deepchem dataset\n",
      "INFO:ATOM:Using prefeaturized data; number of features = 306\n",
      "WARNING:ATOM:Previous dataset split restored\n",
      "INFO:ATOM:Wrote transformers to ./../HPO/HPO_models_CYP2C9_old/cyp2c9_union_trainset_base_smiles/RF_computed_descriptors_scaffold_regression/0b7526be-e862-436f-bc8f-dd79983efe3d/transformers.pkl\n",
      "INFO:ATOM:Transforming response data\n",
      "INFO:ATOM:Transforming feature data\n",
      "INFO:ATOM:Transforming response data\n",
      "INFO:ATOM:Transforming feature data\n",
      "INFO:ATOM:Transforming response data\n",
      "INFO:ATOM:Transforming feature data\n",
      "INFO:ATOM:Fitting random forest model\n",
      "INFO:ATOM:Fold 0: training r2_score = 0.905, validation r2_score = 0.155, test r2_score = 0.870\n",
      "INFO:ATOM:Wrote model tarball to ./../HPO/HPO_models_CYP2C9_old/cyp2c9_union_trainset_base_smiles_model_0b7526be-e862-436f-bc8f-dd79983efe3d.tar.gz\n",
      "INFO:ATOM:Created a dataset hash '5784653341796c83c2c652313bd6db26' from dataset_key '/usr/WS2/atom/titli/MoDaC/Data/CYP2C9-ampl-1.1.0_old/cyp2c9_union_trainset_base_smiles.csv'\n",
      "DEBUG:ATOM:Attempting to load featurized dataset\n"
     ]
    },
    {
     "name": "stdout",
     "output_type": "stream",
     "text": [
      "rf_estimators: 128, rf_max_depth: 32, rf_max_features: 64, valid_r2: 0.15511069472453065\n"
     ]
    },
    {
     "name": "stderr",
     "output_type": "stream",
     "text": [
      "DEBUG:ATOM:Got dataset, attempting to extract data\n",
      "DEBUG:ATOM:Creating deepchem dataset\n",
      "INFO:ATOM:Using prefeaturized data; number of features = 306\n",
      "WARNING:ATOM:Previous dataset split restored\n",
      "INFO:ATOM:Wrote transformers to ./../HPO/HPO_models_CYP2C9_old/cyp2c9_union_trainset_base_smiles/RF_computed_descriptors_scaffold_regression/9102aba1-afec-456f-b5af-14e848993e2c/transformers.pkl\n",
      "INFO:ATOM:Transforming response data\n",
      "INFO:ATOM:Transforming feature data\n",
      "INFO:ATOM:Transforming response data\n",
      "INFO:ATOM:Transforming feature data\n",
      "INFO:ATOM:Transforming response data\n",
      "INFO:ATOM:Transforming feature data\n",
      "INFO:ATOM:Fitting random forest model\n",
      "INFO:ATOM:Fold 0: training r2_score = 0.906, validation r2_score = 0.155, test r2_score = 0.751\n",
      "INFO:ATOM:Wrote model tarball to ./../HPO/HPO_models_CYP2C9_old/cyp2c9_union_trainset_base_smiles_model_9102aba1-afec-456f-b5af-14e848993e2c.tar.gz\n",
      "INFO:ATOM:Created a dataset hash '5784653341796c83c2c652313bd6db26' from dataset_key '/usr/WS2/atom/titli/MoDaC/Data/CYP2C9-ampl-1.1.0_old/cyp2c9_union_trainset_base_smiles.csv'\n",
      "DEBUG:ATOM:Attempting to load featurized dataset\n"
     ]
    },
    {
     "name": "stdout",
     "output_type": "stream",
     "text": [
      "rf_estimators: 128, rf_max_depth: 32, rf_max_features: 128, valid_r2: 0.1554033386416971\n"
     ]
    },
    {
     "name": "stderr",
     "output_type": "stream",
     "text": [
      "DEBUG:ATOM:Got dataset, attempting to extract data\n",
      "DEBUG:ATOM:Creating deepchem dataset\n",
      "INFO:ATOM:Using prefeaturized data; number of features = 306\n",
      "WARNING:ATOM:Previous dataset split restored\n",
      "INFO:ATOM:Wrote transformers to ./../HPO/HPO_models_CYP2C9_old/cyp2c9_union_trainset_base_smiles/RF_computed_descriptors_scaffold_regression/101d1c3d-891a-4c4f-9b0c-710a04131489/transformers.pkl\n",
      "INFO:ATOM:Transforming response data\n",
      "INFO:ATOM:Transforming feature data\n",
      "INFO:ATOM:Transforming response data\n",
      "INFO:ATOM:Transforming feature data\n",
      "INFO:ATOM:Transforming response data\n",
      "INFO:ATOM:Transforming feature data\n",
      "INFO:ATOM:Fitting random forest model\n",
      "INFO:ATOM:Fold 0: training r2_score = 0.904, validation r2_score = 0.149, test r2_score = 0.777\n",
      "INFO:ATOM:Wrote model tarball to ./../HPO/HPO_models_CYP2C9_old/cyp2c9_union_trainset_base_smiles_model_101d1c3d-891a-4c4f-9b0c-710a04131489.tar.gz\n",
      "INFO:ATOM:Created a dataset hash '5784653341796c83c2c652313bd6db26' from dataset_key '/usr/WS2/atom/titli/MoDaC/Data/CYP2C9-ampl-1.1.0_old/cyp2c9_union_trainset_base_smiles.csv'\n",
      "DEBUG:ATOM:Attempting to load featurized dataset\n"
     ]
    },
    {
     "name": "stdout",
     "output_type": "stream",
     "text": [
      "rf_estimators: 128, rf_max_depth: 64, rf_max_features: 16, valid_r2: 0.14941105163674684\n"
     ]
    },
    {
     "name": "stderr",
     "output_type": "stream",
     "text": [
      "DEBUG:ATOM:Got dataset, attempting to extract data\n",
      "DEBUG:ATOM:Creating deepchem dataset\n",
      "INFO:ATOM:Using prefeaturized data; number of features = 306\n",
      "WARNING:ATOM:Previous dataset split restored\n",
      "INFO:ATOM:Wrote transformers to ./../HPO/HPO_models_CYP2C9_old/cyp2c9_union_trainset_base_smiles/RF_computed_descriptors_scaffold_regression/7e2794c4-a90f-4f33-aef5-209cc18acce6/transformers.pkl\n",
      "INFO:ATOM:Transforming response data\n",
      "INFO:ATOM:Transforming feature data\n",
      "INFO:ATOM:Transforming response data\n",
      "INFO:ATOM:Transforming feature data\n",
      "INFO:ATOM:Transforming response data\n",
      "INFO:ATOM:Transforming feature data\n",
      "INFO:ATOM:Fitting random forest model\n",
      "INFO:ATOM:Fold 0: training r2_score = 0.904, validation r2_score = 0.145, test r2_score = 0.773\n",
      "INFO:ATOM:Wrote model tarball to ./../HPO/HPO_models_CYP2C9_old/cyp2c9_union_trainset_base_smiles_model_7e2794c4-a90f-4f33-aef5-209cc18acce6.tar.gz\n",
      "INFO:ATOM:Created a dataset hash '5784653341796c83c2c652313bd6db26' from dataset_key '/usr/WS2/atom/titli/MoDaC/Data/CYP2C9-ampl-1.1.0_old/cyp2c9_union_trainset_base_smiles.csv'\n",
      "DEBUG:ATOM:Attempting to load featurized dataset\n"
     ]
    },
    {
     "name": "stdout",
     "output_type": "stream",
     "text": [
      "rf_estimators: 128, rf_max_depth: 64, rf_max_features: 24, valid_r2: 0.14456582884949587\n"
     ]
    },
    {
     "name": "stderr",
     "output_type": "stream",
     "text": [
      "DEBUG:ATOM:Got dataset, attempting to extract data\n",
      "DEBUG:ATOM:Creating deepchem dataset\n",
      "INFO:ATOM:Using prefeaturized data; number of features = 306\n",
      "WARNING:ATOM:Previous dataset split restored\n",
      "INFO:ATOM:Wrote transformers to ./../HPO/HPO_models_CYP2C9_old/cyp2c9_union_trainset_base_smiles/RF_computed_descriptors_scaffold_regression/2c008b9e-ba71-48f9-8df3-59d928590333/transformers.pkl\n",
      "INFO:ATOM:Transforming response data\n",
      "INFO:ATOM:Transforming feature data\n",
      "INFO:ATOM:Transforming response data\n",
      "INFO:ATOM:Transforming feature data\n",
      "INFO:ATOM:Transforming response data\n",
      "INFO:ATOM:Transforming feature data\n",
      "INFO:ATOM:Fitting random forest model\n",
      "INFO:ATOM:Fold 0: training r2_score = 0.906, validation r2_score = 0.147, test r2_score = 0.801\n",
      "INFO:ATOM:Wrote model tarball to ./../HPO/HPO_models_CYP2C9_old/cyp2c9_union_trainset_base_smiles_model_2c008b9e-ba71-48f9-8df3-59d928590333.tar.gz\n",
      "INFO:ATOM:Created a dataset hash '5784653341796c83c2c652313bd6db26' from dataset_key '/usr/WS2/atom/titli/MoDaC/Data/CYP2C9-ampl-1.1.0_old/cyp2c9_union_trainset_base_smiles.csv'\n",
      "DEBUG:ATOM:Attempting to load featurized dataset\n"
     ]
    },
    {
     "name": "stdout",
     "output_type": "stream",
     "text": [
      "rf_estimators: 128, rf_max_depth: 64, rf_max_features: 32, valid_r2: 0.14744077544587497\n"
     ]
    },
    {
     "name": "stderr",
     "output_type": "stream",
     "text": [
      "DEBUG:ATOM:Got dataset, attempting to extract data\n",
      "DEBUG:ATOM:Creating deepchem dataset\n",
      "INFO:ATOM:Using prefeaturized data; number of features = 306\n",
      "WARNING:ATOM:Previous dataset split restored\n",
      "INFO:ATOM:Wrote transformers to ./../HPO/HPO_models_CYP2C9_old/cyp2c9_union_trainset_base_smiles/RF_computed_descriptors_scaffold_regression/2298a4d9-c136-4c35-9ae1-787455a8b8a9/transformers.pkl\n",
      "INFO:ATOM:Transforming response data\n",
      "INFO:ATOM:Transforming feature data\n",
      "INFO:ATOM:Transforming response data\n",
      "INFO:ATOM:Transforming feature data\n",
      "INFO:ATOM:Transforming response data\n",
      "INFO:ATOM:Transforming feature data\n",
      "INFO:ATOM:Fitting random forest model\n",
      "INFO:ATOM:Fold 0: training r2_score = 0.906, validation r2_score = 0.153, test r2_score = 0.804\n",
      "INFO:ATOM:Wrote model tarball to ./../HPO/HPO_models_CYP2C9_old/cyp2c9_union_trainset_base_smiles_model_2298a4d9-c136-4c35-9ae1-787455a8b8a9.tar.gz\n",
      "INFO:ATOM:Created a dataset hash '5784653341796c83c2c652313bd6db26' from dataset_key '/usr/WS2/atom/titli/MoDaC/Data/CYP2C9-ampl-1.1.0_old/cyp2c9_union_trainset_base_smiles.csv'\n",
      "DEBUG:ATOM:Attempting to load featurized dataset\n"
     ]
    },
    {
     "name": "stdout",
     "output_type": "stream",
     "text": [
      "rf_estimators: 128, rf_max_depth: 64, rf_max_features: 64, valid_r2: 0.15262171459075635\n"
     ]
    },
    {
     "name": "stderr",
     "output_type": "stream",
     "text": [
      "DEBUG:ATOM:Got dataset, attempting to extract data\n",
      "DEBUG:ATOM:Creating deepchem dataset\n",
      "INFO:ATOM:Using prefeaturized data; number of features = 306\n",
      "WARNING:ATOM:Previous dataset split restored\n",
      "INFO:ATOM:Wrote transformers to ./../HPO/HPO_models_CYP2C9_old/cyp2c9_union_trainset_base_smiles/RF_computed_descriptors_scaffold_regression/51df23e3-c9d3-40a3-9a1c-fcb3bc09ca23/transformers.pkl\n",
      "INFO:ATOM:Transforming response data\n",
      "INFO:ATOM:Transforming feature data\n",
      "INFO:ATOM:Transforming response data\n",
      "INFO:ATOM:Transforming feature data\n",
      "INFO:ATOM:Transforming response data\n",
      "INFO:ATOM:Transforming feature data\n",
      "INFO:ATOM:Fitting random forest model\n",
      "INFO:ATOM:Fold 0: training r2_score = 0.907, validation r2_score = 0.157, test r2_score = 0.731\n",
      "INFO:ATOM:Wrote model tarball to ./../HPO/HPO_models_CYP2C9_old/cyp2c9_union_trainset_base_smiles_model_51df23e3-c9d3-40a3-9a1c-fcb3bc09ca23.tar.gz\n",
      "INFO:ATOM:Created a dataset hash '5784653341796c83c2c652313bd6db26' from dataset_key '/usr/WS2/atom/titli/MoDaC/Data/CYP2C9-ampl-1.1.0_old/cyp2c9_union_trainset_base_smiles.csv'\n",
      "DEBUG:ATOM:Attempting to load featurized dataset\n"
     ]
    },
    {
     "name": "stdout",
     "output_type": "stream",
     "text": [
      "rf_estimators: 128, rf_max_depth: 64, rf_max_features: 128, valid_r2: 0.15701590841208846\n"
     ]
    },
    {
     "name": "stderr",
     "output_type": "stream",
     "text": [
      "DEBUG:ATOM:Got dataset, attempting to extract data\n",
      "DEBUG:ATOM:Creating deepchem dataset\n",
      "INFO:ATOM:Using prefeaturized data; number of features = 306\n",
      "WARNING:ATOM:Previous dataset split restored\n",
      "INFO:ATOM:Wrote transformers to ./../HPO/HPO_models_CYP2C9_old/cyp2c9_union_trainset_base_smiles/RF_computed_descriptors_scaffold_regression/cb034ede-8705-48fa-9089-56ca1b6fa1b1/transformers.pkl\n",
      "INFO:ATOM:Transforming response data\n",
      "INFO:ATOM:Transforming feature data\n",
      "INFO:ATOM:Transforming response data\n",
      "INFO:ATOM:Transforming feature data\n",
      "INFO:ATOM:Transforming response data\n",
      "INFO:ATOM:Transforming feature data\n",
      "INFO:ATOM:Fitting random forest model\n",
      "INFO:ATOM:Fold 0: training r2_score = 0.906, validation r2_score = 0.146, test r2_score = 0.796\n",
      "INFO:ATOM:Wrote model tarball to ./../HPO/HPO_models_CYP2C9_old/cyp2c9_union_trainset_base_smiles_model_cb034ede-8705-48fa-9089-56ca1b6fa1b1.tar.gz\n",
      "INFO:ATOM:Created a dataset hash '5784653341796c83c2c652313bd6db26' from dataset_key '/usr/WS2/atom/titli/MoDaC/Data/CYP2C9-ampl-1.1.0_old/cyp2c9_union_trainset_base_smiles.csv'\n",
      "DEBUG:ATOM:Attempting to load featurized dataset\n"
     ]
    },
    {
     "name": "stdout",
     "output_type": "stream",
     "text": [
      "rf_estimators: 128, rf_max_depth: 128, rf_max_features: 16, valid_r2: 0.14577429935975894\n"
     ]
    },
    {
     "name": "stderr",
     "output_type": "stream",
     "text": [
      "DEBUG:ATOM:Got dataset, attempting to extract data\n",
      "DEBUG:ATOM:Creating deepchem dataset\n",
      "INFO:ATOM:Using prefeaturized data; number of features = 306\n",
      "WARNING:ATOM:Previous dataset split restored\n",
      "INFO:ATOM:Wrote transformers to ./../HPO/HPO_models_CYP2C9_old/cyp2c9_union_trainset_base_smiles/RF_computed_descriptors_scaffold_regression/7baede55-43f7-4038-9802-0d2d628639fb/transformers.pkl\n",
      "INFO:ATOM:Transforming response data\n",
      "INFO:ATOM:Transforming feature data\n",
      "INFO:ATOM:Transforming response data\n",
      "INFO:ATOM:Transforming feature data\n",
      "INFO:ATOM:Transforming response data\n",
      "INFO:ATOM:Transforming feature data\n",
      "INFO:ATOM:Fitting random forest model\n",
      "INFO:ATOM:Fold 0: training r2_score = 0.905, validation r2_score = 0.150, test r2_score = 0.872\n",
      "INFO:ATOM:Wrote model tarball to ./../HPO/HPO_models_CYP2C9_old/cyp2c9_union_trainset_base_smiles_model_7baede55-43f7-4038-9802-0d2d628639fb.tar.gz\n",
      "INFO:ATOM:Created a dataset hash '5784653341796c83c2c652313bd6db26' from dataset_key '/usr/WS2/atom/titli/MoDaC/Data/CYP2C9-ampl-1.1.0_old/cyp2c9_union_trainset_base_smiles.csv'\n",
      "DEBUG:ATOM:Attempting to load featurized dataset\n"
     ]
    },
    {
     "name": "stdout",
     "output_type": "stream",
     "text": [
      "rf_estimators: 128, rf_max_depth: 128, rf_max_features: 24, valid_r2: 0.15033277603554296\n"
     ]
    },
    {
     "name": "stderr",
     "output_type": "stream",
     "text": [
      "DEBUG:ATOM:Got dataset, attempting to extract data\n",
      "DEBUG:ATOM:Creating deepchem dataset\n",
      "INFO:ATOM:Using prefeaturized data; number of features = 306\n",
      "WARNING:ATOM:Previous dataset split restored\n",
      "INFO:ATOM:Wrote transformers to ./../HPO/HPO_models_CYP2C9_old/cyp2c9_union_trainset_base_smiles/RF_computed_descriptors_scaffold_regression/14627cb4-1d4d-4b57-9396-9767cea8ada3/transformers.pkl\n",
      "INFO:ATOM:Transforming response data\n",
      "INFO:ATOM:Transforming feature data\n",
      "INFO:ATOM:Transforming response data\n",
      "INFO:ATOM:Transforming feature data\n",
      "INFO:ATOM:Transforming response data\n",
      "INFO:ATOM:Transforming feature data\n",
      "INFO:ATOM:Fitting random forest model\n",
      "INFO:ATOM:Fold 0: training r2_score = 0.905, validation r2_score = 0.152, test r2_score = 0.911\n",
      "INFO:ATOM:Wrote model tarball to ./../HPO/HPO_models_CYP2C9_old/cyp2c9_union_trainset_base_smiles_model_14627cb4-1d4d-4b57-9396-9767cea8ada3.tar.gz\n",
      "INFO:ATOM:Created a dataset hash '5784653341796c83c2c652313bd6db26' from dataset_key '/usr/WS2/atom/titli/MoDaC/Data/CYP2C9-ampl-1.1.0_old/cyp2c9_union_trainset_base_smiles.csv'\n",
      "DEBUG:ATOM:Attempting to load featurized dataset\n"
     ]
    },
    {
     "name": "stdout",
     "output_type": "stream",
     "text": [
      "rf_estimators: 128, rf_max_depth: 128, rf_max_features: 32, valid_r2: 0.1518671668270246\n"
     ]
    },
    {
     "name": "stderr",
     "output_type": "stream",
     "text": [
      "DEBUG:ATOM:Got dataset, attempting to extract data\n",
      "DEBUG:ATOM:Creating deepchem dataset\n",
      "INFO:ATOM:Using prefeaturized data; number of features = 306\n",
      "WARNING:ATOM:Previous dataset split restored\n",
      "INFO:ATOM:Wrote transformers to ./../HPO/HPO_models_CYP2C9_old/cyp2c9_union_trainset_base_smiles/RF_computed_descriptors_scaffold_regression/19ec4cf3-39d0-4bf6-b439-1b69e5485b81/transformers.pkl\n",
      "INFO:ATOM:Transforming response data\n",
      "INFO:ATOM:Transforming feature data\n",
      "INFO:ATOM:Transforming response data\n",
      "INFO:ATOM:Transforming feature data\n",
      "INFO:ATOM:Transforming response data\n",
      "INFO:ATOM:Transforming feature data\n",
      "INFO:ATOM:Fitting random forest model\n",
      "INFO:ATOM:Fold 0: training r2_score = 0.907, validation r2_score = 0.154, test r2_score = 0.778\n",
      "INFO:ATOM:Wrote model tarball to ./../HPO/HPO_models_CYP2C9_old/cyp2c9_union_trainset_base_smiles_model_19ec4cf3-39d0-4bf6-b439-1b69e5485b81.tar.gz\n",
      "INFO:ATOM:Created a dataset hash '5784653341796c83c2c652313bd6db26' from dataset_key '/usr/WS2/atom/titli/MoDaC/Data/CYP2C9-ampl-1.1.0_old/cyp2c9_union_trainset_base_smiles.csv'\n",
      "DEBUG:ATOM:Attempting to load featurized dataset\n"
     ]
    },
    {
     "name": "stdout",
     "output_type": "stream",
     "text": [
      "rf_estimators: 128, rf_max_depth: 128, rf_max_features: 64, valid_r2: 0.15445188404727317\n"
     ]
    },
    {
     "name": "stderr",
     "output_type": "stream",
     "text": [
      "DEBUG:ATOM:Got dataset, attempting to extract data\n",
      "DEBUG:ATOM:Creating deepchem dataset\n",
      "INFO:ATOM:Using prefeaturized data; number of features = 306\n",
      "WARNING:ATOM:Previous dataset split restored\n",
      "INFO:ATOM:Wrote transformers to ./../HPO/HPO_models_CYP2C9_old/cyp2c9_union_trainset_base_smiles/RF_computed_descriptors_scaffold_regression/d2aa20d2-3c1c-4307-88c3-587760a464c9/transformers.pkl\n",
      "INFO:ATOM:Transforming response data\n",
      "INFO:ATOM:Transforming feature data\n",
      "INFO:ATOM:Transforming response data\n",
      "INFO:ATOM:Transforming feature data\n",
      "INFO:ATOM:Transforming response data\n",
      "INFO:ATOM:Transforming feature data\n",
      "INFO:ATOM:Fitting random forest model\n",
      "INFO:ATOM:Fold 0: training r2_score = 0.906, validation r2_score = 0.155, test r2_score = 0.888\n",
      "INFO:ATOM:Wrote model tarball to ./../HPO/HPO_models_CYP2C9_old/cyp2c9_union_trainset_base_smiles_model_d2aa20d2-3c1c-4307-88c3-587760a464c9.tar.gz\n",
      "INFO:ATOM:Created a dataset hash '5784653341796c83c2c652313bd6db26' from dataset_key '/usr/WS2/atom/titli/MoDaC/Data/CYP2C9-ampl-1.1.0_old/cyp2c9_union_trainset_base_smiles.csv'\n",
      "DEBUG:ATOM:Attempting to load featurized dataset\n"
     ]
    },
    {
     "name": "stdout",
     "output_type": "stream",
     "text": [
      "rf_estimators: 128, rf_max_depth: 128, rf_max_features: 128, valid_r2: 0.15481508626245533\n"
     ]
    },
    {
     "name": "stderr",
     "output_type": "stream",
     "text": [
      "DEBUG:ATOM:Got dataset, attempting to extract data\n",
      "DEBUG:ATOM:Creating deepchem dataset\n",
      "INFO:ATOM:Using prefeaturized data; number of features = 306\n",
      "WARNING:ATOM:Previous dataset split restored\n",
      "INFO:ATOM:Wrote transformers to ./../HPO/HPO_models_CYP2C9_old/cyp2c9_union_trainset_base_smiles/RF_computed_descriptors_scaffold_regression/33e09a6a-01da-4898-9f5b-03121bcbf323/transformers.pkl\n",
      "INFO:ATOM:Transforming response data\n",
      "INFO:ATOM:Transforming feature data\n",
      "INFO:ATOM:Transforming response data\n",
      "INFO:ATOM:Transforming feature data\n",
      "INFO:ATOM:Transforming response data\n",
      "INFO:ATOM:Transforming feature data\n",
      "INFO:ATOM:Fitting random forest model\n",
      "INFO:ATOM:Fold 0: training r2_score = 0.906, validation r2_score = 0.157, test r2_score = 0.916\n",
      "INFO:ATOM:Wrote model tarball to ./../HPO/HPO_models_CYP2C9_old/cyp2c9_union_trainset_base_smiles_model_33e09a6a-01da-4898-9f5b-03121bcbf323.tar.gz\n",
      "INFO:ATOM:Created a dataset hash '5784653341796c83c2c652313bd6db26' from dataset_key '/usr/WS2/atom/titli/MoDaC/Data/CYP2C9-ampl-1.1.0_old/cyp2c9_union_trainset_base_smiles.csv'\n",
      "DEBUG:ATOM:Attempting to load featurized dataset\n"
     ]
    },
    {
     "name": "stdout",
     "output_type": "stream",
     "text": [
      "rf_estimators: 128, rf_max_depth: 256, rf_max_features: 16, valid_r2: 0.1571424925089\n"
     ]
    },
    {
     "name": "stderr",
     "output_type": "stream",
     "text": [
      "DEBUG:ATOM:Got dataset, attempting to extract data\n",
      "DEBUG:ATOM:Creating deepchem dataset\n",
      "INFO:ATOM:Using prefeaturized data; number of features = 306\n",
      "WARNING:ATOM:Previous dataset split restored\n",
      "INFO:ATOM:Wrote transformers to ./../HPO/HPO_models_CYP2C9_old/cyp2c9_union_trainset_base_smiles/RF_computed_descriptors_scaffold_regression/bef43b8c-87c9-49ac-ab32-605cd432d622/transformers.pkl\n",
      "INFO:ATOM:Transforming response data\n",
      "INFO:ATOM:Transforming feature data\n",
      "INFO:ATOM:Transforming response data\n",
      "INFO:ATOM:Transforming feature data\n",
      "INFO:ATOM:Transforming response data\n",
      "INFO:ATOM:Transforming feature data\n",
      "INFO:ATOM:Fitting random forest model\n",
      "INFO:ATOM:Fold 0: training r2_score = 0.905, validation r2_score = 0.159, test r2_score = 0.897\n",
      "INFO:ATOM:Wrote model tarball to ./../HPO/HPO_models_CYP2C9_old/cyp2c9_union_trainset_base_smiles_model_bef43b8c-87c9-49ac-ab32-605cd432d622.tar.gz\n",
      "INFO:ATOM:Created a dataset hash '5784653341796c83c2c652313bd6db26' from dataset_key '/usr/WS2/atom/titli/MoDaC/Data/CYP2C9-ampl-1.1.0_old/cyp2c9_union_trainset_base_smiles.csv'\n",
      "DEBUG:ATOM:Attempting to load featurized dataset\n"
     ]
    },
    {
     "name": "stdout",
     "output_type": "stream",
     "text": [
      "rf_estimators: 128, rf_max_depth: 256, rf_max_features: 24, valid_r2: 0.1594578719559272\n"
     ]
    },
    {
     "name": "stderr",
     "output_type": "stream",
     "text": [
      "DEBUG:ATOM:Got dataset, attempting to extract data\n",
      "DEBUG:ATOM:Creating deepchem dataset\n",
      "INFO:ATOM:Using prefeaturized data; number of features = 306\n",
      "WARNING:ATOM:Previous dataset split restored\n",
      "INFO:ATOM:Wrote transformers to ./../HPO/HPO_models_CYP2C9_old/cyp2c9_union_trainset_base_smiles/RF_computed_descriptors_scaffold_regression/95721633-9d73-482f-81dc-34053ccb19ad/transformers.pkl\n",
      "INFO:ATOM:Transforming response data\n",
      "INFO:ATOM:Transforming feature data\n",
      "INFO:ATOM:Transforming response data\n",
      "INFO:ATOM:Transforming feature data\n",
      "INFO:ATOM:Transforming response data\n",
      "INFO:ATOM:Transforming feature data\n",
      "INFO:ATOM:Fitting random forest model\n",
      "INFO:ATOM:Fold 0: training r2_score = 0.906, validation r2_score = 0.147, test r2_score = 0.907\n",
      "INFO:ATOM:Wrote model tarball to ./../HPO/HPO_models_CYP2C9_old/cyp2c9_union_trainset_base_smiles_model_95721633-9d73-482f-81dc-34053ccb19ad.tar.gz\n",
      "INFO:ATOM:Created a dataset hash '5784653341796c83c2c652313bd6db26' from dataset_key '/usr/WS2/atom/titli/MoDaC/Data/CYP2C9-ampl-1.1.0_old/cyp2c9_union_trainset_base_smiles.csv'\n"
     ]
    },
    {
     "name": "stdout",
     "output_type": "stream",
     "text": [
      "rf_estimators: 128, rf_max_depth: 256, rf_max_features: 32, valid_r2: 0.14718389418378552\n"
     ]
    },
    {
     "name": "stderr",
     "output_type": "stream",
     "text": [
      "DEBUG:ATOM:Attempting to load featurized dataset\n",
      "DEBUG:ATOM:Got dataset, attempting to extract data\n",
      "DEBUG:ATOM:Creating deepchem dataset\n",
      "INFO:ATOM:Using prefeaturized data; number of features = 306\n",
      "WARNING:ATOM:Previous dataset split restored\n",
      "INFO:ATOM:Wrote transformers to ./../HPO/HPO_models_CYP2C9_old/cyp2c9_union_trainset_base_smiles/RF_computed_descriptors_scaffold_regression/610b05c1-37ec-43a8-a57b-1703d99b73b7/transformers.pkl\n",
      "INFO:ATOM:Transforming response data\n",
      "INFO:ATOM:Transforming feature data\n",
      "INFO:ATOM:Transforming response data\n",
      "INFO:ATOM:Transforming feature data\n",
      "INFO:ATOM:Transforming response data\n",
      "INFO:ATOM:Transforming feature data\n",
      "INFO:ATOM:Fitting random forest model\n",
      "INFO:ATOM:Fold 0: training r2_score = 0.906, validation r2_score = 0.159, test r2_score = 0.841\n",
      "INFO:ATOM:Wrote model tarball to ./../HPO/HPO_models_CYP2C9_old/cyp2c9_union_trainset_base_smiles_model_610b05c1-37ec-43a8-a57b-1703d99b73b7.tar.gz\n",
      "INFO:ATOM:Created a dataset hash '5784653341796c83c2c652313bd6db26' from dataset_key '/usr/WS2/atom/titli/MoDaC/Data/CYP2C9-ampl-1.1.0_old/cyp2c9_union_trainset_base_smiles.csv'\n",
      "DEBUG:ATOM:Attempting to load featurized dataset\n"
     ]
    },
    {
     "name": "stdout",
     "output_type": "stream",
     "text": [
      "rf_estimators: 128, rf_max_depth: 256, rf_max_features: 64, valid_r2: 0.15924373948282788\n"
     ]
    },
    {
     "name": "stderr",
     "output_type": "stream",
     "text": [
      "DEBUG:ATOM:Got dataset, attempting to extract data\n",
      "DEBUG:ATOM:Creating deepchem dataset\n",
      "INFO:ATOM:Using prefeaturized data; number of features = 306\n",
      "WARNING:ATOM:Previous dataset split restored\n",
      "INFO:ATOM:Wrote transformers to ./../HPO/HPO_models_CYP2C9_old/cyp2c9_union_trainset_base_smiles/RF_computed_descriptors_scaffold_regression/8a251052-3741-4159-9511-5adb5e5a515c/transformers.pkl\n",
      "INFO:ATOM:Transforming response data\n",
      "INFO:ATOM:Transforming feature data\n",
      "INFO:ATOM:Transforming response data\n",
      "INFO:ATOM:Transforming feature data\n",
      "INFO:ATOM:Transforming response data\n",
      "INFO:ATOM:Transforming feature data\n",
      "INFO:ATOM:Fitting random forest model\n",
      "INFO:ATOM:Fold 0: training r2_score = 0.907, validation r2_score = 0.150, test r2_score = 0.830\n",
      "INFO:ATOM:Wrote model tarball to ./../HPO/HPO_models_CYP2C9_old/cyp2c9_union_trainset_base_smiles_model_8a251052-3741-4159-9511-5adb5e5a515c.tar.gz\n",
      "INFO:ATOM:Created a dataset hash '5784653341796c83c2c652313bd6db26' from dataset_key '/usr/WS2/atom/titli/MoDaC/Data/CYP2C9-ampl-1.1.0_old/cyp2c9_union_trainset_base_smiles.csv'\n",
      "DEBUG:ATOM:Attempting to load featurized dataset\n"
     ]
    },
    {
     "name": "stdout",
     "output_type": "stream",
     "text": [
      "rf_estimators: 128, rf_max_depth: 256, rf_max_features: 128, valid_r2: 0.15017576982303948\n"
     ]
    },
    {
     "name": "stderr",
     "output_type": "stream",
     "text": [
      "DEBUG:ATOM:Got dataset, attempting to extract data\n",
      "DEBUG:ATOM:Creating deepchem dataset\n",
      "INFO:ATOM:Using prefeaturized data; number of features = 306\n",
      "WARNING:ATOM:Previous dataset split restored\n",
      "INFO:ATOM:Wrote transformers to ./../HPO/HPO_models_CYP2C9_old/cyp2c9_union_trainset_base_smiles/RF_computed_descriptors_scaffold_regression/0fd54f0c-6a94-481f-90c7-ed5229fe2713/transformers.pkl\n",
      "INFO:ATOM:Transforming response data\n",
      "INFO:ATOM:Transforming feature data\n",
      "INFO:ATOM:Transforming response data\n",
      "INFO:ATOM:Transforming feature data\n",
      "INFO:ATOM:Transforming response data\n",
      "INFO:ATOM:Transforming feature data\n",
      "INFO:ATOM:Fitting random forest model\n",
      "INFO:ATOM:Fold 0: training r2_score = 0.793, validation r2_score = 0.148, test r2_score = 0.885\n",
      "INFO:ATOM:Wrote model tarball to ./../HPO/HPO_models_CYP2C9_old/cyp2c9_union_trainset_base_smiles_model_0fd54f0c-6a94-481f-90c7-ed5229fe2713.tar.gz\n",
      "INFO:ATOM:Created a dataset hash '5784653341796c83c2c652313bd6db26' from dataset_key '/usr/WS2/atom/titli/MoDaC/Data/CYP2C9-ampl-1.1.0_old/cyp2c9_union_trainset_base_smiles.csv'\n",
      "DEBUG:ATOM:Attempting to load featurized dataset\n"
     ]
    },
    {
     "name": "stdout",
     "output_type": "stream",
     "text": [
      "rf_estimators: 256, rf_max_depth: 16, rf_max_features: 16, valid_r2: 0.14823323290722867\n"
     ]
    },
    {
     "name": "stderr",
     "output_type": "stream",
     "text": [
      "DEBUG:ATOM:Got dataset, attempting to extract data\n",
      "DEBUG:ATOM:Creating deepchem dataset\n",
      "INFO:ATOM:Using prefeaturized data; number of features = 306\n",
      "WARNING:ATOM:Previous dataset split restored\n",
      "INFO:ATOM:Wrote transformers to ./../HPO/HPO_models_CYP2C9_old/cyp2c9_union_trainset_base_smiles/RF_computed_descriptors_scaffold_regression/c5f1ca99-9eed-4a52-b2e0-5fafde7b9438/transformers.pkl\n",
      "INFO:ATOM:Transforming response data\n",
      "INFO:ATOM:Transforming feature data\n",
      "INFO:ATOM:Transforming response data\n",
      "INFO:ATOM:Transforming feature data\n",
      "INFO:ATOM:Transforming response data\n",
      "INFO:ATOM:Transforming feature data\n",
      "INFO:ATOM:Fitting random forest model\n",
      "INFO:ATOM:Fold 0: training r2_score = 0.793, validation r2_score = 0.148, test r2_score = 0.769\n",
      "INFO:ATOM:Wrote model tarball to ./../HPO/HPO_models_CYP2C9_old/cyp2c9_union_trainset_base_smiles_model_c5f1ca99-9eed-4a52-b2e0-5fafde7b9438.tar.gz\n",
      "INFO:ATOM:Created a dataset hash '5784653341796c83c2c652313bd6db26' from dataset_key '/usr/WS2/atom/titli/MoDaC/Data/CYP2C9-ampl-1.1.0_old/cyp2c9_union_trainset_base_smiles.csv'\n",
      "DEBUG:ATOM:Attempting to load featurized dataset\n"
     ]
    },
    {
     "name": "stdout",
     "output_type": "stream",
     "text": [
      "rf_estimators: 256, rf_max_depth: 16, rf_max_features: 24, valid_r2: 0.14802334873867473\n"
     ]
    },
    {
     "name": "stderr",
     "output_type": "stream",
     "text": [
      "DEBUG:ATOM:Got dataset, attempting to extract data\n",
      "DEBUG:ATOM:Creating deepchem dataset\n",
      "INFO:ATOM:Using prefeaturized data; number of features = 306\n",
      "WARNING:ATOM:Previous dataset split restored\n",
      "INFO:ATOM:Wrote transformers to ./../HPO/HPO_models_CYP2C9_old/cyp2c9_union_trainset_base_smiles/RF_computed_descriptors_scaffold_regression/de903641-7732-40d1-8ad0-5f81e45c1566/transformers.pkl\n",
      "INFO:ATOM:Transforming response data\n",
      "INFO:ATOM:Transforming feature data\n",
      "INFO:ATOM:Transforming response data\n",
      "INFO:ATOM:Transforming feature data\n",
      "INFO:ATOM:Transforming response data\n",
      "INFO:ATOM:Transforming feature data\n",
      "INFO:ATOM:Fitting random forest model\n",
      "INFO:ATOM:Fold 0: training r2_score = 0.798, validation r2_score = 0.146, test r2_score = 0.879\n",
      "INFO:ATOM:Wrote model tarball to ./../HPO/HPO_models_CYP2C9_old/cyp2c9_union_trainset_base_smiles_model_de903641-7732-40d1-8ad0-5f81e45c1566.tar.gz\n",
      "INFO:ATOM:Created a dataset hash '5784653341796c83c2c652313bd6db26' from dataset_key '/usr/WS2/atom/titli/MoDaC/Data/CYP2C9-ampl-1.1.0_old/cyp2c9_union_trainset_base_smiles.csv'\n",
      "DEBUG:ATOM:Attempting to load featurized dataset\n"
     ]
    },
    {
     "name": "stdout",
     "output_type": "stream",
     "text": [
      "rf_estimators: 256, rf_max_depth: 16, rf_max_features: 32, valid_r2: 0.1457477326235752\n"
     ]
    },
    {
     "name": "stderr",
     "output_type": "stream",
     "text": [
      "DEBUG:ATOM:Got dataset, attempting to extract data\n",
      "DEBUG:ATOM:Creating deepchem dataset\n",
      "INFO:ATOM:Using prefeaturized data; number of features = 306\n",
      "WARNING:ATOM:Previous dataset split restored\n",
      "INFO:ATOM:Wrote transformers to ./../HPO/HPO_models_CYP2C9_old/cyp2c9_union_trainset_base_smiles/RF_computed_descriptors_scaffold_regression/df4bf603-a95e-47a9-a846-7c8e798568d7/transformers.pkl\n",
      "INFO:ATOM:Transforming response data\n",
      "INFO:ATOM:Transforming feature data\n",
      "INFO:ATOM:Transforming response data\n",
      "INFO:ATOM:Transforming feature data\n",
      "INFO:ATOM:Transforming response data\n",
      "INFO:ATOM:Transforming feature data\n",
      "INFO:ATOM:Fitting random forest model\n",
      "INFO:ATOM:Fold 0: training r2_score = 0.793, validation r2_score = 0.148, test r2_score = 0.892\n",
      "INFO:ATOM:Wrote model tarball to ./../HPO/HPO_models_CYP2C9_old/cyp2c9_union_trainset_base_smiles_model_df4bf603-a95e-47a9-a846-7c8e798568d7.tar.gz\n",
      "INFO:ATOM:Created a dataset hash '5784653341796c83c2c652313bd6db26' from dataset_key '/usr/WS2/atom/titli/MoDaC/Data/CYP2C9-ampl-1.1.0_old/cyp2c9_union_trainset_base_smiles.csv'\n",
      "DEBUG:ATOM:Attempting to load featurized dataset\n"
     ]
    },
    {
     "name": "stdout",
     "output_type": "stream",
     "text": [
      "rf_estimators: 256, rf_max_depth: 16, rf_max_features: 64, valid_r2: 0.14778521594129423\n"
     ]
    },
    {
     "name": "stderr",
     "output_type": "stream",
     "text": [
      "DEBUG:ATOM:Got dataset, attempting to extract data\n",
      "DEBUG:ATOM:Creating deepchem dataset\n",
      "INFO:ATOM:Using prefeaturized data; number of features = 306\n",
      "WARNING:ATOM:Previous dataset split restored\n",
      "INFO:ATOM:Wrote transformers to ./../HPO/HPO_models_CYP2C9_old/cyp2c9_union_trainset_base_smiles/RF_computed_descriptors_scaffold_regression/917a9112-93e8-4b2c-98d9-b1ad92fe3fad/transformers.pkl\n",
      "INFO:ATOM:Transforming response data\n",
      "INFO:ATOM:Transforming feature data\n",
      "INFO:ATOM:Transforming response data\n",
      "INFO:ATOM:Transforming feature data\n",
      "INFO:ATOM:Transforming response data\n",
      "INFO:ATOM:Transforming feature data\n",
      "INFO:ATOM:Fitting random forest model\n",
      "INFO:ATOM:Fold 0: training r2_score = 0.795, validation r2_score = 0.150, test r2_score = 0.845\n",
      "INFO:ATOM:Wrote model tarball to ./../HPO/HPO_models_CYP2C9_old/cyp2c9_union_trainset_base_smiles_model_917a9112-93e8-4b2c-98d9-b1ad92fe3fad.tar.gz\n",
      "INFO:ATOM:Created a dataset hash '5784653341796c83c2c652313bd6db26' from dataset_key '/usr/WS2/atom/titli/MoDaC/Data/CYP2C9-ampl-1.1.0_old/cyp2c9_union_trainset_base_smiles.csv'\n"
     ]
    },
    {
     "name": "stdout",
     "output_type": "stream",
     "text": [
      "rf_estimators: 256, rf_max_depth: 16, rf_max_features: 128, valid_r2: 0.1501436705583623\n"
     ]
    },
    {
     "name": "stderr",
     "output_type": "stream",
     "text": [
      "DEBUG:ATOM:Attempting to load featurized dataset\n",
      "DEBUG:ATOM:Got dataset, attempting to extract data\n",
      "DEBUG:ATOM:Creating deepchem dataset\n",
      "INFO:ATOM:Using prefeaturized data; number of features = 306\n",
      "WARNING:ATOM:Previous dataset split restored\n",
      "INFO:ATOM:Wrote transformers to ./../HPO/HPO_models_CYP2C9_old/cyp2c9_union_trainset_base_smiles/RF_computed_descriptors_scaffold_regression/f2b33f8d-6062-40d7-95dd-4f9095473c15/transformers.pkl\n",
      "INFO:ATOM:Transforming response data\n",
      "INFO:ATOM:Transforming feature data\n",
      "INFO:ATOM:Transforming response data\n",
      "INFO:ATOM:Transforming feature data\n",
      "INFO:ATOM:Transforming response data\n",
      "INFO:ATOM:Transforming feature data\n",
      "INFO:ATOM:Fitting random forest model\n",
      "INFO:ATOM:Fold 0: training r2_score = 0.896, validation r2_score = 0.155, test r2_score = 0.926\n",
      "INFO:ATOM:Wrote model tarball to ./../HPO/HPO_models_CYP2C9_old/cyp2c9_union_trainset_base_smiles_model_f2b33f8d-6062-40d7-95dd-4f9095473c15.tar.gz\n",
      "INFO:ATOM:Created a dataset hash '5784653341796c83c2c652313bd6db26' from dataset_key '/usr/WS2/atom/titli/MoDaC/Data/CYP2C9-ampl-1.1.0_old/cyp2c9_union_trainset_base_smiles.csv'\n"
     ]
    },
    {
     "name": "stdout",
     "output_type": "stream",
     "text": [
      "rf_estimators: 256, rf_max_depth: 24, rf_max_features: 16, valid_r2: 0.1550352383581043\n"
     ]
    },
    {
     "name": "stderr",
     "output_type": "stream",
     "text": [
      "DEBUG:ATOM:Attempting to load featurized dataset\n",
      "DEBUG:ATOM:Got dataset, attempting to extract data\n",
      "DEBUG:ATOM:Creating deepchem dataset\n",
      "INFO:ATOM:Using prefeaturized data; number of features = 306\n",
      "WARNING:ATOM:Previous dataset split restored\n",
      "INFO:ATOM:Wrote transformers to ./../HPO/HPO_models_CYP2C9_old/cyp2c9_union_trainset_base_smiles/RF_computed_descriptors_scaffold_regression/fe58611b-1630-489a-a591-90684459a5eb/transformers.pkl\n",
      "INFO:ATOM:Transforming response data\n",
      "INFO:ATOM:Transforming feature data\n",
      "INFO:ATOM:Transforming response data\n",
      "INFO:ATOM:Transforming feature data\n",
      "INFO:ATOM:Transforming response data\n",
      "INFO:ATOM:Transforming feature data\n",
      "INFO:ATOM:Fitting random forest model\n",
      "INFO:ATOM:Fold 0: training r2_score = 0.897, validation r2_score = 0.159, test r2_score = 0.823\n",
      "INFO:ATOM:Wrote model tarball to ./../HPO/HPO_models_CYP2C9_old/cyp2c9_union_trainset_base_smiles_model_fe58611b-1630-489a-a591-90684459a5eb.tar.gz\n",
      "INFO:ATOM:Created a dataset hash '5784653341796c83c2c652313bd6db26' from dataset_key '/usr/WS2/atom/titli/MoDaC/Data/CYP2C9-ampl-1.1.0_old/cyp2c9_union_trainset_base_smiles.csv'\n"
     ]
    },
    {
     "name": "stdout",
     "output_type": "stream",
     "text": [
      "rf_estimators: 256, rf_max_depth: 24, rf_max_features: 24, valid_r2: 0.15867946055801319\n"
     ]
    },
    {
     "name": "stderr",
     "output_type": "stream",
     "text": [
      "DEBUG:ATOM:Attempting to load featurized dataset\n",
      "DEBUG:ATOM:Got dataset, attempting to extract data\n",
      "DEBUG:ATOM:Creating deepchem dataset\n",
      "INFO:ATOM:Using prefeaturized data; number of features = 306\n",
      "WARNING:ATOM:Previous dataset split restored\n",
      "INFO:ATOM:Wrote transformers to ./../HPO/HPO_models_CYP2C9_old/cyp2c9_union_trainset_base_smiles/RF_computed_descriptors_scaffold_regression/72bfafb4-e0d9-4b2a-9958-d6cc8b312e98/transformers.pkl\n",
      "INFO:ATOM:Transforming response data\n",
      "INFO:ATOM:Transforming feature data\n",
      "INFO:ATOM:Transforming response data\n",
      "INFO:ATOM:Transforming feature data\n",
      "INFO:ATOM:Transforming response data\n",
      "INFO:ATOM:Transforming feature data\n",
      "INFO:ATOM:Fitting random forest model\n",
      "INFO:ATOM:Fold 0: training r2_score = 0.892, validation r2_score = 0.158, test r2_score = 0.878\n",
      "INFO:ATOM:Wrote model tarball to ./../HPO/HPO_models_CYP2C9_old/cyp2c9_union_trainset_base_smiles_model_72bfafb4-e0d9-4b2a-9958-d6cc8b312e98.tar.gz\n",
      "INFO:ATOM:Created a dataset hash '5784653341796c83c2c652313bd6db26' from dataset_key '/usr/WS2/atom/titli/MoDaC/Data/CYP2C9-ampl-1.1.0_old/cyp2c9_union_trainset_base_smiles.csv'\n"
     ]
    },
    {
     "name": "stdout",
     "output_type": "stream",
     "text": [
      "rf_estimators: 256, rf_max_depth: 24, rf_max_features: 32, valid_r2: 0.1576109358249863\n"
     ]
    },
    {
     "name": "stderr",
     "output_type": "stream",
     "text": [
      "DEBUG:ATOM:Attempting to load featurized dataset\n",
      "DEBUG:ATOM:Got dataset, attempting to extract data\n",
      "DEBUG:ATOM:Creating deepchem dataset\n",
      "INFO:ATOM:Using prefeaturized data; number of features = 306\n",
      "WARNING:ATOM:Previous dataset split restored\n",
      "INFO:ATOM:Wrote transformers to ./../HPO/HPO_models_CYP2C9_old/cyp2c9_union_trainset_base_smiles/RF_computed_descriptors_scaffold_regression/6c938298-540e-4578-a631-a2705aba8eac/transformers.pkl\n",
      "INFO:ATOM:Transforming response data\n",
      "INFO:ATOM:Transforming feature data\n",
      "INFO:ATOM:Transforming response data\n",
      "INFO:ATOM:Transforming feature data\n",
      "INFO:ATOM:Transforming response data\n",
      "INFO:ATOM:Transforming feature data\n",
      "INFO:ATOM:Fitting random forest model\n",
      "INFO:ATOM:Fold 0: training r2_score = 0.894, validation r2_score = 0.155, test r2_score = 0.784\n",
      "INFO:ATOM:Wrote model tarball to ./../HPO/HPO_models_CYP2C9_old/cyp2c9_union_trainset_base_smiles_model_6c938298-540e-4578-a631-a2705aba8eac.tar.gz\n",
      "INFO:ATOM:Created a dataset hash '5784653341796c83c2c652313bd6db26' from dataset_key '/usr/WS2/atom/titli/MoDaC/Data/CYP2C9-ampl-1.1.0_old/cyp2c9_union_trainset_base_smiles.csv'\n"
     ]
    },
    {
     "name": "stdout",
     "output_type": "stream",
     "text": [
      "rf_estimators: 256, rf_max_depth: 24, rf_max_features: 64, valid_r2: 0.15469255306742113\n"
     ]
    },
    {
     "name": "stderr",
     "output_type": "stream",
     "text": [
      "DEBUG:ATOM:Attempting to load featurized dataset\n",
      "DEBUG:ATOM:Got dataset, attempting to extract data\n",
      "DEBUG:ATOM:Creating deepchem dataset\n",
      "INFO:ATOM:Using prefeaturized data; number of features = 306\n",
      "WARNING:ATOM:Previous dataset split restored\n",
      "INFO:ATOM:Wrote transformers to ./../HPO/HPO_models_CYP2C9_old/cyp2c9_union_trainset_base_smiles/RF_computed_descriptors_scaffold_regression/376c1695-9ff4-4eac-88d3-e381a624d5a3/transformers.pkl\n",
      "INFO:ATOM:Transforming response data\n",
      "INFO:ATOM:Transforming feature data\n",
      "INFO:ATOM:Transforming response data\n",
      "INFO:ATOM:Transforming feature data\n",
      "INFO:ATOM:Transforming response data\n",
      "INFO:ATOM:Transforming feature data\n",
      "INFO:ATOM:Fitting random forest model\n",
      "INFO:ATOM:Fold 0: training r2_score = 0.894, validation r2_score = 0.151, test r2_score = 0.932\n",
      "INFO:ATOM:Wrote model tarball to ./../HPO/HPO_models_CYP2C9_old/cyp2c9_union_trainset_base_smiles_model_376c1695-9ff4-4eac-88d3-e381a624d5a3.tar.gz\n",
      "INFO:ATOM:Created a dataset hash '5784653341796c83c2c652313bd6db26' from dataset_key '/usr/WS2/atom/titli/MoDaC/Data/CYP2C9-ampl-1.1.0_old/cyp2c9_union_trainset_base_smiles.csv'\n",
      "DEBUG:ATOM:Attempting to load featurized dataset\n"
     ]
    },
    {
     "name": "stdout",
     "output_type": "stream",
     "text": [
      "rf_estimators: 256, rf_max_depth: 24, rf_max_features: 128, valid_r2: 0.15081999307884852\n"
     ]
    },
    {
     "name": "stderr",
     "output_type": "stream",
     "text": [
      "DEBUG:ATOM:Got dataset, attempting to extract data\n",
      "DEBUG:ATOM:Creating deepchem dataset\n",
      "INFO:ATOM:Using prefeaturized data; number of features = 306\n",
      "WARNING:ATOM:Previous dataset split restored\n",
      "INFO:ATOM:Wrote transformers to ./../HPO/HPO_models_CYP2C9_old/cyp2c9_union_trainset_base_smiles/RF_computed_descriptors_scaffold_regression/26387264-f9b6-4e11-b8f7-747fc2dcd643/transformers.pkl\n",
      "INFO:ATOM:Transforming response data\n",
      "INFO:ATOM:Transforming feature data\n",
      "INFO:ATOM:Transforming response data\n",
      "INFO:ATOM:Transforming feature data\n",
      "INFO:ATOM:Transforming response data\n",
      "INFO:ATOM:Transforming feature data\n",
      "INFO:ATOM:Fitting random forest model\n",
      "INFO:ATOM:Fold 0: training r2_score = 0.906, validation r2_score = 0.156, test r2_score = 0.759\n",
      "INFO:ATOM:Wrote model tarball to ./../HPO/HPO_models_CYP2C9_old/cyp2c9_union_trainset_base_smiles_model_26387264-f9b6-4e11-b8f7-747fc2dcd643.tar.gz\n",
      "INFO:ATOM:Created a dataset hash '5784653341796c83c2c652313bd6db26' from dataset_key '/usr/WS2/atom/titli/MoDaC/Data/CYP2C9-ampl-1.1.0_old/cyp2c9_union_trainset_base_smiles.csv'\n"
     ]
    },
    {
     "name": "stdout",
     "output_type": "stream",
     "text": [
      "rf_estimators: 256, rf_max_depth: 32, rf_max_features: 16, valid_r2: 0.1560836982269478\n"
     ]
    },
    {
     "name": "stderr",
     "output_type": "stream",
     "text": [
      "DEBUG:ATOM:Attempting to load featurized dataset\n",
      "DEBUG:ATOM:Got dataset, attempting to extract data\n",
      "DEBUG:ATOM:Creating deepchem dataset\n",
      "INFO:ATOM:Using prefeaturized data; number of features = 306\n",
      "WARNING:ATOM:Previous dataset split restored\n",
      "INFO:ATOM:Wrote transformers to ./../HPO/HPO_models_CYP2C9_old/cyp2c9_union_trainset_base_smiles/RF_computed_descriptors_scaffold_regression/1156bfa5-d056-4be5-ac64-697a977fc557/transformers.pkl\n",
      "INFO:ATOM:Transforming response data\n",
      "INFO:ATOM:Transforming feature data\n",
      "INFO:ATOM:Transforming response data\n",
      "INFO:ATOM:Transforming feature data\n",
      "INFO:ATOM:Transforming response data\n",
      "INFO:ATOM:Transforming feature data\n",
      "INFO:ATOM:Fitting random forest model\n",
      "INFO:ATOM:Fold 0: training r2_score = 0.906, validation r2_score = 0.151, test r2_score = 0.871\n",
      "INFO:ATOM:Wrote model tarball to ./../HPO/HPO_models_CYP2C9_old/cyp2c9_union_trainset_base_smiles_model_1156bfa5-d056-4be5-ac64-697a977fc557.tar.gz\n",
      "INFO:ATOM:Created a dataset hash '5784653341796c83c2c652313bd6db26' from dataset_key '/usr/WS2/atom/titli/MoDaC/Data/CYP2C9-ampl-1.1.0_old/cyp2c9_union_trainset_base_smiles.csv'\n"
     ]
    },
    {
     "name": "stdout",
     "output_type": "stream",
     "text": [
      "rf_estimators: 256, rf_max_depth: 32, rf_max_features: 24, valid_r2: 0.15060588136946096\n"
     ]
    },
    {
     "name": "stderr",
     "output_type": "stream",
     "text": [
      "DEBUG:ATOM:Attempting to load featurized dataset\n",
      "DEBUG:ATOM:Got dataset, attempting to extract data\n",
      "DEBUG:ATOM:Creating deepchem dataset\n",
      "INFO:ATOM:Using prefeaturized data; number of features = 306\n",
      "WARNING:ATOM:Previous dataset split restored\n",
      "INFO:ATOM:Wrote transformers to ./../HPO/HPO_models_CYP2C9_old/cyp2c9_union_trainset_base_smiles/RF_computed_descriptors_scaffold_regression/e85781f1-d649-4721-9c7f-556fc6dbaabe/transformers.pkl\n",
      "INFO:ATOM:Transforming response data\n",
      "INFO:ATOM:Transforming feature data\n",
      "INFO:ATOM:Transforming response data\n",
      "INFO:ATOM:Transforming feature data\n",
      "INFO:ATOM:Transforming response data\n",
      "INFO:ATOM:Transforming feature data\n",
      "INFO:ATOM:Fitting random forest model\n",
      "INFO:ATOM:Fold 0: training r2_score = 0.908, validation r2_score = 0.158, test r2_score = 0.872\n",
      "INFO:ATOM:Wrote model tarball to ./../HPO/HPO_models_CYP2C9_old/cyp2c9_union_trainset_base_smiles_model_e85781f1-d649-4721-9c7f-556fc6dbaabe.tar.gz\n",
      "INFO:ATOM:Created a dataset hash '5784653341796c83c2c652313bd6db26' from dataset_key '/usr/WS2/atom/titli/MoDaC/Data/CYP2C9-ampl-1.1.0_old/cyp2c9_union_trainset_base_smiles.csv'\n",
      "DEBUG:ATOM:Attempting to load featurized dataset\n"
     ]
    },
    {
     "name": "stdout",
     "output_type": "stream",
     "text": [
      "rf_estimators: 256, rf_max_depth: 32, rf_max_features: 32, valid_r2: 0.15751901026007942\n"
     ]
    },
    {
     "name": "stderr",
     "output_type": "stream",
     "text": [
      "DEBUG:ATOM:Got dataset, attempting to extract data\n",
      "DEBUG:ATOM:Creating deepchem dataset\n",
      "INFO:ATOM:Using prefeaturized data; number of features = 306\n",
      "WARNING:ATOM:Previous dataset split restored\n",
      "INFO:ATOM:Wrote transformers to ./../HPO/HPO_models_CYP2C9_old/cyp2c9_union_trainset_base_smiles/RF_computed_descriptors_scaffold_regression/3e1a5620-887e-4669-9c3d-78a52f57ffd8/transformers.pkl\n",
      "INFO:ATOM:Transforming response data\n",
      "INFO:ATOM:Transforming feature data\n",
      "INFO:ATOM:Transforming response data\n",
      "INFO:ATOM:Transforming feature data\n",
      "INFO:ATOM:Transforming response data\n",
      "INFO:ATOM:Transforming feature data\n",
      "INFO:ATOM:Fitting random forest model\n",
      "INFO:ATOM:Fold 0: training r2_score = 0.907, validation r2_score = 0.156, test r2_score = 0.852\n",
      "INFO:ATOM:Wrote model tarball to ./../HPO/HPO_models_CYP2C9_old/cyp2c9_union_trainset_base_smiles_model_3e1a5620-887e-4669-9c3d-78a52f57ffd8.tar.gz\n",
      "INFO:ATOM:Created a dataset hash '5784653341796c83c2c652313bd6db26' from dataset_key '/usr/WS2/atom/titli/MoDaC/Data/CYP2C9-ampl-1.1.0_old/cyp2c9_union_trainset_base_smiles.csv'\n",
      "DEBUG:ATOM:Attempting to load featurized dataset\n"
     ]
    },
    {
     "name": "stdout",
     "output_type": "stream",
     "text": [
      "rf_estimators: 256, rf_max_depth: 32, rf_max_features: 64, valid_r2: 0.15616070923296088\n"
     ]
    },
    {
     "name": "stderr",
     "output_type": "stream",
     "text": [
      "DEBUG:ATOM:Got dataset, attempting to extract data\n",
      "DEBUG:ATOM:Creating deepchem dataset\n",
      "INFO:ATOM:Using prefeaturized data; number of features = 306\n",
      "WARNING:ATOM:Previous dataset split restored\n",
      "INFO:ATOM:Wrote transformers to ./../HPO/HPO_models_CYP2C9_old/cyp2c9_union_trainset_base_smiles/RF_computed_descriptors_scaffold_regression/7dc89ea4-dc53-4f9f-a35f-a6c74fcd6a41/transformers.pkl\n",
      "INFO:ATOM:Transforming response data\n",
      "INFO:ATOM:Transforming feature data\n",
      "INFO:ATOM:Transforming response data\n",
      "INFO:ATOM:Transforming feature data\n",
      "INFO:ATOM:Transforming response data\n",
      "INFO:ATOM:Transforming feature data\n",
      "INFO:ATOM:Fitting random forest model\n",
      "INFO:ATOM:Fold 0: training r2_score = 0.906, validation r2_score = 0.154, test r2_score = 0.868\n",
      "INFO:ATOM:Wrote model tarball to ./../HPO/HPO_models_CYP2C9_old/cyp2c9_union_trainset_base_smiles_model_7dc89ea4-dc53-4f9f-a35f-a6c74fcd6a41.tar.gz\n",
      "INFO:ATOM:Created a dataset hash '5784653341796c83c2c652313bd6db26' from dataset_key '/usr/WS2/atom/titli/MoDaC/Data/CYP2C9-ampl-1.1.0_old/cyp2c9_union_trainset_base_smiles.csv'\n",
      "DEBUG:ATOM:Attempting to load featurized dataset\n"
     ]
    },
    {
     "name": "stdout",
     "output_type": "stream",
     "text": [
      "rf_estimators: 256, rf_max_depth: 32, rf_max_features: 128, valid_r2: 0.15447314095850162\n"
     ]
    },
    {
     "name": "stderr",
     "output_type": "stream",
     "text": [
      "DEBUG:ATOM:Got dataset, attempting to extract data\n",
      "DEBUG:ATOM:Creating deepchem dataset\n",
      "INFO:ATOM:Using prefeaturized data; number of features = 306\n",
      "WARNING:ATOM:Previous dataset split restored\n",
      "INFO:ATOM:Wrote transformers to ./../HPO/HPO_models_CYP2C9_old/cyp2c9_union_trainset_base_smiles/RF_computed_descriptors_scaffold_regression/ab867737-2ca3-4d43-8da0-5fd1afdd4007/transformers.pkl\n",
      "INFO:ATOM:Transforming response data\n",
      "INFO:ATOM:Transforming feature data\n",
      "INFO:ATOM:Transforming response data\n",
      "INFO:ATOM:Transforming feature data\n",
      "INFO:ATOM:Transforming response data\n",
      "INFO:ATOM:Transforming feature data\n",
      "INFO:ATOM:Fitting random forest model\n",
      "INFO:ATOM:Fold 0: training r2_score = 0.908, validation r2_score = 0.153, test r2_score = 0.889\n",
      "INFO:ATOM:Wrote model tarball to ./../HPO/HPO_models_CYP2C9_old/cyp2c9_union_trainset_base_smiles_model_ab867737-2ca3-4d43-8da0-5fd1afdd4007.tar.gz\n",
      "INFO:ATOM:Created a dataset hash '5784653341796c83c2c652313bd6db26' from dataset_key '/usr/WS2/atom/titli/MoDaC/Data/CYP2C9-ampl-1.1.0_old/cyp2c9_union_trainset_base_smiles.csv'\n",
      "DEBUG:ATOM:Attempting to load featurized dataset\n"
     ]
    },
    {
     "name": "stdout",
     "output_type": "stream",
     "text": [
      "rf_estimators: 256, rf_max_depth: 64, rf_max_features: 16, valid_r2: 0.1530580781072577\n"
     ]
    },
    {
     "name": "stderr",
     "output_type": "stream",
     "text": [
      "DEBUG:ATOM:Got dataset, attempting to extract data\n",
      "DEBUG:ATOM:Creating deepchem dataset\n",
      "INFO:ATOM:Using prefeaturized data; number of features = 306\n",
      "WARNING:ATOM:Previous dataset split restored\n",
      "INFO:ATOM:Wrote transformers to ./../HPO/HPO_models_CYP2C9_old/cyp2c9_union_trainset_base_smiles/RF_computed_descriptors_scaffold_regression/5d55bfec-31c9-4358-ba82-0492f05630eb/transformers.pkl\n",
      "INFO:ATOM:Transforming response data\n",
      "INFO:ATOM:Transforming feature data\n",
      "INFO:ATOM:Transforming response data\n",
      "INFO:ATOM:Transforming feature data\n",
      "INFO:ATOM:Transforming response data\n",
      "INFO:ATOM:Transforming feature data\n",
      "INFO:ATOM:Fitting random forest model\n",
      "INFO:ATOM:Fold 0: training r2_score = 0.907, validation r2_score = 0.151, test r2_score = 0.860\n",
      "INFO:ATOM:Wrote model tarball to ./../HPO/HPO_models_CYP2C9_old/cyp2c9_union_trainset_base_smiles_model_5d55bfec-31c9-4358-ba82-0492f05630eb.tar.gz\n",
      "INFO:ATOM:Created a dataset hash '5784653341796c83c2c652313bd6db26' from dataset_key '/usr/WS2/atom/titli/MoDaC/Data/CYP2C9-ampl-1.1.0_old/cyp2c9_union_trainset_base_smiles.csv'\n",
      "DEBUG:ATOM:Attempting to load featurized dataset\n"
     ]
    },
    {
     "name": "stdout",
     "output_type": "stream",
     "text": [
      "rf_estimators: 256, rf_max_depth: 64, rf_max_features: 24, valid_r2: 0.15069420755968221\n"
     ]
    },
    {
     "name": "stderr",
     "output_type": "stream",
     "text": [
      "DEBUG:ATOM:Got dataset, attempting to extract data\n",
      "DEBUG:ATOM:Creating deepchem dataset\n",
      "INFO:ATOM:Using prefeaturized data; number of features = 306\n",
      "WARNING:ATOM:Previous dataset split restored\n",
      "INFO:ATOM:Wrote transformers to ./../HPO/HPO_models_CYP2C9_old/cyp2c9_union_trainset_base_smiles/RF_computed_descriptors_scaffold_regression/1506bf03-be70-498f-9090-651fe62acaea/transformers.pkl\n",
      "INFO:ATOM:Transforming response data\n",
      "INFO:ATOM:Transforming feature data\n",
      "INFO:ATOM:Transforming response data\n",
      "INFO:ATOM:Transforming feature data\n",
      "INFO:ATOM:Transforming response data\n",
      "INFO:ATOM:Transforming feature data\n",
      "INFO:ATOM:Fitting random forest model\n",
      "INFO:ATOM:Fold 0: training r2_score = 0.907, validation r2_score = 0.154, test r2_score = 0.884\n",
      "INFO:ATOM:Wrote model tarball to ./../HPO/HPO_models_CYP2C9_old/cyp2c9_union_trainset_base_smiles_model_1506bf03-be70-498f-9090-651fe62acaea.tar.gz\n",
      "INFO:ATOM:Created a dataset hash '5784653341796c83c2c652313bd6db26' from dataset_key '/usr/WS2/atom/titli/MoDaC/Data/CYP2C9-ampl-1.1.0_old/cyp2c9_union_trainset_base_smiles.csv'\n",
      "DEBUG:ATOM:Attempting to load featurized dataset\n"
     ]
    },
    {
     "name": "stdout",
     "output_type": "stream",
     "text": [
      "rf_estimators: 256, rf_max_depth: 64, rf_max_features: 32, valid_r2: 0.1536058410922566\n"
     ]
    },
    {
     "name": "stderr",
     "output_type": "stream",
     "text": [
      "DEBUG:ATOM:Got dataset, attempting to extract data\n",
      "DEBUG:ATOM:Creating deepchem dataset\n",
      "INFO:ATOM:Using prefeaturized data; number of features = 306\n",
      "WARNING:ATOM:Previous dataset split restored\n",
      "INFO:ATOM:Wrote transformers to ./../HPO/HPO_models_CYP2C9_old/cyp2c9_union_trainset_base_smiles/RF_computed_descriptors_scaffold_regression/08f8c39d-878f-496b-ae67-92bc56bfe30b/transformers.pkl\n",
      "INFO:ATOM:Transforming response data\n",
      "INFO:ATOM:Transforming feature data\n",
      "INFO:ATOM:Transforming response data\n",
      "INFO:ATOM:Transforming feature data\n",
      "INFO:ATOM:Transforming response data\n",
      "INFO:ATOM:Transforming feature data\n",
      "INFO:ATOM:Fitting random forest model\n",
      "INFO:ATOM:Fold 0: training r2_score = 0.909, validation r2_score = 0.153, test r2_score = 0.889\n",
      "INFO:ATOM:Wrote model tarball to ./../HPO/HPO_models_CYP2C9_old/cyp2c9_union_trainset_base_smiles_model_08f8c39d-878f-496b-ae67-92bc56bfe30b.tar.gz\n",
      "INFO:ATOM:Created a dataset hash '5784653341796c83c2c652313bd6db26' from dataset_key '/usr/WS2/atom/titli/MoDaC/Data/CYP2C9-ampl-1.1.0_old/cyp2c9_union_trainset_base_smiles.csv'\n",
      "DEBUG:ATOM:Attempting to load featurized dataset\n"
     ]
    },
    {
     "name": "stdout",
     "output_type": "stream",
     "text": [
      "rf_estimators: 256, rf_max_depth: 64, rf_max_features: 64, valid_r2: 0.15347154704901167\n"
     ]
    },
    {
     "name": "stderr",
     "output_type": "stream",
     "text": [
      "DEBUG:ATOM:Got dataset, attempting to extract data\n",
      "DEBUG:ATOM:Creating deepchem dataset\n",
      "INFO:ATOM:Using prefeaturized data; number of features = 306\n",
      "WARNING:ATOM:Previous dataset split restored\n",
      "INFO:ATOM:Wrote transformers to ./../HPO/HPO_models_CYP2C9_old/cyp2c9_union_trainset_base_smiles/RF_computed_descriptors_scaffold_regression/af849be4-59a6-4e14-980f-75a80b384bb4/transformers.pkl\n",
      "INFO:ATOM:Transforming response data\n",
      "INFO:ATOM:Transforming feature data\n",
      "INFO:ATOM:Transforming response data\n",
      "INFO:ATOM:Transforming feature data\n",
      "INFO:ATOM:Transforming response data\n",
      "INFO:ATOM:Transforming feature data\n",
      "INFO:ATOM:Fitting random forest model\n",
      "INFO:ATOM:Fold 0: training r2_score = 0.908, validation r2_score = 0.159, test r2_score = 0.859\n",
      "INFO:ATOM:Wrote model tarball to ./../HPO/HPO_models_CYP2C9_old/cyp2c9_union_trainset_base_smiles_model_af849be4-59a6-4e14-980f-75a80b384bb4.tar.gz\n",
      "INFO:ATOM:Created a dataset hash '5784653341796c83c2c652313bd6db26' from dataset_key '/usr/WS2/atom/titli/MoDaC/Data/CYP2C9-ampl-1.1.0_old/cyp2c9_union_trainset_base_smiles.csv'\n",
      "DEBUG:ATOM:Attempting to load featurized dataset\n"
     ]
    },
    {
     "name": "stdout",
     "output_type": "stream",
     "text": [
      "rf_estimators: 256, rf_max_depth: 64, rf_max_features: 128, valid_r2: 0.15863436868037817\n"
     ]
    },
    {
     "name": "stderr",
     "output_type": "stream",
     "text": [
      "DEBUG:ATOM:Got dataset, attempting to extract data\n",
      "DEBUG:ATOM:Creating deepchem dataset\n",
      "INFO:ATOM:Using prefeaturized data; number of features = 306\n",
      "WARNING:ATOM:Previous dataset split restored\n",
      "INFO:ATOM:Wrote transformers to ./../HPO/HPO_models_CYP2C9_old/cyp2c9_union_trainset_base_smiles/RF_computed_descriptors_scaffold_regression/c5e59b8d-fd07-4b67-b8f4-fcd93f9c8114/transformers.pkl\n",
      "INFO:ATOM:Transforming response data\n",
      "INFO:ATOM:Transforming feature data\n",
      "INFO:ATOM:Transforming response data\n",
      "INFO:ATOM:Transforming feature data\n",
      "INFO:ATOM:Transforming response data\n",
      "INFO:ATOM:Transforming feature data\n",
      "INFO:ATOM:Fitting random forest model\n",
      "INFO:ATOM:Fold 0: training r2_score = 0.906, validation r2_score = 0.157, test r2_score = 0.869\n",
      "INFO:ATOM:Wrote model tarball to ./../HPO/HPO_models_CYP2C9_old/cyp2c9_union_trainset_base_smiles_model_c5e59b8d-fd07-4b67-b8f4-fcd93f9c8114.tar.gz\n",
      "INFO:ATOM:Created a dataset hash '5784653341796c83c2c652313bd6db26' from dataset_key '/usr/WS2/atom/titli/MoDaC/Data/CYP2C9-ampl-1.1.0_old/cyp2c9_union_trainset_base_smiles.csv'\n",
      "DEBUG:ATOM:Attempting to load featurized dataset\n"
     ]
    },
    {
     "name": "stdout",
     "output_type": "stream",
     "text": [
      "rf_estimators: 256, rf_max_depth: 128, rf_max_features: 16, valid_r2: 0.15652582753036948\n"
     ]
    },
    {
     "name": "stderr",
     "output_type": "stream",
     "text": [
      "DEBUG:ATOM:Got dataset, attempting to extract data\n",
      "DEBUG:ATOM:Creating deepchem dataset\n",
      "INFO:ATOM:Using prefeaturized data; number of features = 306\n",
      "WARNING:ATOM:Previous dataset split restored\n",
      "INFO:ATOM:Wrote transformers to ./../HPO/HPO_models_CYP2C9_old/cyp2c9_union_trainset_base_smiles/RF_computed_descriptors_scaffold_regression/d02b2002-c995-48a2-abe1-5a9a43cc0cd4/transformers.pkl\n",
      "INFO:ATOM:Transforming response data\n",
      "INFO:ATOM:Transforming feature data\n",
      "INFO:ATOM:Transforming response data\n",
      "INFO:ATOM:Transforming feature data\n",
      "INFO:ATOM:Transforming response data\n",
      "INFO:ATOM:Transforming feature data\n",
      "INFO:ATOM:Fitting random forest model\n",
      "INFO:ATOM:Fold 0: training r2_score = 0.907, validation r2_score = 0.153, test r2_score = 0.833\n",
      "INFO:ATOM:Wrote model tarball to ./../HPO/HPO_models_CYP2C9_old/cyp2c9_union_trainset_base_smiles_model_d02b2002-c995-48a2-abe1-5a9a43cc0cd4.tar.gz\n",
      "INFO:ATOM:Created a dataset hash '5784653341796c83c2c652313bd6db26' from dataset_key '/usr/WS2/atom/titli/MoDaC/Data/CYP2C9-ampl-1.1.0_old/cyp2c9_union_trainset_base_smiles.csv'\n",
      "DEBUG:ATOM:Attempting to load featurized dataset\n"
     ]
    },
    {
     "name": "stdout",
     "output_type": "stream",
     "text": [
      "rf_estimators: 256, rf_max_depth: 128, rf_max_features: 24, valid_r2: 0.15312091977987063\n"
     ]
    },
    {
     "name": "stderr",
     "output_type": "stream",
     "text": [
      "DEBUG:ATOM:Got dataset, attempting to extract data\n",
      "DEBUG:ATOM:Creating deepchem dataset\n",
      "INFO:ATOM:Using prefeaturized data; number of features = 306\n",
      "WARNING:ATOM:Previous dataset split restored\n",
      "INFO:ATOM:Wrote transformers to ./../HPO/HPO_models_CYP2C9_old/cyp2c9_union_trainset_base_smiles/RF_computed_descriptors_scaffold_regression/c4adb04c-b790-41c7-910c-19ad257baa1a/transformers.pkl\n",
      "INFO:ATOM:Transforming response data\n",
      "INFO:ATOM:Transforming feature data\n",
      "INFO:ATOM:Transforming response data\n",
      "INFO:ATOM:Transforming feature data\n",
      "INFO:ATOM:Transforming response data\n",
      "INFO:ATOM:Transforming feature data\n",
      "INFO:ATOM:Fitting random forest model\n",
      "INFO:ATOM:Fold 0: training r2_score = 0.907, validation r2_score = 0.155, test r2_score = 0.837\n",
      "INFO:ATOM:Wrote model tarball to ./../HPO/HPO_models_CYP2C9_old/cyp2c9_union_trainset_base_smiles_model_c4adb04c-b790-41c7-910c-19ad257baa1a.tar.gz\n",
      "INFO:ATOM:Created a dataset hash '5784653341796c83c2c652313bd6db26' from dataset_key '/usr/WS2/atom/titli/MoDaC/Data/CYP2C9-ampl-1.1.0_old/cyp2c9_union_trainset_base_smiles.csv'\n",
      "DEBUG:ATOM:Attempting to load featurized dataset\n"
     ]
    },
    {
     "name": "stdout",
     "output_type": "stream",
     "text": [
      "rf_estimators: 256, rf_max_depth: 128, rf_max_features: 32, valid_r2: 0.1554525205817171\n"
     ]
    },
    {
     "name": "stderr",
     "output_type": "stream",
     "text": [
      "DEBUG:ATOM:Got dataset, attempting to extract data\n",
      "DEBUG:ATOM:Creating deepchem dataset\n",
      "INFO:ATOM:Using prefeaturized data; number of features = 306\n",
      "WARNING:ATOM:Previous dataset split restored\n",
      "INFO:ATOM:Wrote transformers to ./../HPO/HPO_models_CYP2C9_old/cyp2c9_union_trainset_base_smiles/RF_computed_descriptors_scaffold_regression/168e3be6-1234-4e79-9286-fb55054293e6/transformers.pkl\n",
      "INFO:ATOM:Transforming response data\n",
      "INFO:ATOM:Transforming feature data\n",
      "INFO:ATOM:Transforming response data\n",
      "INFO:ATOM:Transforming feature data\n",
      "INFO:ATOM:Transforming response data\n",
      "INFO:ATOM:Transforming feature data\n",
      "INFO:ATOM:Fitting random forest model\n",
      "INFO:ATOM:Fold 0: training r2_score = 0.908, validation r2_score = 0.153, test r2_score = 0.868\n",
      "INFO:ATOM:Wrote model tarball to ./../HPO/HPO_models_CYP2C9_old/cyp2c9_union_trainset_base_smiles_model_168e3be6-1234-4e79-9286-fb55054293e6.tar.gz\n",
      "INFO:ATOM:Created a dataset hash '5784653341796c83c2c652313bd6db26' from dataset_key '/usr/WS2/atom/titli/MoDaC/Data/CYP2C9-ampl-1.1.0_old/cyp2c9_union_trainset_base_smiles.csv'\n",
      "DEBUG:ATOM:Attempting to load featurized dataset\n"
     ]
    },
    {
     "name": "stdout",
     "output_type": "stream",
     "text": [
      "rf_estimators: 256, rf_max_depth: 128, rf_max_features: 64, valid_r2: 0.15299480124597775\n"
     ]
    },
    {
     "name": "stderr",
     "output_type": "stream",
     "text": [
      "DEBUG:ATOM:Got dataset, attempting to extract data\n",
      "DEBUG:ATOM:Creating deepchem dataset\n",
      "INFO:ATOM:Using prefeaturized data; number of features = 306\n",
      "WARNING:ATOM:Previous dataset split restored\n",
      "INFO:ATOM:Wrote transformers to ./../HPO/HPO_models_CYP2C9_old/cyp2c9_union_trainset_base_smiles/RF_computed_descriptors_scaffold_regression/a5a8a079-fdb0-44ca-a4e0-9454519a5e17/transformers.pkl\n",
      "INFO:ATOM:Transforming response data\n",
      "INFO:ATOM:Transforming feature data\n",
      "INFO:ATOM:Transforming response data\n",
      "INFO:ATOM:Transforming feature data\n",
      "INFO:ATOM:Transforming response data\n",
      "INFO:ATOM:Transforming feature data\n",
      "INFO:ATOM:Fitting random forest model\n",
      "INFO:ATOM:Fold 0: training r2_score = 0.909, validation r2_score = 0.163, test r2_score = 0.929\n",
      "INFO:ATOM:Wrote model tarball to ./../HPO/HPO_models_CYP2C9_old/cyp2c9_union_trainset_base_smiles_model_a5a8a079-fdb0-44ca-a4e0-9454519a5e17.tar.gz\n",
      "INFO:ATOM:Created a dataset hash '5784653341796c83c2c652313bd6db26' from dataset_key '/usr/WS2/atom/titli/MoDaC/Data/CYP2C9-ampl-1.1.0_old/cyp2c9_union_trainset_base_smiles.csv'\n",
      "DEBUG:ATOM:Attempting to load featurized dataset\n"
     ]
    },
    {
     "name": "stdout",
     "output_type": "stream",
     "text": [
      "rf_estimators: 256, rf_max_depth: 128, rf_max_features: 128, valid_r2: 0.16277772798813728\n"
     ]
    },
    {
     "name": "stderr",
     "output_type": "stream",
     "text": [
      "DEBUG:ATOM:Got dataset, attempting to extract data\n",
      "DEBUG:ATOM:Creating deepchem dataset\n",
      "INFO:ATOM:Using prefeaturized data; number of features = 306\n",
      "WARNING:ATOM:Previous dataset split restored\n",
      "INFO:ATOM:Wrote transformers to ./../HPO/HPO_models_CYP2C9_old/cyp2c9_union_trainset_base_smiles/RF_computed_descriptors_scaffold_regression/1ea25b5a-ceab-4b77-8a1b-eb1019001f75/transformers.pkl\n",
      "INFO:ATOM:Transforming response data\n",
      "INFO:ATOM:Transforming feature data\n",
      "INFO:ATOM:Transforming response data\n",
      "INFO:ATOM:Transforming feature data\n",
      "INFO:ATOM:Transforming response data\n",
      "INFO:ATOM:Transforming feature data\n",
      "INFO:ATOM:Fitting random forest model\n",
      "INFO:ATOM:Fold 0: training r2_score = 0.907, validation r2_score = 0.159, test r2_score = 0.774\n",
      "INFO:ATOM:Wrote model tarball to ./../HPO/HPO_models_CYP2C9_old/cyp2c9_union_trainset_base_smiles_model_1ea25b5a-ceab-4b77-8a1b-eb1019001f75.tar.gz\n",
      "INFO:ATOM:Created a dataset hash '5784653341796c83c2c652313bd6db26' from dataset_key '/usr/WS2/atom/titli/MoDaC/Data/CYP2C9-ampl-1.1.0_old/cyp2c9_union_trainset_base_smiles.csv'\n",
      "DEBUG:ATOM:Attempting to load featurized dataset\n"
     ]
    },
    {
     "name": "stdout",
     "output_type": "stream",
     "text": [
      "rf_estimators: 256, rf_max_depth: 256, rf_max_features: 16, valid_r2: 0.1593649885315681\n"
     ]
    },
    {
     "name": "stderr",
     "output_type": "stream",
     "text": [
      "DEBUG:ATOM:Got dataset, attempting to extract data\n",
      "DEBUG:ATOM:Creating deepchem dataset\n",
      "INFO:ATOM:Using prefeaturized data; number of features = 306\n",
      "WARNING:ATOM:Previous dataset split restored\n",
      "INFO:ATOM:Wrote transformers to ./../HPO/HPO_models_CYP2C9_old/cyp2c9_union_trainset_base_smiles/RF_computed_descriptors_scaffold_regression/ec3563c9-db98-4c83-88df-dada9989ec7c/transformers.pkl\n",
      "INFO:ATOM:Transforming response data\n",
      "INFO:ATOM:Transforming feature data\n",
      "INFO:ATOM:Transforming response data\n",
      "INFO:ATOM:Transforming feature data\n",
      "INFO:ATOM:Transforming response data\n",
      "INFO:ATOM:Transforming feature data\n",
      "INFO:ATOM:Fitting random forest model\n",
      "INFO:ATOM:Fold 0: training r2_score = 0.907, validation r2_score = 0.155, test r2_score = 0.936\n",
      "INFO:ATOM:Wrote model tarball to ./../HPO/HPO_models_CYP2C9_old/cyp2c9_union_trainset_base_smiles_model_ec3563c9-db98-4c83-88df-dada9989ec7c.tar.gz\n",
      "INFO:ATOM:Created a dataset hash '5784653341796c83c2c652313bd6db26' from dataset_key '/usr/WS2/atom/titli/MoDaC/Data/CYP2C9-ampl-1.1.0_old/cyp2c9_union_trainset_base_smiles.csv'\n",
      "DEBUG:ATOM:Attempting to load featurized dataset\n"
     ]
    },
    {
     "name": "stdout",
     "output_type": "stream",
     "text": [
      "rf_estimators: 256, rf_max_depth: 256, rf_max_features: 24, valid_r2: 0.15528255685455383\n"
     ]
    },
    {
     "name": "stderr",
     "output_type": "stream",
     "text": [
      "DEBUG:ATOM:Got dataset, attempting to extract data\n",
      "DEBUG:ATOM:Creating deepchem dataset\n",
      "INFO:ATOM:Using prefeaturized data; number of features = 306\n",
      "WARNING:ATOM:Previous dataset split restored\n",
      "INFO:ATOM:Wrote transformers to ./../HPO/HPO_models_CYP2C9_old/cyp2c9_union_trainset_base_smiles/RF_computed_descriptors_scaffold_regression/12c5f86d-60d5-4574-9970-5f04f719a3b0/transformers.pkl\n",
      "INFO:ATOM:Transforming response data\n",
      "INFO:ATOM:Transforming feature data\n",
      "INFO:ATOM:Transforming response data\n",
      "INFO:ATOM:Transforming feature data\n",
      "INFO:ATOM:Transforming response data\n",
      "INFO:ATOM:Transforming feature data\n",
      "INFO:ATOM:Fitting random forest model\n",
      "INFO:ATOM:Fold 0: training r2_score = 0.907, validation r2_score = 0.157, test r2_score = 0.867\n",
      "INFO:ATOM:Wrote model tarball to ./../HPO/HPO_models_CYP2C9_old/cyp2c9_union_trainset_base_smiles_model_12c5f86d-60d5-4574-9970-5f04f719a3b0.tar.gz\n",
      "INFO:ATOM:Created a dataset hash '5784653341796c83c2c652313bd6db26' from dataset_key '/usr/WS2/atom/titli/MoDaC/Data/CYP2C9-ampl-1.1.0_old/cyp2c9_union_trainset_base_smiles.csv'\n",
      "DEBUG:ATOM:Attempting to load featurized dataset\n"
     ]
    },
    {
     "name": "stdout",
     "output_type": "stream",
     "text": [
      "rf_estimators: 256, rf_max_depth: 256, rf_max_features: 32, valid_r2: 0.15739609645514963\n"
     ]
    },
    {
     "name": "stderr",
     "output_type": "stream",
     "text": [
      "DEBUG:ATOM:Got dataset, attempting to extract data\n",
      "DEBUG:ATOM:Creating deepchem dataset\n",
      "INFO:ATOM:Using prefeaturized data; number of features = 306\n",
      "WARNING:ATOM:Previous dataset split restored\n",
      "INFO:ATOM:Wrote transformers to ./../HPO/HPO_models_CYP2C9_old/cyp2c9_union_trainset_base_smiles/RF_computed_descriptors_scaffold_regression/56391073-3cba-4a87-92ef-04b812d5f3f8/transformers.pkl\n",
      "INFO:ATOM:Transforming response data\n",
      "INFO:ATOM:Transforming feature data\n",
      "INFO:ATOM:Transforming response data\n",
      "INFO:ATOM:Transforming feature data\n",
      "INFO:ATOM:Transforming response data\n",
      "INFO:ATOM:Transforming feature data\n",
      "INFO:ATOM:Fitting random forest model\n",
      "INFO:ATOM:Fold 0: training r2_score = 0.908, validation r2_score = 0.159, test r2_score = 0.946\n",
      "INFO:ATOM:Wrote model tarball to ./../HPO/HPO_models_CYP2C9_old/cyp2c9_union_trainset_base_smiles_model_56391073-3cba-4a87-92ef-04b812d5f3f8.tar.gz\n",
      "INFO:ATOM:Created a dataset hash '5784653341796c83c2c652313bd6db26' from dataset_key '/usr/WS2/atom/titli/MoDaC/Data/CYP2C9-ampl-1.1.0_old/cyp2c9_union_trainset_base_smiles.csv'\n",
      "DEBUG:ATOM:Attempting to load featurized dataset\n"
     ]
    },
    {
     "name": "stdout",
     "output_type": "stream",
     "text": [
      "rf_estimators: 256, rf_max_depth: 256, rf_max_features: 64, valid_r2: 0.15870519924707027\n"
     ]
    },
    {
     "name": "stderr",
     "output_type": "stream",
     "text": [
      "DEBUG:ATOM:Got dataset, attempting to extract data\n",
      "DEBUG:ATOM:Creating deepchem dataset\n",
      "INFO:ATOM:Using prefeaturized data; number of features = 306\n",
      "WARNING:ATOM:Previous dataset split restored\n",
      "INFO:ATOM:Wrote transformers to ./../HPO/HPO_models_CYP2C9_old/cyp2c9_union_trainset_base_smiles/RF_computed_descriptors_scaffold_regression/192bfb49-5cb4-473b-a2d8-03f773595375/transformers.pkl\n",
      "INFO:ATOM:Transforming response data\n",
      "INFO:ATOM:Transforming feature data\n",
      "INFO:ATOM:Transforming response data\n",
      "INFO:ATOM:Transforming feature data\n",
      "INFO:ATOM:Transforming response data\n",
      "INFO:ATOM:Transforming feature data\n",
      "INFO:ATOM:Fitting random forest model\n",
      "INFO:ATOM:Fold 0: training r2_score = 0.908, validation r2_score = 0.156, test r2_score = 0.882\n",
      "INFO:ATOM:Wrote model tarball to ./../HPO/HPO_models_CYP2C9_old/cyp2c9_union_trainset_base_smiles_model_192bfb49-5cb4-473b-a2d8-03f773595375.tar.gz\n",
      "INFO:ATOM:Created a dataset hash '5784653341796c83c2c652313bd6db26' from dataset_key '/usr/WS2/atom/titli/MoDaC/Data/CYP2C9-ampl-1.1.0_old/cyp2c9_union_trainset_base_smiles.csv'\n",
      "DEBUG:ATOM:Attempting to load featurized dataset\n"
     ]
    },
    {
     "name": "stdout",
     "output_type": "stream",
     "text": [
      "rf_estimators: 256, rf_max_depth: 256, rf_max_features: 128, valid_r2: 0.15601841057844312\n"
     ]
    },
    {
     "name": "stderr",
     "output_type": "stream",
     "text": [
      "DEBUG:ATOM:Got dataset, attempting to extract data\n",
      "DEBUG:ATOM:Creating deepchem dataset\n",
      "INFO:ATOM:Using prefeaturized data; number of features = 306\n",
      "WARNING:ATOM:Previous dataset split restored\n",
      "INFO:ATOM:Wrote transformers to ./../HPO/HPO_models_CYP2C9_old/cyp2c9_union_trainset_base_smiles/RF_computed_descriptors_scaffold_regression/7e9135da-4fed-4071-a0bb-f2b9427b231c/transformers.pkl\n",
      "INFO:ATOM:Transforming response data\n",
      "INFO:ATOM:Transforming feature data\n",
      "INFO:ATOM:Transforming response data\n",
      "INFO:ATOM:Transforming feature data\n",
      "INFO:ATOM:Transforming response data\n",
      "INFO:ATOM:Transforming feature data\n",
      "INFO:ATOM:Fitting random forest model\n",
      "INFO:ATOM:Fold 0: training r2_score = 0.795, validation r2_score = 0.151, test r2_score = 0.872\n",
      "INFO:ATOM:Wrote model tarball to ./../HPO/HPO_models_CYP2C9_old/cyp2c9_union_trainset_base_smiles_model_7e9135da-4fed-4071-a0bb-f2b9427b231c.tar.gz\n",
      "INFO:ATOM:Created a dataset hash '5784653341796c83c2c652313bd6db26' from dataset_key '/usr/WS2/atom/titli/MoDaC/Data/CYP2C9-ampl-1.1.0_old/cyp2c9_union_trainset_base_smiles.csv'\n",
      "DEBUG:ATOM:Attempting to load featurized dataset\n"
     ]
    },
    {
     "name": "stdout",
     "output_type": "stream",
     "text": [
      "rf_estimators: 512, rf_max_depth: 16, rf_max_features: 16, valid_r2: 0.15113618762958791\n"
     ]
    },
    {
     "name": "stderr",
     "output_type": "stream",
     "text": [
      "DEBUG:ATOM:Got dataset, attempting to extract data\n",
      "DEBUG:ATOM:Creating deepchem dataset\n",
      "INFO:ATOM:Using prefeaturized data; number of features = 306\n",
      "WARNING:ATOM:Previous dataset split restored\n",
      "INFO:ATOM:Wrote transformers to ./../HPO/HPO_models_CYP2C9_old/cyp2c9_union_trainset_base_smiles/RF_computed_descriptors_scaffold_regression/ebe8b047-18fa-4245-8230-85d747f77e4e/transformers.pkl\n",
      "INFO:ATOM:Transforming response data\n",
      "INFO:ATOM:Transforming feature data\n",
      "INFO:ATOM:Transforming response data\n",
      "INFO:ATOM:Transforming feature data\n",
      "INFO:ATOM:Transforming response data\n",
      "INFO:ATOM:Transforming feature data\n",
      "INFO:ATOM:Fitting random forest model\n",
      "INFO:ATOM:Fold 0: training r2_score = 0.796, validation r2_score = 0.150, test r2_score = 0.785\n",
      "INFO:ATOM:Wrote model tarball to ./../HPO/HPO_models_CYP2C9_old/cyp2c9_union_trainset_base_smiles_model_ebe8b047-18fa-4245-8230-85d747f77e4e.tar.gz\n",
      "INFO:ATOM:Created a dataset hash '5784653341796c83c2c652313bd6db26' from dataset_key '/usr/WS2/atom/titli/MoDaC/Data/CYP2C9-ampl-1.1.0_old/cyp2c9_union_trainset_base_smiles.csv'\n",
      "DEBUG:ATOM:Attempting to load featurized dataset\n"
     ]
    },
    {
     "name": "stdout",
     "output_type": "stream",
     "text": [
      "rf_estimators: 512, rf_max_depth: 16, rf_max_features: 24, valid_r2: 0.15040043142669912\n"
     ]
    },
    {
     "name": "stderr",
     "output_type": "stream",
     "text": [
      "DEBUG:ATOM:Got dataset, attempting to extract data\n",
      "DEBUG:ATOM:Creating deepchem dataset\n",
      "INFO:ATOM:Using prefeaturized data; number of features = 306\n",
      "WARNING:ATOM:Previous dataset split restored\n",
      "INFO:ATOM:Wrote transformers to ./../HPO/HPO_models_CYP2C9_old/cyp2c9_union_trainset_base_smiles/RF_computed_descriptors_scaffold_regression/83023ebf-002e-4719-85fe-51f48acdaf02/transformers.pkl\n",
      "INFO:ATOM:Transforming response data\n",
      "INFO:ATOM:Transforming feature data\n",
      "INFO:ATOM:Transforming response data\n",
      "INFO:ATOM:Transforming feature data\n",
      "INFO:ATOM:Transforming response data\n",
      "INFO:ATOM:Transforming feature data\n",
      "INFO:ATOM:Fitting random forest model\n",
      "INFO:ATOM:Fold 0: training r2_score = 0.797, validation r2_score = 0.154, test r2_score = 0.886\n",
      "INFO:ATOM:Wrote model tarball to ./../HPO/HPO_models_CYP2C9_old/cyp2c9_union_trainset_base_smiles_model_83023ebf-002e-4719-85fe-51f48acdaf02.tar.gz\n",
      "INFO:ATOM:Created a dataset hash '5784653341796c83c2c652313bd6db26' from dataset_key '/usr/WS2/atom/titli/MoDaC/Data/CYP2C9-ampl-1.1.0_old/cyp2c9_union_trainset_base_smiles.csv'\n",
      "DEBUG:ATOM:Attempting to load featurized dataset\n"
     ]
    },
    {
     "name": "stdout",
     "output_type": "stream",
     "text": [
      "rf_estimators: 512, rf_max_depth: 16, rf_max_features: 32, valid_r2: 0.1535150860368969\n"
     ]
    },
    {
     "name": "stderr",
     "output_type": "stream",
     "text": [
      "DEBUG:ATOM:Got dataset, attempting to extract data\n",
      "DEBUG:ATOM:Creating deepchem dataset\n",
      "INFO:ATOM:Using prefeaturized data; number of features = 306\n",
      "WARNING:ATOM:Previous dataset split restored\n",
      "INFO:ATOM:Wrote transformers to ./../HPO/HPO_models_CYP2C9_old/cyp2c9_union_trainset_base_smiles/RF_computed_descriptors_scaffold_regression/8c200415-1437-408e-98ec-8a6bc2f75e6d/transformers.pkl\n",
      "INFO:ATOM:Transforming response data\n",
      "INFO:ATOM:Transforming feature data\n",
      "INFO:ATOM:Transforming response data\n",
      "INFO:ATOM:Transforming feature data\n",
      "INFO:ATOM:Transforming response data\n",
      "INFO:ATOM:Transforming feature data\n",
      "INFO:ATOM:Fitting random forest model\n",
      "INFO:ATOM:Fold 0: training r2_score = 0.796, validation r2_score = 0.156, test r2_score = 0.859\n",
      "INFO:ATOM:Wrote model tarball to ./../HPO/HPO_models_CYP2C9_old/cyp2c9_union_trainset_base_smiles_model_8c200415-1437-408e-98ec-8a6bc2f75e6d.tar.gz\n",
      "INFO:ATOM:Created a dataset hash '5784653341796c83c2c652313bd6db26' from dataset_key '/usr/WS2/atom/titli/MoDaC/Data/CYP2C9-ampl-1.1.0_old/cyp2c9_union_trainset_base_smiles.csv'\n",
      "DEBUG:ATOM:Attempting to load featurized dataset\n"
     ]
    },
    {
     "name": "stdout",
     "output_type": "stream",
     "text": [
      "rf_estimators: 512, rf_max_depth: 16, rf_max_features: 64, valid_r2: 0.1562686643379677\n"
     ]
    },
    {
     "name": "stderr",
     "output_type": "stream",
     "text": [
      "DEBUG:ATOM:Got dataset, attempting to extract data\n",
      "DEBUG:ATOM:Creating deepchem dataset\n",
      "INFO:ATOM:Using prefeaturized data; number of features = 306\n",
      "WARNING:ATOM:Previous dataset split restored\n",
      "INFO:ATOM:Wrote transformers to ./../HPO/HPO_models_CYP2C9_old/cyp2c9_union_trainset_base_smiles/RF_computed_descriptors_scaffold_regression/1892c2d5-55c4-4f5d-b4f1-22f7872b46e3/transformers.pkl\n",
      "INFO:ATOM:Transforming response data\n",
      "INFO:ATOM:Transforming feature data\n",
      "INFO:ATOM:Transforming response data\n",
      "INFO:ATOM:Transforming feature data\n",
      "INFO:ATOM:Transforming response data\n",
      "INFO:ATOM:Transforming feature data\n",
      "INFO:ATOM:Fitting random forest model\n",
      "INFO:ATOM:Fold 0: training r2_score = 0.793, validation r2_score = 0.154, test r2_score = 0.864\n",
      "INFO:ATOM:Wrote model tarball to ./../HPO/HPO_models_CYP2C9_old/cyp2c9_union_trainset_base_smiles_model_1892c2d5-55c4-4f5d-b4f1-22f7872b46e3.tar.gz\n",
      "INFO:ATOM:Created a dataset hash '5784653341796c83c2c652313bd6db26' from dataset_key '/usr/WS2/atom/titli/MoDaC/Data/CYP2C9-ampl-1.1.0_old/cyp2c9_union_trainset_base_smiles.csv'\n",
      "DEBUG:ATOM:Attempting to load featurized dataset\n"
     ]
    },
    {
     "name": "stdout",
     "output_type": "stream",
     "text": [
      "rf_estimators: 512, rf_max_depth: 16, rf_max_features: 128, valid_r2: 0.15376882283062987\n"
     ]
    },
    {
     "name": "stderr",
     "output_type": "stream",
     "text": [
      "DEBUG:ATOM:Got dataset, attempting to extract data\n",
      "DEBUG:ATOM:Creating deepchem dataset\n",
      "INFO:ATOM:Using prefeaturized data; number of features = 306\n",
      "WARNING:ATOM:Previous dataset split restored\n",
      "INFO:ATOM:Wrote transformers to ./../HPO/HPO_models_CYP2C9_old/cyp2c9_union_trainset_base_smiles/RF_computed_descriptors_scaffold_regression/c6773486-d84c-4826-b065-f50e6c238f85/transformers.pkl\n",
      "INFO:ATOM:Transforming response data\n",
      "INFO:ATOM:Transforming feature data\n",
      "INFO:ATOM:Transforming response data\n",
      "INFO:ATOM:Transforming feature data\n",
      "INFO:ATOM:Transforming response data\n",
      "INFO:ATOM:Transforming feature data\n",
      "INFO:ATOM:Fitting random forest model\n",
      "INFO:ATOM:Fold 0: training r2_score = 0.897, validation r2_score = 0.157, test r2_score = 0.842\n",
      "INFO:ATOM:Wrote model tarball to ./../HPO/HPO_models_CYP2C9_old/cyp2c9_union_trainset_base_smiles_model_c6773486-d84c-4826-b065-f50e6c238f85.tar.gz\n",
      "INFO:ATOM:Created a dataset hash '5784653341796c83c2c652313bd6db26' from dataset_key '/usr/WS2/atom/titli/MoDaC/Data/CYP2C9-ampl-1.1.0_old/cyp2c9_union_trainset_base_smiles.csv'\n",
      "DEBUG:ATOM:Attempting to load featurized dataset\n"
     ]
    },
    {
     "name": "stdout",
     "output_type": "stream",
     "text": [
      "rf_estimators: 512, rf_max_depth: 24, rf_max_features: 16, valid_r2: 0.15705146570580397\n"
     ]
    },
    {
     "name": "stderr",
     "output_type": "stream",
     "text": [
      "DEBUG:ATOM:Got dataset, attempting to extract data\n",
      "DEBUG:ATOM:Creating deepchem dataset\n",
      "INFO:ATOM:Using prefeaturized data; number of features = 306\n",
      "WARNING:ATOM:Previous dataset split restored\n",
      "INFO:ATOM:Wrote transformers to ./../HPO/HPO_models_CYP2C9_old/cyp2c9_union_trainset_base_smiles/RF_computed_descriptors_scaffold_regression/24c26d24-eba1-4f6c-b6a1-ff6ecdaff5f5/transformers.pkl\n",
      "INFO:ATOM:Transforming response data\n",
      "INFO:ATOM:Transforming feature data\n",
      "INFO:ATOM:Transforming response data\n",
      "INFO:ATOM:Transforming feature data\n",
      "INFO:ATOM:Transforming response data\n",
      "INFO:ATOM:Transforming feature data\n",
      "INFO:ATOM:Fitting random forest model\n",
      "INFO:ATOM:Fold 0: training r2_score = 0.896, validation r2_score = 0.154, test r2_score = 0.785\n",
      "INFO:ATOM:Wrote model tarball to ./../HPO/HPO_models_CYP2C9_old/cyp2c9_union_trainset_base_smiles_model_24c26d24-eba1-4f6c-b6a1-ff6ecdaff5f5.tar.gz\n",
      "INFO:ATOM:Created a dataset hash '5784653341796c83c2c652313bd6db26' from dataset_key '/usr/WS2/atom/titli/MoDaC/Data/CYP2C9-ampl-1.1.0_old/cyp2c9_union_trainset_base_smiles.csv'\n",
      "DEBUG:ATOM:Attempting to load featurized dataset\n"
     ]
    },
    {
     "name": "stdout",
     "output_type": "stream",
     "text": [
      "rf_estimators: 512, rf_max_depth: 24, rf_max_features: 24, valid_r2: 0.15432145796994\n"
     ]
    },
    {
     "name": "stderr",
     "output_type": "stream",
     "text": [
      "DEBUG:ATOM:Got dataset, attempting to extract data\n",
      "DEBUG:ATOM:Creating deepchem dataset\n",
      "INFO:ATOM:Using prefeaturized data; number of features = 306\n",
      "WARNING:ATOM:Previous dataset split restored\n",
      "INFO:ATOM:Wrote transformers to ./../HPO/HPO_models_CYP2C9_old/cyp2c9_union_trainset_base_smiles/RF_computed_descriptors_scaffold_regression/dda511d9-8f85-4de1-b15a-8eccb314ba5c/transformers.pkl\n",
      "INFO:ATOM:Transforming response data\n",
      "INFO:ATOM:Transforming feature data\n",
      "INFO:ATOM:Transforming response data\n",
      "INFO:ATOM:Transforming feature data\n",
      "INFO:ATOM:Transforming response data\n",
      "INFO:ATOM:Transforming feature data\n",
      "INFO:ATOM:Fitting random forest model\n",
      "INFO:ATOM:Fold 0: training r2_score = 0.897, validation r2_score = 0.156, test r2_score = 0.860\n",
      "INFO:ATOM:Wrote model tarball to ./../HPO/HPO_models_CYP2C9_old/cyp2c9_union_trainset_base_smiles_model_dda511d9-8f85-4de1-b15a-8eccb314ba5c.tar.gz\n",
      "INFO:ATOM:Created a dataset hash '5784653341796c83c2c652313bd6db26' from dataset_key '/usr/WS2/atom/titli/MoDaC/Data/CYP2C9-ampl-1.1.0_old/cyp2c9_union_trainset_base_smiles.csv'\n",
      "DEBUG:ATOM:Attempting to load featurized dataset\n"
     ]
    },
    {
     "name": "stdout",
     "output_type": "stream",
     "text": [
      "rf_estimators: 512, rf_max_depth: 24, rf_max_features: 32, valid_r2: 0.15590299217405768\n"
     ]
    },
    {
     "name": "stderr",
     "output_type": "stream",
     "text": [
      "DEBUG:ATOM:Got dataset, attempting to extract data\n",
      "DEBUG:ATOM:Creating deepchem dataset\n",
      "INFO:ATOM:Using prefeaturized data; number of features = 306\n",
      "WARNING:ATOM:Previous dataset split restored\n",
      "INFO:ATOM:Wrote transformers to ./../HPO/HPO_models_CYP2C9_old/cyp2c9_union_trainset_base_smiles/RF_computed_descriptors_scaffold_regression/70949156-9576-4590-8f4a-eefedc6b0d54/transformers.pkl\n",
      "INFO:ATOM:Transforming response data\n",
      "INFO:ATOM:Transforming feature data\n",
      "INFO:ATOM:Transforming response data\n",
      "INFO:ATOM:Transforming feature data\n",
      "INFO:ATOM:Transforming response data\n",
      "INFO:ATOM:Transforming feature data\n",
      "INFO:ATOM:Fitting random forest model\n",
      "INFO:ATOM:Fold 0: training r2_score = 0.895, validation r2_score = 0.155, test r2_score = 0.918\n",
      "INFO:ATOM:Wrote model tarball to ./../HPO/HPO_models_CYP2C9_old/cyp2c9_union_trainset_base_smiles_model_70949156-9576-4590-8f4a-eefedc6b0d54.tar.gz\n",
      "INFO:ATOM:Created a dataset hash '5784653341796c83c2c652313bd6db26' from dataset_key '/usr/WS2/atom/titli/MoDaC/Data/CYP2C9-ampl-1.1.0_old/cyp2c9_union_trainset_base_smiles.csv'\n",
      "DEBUG:ATOM:Attempting to load featurized dataset\n"
     ]
    },
    {
     "name": "stdout",
     "output_type": "stream",
     "text": [
      "rf_estimators: 512, rf_max_depth: 24, rf_max_features: 64, valid_r2: 0.15505345323016595\n"
     ]
    },
    {
     "name": "stderr",
     "output_type": "stream",
     "text": [
      "DEBUG:ATOM:Got dataset, attempting to extract data\n",
      "DEBUG:ATOM:Creating deepchem dataset\n",
      "INFO:ATOM:Using prefeaturized data; number of features = 306\n",
      "WARNING:ATOM:Previous dataset split restored\n",
      "INFO:ATOM:Wrote transformers to ./../HPO/HPO_models_CYP2C9_old/cyp2c9_union_trainset_base_smiles/RF_computed_descriptors_scaffold_regression/ed48b86f-0fde-4f8d-afe1-6193bcd547d7/transformers.pkl\n",
      "INFO:ATOM:Transforming response data\n",
      "INFO:ATOM:Transforming feature data\n",
      "INFO:ATOM:Transforming response data\n",
      "INFO:ATOM:Transforming feature data\n",
      "INFO:ATOM:Transforming response data\n",
      "INFO:ATOM:Transforming feature data\n",
      "INFO:ATOM:Fitting random forest model\n",
      "INFO:ATOM:Fold 0: training r2_score = 0.894, validation r2_score = 0.155, test r2_score = 0.790\n",
      "INFO:ATOM:Wrote model tarball to ./../HPO/HPO_models_CYP2C9_old/cyp2c9_union_trainset_base_smiles_model_ed48b86f-0fde-4f8d-afe1-6193bcd547d7.tar.gz\n",
      "INFO:ATOM:Created a dataset hash '5784653341796c83c2c652313bd6db26' from dataset_key '/usr/WS2/atom/titli/MoDaC/Data/CYP2C9-ampl-1.1.0_old/cyp2c9_union_trainset_base_smiles.csv'\n",
      "DEBUG:ATOM:Attempting to load featurized dataset\n"
     ]
    },
    {
     "name": "stdout",
     "output_type": "stream",
     "text": [
      "rf_estimators: 512, rf_max_depth: 24, rf_max_features: 128, valid_r2: 0.15463540185435443\n"
     ]
    },
    {
     "name": "stderr",
     "output_type": "stream",
     "text": [
      "DEBUG:ATOM:Got dataset, attempting to extract data\n",
      "DEBUG:ATOM:Creating deepchem dataset\n",
      "INFO:ATOM:Using prefeaturized data; number of features = 306\n",
      "WARNING:ATOM:Previous dataset split restored\n",
      "INFO:ATOM:Wrote transformers to ./../HPO/HPO_models_CYP2C9_old/cyp2c9_union_trainset_base_smiles/RF_computed_descriptors_scaffold_regression/8a2e059b-2808-4715-9564-1695e1f89309/transformers.pkl\n",
      "INFO:ATOM:Transforming response data\n",
      "INFO:ATOM:Transforming feature data\n",
      "INFO:ATOM:Transforming response data\n",
      "INFO:ATOM:Transforming feature data\n",
      "INFO:ATOM:Transforming response data\n",
      "INFO:ATOM:Transforming feature data\n",
      "INFO:ATOM:Fitting random forest model\n",
      "INFO:ATOM:Fold 0: training r2_score = 0.907, validation r2_score = 0.152, test r2_score = 0.748\n",
      "INFO:ATOM:Wrote model tarball to ./../HPO/HPO_models_CYP2C9_old/cyp2c9_union_trainset_base_smiles_model_8a2e059b-2808-4715-9564-1695e1f89309.tar.gz\n",
      "INFO:ATOM:Created a dataset hash '5784653341796c83c2c652313bd6db26' from dataset_key '/usr/WS2/atom/titli/MoDaC/Data/CYP2C9-ampl-1.1.0_old/cyp2c9_union_trainset_base_smiles.csv'\n",
      "DEBUG:ATOM:Attempting to load featurized dataset\n"
     ]
    },
    {
     "name": "stdout",
     "output_type": "stream",
     "text": [
      "rf_estimators: 512, rf_max_depth: 32, rf_max_features: 16, valid_r2: 0.15236152562810468\n"
     ]
    },
    {
     "name": "stderr",
     "output_type": "stream",
     "text": [
      "DEBUG:ATOM:Got dataset, attempting to extract data\n",
      "DEBUG:ATOM:Creating deepchem dataset\n",
      "INFO:ATOM:Using prefeaturized data; number of features = 306\n",
      "WARNING:ATOM:Previous dataset split restored\n",
      "INFO:ATOM:Wrote transformers to ./../HPO/HPO_models_CYP2C9_old/cyp2c9_union_trainset_base_smiles/RF_computed_descriptors_scaffold_regression/fdf557dc-1f6d-4516-a60a-1e5e67bbee1a/transformers.pkl\n",
      "INFO:ATOM:Transforming response data\n",
      "INFO:ATOM:Transforming feature data\n",
      "INFO:ATOM:Transforming response data\n",
      "INFO:ATOM:Transforming feature data\n",
      "INFO:ATOM:Transforming response data\n",
      "INFO:ATOM:Transforming feature data\n",
      "INFO:ATOM:Fitting random forest model\n",
      "INFO:ATOM:Fold 0: training r2_score = 0.907, validation r2_score = 0.158, test r2_score = 0.842\n",
      "INFO:ATOM:Wrote model tarball to ./../HPO/HPO_models_CYP2C9_old/cyp2c9_union_trainset_base_smiles_model_fdf557dc-1f6d-4516-a60a-1e5e67bbee1a.tar.gz\n",
      "INFO:ATOM:Created a dataset hash '5784653341796c83c2c652313bd6db26' from dataset_key '/usr/WS2/atom/titli/MoDaC/Data/CYP2C9-ampl-1.1.0_old/cyp2c9_union_trainset_base_smiles.csv'\n",
      "DEBUG:ATOM:Attempting to load featurized dataset\n"
     ]
    },
    {
     "name": "stdout",
     "output_type": "stream",
     "text": [
      "rf_estimators: 512, rf_max_depth: 32, rf_max_features: 24, valid_r2: 0.15842382976052471\n"
     ]
    },
    {
     "name": "stderr",
     "output_type": "stream",
     "text": [
      "DEBUG:ATOM:Got dataset, attempting to extract data\n",
      "DEBUG:ATOM:Creating deepchem dataset\n",
      "INFO:ATOM:Using prefeaturized data; number of features = 306\n",
      "WARNING:ATOM:Previous dataset split restored\n",
      "INFO:ATOM:Wrote transformers to ./../HPO/HPO_models_CYP2C9_old/cyp2c9_union_trainset_base_smiles/RF_computed_descriptors_scaffold_regression/a40552a5-fd7d-4014-a163-c08d14989722/transformers.pkl\n",
      "INFO:ATOM:Transforming response data\n",
      "INFO:ATOM:Transforming feature data\n",
      "INFO:ATOM:Transforming response data\n",
      "INFO:ATOM:Transforming feature data\n",
      "INFO:ATOM:Transforming response data\n",
      "INFO:ATOM:Transforming feature data\n",
      "INFO:ATOM:Fitting random forest model\n",
      "INFO:ATOM:Fold 0: training r2_score = 0.908, validation r2_score = 0.155, test r2_score = 0.850\n",
      "INFO:ATOM:Wrote model tarball to ./../HPO/HPO_models_CYP2C9_old/cyp2c9_union_trainset_base_smiles_model_a40552a5-fd7d-4014-a163-c08d14989722.tar.gz\n",
      "INFO:ATOM:Created a dataset hash '5784653341796c83c2c652313bd6db26' from dataset_key '/usr/WS2/atom/titli/MoDaC/Data/CYP2C9-ampl-1.1.0_old/cyp2c9_union_trainset_base_smiles.csv'\n",
      "DEBUG:ATOM:Attempting to load featurized dataset\n"
     ]
    },
    {
     "name": "stdout",
     "output_type": "stream",
     "text": [
      "rf_estimators: 512, rf_max_depth: 32, rf_max_features: 32, valid_r2: 0.1554532478572228\n"
     ]
    },
    {
     "name": "stderr",
     "output_type": "stream",
     "text": [
      "DEBUG:ATOM:Got dataset, attempting to extract data\n",
      "DEBUG:ATOM:Creating deepchem dataset\n",
      "INFO:ATOM:Using prefeaturized data; number of features = 306\n",
      "WARNING:ATOM:Previous dataset split restored\n",
      "INFO:ATOM:Wrote transformers to ./../HPO/HPO_models_CYP2C9_old/cyp2c9_union_trainset_base_smiles/RF_computed_descriptors_scaffold_regression/72454aec-b924-4112-a7e6-9d479a1d310f/transformers.pkl\n",
      "INFO:ATOM:Transforming response data\n",
      "INFO:ATOM:Transforming feature data\n",
      "INFO:ATOM:Transforming response data\n",
      "INFO:ATOM:Transforming feature data\n",
      "INFO:ATOM:Transforming response data\n",
      "INFO:ATOM:Transforming feature data\n",
      "INFO:ATOM:Fitting random forest model\n",
      "INFO:ATOM:Fold 0: training r2_score = 0.908, validation r2_score = 0.159, test r2_score = 0.835\n",
      "INFO:ATOM:Wrote model tarball to ./../HPO/HPO_models_CYP2C9_old/cyp2c9_union_trainset_base_smiles_model_72454aec-b924-4112-a7e6-9d479a1d310f.tar.gz\n",
      "INFO:ATOM:Created a dataset hash '5784653341796c83c2c652313bd6db26' from dataset_key '/usr/WS2/atom/titli/MoDaC/Data/CYP2C9-ampl-1.1.0_old/cyp2c9_union_trainset_base_smiles.csv'\n",
      "DEBUG:ATOM:Attempting to load featurized dataset\n"
     ]
    },
    {
     "name": "stdout",
     "output_type": "stream",
     "text": [
      "rf_estimators: 512, rf_max_depth: 32, rf_max_features: 64, valid_r2: 0.1589535783907613\n"
     ]
    },
    {
     "name": "stderr",
     "output_type": "stream",
     "text": [
      "DEBUG:ATOM:Got dataset, attempting to extract data\n",
      "DEBUG:ATOM:Creating deepchem dataset\n",
      "INFO:ATOM:Using prefeaturized data; number of features = 306\n",
      "WARNING:ATOM:Previous dataset split restored\n",
      "INFO:ATOM:Wrote transformers to ./../HPO/HPO_models_CYP2C9_old/cyp2c9_union_trainset_base_smiles/RF_computed_descriptors_scaffold_regression/4cdf6476-8f9a-46c2-bd68-70bce4c615dd/transformers.pkl\n",
      "INFO:ATOM:Transforming response data\n",
      "INFO:ATOM:Transforming feature data\n",
      "INFO:ATOM:Transforming response data\n",
      "INFO:ATOM:Transforming feature data\n",
      "INFO:ATOM:Transforming response data\n",
      "INFO:ATOM:Transforming feature data\n",
      "INFO:ATOM:Fitting random forest model\n",
      "INFO:ATOM:Fold 0: training r2_score = 0.908, validation r2_score = 0.161, test r2_score = 0.897\n",
      "INFO:ATOM:Wrote model tarball to ./../HPO/HPO_models_CYP2C9_old/cyp2c9_union_trainset_base_smiles_model_4cdf6476-8f9a-46c2-bd68-70bce4c615dd.tar.gz\n",
      "INFO:ATOM:Created a dataset hash '5784653341796c83c2c652313bd6db26' from dataset_key '/usr/WS2/atom/titli/MoDaC/Data/CYP2C9-ampl-1.1.0_old/cyp2c9_union_trainset_base_smiles.csv'\n",
      "DEBUG:ATOM:Attempting to load featurized dataset\n"
     ]
    },
    {
     "name": "stdout",
     "output_type": "stream",
     "text": [
      "rf_estimators: 512, rf_max_depth: 32, rf_max_features: 128, valid_r2: 0.16072473648543428\n"
     ]
    },
    {
     "name": "stderr",
     "output_type": "stream",
     "text": [
      "DEBUG:ATOM:Got dataset, attempting to extract data\n",
      "DEBUG:ATOM:Creating deepchem dataset\n",
      "INFO:ATOM:Using prefeaturized data; number of features = 306\n",
      "WARNING:ATOM:Previous dataset split restored\n",
      "INFO:ATOM:Wrote transformers to ./../HPO/HPO_models_CYP2C9_old/cyp2c9_union_trainset_base_smiles/RF_computed_descriptors_scaffold_regression/a54852e7-6f05-4515-bf45-a79e02b9c0bd/transformers.pkl\n",
      "INFO:ATOM:Transforming response data\n",
      "INFO:ATOM:Transforming feature data\n",
      "INFO:ATOM:Transforming response data\n",
      "INFO:ATOM:Transforming feature data\n",
      "INFO:ATOM:Transforming response data\n",
      "INFO:ATOM:Transforming feature data\n",
      "INFO:ATOM:Fitting random forest model\n",
      "INFO:ATOM:Fold 0: training r2_score = 0.908, validation r2_score = 0.156, test r2_score = 0.830\n",
      "INFO:ATOM:Wrote model tarball to ./../HPO/HPO_models_CYP2C9_old/cyp2c9_union_trainset_base_smiles_model_a54852e7-6f05-4515-bf45-a79e02b9c0bd.tar.gz\n",
      "INFO:ATOM:Created a dataset hash '5784653341796c83c2c652313bd6db26' from dataset_key '/usr/WS2/atom/titli/MoDaC/Data/CYP2C9-ampl-1.1.0_old/cyp2c9_union_trainset_base_smiles.csv'\n",
      "DEBUG:ATOM:Attempting to load featurized dataset\n"
     ]
    },
    {
     "name": "stdout",
     "output_type": "stream",
     "text": [
      "rf_estimators: 512, rf_max_depth: 64, rf_max_features: 16, valid_r2: 0.1564696154635159\n"
     ]
    },
    {
     "name": "stderr",
     "output_type": "stream",
     "text": [
      "DEBUG:ATOM:Got dataset, attempting to extract data\n",
      "DEBUG:ATOM:Creating deepchem dataset\n",
      "INFO:ATOM:Using prefeaturized data; number of features = 306\n",
      "WARNING:ATOM:Previous dataset split restored\n",
      "INFO:ATOM:Wrote transformers to ./../HPO/HPO_models_CYP2C9_old/cyp2c9_union_trainset_base_smiles/RF_computed_descriptors_scaffold_regression/7808c61b-bf46-4669-83c5-df0fe5642d99/transformers.pkl\n",
      "INFO:ATOM:Transforming response data\n",
      "INFO:ATOM:Transforming feature data\n",
      "INFO:ATOM:Transforming response data\n",
      "INFO:ATOM:Transforming feature data\n",
      "INFO:ATOM:Transforming response data\n",
      "INFO:ATOM:Transforming feature data\n",
      "INFO:ATOM:Fitting random forest model\n",
      "INFO:ATOM:Fold 0: training r2_score = 0.908, validation r2_score = 0.159, test r2_score = 0.878\n",
      "INFO:ATOM:Wrote model tarball to ./../HPO/HPO_models_CYP2C9_old/cyp2c9_union_trainset_base_smiles_model_7808c61b-bf46-4669-83c5-df0fe5642d99.tar.gz\n",
      "INFO:ATOM:Created a dataset hash '5784653341796c83c2c652313bd6db26' from dataset_key '/usr/WS2/atom/titli/MoDaC/Data/CYP2C9-ampl-1.1.0_old/cyp2c9_union_trainset_base_smiles.csv'\n",
      "DEBUG:ATOM:Attempting to load featurized dataset\n"
     ]
    },
    {
     "name": "stdout",
     "output_type": "stream",
     "text": [
      "rf_estimators: 512, rf_max_depth: 64, rf_max_features: 24, valid_r2: 0.15920339546244433\n"
     ]
    },
    {
     "name": "stderr",
     "output_type": "stream",
     "text": [
      "DEBUG:ATOM:Got dataset, attempting to extract data\n",
      "DEBUG:ATOM:Creating deepchem dataset\n",
      "INFO:ATOM:Using prefeaturized data; number of features = 306\n",
      "WARNING:ATOM:Previous dataset split restored\n",
      "INFO:ATOM:Wrote transformers to ./../HPO/HPO_models_CYP2C9_old/cyp2c9_union_trainset_base_smiles/RF_computed_descriptors_scaffold_regression/4e901d17-a77b-496e-8467-a390f40b1511/transformers.pkl\n",
      "INFO:ATOM:Transforming response data\n",
      "INFO:ATOM:Transforming feature data\n",
      "INFO:ATOM:Transforming response data\n",
      "INFO:ATOM:Transforming feature data\n",
      "INFO:ATOM:Transforming response data\n",
      "INFO:ATOM:Transforming feature data\n",
      "INFO:ATOM:Fitting random forest model\n",
      "INFO:ATOM:Fold 0: training r2_score = 0.908, validation r2_score = 0.157, test r2_score = 0.834\n",
      "INFO:ATOM:Wrote model tarball to ./../HPO/HPO_models_CYP2C9_old/cyp2c9_union_trainset_base_smiles_model_4e901d17-a77b-496e-8467-a390f40b1511.tar.gz\n",
      "INFO:ATOM:Created a dataset hash '5784653341796c83c2c652313bd6db26' from dataset_key '/usr/WS2/atom/titli/MoDaC/Data/CYP2C9-ampl-1.1.0_old/cyp2c9_union_trainset_base_smiles.csv'\n",
      "DEBUG:ATOM:Attempting to load featurized dataset\n"
     ]
    },
    {
     "name": "stdout",
     "output_type": "stream",
     "text": [
      "rf_estimators: 512, rf_max_depth: 64, rf_max_features: 32, valid_r2: 0.1567460822931065\n"
     ]
    },
    {
     "name": "stderr",
     "output_type": "stream",
     "text": [
      "DEBUG:ATOM:Got dataset, attempting to extract data\n",
      "DEBUG:ATOM:Creating deepchem dataset\n",
      "INFO:ATOM:Using prefeaturized data; number of features = 306\n",
      "WARNING:ATOM:Previous dataset split restored\n",
      "INFO:ATOM:Wrote transformers to ./../HPO/HPO_models_CYP2C9_old/cyp2c9_union_trainset_base_smiles/RF_computed_descriptors_scaffold_regression/33845bcf-852b-4355-8038-db05770b71e9/transformers.pkl\n",
      "INFO:ATOM:Transforming response data\n",
      "INFO:ATOM:Transforming feature data\n",
      "INFO:ATOM:Transforming response data\n",
      "INFO:ATOM:Transforming feature data\n",
      "INFO:ATOM:Transforming response data\n",
      "INFO:ATOM:Transforming feature data\n",
      "INFO:ATOM:Fitting random forest model\n",
      "INFO:ATOM:Fold 0: training r2_score = 0.909, validation r2_score = 0.157, test r2_score = 0.908\n",
      "INFO:ATOM:Wrote model tarball to ./../HPO/HPO_models_CYP2C9_old/cyp2c9_union_trainset_base_smiles_model_33845bcf-852b-4355-8038-db05770b71e9.tar.gz\n",
      "INFO:ATOM:Created a dataset hash '5784653341796c83c2c652313bd6db26' from dataset_key '/usr/WS2/atom/titli/MoDaC/Data/CYP2C9-ampl-1.1.0_old/cyp2c9_union_trainset_base_smiles.csv'\n",
      "DEBUG:ATOM:Attempting to load featurized dataset\n"
     ]
    },
    {
     "name": "stdout",
     "output_type": "stream",
     "text": [
      "rf_estimators: 512, rf_max_depth: 64, rf_max_features: 64, valid_r2: 0.15707306328504878\n"
     ]
    },
    {
     "name": "stderr",
     "output_type": "stream",
     "text": [
      "DEBUG:ATOM:Got dataset, attempting to extract data\n",
      "DEBUG:ATOM:Creating deepchem dataset\n",
      "INFO:ATOM:Using prefeaturized data; number of features = 306\n",
      "WARNING:ATOM:Previous dataset split restored\n",
      "INFO:ATOM:Wrote transformers to ./../HPO/HPO_models_CYP2C9_old/cyp2c9_union_trainset_base_smiles/RF_computed_descriptors_scaffold_regression/1c1b94da-9e6f-4887-8c0a-2463a7a690bf/transformers.pkl\n",
      "INFO:ATOM:Transforming response data\n",
      "INFO:ATOM:Transforming feature data\n",
      "INFO:ATOM:Transforming response data\n",
      "INFO:ATOM:Transforming feature data\n",
      "INFO:ATOM:Transforming response data\n",
      "INFO:ATOM:Transforming feature data\n",
      "INFO:ATOM:Fitting random forest model\n",
      "INFO:ATOM:Fold 0: training r2_score = 0.909, validation r2_score = 0.162, test r2_score = 0.878\n",
      "INFO:ATOM:Wrote model tarball to ./../HPO/HPO_models_CYP2C9_old/cyp2c9_union_trainset_base_smiles_model_1c1b94da-9e6f-4887-8c0a-2463a7a690bf.tar.gz\n",
      "INFO:ATOM:Created a dataset hash '5784653341796c83c2c652313bd6db26' from dataset_key '/usr/WS2/atom/titli/MoDaC/Data/CYP2C9-ampl-1.1.0_old/cyp2c9_union_trainset_base_smiles.csv'\n",
      "DEBUG:ATOM:Attempting to load featurized dataset\n"
     ]
    },
    {
     "name": "stdout",
     "output_type": "stream",
     "text": [
      "rf_estimators: 512, rf_max_depth: 64, rf_max_features: 128, valid_r2: 0.16163001665289822\n"
     ]
    },
    {
     "name": "stderr",
     "output_type": "stream",
     "text": [
      "DEBUG:ATOM:Got dataset, attempting to extract data\n",
      "DEBUG:ATOM:Creating deepchem dataset\n",
      "INFO:ATOM:Using prefeaturized data; number of features = 306\n",
      "WARNING:ATOM:Previous dataset split restored\n",
      "INFO:ATOM:Wrote transformers to ./../HPO/HPO_models_CYP2C9_old/cyp2c9_union_trainset_base_smiles/RF_computed_descriptors_scaffold_regression/445cce31-2e20-4f2d-bf3b-eb3e3da38216/transformers.pkl\n",
      "INFO:ATOM:Transforming response data\n",
      "INFO:ATOM:Transforming feature data\n",
      "INFO:ATOM:Transforming response data\n",
      "INFO:ATOM:Transforming feature data\n",
      "INFO:ATOM:Transforming response data\n",
      "INFO:ATOM:Transforming feature data\n",
      "INFO:ATOM:Fitting random forest model\n",
      "INFO:ATOM:Fold 0: training r2_score = 0.908, validation r2_score = 0.155, test r2_score = 0.868\n",
      "INFO:ATOM:Wrote model tarball to ./../HPO/HPO_models_CYP2C9_old/cyp2c9_union_trainset_base_smiles_model_445cce31-2e20-4f2d-bf3b-eb3e3da38216.tar.gz\n",
      "INFO:ATOM:Created a dataset hash '5784653341796c83c2c652313bd6db26' from dataset_key '/usr/WS2/atom/titli/MoDaC/Data/CYP2C9-ampl-1.1.0_old/cyp2c9_union_trainset_base_smiles.csv'\n",
      "DEBUG:ATOM:Attempting to load featurized dataset\n"
     ]
    },
    {
     "name": "stdout",
     "output_type": "stream",
     "text": [
      "rf_estimators: 512, rf_max_depth: 128, rf_max_features: 16, valid_r2: 0.1550987130797633\n"
     ]
    },
    {
     "name": "stderr",
     "output_type": "stream",
     "text": [
      "DEBUG:ATOM:Got dataset, attempting to extract data\n",
      "DEBUG:ATOM:Creating deepchem dataset\n",
      "INFO:ATOM:Using prefeaturized data; number of features = 306\n",
      "WARNING:ATOM:Previous dataset split restored\n",
      "INFO:ATOM:Wrote transformers to ./../HPO/HPO_models_CYP2C9_old/cyp2c9_union_trainset_base_smiles/RF_computed_descriptors_scaffold_regression/b8b189f8-e5c9-45e6-a4c8-5f0d16a7f397/transformers.pkl\n",
      "INFO:ATOM:Transforming response data\n",
      "INFO:ATOM:Transforming feature data\n",
      "INFO:ATOM:Transforming response data\n",
      "INFO:ATOM:Transforming feature data\n",
      "INFO:ATOM:Transforming response data\n",
      "INFO:ATOM:Transforming feature data\n",
      "INFO:ATOM:Fitting random forest model\n",
      "INFO:ATOM:Fold 0: training r2_score = 0.908, validation r2_score = 0.157, test r2_score = 0.876\n",
      "INFO:ATOM:Wrote model tarball to ./../HPO/HPO_models_CYP2C9_old/cyp2c9_union_trainset_base_smiles_model_b8b189f8-e5c9-45e6-a4c8-5f0d16a7f397.tar.gz\n",
      "INFO:ATOM:Created a dataset hash '5784653341796c83c2c652313bd6db26' from dataset_key '/usr/WS2/atom/titli/MoDaC/Data/CYP2C9-ampl-1.1.0_old/cyp2c9_union_trainset_base_smiles.csv'\n",
      "DEBUG:ATOM:Attempting to load featurized dataset\n"
     ]
    },
    {
     "name": "stdout",
     "output_type": "stream",
     "text": [
      "rf_estimators: 512, rf_max_depth: 128, rf_max_features: 24, valid_r2: 0.1572714879550544\n"
     ]
    },
    {
     "name": "stderr",
     "output_type": "stream",
     "text": [
      "DEBUG:ATOM:Got dataset, attempting to extract data\n",
      "DEBUG:ATOM:Creating deepchem dataset\n",
      "INFO:ATOM:Using prefeaturized data; number of features = 306\n",
      "WARNING:ATOM:Previous dataset split restored\n",
      "INFO:ATOM:Wrote transformers to ./../HPO/HPO_models_CYP2C9_old/cyp2c9_union_trainset_base_smiles/RF_computed_descriptors_scaffold_regression/7bd1c070-1775-4c8a-98c1-d1f06d5c695c/transformers.pkl\n",
      "INFO:ATOM:Transforming response data\n",
      "INFO:ATOM:Transforming feature data\n",
      "INFO:ATOM:Transforming response data\n",
      "INFO:ATOM:Transforming feature data\n",
      "INFO:ATOM:Transforming response data\n",
      "INFO:ATOM:Transforming feature data\n",
      "INFO:ATOM:Fitting random forest model\n",
      "INFO:ATOM:Fold 0: training r2_score = 0.908, validation r2_score = 0.160, test r2_score = 0.935\n",
      "INFO:ATOM:Wrote model tarball to ./../HPO/HPO_models_CYP2C9_old/cyp2c9_union_trainset_base_smiles_model_7bd1c070-1775-4c8a-98c1-d1f06d5c695c.tar.gz\n",
      "INFO:ATOM:Created a dataset hash '5784653341796c83c2c652313bd6db26' from dataset_key '/usr/WS2/atom/titli/MoDaC/Data/CYP2C9-ampl-1.1.0_old/cyp2c9_union_trainset_base_smiles.csv'\n",
      "DEBUG:ATOM:Attempting to load featurized dataset\n"
     ]
    },
    {
     "name": "stdout",
     "output_type": "stream",
     "text": [
      "rf_estimators: 512, rf_max_depth: 128, rf_max_features: 32, valid_r2: 0.1597465858649495\n"
     ]
    },
    {
     "name": "stderr",
     "output_type": "stream",
     "text": [
      "DEBUG:ATOM:Got dataset, attempting to extract data\n",
      "DEBUG:ATOM:Creating deepchem dataset\n",
      "INFO:ATOM:Using prefeaturized data; number of features = 306\n",
      "WARNING:ATOM:Previous dataset split restored\n",
      "INFO:ATOM:Wrote transformers to ./../HPO/HPO_models_CYP2C9_old/cyp2c9_union_trainset_base_smiles/RF_computed_descriptors_scaffold_regression/0c880f7d-d841-4426-8f15-e7edb7c4fb01/transformers.pkl\n",
      "INFO:ATOM:Transforming response data\n",
      "INFO:ATOM:Transforming feature data\n",
      "INFO:ATOM:Transforming response data\n",
      "INFO:ATOM:Transforming feature data\n",
      "INFO:ATOM:Transforming response data\n",
      "INFO:ATOM:Transforming feature data\n",
      "INFO:ATOM:Fitting random forest model\n",
      "INFO:ATOM:Fold 0: training r2_score = 0.908, validation r2_score = 0.159, test r2_score = 0.855\n",
      "INFO:ATOM:Wrote model tarball to ./../HPO/HPO_models_CYP2C9_old/cyp2c9_union_trainset_base_smiles_model_0c880f7d-d841-4426-8f15-e7edb7c4fb01.tar.gz\n",
      "INFO:ATOM:Created a dataset hash '5784653341796c83c2c652313bd6db26' from dataset_key '/usr/WS2/atom/titli/MoDaC/Data/CYP2C9-ampl-1.1.0_old/cyp2c9_union_trainset_base_smiles.csv'\n",
      "DEBUG:ATOM:Attempting to load featurized dataset\n"
     ]
    },
    {
     "name": "stdout",
     "output_type": "stream",
     "text": [
      "rf_estimators: 512, rf_max_depth: 128, rf_max_features: 64, valid_r2: 0.15881953281277006\n"
     ]
    },
    {
     "name": "stderr",
     "output_type": "stream",
     "text": [
      "DEBUG:ATOM:Got dataset, attempting to extract data\n",
      "DEBUG:ATOM:Creating deepchem dataset\n",
      "INFO:ATOM:Using prefeaturized data; number of features = 306\n",
      "WARNING:ATOM:Previous dataset split restored\n",
      "INFO:ATOM:Wrote transformers to ./../HPO/HPO_models_CYP2C9_old/cyp2c9_union_trainset_base_smiles/RF_computed_descriptors_scaffold_regression/35a12f13-cabd-4db7-8911-095f6fad60c6/transformers.pkl\n",
      "INFO:ATOM:Transforming response data\n",
      "INFO:ATOM:Transforming feature data\n",
      "INFO:ATOM:Transforming response data\n",
      "INFO:ATOM:Transforming feature data\n",
      "INFO:ATOM:Transforming response data\n",
      "INFO:ATOM:Transforming feature data\n",
      "INFO:ATOM:Fitting random forest model\n",
      "INFO:ATOM:Fold 0: training r2_score = 0.909, validation r2_score = 0.159, test r2_score = 0.875\n",
      "INFO:ATOM:Wrote model tarball to ./../HPO/HPO_models_CYP2C9_old/cyp2c9_union_trainset_base_smiles_model_35a12f13-cabd-4db7-8911-095f6fad60c6.tar.gz\n",
      "INFO:ATOM:Created a dataset hash '5784653341796c83c2c652313bd6db26' from dataset_key '/usr/WS2/atom/titli/MoDaC/Data/CYP2C9-ampl-1.1.0_old/cyp2c9_union_trainset_base_smiles.csv'\n",
      "DEBUG:ATOM:Attempting to load featurized dataset\n"
     ]
    },
    {
     "name": "stdout",
     "output_type": "stream",
     "text": [
      "rf_estimators: 512, rf_max_depth: 128, rf_max_features: 128, valid_r2: 0.15852635433201867\n"
     ]
    },
    {
     "name": "stderr",
     "output_type": "stream",
     "text": [
      "DEBUG:ATOM:Got dataset, attempting to extract data\n",
      "DEBUG:ATOM:Creating deepchem dataset\n",
      "INFO:ATOM:Using prefeaturized data; number of features = 306\n",
      "WARNING:ATOM:Previous dataset split restored\n",
      "INFO:ATOM:Wrote transformers to ./../HPO/HPO_models_CYP2C9_old/cyp2c9_union_trainset_base_smiles/RF_computed_descriptors_scaffold_regression/2aa0b3ad-a81f-4b2b-93dd-3d803610d6a7/transformers.pkl\n",
      "INFO:ATOM:Transforming response data\n",
      "INFO:ATOM:Transforming feature data\n",
      "INFO:ATOM:Transforming response data\n",
      "INFO:ATOM:Transforming feature data\n",
      "INFO:ATOM:Transforming response data\n",
      "INFO:ATOM:Transforming feature data\n",
      "INFO:ATOM:Fitting random forest model\n",
      "INFO:ATOM:Fold 0: training r2_score = 0.908, validation r2_score = 0.157, test r2_score = 0.799\n",
      "INFO:ATOM:Wrote model tarball to ./../HPO/HPO_models_CYP2C9_old/cyp2c9_union_trainset_base_smiles_model_2aa0b3ad-a81f-4b2b-93dd-3d803610d6a7.tar.gz\n",
      "INFO:ATOM:Created a dataset hash '5784653341796c83c2c652313bd6db26' from dataset_key '/usr/WS2/atom/titli/MoDaC/Data/CYP2C9-ampl-1.1.0_old/cyp2c9_union_trainset_base_smiles.csv'\n",
      "DEBUG:ATOM:Attempting to load featurized dataset\n"
     ]
    },
    {
     "name": "stdout",
     "output_type": "stream",
     "text": [
      "rf_estimators: 512, rf_max_depth: 256, rf_max_features: 16, valid_r2: 0.1567061535379538\n"
     ]
    },
    {
     "name": "stderr",
     "output_type": "stream",
     "text": [
      "DEBUG:ATOM:Got dataset, attempting to extract data\n",
      "DEBUG:ATOM:Creating deepchem dataset\n",
      "INFO:ATOM:Using prefeaturized data; number of features = 306\n",
      "WARNING:ATOM:Previous dataset split restored\n",
      "INFO:ATOM:Wrote transformers to ./../HPO/HPO_models_CYP2C9_old/cyp2c9_union_trainset_base_smiles/RF_computed_descriptors_scaffold_regression/38dfe723-3742-4538-9b62-7d47661b4108/transformers.pkl\n",
      "INFO:ATOM:Transforming response data\n",
      "INFO:ATOM:Transforming feature data\n",
      "INFO:ATOM:Transforming response data\n",
      "INFO:ATOM:Transforming feature data\n",
      "INFO:ATOM:Transforming response data\n",
      "INFO:ATOM:Transforming feature data\n",
      "INFO:ATOM:Fitting random forest model\n",
      "INFO:ATOM:Fold 0: training r2_score = 0.908, validation r2_score = 0.156, test r2_score = 0.870\n",
      "INFO:ATOM:Wrote model tarball to ./../HPO/HPO_models_CYP2C9_old/cyp2c9_union_trainset_base_smiles_model_38dfe723-3742-4538-9b62-7d47661b4108.tar.gz\n",
      "INFO:ATOM:Created a dataset hash '5784653341796c83c2c652313bd6db26' from dataset_key '/usr/WS2/atom/titli/MoDaC/Data/CYP2C9-ampl-1.1.0_old/cyp2c9_union_trainset_base_smiles.csv'\n",
      "DEBUG:ATOM:Attempting to load featurized dataset\n"
     ]
    },
    {
     "name": "stdout",
     "output_type": "stream",
     "text": [
      "rf_estimators: 512, rf_max_depth: 256, rf_max_features: 24, valid_r2: 0.1564477034278342\n"
     ]
    },
    {
     "name": "stderr",
     "output_type": "stream",
     "text": [
      "DEBUG:ATOM:Got dataset, attempting to extract data\n",
      "DEBUG:ATOM:Creating deepchem dataset\n",
      "INFO:ATOM:Using prefeaturized data; number of features = 306\n",
      "WARNING:ATOM:Previous dataset split restored\n",
      "INFO:ATOM:Wrote transformers to ./../HPO/HPO_models_CYP2C9_old/cyp2c9_union_trainset_base_smiles/RF_computed_descriptors_scaffold_regression/b0f3d722-f73d-4eea-80b0-5c11ebcf3e00/transformers.pkl\n",
      "INFO:ATOM:Transforming response data\n",
      "INFO:ATOM:Transforming feature data\n",
      "INFO:ATOM:Transforming response data\n",
      "INFO:ATOM:Transforming feature data\n",
      "INFO:ATOM:Transforming response data\n",
      "INFO:ATOM:Transforming feature data\n",
      "INFO:ATOM:Fitting random forest model\n",
      "INFO:ATOM:Fold 0: training r2_score = 0.909, validation r2_score = 0.157, test r2_score = 0.810\n",
      "INFO:ATOM:Wrote model tarball to ./../HPO/HPO_models_CYP2C9_old/cyp2c9_union_trainset_base_smiles_model_b0f3d722-f73d-4eea-80b0-5c11ebcf3e00.tar.gz\n",
      "INFO:ATOM:Created a dataset hash '5784653341796c83c2c652313bd6db26' from dataset_key '/usr/WS2/atom/titli/MoDaC/Data/CYP2C9-ampl-1.1.0_old/cyp2c9_union_trainset_base_smiles.csv'\n",
      "DEBUG:ATOM:Attempting to load featurized dataset\n"
     ]
    },
    {
     "name": "stdout",
     "output_type": "stream",
     "text": [
      "rf_estimators: 512, rf_max_depth: 256, rf_max_features: 32, valid_r2: 0.1566786300528401\n"
     ]
    },
    {
     "name": "stderr",
     "output_type": "stream",
     "text": [
      "DEBUG:ATOM:Got dataset, attempting to extract data\n",
      "DEBUG:ATOM:Creating deepchem dataset\n",
      "INFO:ATOM:Using prefeaturized data; number of features = 306\n",
      "WARNING:ATOM:Previous dataset split restored\n",
      "INFO:ATOM:Wrote transformers to ./../HPO/HPO_models_CYP2C9_old/cyp2c9_union_trainset_base_smiles/RF_computed_descriptors_scaffold_regression/46799b86-c3ce-47e2-be6f-b3962e81286b/transformers.pkl\n",
      "INFO:ATOM:Transforming response data\n",
      "INFO:ATOM:Transforming feature data\n",
      "INFO:ATOM:Transforming response data\n",
      "INFO:ATOM:Transforming feature data\n",
      "INFO:ATOM:Transforming response data\n",
      "INFO:ATOM:Transforming feature data\n",
      "INFO:ATOM:Fitting random forest model\n",
      "INFO:ATOM:Fold 0: training r2_score = 0.909, validation r2_score = 0.159, test r2_score = 0.903\n",
      "INFO:ATOM:Wrote model tarball to ./../HPO/HPO_models_CYP2C9_old/cyp2c9_union_trainset_base_smiles_model_46799b86-c3ce-47e2-be6f-b3962e81286b.tar.gz\n",
      "INFO:ATOM:Created a dataset hash '5784653341796c83c2c652313bd6db26' from dataset_key '/usr/WS2/atom/titli/MoDaC/Data/CYP2C9-ampl-1.1.0_old/cyp2c9_union_trainset_base_smiles.csv'\n",
      "DEBUG:ATOM:Attempting to load featurized dataset\n"
     ]
    },
    {
     "name": "stdout",
     "output_type": "stream",
     "text": [
      "rf_estimators: 512, rf_max_depth: 256, rf_max_features: 64, valid_r2: 0.1590408448365217\n"
     ]
    },
    {
     "name": "stderr",
     "output_type": "stream",
     "text": [
      "DEBUG:ATOM:Got dataset, attempting to extract data\n",
      "DEBUG:ATOM:Creating deepchem dataset\n",
      "INFO:ATOM:Using prefeaturized data; number of features = 306\n",
      "WARNING:ATOM:Previous dataset split restored\n",
      "INFO:ATOM:Wrote transformers to ./../HPO/HPO_models_CYP2C9_old/cyp2c9_union_trainset_base_smiles/RF_computed_descriptors_scaffold_regression/992f92bd-9e57-4aed-b482-344235ba7dbb/transformers.pkl\n",
      "INFO:ATOM:Transforming response data\n",
      "INFO:ATOM:Transforming feature data\n",
      "INFO:ATOM:Transforming response data\n",
      "INFO:ATOM:Transforming feature data\n",
      "INFO:ATOM:Transforming response data\n",
      "INFO:ATOM:Transforming feature data\n",
      "INFO:ATOM:Fitting random forest model\n",
      "INFO:ATOM:Fold 0: training r2_score = 0.909, validation r2_score = 0.158, test r2_score = 0.874\n",
      "INFO:ATOM:Wrote model tarball to ./../HPO/HPO_models_CYP2C9_old/cyp2c9_union_trainset_base_smiles_model_992f92bd-9e57-4aed-b482-344235ba7dbb.tar.gz\n"
     ]
    },
    {
     "name": "stdout",
     "output_type": "stream",
     "text": [
      "rf_estimators: 512, rf_max_depth: 256, rf_max_features: 128, valid_r2: 0.15834851847093367\n"
     ]
    }
   ],
   "source": [
    "# # 210 models per feature set\n",
    "# estimator_choice = [512]\n",
    "# depth_choice = [128]\n",
    "# features_choice = [64] #16,24,32,64,128, # can only be < total number of features\n",
    "\n",
    "estimator_choice = [16,24,32,64,128,256,512]\n",
    "depth_choice = [16,24,32,64,128,256]\n",
    "features_choice = [16,24,32,64,128] #16,24,32,64,128, # can only be < total number of features\n",
    "\n",
    "for rf_estimator in estimator_choice:\n",
    "  for rf_depth in depth_choice:\n",
    "    for rf_max_feature in features_choice:\n",
    "        params[\"rf_estimators\"] = rf_estimator\n",
    "        params[\"rf_max_depth\"] = rf_depth\n",
    "        params[\"rf_max_features\"] = rf_max_feature\n",
    "        tp = parse.wrapper(params)\n",
    "        pl = mp.ModelPipeline(tp)\n",
    "        pl.train_model()\n",
    "        pred_data = pl.model_wrapper.get_perf_data(subset=\"valid\", epoch_label=\"best\")\n",
    "        pred_results = pred_data.get_prediction_results()\n",
    "        print(f\"rf_estimators: {rf_estimator}, rf_max_depth: {rf_depth}, rf_max_features: {rf_max_feature}, valid_r2: {pred_results['r2_score']}\")"
   ]
  },
  {
   "cell_type": "markdown",
   "metadata": {},
   "source": [
    "# Grid Search - RF (parallel)"
   ]
  },
  {
   "cell_type": "code",
   "execution_count": null,
   "metadata": {},
   "outputs": [],
   "source": [
    "multiprocessing.cpu_count()"
   ]
  },
  {
   "cell_type": "code",
   "execution_count": null,
   "metadata": {},
   "outputs": [],
   "source": [
    "## 210 models per feature set\n",
    "estimator_choice = [16,24,32,64,128,256,512]\n",
    "depth_choice = [16,24,32,64,128,256]\n",
    "features_choice = [16,24,32,64,128] #16,24,32,64,128, # can only be < total number of features\n",
    "\n",
    "param_combos = [] # list of params dict: each element is a params dict with specific set of leyrs,dropouts, lr_rate combinations\n",
    "for rf_estimator in estimator_choice:\n",
    "  for rf_depth in depth_choice:\n",
    "    for rf_max_feature in features_choice:\n",
    "        params[\"rf_estimators\"] = rf_estimator\n",
    "        params[\"rf_max_depth\"] = rf_depth\n",
    "        params[\"rf_max_features\"] = rf_max_feature\n",
    "        param_combos.append(params)\n",
    "print(\" total models = \", len(param_combos))\n",
    "\n",
    "def parallelrun(params_):\n",
    "    tp = parse.wrapper(params_)\n",
    "    pl = mp.ModelPipeline(tp)\n",
    "    pl.train_model()\n",
    "start=time.time()\n",
    "cores = 4 #multiprocessing.cpu_count()\n",
    "Parallel(n_jobs=cores, timeout=99999)(delayed(parallelrun)(params_)for params_ in param_combos)\n",
    "print(\" Time taken to create \", len(param_combos), \"RF models(min)= \", np.round((time.time()-start)/60,2))"
   ]
  },
  {
   "cell_type": "markdown",
   "metadata": {},
   "source": [
    "# Grid Search - NN"
   ]
  },
  {
   "cell_type": "code",
   "execution_count": 6,
   "metadata": {},
   "outputs": [],
   "source": [
    "params={\n",
    " 'collection_name': 'CYP2C9',\n",
    " 'dataset_key': data_file,\n",
    " 'datastore': 'False',\n",
    " \"featurizer\": \"computed_descriptors\",\n",
    " \"descriptor_type\": \"moe\",\n",
    " #'hyperparam': 'True',\n",
    " 'id_col': 'compound_id',\n",
    " 'model_type': 'NN',\n",
    " 'prediction_type': 'regression',\n",
    " 'previously_split': 'True',\n",
    " 'split_uuid': split_uuid,\n",
    " 'rerun': 'False',\n",
    " 'response_cols': 'pIC50',\n",
    " 'result_dir': outdir,\n",
    " 'save_results': 'False',\n",
    " 'search_type': 'user_specified',\n",
    " 'smiles_col': 'base_rdkit_smiles',\n",
    " 'split_only': 'False',\n",
    " #'split_test_frac': '0.002',\n",
    " #'split_valid_frac': '0.15',\n",
    " 'splitter': 'scaffold',\n",
    " 'transformers': 'True',\n",
    " 'uncertainty': 'False',\n",
    " #\"dropouts\": \"0.10,0.10,0.10\",\n",
    " #\"layer_sizes\": \"64,64,64\",\n",
    " #\"learning_rate\": \"0.000753\",\n",
    " 'verbose': 'True'}"
   ]
  },
  {
   "cell_type": "code",
   "execution_count": 7,
   "metadata": {},
   "outputs": [
    {
     "name": "stderr",
     "output_type": "stream",
     "text": [
      "INFO:ATOM:Created a dataset hash '5784653341796c83c2c652313bd6db26' from dataset_key '/usr/WS2/atom/titli/MoDaC/Data/CYP2C9-ampl-1.1.0_old/cyp2c9_union_trainset_base_smiles.csv'\n",
      "INFO:ATOM:Reading descriptor spec table from /g/g92/sarkar7/.conda/envs/AMPL-1.4.1/lib/python3.7/site-packages/atomsci/ddm/data/descriptor_sets_sources_by_descr_type.csv\n",
      "DEBUG:ATOM:Attempting to load featurized dataset\n",
      "DEBUG:ATOM:Got dataset, attempting to extract data\n",
      "DEBUG:ATOM:Creating deepchem dataset\n",
      "INFO:ATOM:Using prefeaturized data; number of features = 306\n",
      "WARNING:ATOM:Previous dataset split restored\n",
      "INFO:ATOM:Wrote transformers to ./../HPO/HPO_models_CYP2C9_old/cyp2c9_union_trainset_base_smiles/NN_computed_descriptors_scaffold_regression/4fda3ddd-926b-49f8-a574-294727ae0992/transformers.pkl\n",
      "INFO:ATOM:Transforming response data\n",
      "INFO:ATOM:Transforming feature data\n",
      "INFO:ATOM:Transforming response data\n",
      "INFO:ATOM:Transforming feature data\n",
      "INFO:ATOM:Transforming response data\n",
      "INFO:ATOM:Transforming feature data\n",
      "INFO:ATOM:Total score for epoch 0 is 0.0718\n",
      "INFO:ATOM:Epoch 0: training r2_score = 0.109, validation r2_score = 0.072, test r2_score = 0.661\n",
      "INFO:ATOM:*** Total score for epoch 1 is 0.081, is new maximum\n",
      "INFO:ATOM:Epoch 1: training r2_score = 0.133, validation r2_score = 0.081, test r2_score = 0.770\n",
      "INFO:ATOM:*** Total score for epoch 2 is 0.0866, is new maximum\n",
      "INFO:ATOM:Epoch 2: training r2_score = 0.160, validation r2_score = 0.087, test r2_score = 0.814\n",
      "INFO:ATOM:Epoch 3: training r2_score = 0.173, validation r2_score = 0.085, test r2_score = 0.737\n",
      "INFO:ATOM:*** Total score for epoch 4 is 0.095, is new maximum\n",
      "INFO:ATOM:Epoch 4: training r2_score = 0.181, validation r2_score = 0.095, test r2_score = 0.693\n",
      "INFO:ATOM:Epoch 5: training r2_score = 0.196, validation r2_score = 0.083, test r2_score = 0.754\n",
      "INFO:ATOM:Epoch 6: training r2_score = 0.196, validation r2_score = 0.091, test r2_score = 0.699\n",
      "INFO:ATOM:*** Total score for epoch 7 is 0.0979, is new maximum\n",
      "INFO:ATOM:Epoch 7: training r2_score = 0.215, validation r2_score = 0.098, test r2_score = 0.667\n",
      "INFO:ATOM:Epoch 8: training r2_score = 0.231, validation r2_score = 0.091, test r2_score = 0.849\n",
      "INFO:ATOM:*** Total score for epoch 9 is 0.0986, is new maximum\n",
      "INFO:ATOM:Epoch 9: training r2_score = 0.225, validation r2_score = 0.099, test r2_score = 0.313\n",
      "INFO:ATOM:Epoch 10: training r2_score = 0.235, validation r2_score = 0.093, test r2_score = 0.580\n",
      "INFO:ATOM:*** Total score for epoch 11 is 0.0991, is new maximum\n",
      "INFO:ATOM:Epoch 11: training r2_score = 0.254, validation r2_score = 0.099, test r2_score = 0.806\n",
      "INFO:ATOM:*** Total score for epoch 12 is 0.104, is new maximum\n",
      "INFO:ATOM:Epoch 12: training r2_score = 0.242, validation r2_score = 0.104, test r2_score = 0.677\n",
      "INFO:ATOM:Epoch 13: training r2_score = 0.254, validation r2_score = 0.101, test r2_score = 0.647\n",
      "INFO:ATOM:Epoch 14: training r2_score = 0.268, validation r2_score = 0.097, test r2_score = 0.893\n",
      "INFO:ATOM:*** Total score for epoch 15 is 0.104, is new maximum\n",
      "INFO:ATOM:Epoch 15: training r2_score = 0.252, validation r2_score = 0.104, test r2_score = 0.671\n",
      "INFO:ATOM:*** Total score for epoch 16 is 0.105, is new maximum\n",
      "INFO:ATOM:Epoch 16: training r2_score = 0.266, validation r2_score = 0.105, test r2_score = 0.675\n",
      "INFO:ATOM:*** Total score for epoch 17 is 0.108, is new maximum\n",
      "INFO:ATOM:Epoch 17: training r2_score = 0.256, validation r2_score = 0.108, test r2_score = 0.356\n",
      "INFO:ATOM:*** Total score for epoch 18 is 0.114, is new maximum\n",
      "INFO:ATOM:Epoch 18: training r2_score = 0.277, validation r2_score = 0.114, test r2_score = 0.734\n",
      "INFO:ATOM:Epoch 19: training r2_score = 0.287, validation r2_score = 0.112, test r2_score = 0.683\n",
      "INFO:ATOM:Epoch 20: training r2_score = 0.278, validation r2_score = 0.107, test r2_score = 0.732\n",
      "INFO:ATOM:Epoch 21: training r2_score = 0.299, validation r2_score = 0.106, test r2_score = 0.691\n",
      "INFO:ATOM:Epoch 22: training r2_score = 0.290, validation r2_score = 0.103, test r2_score = 0.209\n",
      "INFO:ATOM:Epoch 23: training r2_score = 0.298, validation r2_score = 0.114, test r2_score = 0.795\n",
      "INFO:ATOM:*** Total score for epoch 24 is 0.115, is new maximum\n",
      "INFO:ATOM:Epoch 24: training r2_score = 0.299, validation r2_score = 0.115, test r2_score = 0.696\n",
      "INFO:ATOM:Epoch 25: training r2_score = 0.298, validation r2_score = 0.112, test r2_score = 0.589\n",
      "INFO:ATOM:Epoch 26: training r2_score = 0.304, validation r2_score = 0.114, test r2_score = 0.333\n",
      "INFO:ATOM:Epoch 27: training r2_score = 0.298, validation r2_score = 0.113, test r2_score = 0.454\n",
      "INFO:ATOM:Epoch 28: training r2_score = 0.311, validation r2_score = 0.109, test r2_score = 0.638\n",
      "INFO:ATOM:Epoch 29: training r2_score = 0.315, validation r2_score = 0.109, test r2_score = 0.594\n",
      "INFO:ATOM:Saved model files to './../HPO/HPO_models_CYP2C9_old/cyp2c9_union_trainset_base_smiles/NN_computed_descriptors_scaffold_regression/4fda3ddd-926b-49f8-a574-294727ae0992/best_model'\n",
      "INFO:ATOM:Best model from epoch 24 saved to ./../HPO/HPO_models_CYP2C9_old/cyp2c9_union_trainset_base_smiles/NN_computed_descriptors_scaffold_regression/4fda3ddd-926b-49f8-a574-294727ae0992/best_model\n",
      "INFO:ATOM:Wrote model tarball to ./../HPO/HPO_models_CYP2C9_old/cyp2c9_union_trainset_base_smiles_model_4fda3ddd-926b-49f8-a574-294727ae0992.tar.gz\n",
      "INFO:ATOM:Created a dataset hash '5784653341796c83c2c652313bd6db26' from dataset_key '/usr/WS2/atom/titli/MoDaC/Data/CYP2C9-ampl-1.1.0_old/cyp2c9_union_trainset_base_smiles.csv'\n",
      "DEBUG:ATOM:Attempting to load featurized dataset\n"
     ]
    },
    {
     "name": "stdout",
     "output_type": "stream",
     "text": [
      "['./../HPO/HPO_models_CYP2C9_old/cyp2c9_union_trainset_base_smiles/NN_computed_descriptors_scaffold_regression/4fda3ddd-926b-49f8-a574-294727ae0992/model/checkpoint1.pt', './../HPO/HPO_models_CYP2C9_old/cyp2c9_union_trainset_base_smiles/NN_computed_descriptors_scaffold_regression/4fda3ddd-926b-49f8-a574-294727ae0992/model/checkpoint2.pt', './../HPO/HPO_models_CYP2C9_old/cyp2c9_union_trainset_base_smiles/NN_computed_descriptors_scaffold_regression/4fda3ddd-926b-49f8-a574-294727ae0992/model/checkpoint3.pt', './../HPO/HPO_models_CYP2C9_old/cyp2c9_union_trainset_base_smiles/NN_computed_descriptors_scaffold_regression/4fda3ddd-926b-49f8-a574-294727ae0992/model/checkpoint4.pt', './../HPO/HPO_models_CYP2C9_old/cyp2c9_union_trainset_base_smiles/NN_computed_descriptors_scaffold_regression/4fda3ddd-926b-49f8-a574-294727ae0992/model/checkpoint5.pt']\n",
      "./../HPO/HPO_models_CYP2C9_old/cyp2c9_union_trainset_base_smiles/NN_computed_descriptors_scaffold_regression/4fda3ddd-926b-49f8-a574-294727ae0992/model/checkpoint1.pt\n",
      "layers: 128,32, dropouts: 0.5,0.5, learning rate: 0.0007, valid_r2: 0.11535312944564013\n",
      "\n"
     ]
    },
    {
     "name": "stderr",
     "output_type": "stream",
     "text": [
      "DEBUG:ATOM:Got dataset, attempting to extract data\n",
      "DEBUG:ATOM:Creating deepchem dataset\n",
      "INFO:ATOM:Using prefeaturized data; number of features = 306\n",
      "WARNING:ATOM:Previous dataset split restored\n",
      "INFO:ATOM:Wrote transformers to ./../HPO/HPO_models_CYP2C9_old/cyp2c9_union_trainset_base_smiles/NN_computed_descriptors_scaffold_regression/5cd120ba-d19a-45a2-a40e-360432f17081/transformers.pkl\n",
      "INFO:ATOM:Transforming response data\n",
      "INFO:ATOM:Transforming feature data\n",
      "INFO:ATOM:Transforming response data\n",
      "INFO:ATOM:Transforming feature data\n",
      "INFO:ATOM:Transforming response data\n",
      "INFO:ATOM:Transforming feature data\n",
      "INFO:ATOM:Total score for epoch 0 is 0.0582\n",
      "INFO:ATOM:Epoch 0: training r2_score = 0.090, validation r2_score = 0.058, test r2_score = -0.044\n",
      "INFO:ATOM:Epoch 1: training r2_score = 0.065, validation r2_score = 0.031, test r2_score = 0.182\n",
      "INFO:ATOM:Epoch 2: training r2_score = 0.087, validation r2_score = 0.054, test r2_score = 0.023\n",
      "INFO:ATOM:*** Total score for epoch 3 is 0.0729, is new maximum\n",
      "INFO:ATOM:Epoch 3: training r2_score = 0.147, validation r2_score = 0.073, test r2_score = 0.742\n",
      "INFO:ATOM:Epoch 4: training r2_score = 0.083, validation r2_score = 0.041, test r2_score = -0.041\n",
      "INFO:ATOM:Epoch 5: training r2_score = 0.097, validation r2_score = 0.044, test r2_score = 0.509\n",
      "INFO:ATOM:Epoch 6: training r2_score = 0.101, validation r2_score = 0.051, test r2_score = 0.162\n",
      "INFO:ATOM:Epoch 7: training r2_score = 0.134, validation r2_score = 0.062, test r2_score = 0.307\n",
      "INFO:ATOM:Epoch 8: training r2_score = 0.158, validation r2_score = 0.073, test r2_score = 0.783\n",
      "INFO:ATOM:Epoch 9: training r2_score = 0.148, validation r2_score = 0.067, test r2_score = 0.445\n",
      "INFO:ATOM:*** Total score for epoch 10 is 0.0767, is new maximum\n",
      "INFO:ATOM:Epoch 10: training r2_score = 0.152, validation r2_score = 0.077, test r2_score = 0.919\n",
      "INFO:ATOM:Epoch 11: training r2_score = 0.081, validation r2_score = 0.039, test r2_score = 0.055\n",
      "INFO:ATOM:Epoch 12: training r2_score = 0.100, validation r2_score = 0.046, test r2_score = -0.126\n",
      "INFO:ATOM:Epoch 13: training r2_score = 0.074, validation r2_score = 0.039, test r2_score = -0.179\n",
      "INFO:ATOM:Epoch 14: training r2_score = 0.139, validation r2_score = 0.059, test r2_score = 0.244\n",
      "INFO:ATOM:Epoch 15: training r2_score = 0.135, validation r2_score = 0.057, test r2_score = -0.059\n",
      "INFO:ATOM:Epoch 16: training r2_score = 0.103, validation r2_score = 0.039, test r2_score = 0.180\n",
      "INFO:ATOM:Epoch 17: training r2_score = 0.119, validation r2_score = 0.054, test r2_score = 0.024\n",
      "INFO:ATOM:Epoch 18: training r2_score = 0.134, validation r2_score = 0.058, test r2_score = 0.364\n",
      "INFO:ATOM:Epoch 19: training r2_score = 0.133, validation r2_score = 0.056, test r2_score = 0.585\n",
      "INFO:ATOM:Epoch 20: training r2_score = 0.145, validation r2_score = 0.063, test r2_score = 0.287\n",
      "INFO:ATOM:Epoch 21: training r2_score = 0.116, validation r2_score = 0.050, test r2_score = 0.329\n",
      "INFO:ATOM:Epoch 22: training r2_score = 0.139, validation r2_score = 0.060, test r2_score = 0.648\n",
      "INFO:ATOM:Epoch 23: training r2_score = 0.160, validation r2_score = 0.073, test r2_score = 0.565\n",
      "INFO:ATOM:Epoch 24: training r2_score = 0.159, validation r2_score = 0.069, test r2_score = 0.722\n",
      "INFO:ATOM:Epoch 25: training r2_score = 0.108, validation r2_score = 0.044, test r2_score = 0.397\n",
      "INFO:ATOM:Epoch 26: training r2_score = 0.149, validation r2_score = 0.068, test r2_score = 0.442\n",
      "INFO:ATOM:Epoch 27: training r2_score = 0.164, validation r2_score = 0.073, test r2_score = 0.032\n",
      "INFO:ATOM:Epoch 28: training r2_score = 0.148, validation r2_score = 0.071, test r2_score = -0.232\n",
      "INFO:ATOM:Epoch 29: training r2_score = 0.127, validation r2_score = 0.062, test r2_score = 0.071\n",
      "INFO:ATOM:Saved model files to './../HPO/HPO_models_CYP2C9_old/cyp2c9_union_trainset_base_smiles/NN_computed_descriptors_scaffold_regression/5cd120ba-d19a-45a2-a40e-360432f17081/best_model'\n",
      "INFO:ATOM:Best model from epoch 10 saved to ./../HPO/HPO_models_CYP2C9_old/cyp2c9_union_trainset_base_smiles/NN_computed_descriptors_scaffold_regression/5cd120ba-d19a-45a2-a40e-360432f17081/best_model\n",
      "INFO:ATOM:Wrote model tarball to ./../HPO/HPO_models_CYP2C9_old/cyp2c9_union_trainset_base_smiles_model_5cd120ba-d19a-45a2-a40e-360432f17081.tar.gz\n",
      "INFO:ATOM:Created a dataset hash '5784653341796c83c2c652313bd6db26' from dataset_key '/usr/WS2/atom/titli/MoDaC/Data/CYP2C9-ampl-1.1.0_old/cyp2c9_union_trainset_base_smiles.csv'\n",
      "DEBUG:ATOM:Attempting to load featurized dataset\n"
     ]
    },
    {
     "name": "stdout",
     "output_type": "stream",
     "text": [
      "['./../HPO/HPO_models_CYP2C9_old/cyp2c9_union_trainset_base_smiles/NN_computed_descriptors_scaffold_regression/5cd120ba-d19a-45a2-a40e-360432f17081/model/checkpoint1.pt', './../HPO/HPO_models_CYP2C9_old/cyp2c9_union_trainset_base_smiles/NN_computed_descriptors_scaffold_regression/5cd120ba-d19a-45a2-a40e-360432f17081/model/checkpoint2.pt', './../HPO/HPO_models_CYP2C9_old/cyp2c9_union_trainset_base_smiles/NN_computed_descriptors_scaffold_regression/5cd120ba-d19a-45a2-a40e-360432f17081/model/checkpoint3.pt', './../HPO/HPO_models_CYP2C9_old/cyp2c9_union_trainset_base_smiles/NN_computed_descriptors_scaffold_regression/5cd120ba-d19a-45a2-a40e-360432f17081/model/checkpoint4.pt']\n",
      "./../HPO/HPO_models_CYP2C9_old/cyp2c9_union_trainset_base_smiles/NN_computed_descriptors_scaffold_regression/5cd120ba-d19a-45a2-a40e-360432f17081/model/checkpoint1.pt\n",
      "layers: 128,32, dropouts: 0.5,0.5, learning rate: 0.005, valid_r2: 0.07665748211163925\n",
      "\n"
     ]
    },
    {
     "name": "stderr",
     "output_type": "stream",
     "text": [
      "DEBUG:ATOM:Got dataset, attempting to extract data\n",
      "DEBUG:ATOM:Creating deepchem dataset\n",
      "INFO:ATOM:Using prefeaturized data; number of features = 306\n",
      "WARNING:ATOM:Previous dataset split restored\n",
      "INFO:ATOM:Wrote transformers to ./../HPO/HPO_models_CYP2C9_old/cyp2c9_union_trainset_base_smiles/NN_computed_descriptors_scaffold_regression/2dc7742b-78cd-44f7-9e1a-a457b5d3563d/transformers.pkl\n",
      "INFO:ATOM:Transforming response data\n",
      "INFO:ATOM:Transforming feature data\n",
      "INFO:ATOM:Transforming response data\n",
      "INFO:ATOM:Transforming feature data\n",
      "INFO:ATOM:Transforming response data\n",
      "INFO:ATOM:Transforming feature data\n",
      "INFO:ATOM:Total score for epoch 0 is 0.0773\n",
      "INFO:ATOM:Epoch 0: training r2_score = 0.114, validation r2_score = 0.077, test r2_score = 0.466\n",
      "INFO:ATOM:*** Total score for epoch 1 is 0.0786, is new maximum\n",
      "INFO:ATOM:Epoch 1: training r2_score = 0.140, validation r2_score = 0.079, test r2_score = 0.816\n",
      "INFO:ATOM:Epoch 2: training r2_score = 0.156, validation r2_score = 0.071, test r2_score = 0.834\n",
      "INFO:ATOM:*** Total score for epoch 3 is 0.0798, is new maximum\n",
      "INFO:ATOM:Epoch 3: training r2_score = 0.172, validation r2_score = 0.080, test r2_score = 0.882\n",
      "INFO:ATOM:*** Total score for epoch 4 is 0.0918, is new maximum\n",
      "INFO:ATOM:Epoch 4: training r2_score = 0.182, validation r2_score = 0.092, test r2_score = 0.493\n",
      "INFO:ATOM:Epoch 5: training r2_score = 0.200, validation r2_score = 0.090, test r2_score = 0.625\n",
      "INFO:ATOM:*** Total score for epoch 6 is 0.0967, is new maximum\n",
      "INFO:ATOM:Epoch 6: training r2_score = 0.214, validation r2_score = 0.097, test r2_score = 0.864\n",
      "INFO:ATOM:Epoch 7: training r2_score = 0.224, validation r2_score = 0.094, test r2_score = 0.750\n",
      "INFO:ATOM:*** Total score for epoch 8 is 0.0999, is new maximum\n",
      "INFO:ATOM:Epoch 8: training r2_score = 0.236, validation r2_score = 0.100, test r2_score = 0.849\n",
      "INFO:ATOM:*** Total score for epoch 9 is 0.103, is new maximum\n",
      "INFO:ATOM:Epoch 9: training r2_score = 0.241, validation r2_score = 0.103, test r2_score = 0.514\n",
      "INFO:ATOM:*** Total score for epoch 10 is 0.104, is new maximum\n",
      "INFO:ATOM:Epoch 10: training r2_score = 0.255, validation r2_score = 0.104, test r2_score = 0.523\n",
      "INFO:ATOM:*** Total score for epoch 11 is 0.104, is new maximum\n",
      "INFO:ATOM:Epoch 11: training r2_score = 0.269, validation r2_score = 0.104, test r2_score = 0.717\n",
      "INFO:ATOM:*** Total score for epoch 12 is 0.106, is new maximum\n",
      "INFO:ATOM:Epoch 12: training r2_score = 0.263, validation r2_score = 0.106, test r2_score = 0.840\n",
      "INFO:ATOM:Epoch 13: training r2_score = 0.240, validation r2_score = 0.098, test r2_score = 0.358\n",
      "INFO:ATOM:*** Total score for epoch 14 is 0.115, is new maximum\n",
      "INFO:ATOM:Epoch 14: training r2_score = 0.264, validation r2_score = 0.115, test r2_score = 0.561\n",
      "INFO:ATOM:Epoch 15: training r2_score = 0.282, validation r2_score = 0.112, test r2_score = 0.332\n",
      "INFO:ATOM:Epoch 16: training r2_score = 0.299, validation r2_score = 0.112, test r2_score = 0.693\n",
      "INFO:ATOM:Epoch 17: training r2_score = 0.296, validation r2_score = 0.114, test r2_score = 0.461\n",
      "INFO:ATOM:*** Total score for epoch 18 is 0.116, is new maximum\n",
      "INFO:ATOM:Epoch 18: training r2_score = 0.298, validation r2_score = 0.116, test r2_score = 0.775\n",
      "INFO:ATOM:*** Total score for epoch 19 is 0.121, is new maximum\n",
      "INFO:ATOM:Epoch 19: training r2_score = 0.310, validation r2_score = 0.121, test r2_score = 0.529\n",
      "INFO:ATOM:Epoch 20: training r2_score = 0.326, validation r2_score = 0.110, test r2_score = 0.686\n",
      "INFO:ATOM:Epoch 21: training r2_score = 0.306, validation r2_score = 0.119, test r2_score = 0.815\n",
      "INFO:ATOM:Epoch 22: training r2_score = 0.329, validation r2_score = 0.111, test r2_score = 0.802\n",
      "INFO:ATOM:Epoch 23: training r2_score = 0.326, validation r2_score = 0.113, test r2_score = 0.657\n",
      "INFO:ATOM:Epoch 24: training r2_score = 0.328, validation r2_score = 0.118, test r2_score = 0.721\n",
      "INFO:ATOM:Epoch 25: training r2_score = 0.337, validation r2_score = 0.116, test r2_score = 0.851\n",
      "INFO:ATOM:Epoch 26: training r2_score = 0.332, validation r2_score = 0.118, test r2_score = 0.706\n",
      "INFO:ATOM:Epoch 27: training r2_score = 0.343, validation r2_score = 0.115, test r2_score = 0.733\n",
      "INFO:ATOM:Epoch 28: training r2_score = 0.317, validation r2_score = 0.112, test r2_score = 0.656\n",
      "INFO:ATOM:Epoch 29: training r2_score = 0.348, validation r2_score = 0.114, test r2_score = 0.576\n",
      "INFO:ATOM:Saved model files to './../HPO/HPO_models_CYP2C9_old/cyp2c9_union_trainset_base_smiles/NN_computed_descriptors_scaffold_regression/2dc7742b-78cd-44f7-9e1a-a457b5d3563d/best_model'\n",
      "INFO:ATOM:Best model from epoch 19 saved to ./../HPO/HPO_models_CYP2C9_old/cyp2c9_union_trainset_base_smiles/NN_computed_descriptors_scaffold_regression/2dc7742b-78cd-44f7-9e1a-a457b5d3563d/best_model\n",
      "INFO:ATOM:Wrote model tarball to ./../HPO/HPO_models_CYP2C9_old/cyp2c9_union_trainset_base_smiles_model_2dc7742b-78cd-44f7-9e1a-a457b5d3563d.tar.gz\n",
      "INFO:ATOM:Created a dataset hash '5784653341796c83c2c652313bd6db26' from dataset_key '/usr/WS2/atom/titli/MoDaC/Data/CYP2C9-ampl-1.1.0_old/cyp2c9_union_trainset_base_smiles.csv'\n"
     ]
    },
    {
     "name": "stdout",
     "output_type": "stream",
     "text": [
      "['./../HPO/HPO_models_CYP2C9_old/cyp2c9_union_trainset_base_smiles/NN_computed_descriptors_scaffold_regression/2dc7742b-78cd-44f7-9e1a-a457b5d3563d/model/checkpoint1.pt', './../HPO/HPO_models_CYP2C9_old/cyp2c9_union_trainset_base_smiles/NN_computed_descriptors_scaffold_regression/2dc7742b-78cd-44f7-9e1a-a457b5d3563d/model/checkpoint2.pt', './../HPO/HPO_models_CYP2C9_old/cyp2c9_union_trainset_base_smiles/NN_computed_descriptors_scaffold_regression/2dc7742b-78cd-44f7-9e1a-a457b5d3563d/model/checkpoint3.pt', './../HPO/HPO_models_CYP2C9_old/cyp2c9_union_trainset_base_smiles/NN_computed_descriptors_scaffold_regression/2dc7742b-78cd-44f7-9e1a-a457b5d3563d/model/checkpoint4.pt', './../HPO/HPO_models_CYP2C9_old/cyp2c9_union_trainset_base_smiles/NN_computed_descriptors_scaffold_regression/2dc7742b-78cd-44f7-9e1a-a457b5d3563d/model/checkpoint5.pt']\n",
      "./../HPO/HPO_models_CYP2C9_old/cyp2c9_union_trainset_base_smiles/NN_computed_descriptors_scaffold_regression/2dc7742b-78cd-44f7-9e1a-a457b5d3563d/model/checkpoint1.pt\n",
      "layers: 256,64, dropouts: 0.5,0.5, learning rate: 0.0007, valid_r2: 0.1211598155249044\n",
      "\n"
     ]
    },
    {
     "name": "stderr",
     "output_type": "stream",
     "text": [
      "DEBUG:ATOM:Attempting to load featurized dataset\n",
      "DEBUG:ATOM:Got dataset, attempting to extract data\n",
      "DEBUG:ATOM:Creating deepchem dataset\n",
      "INFO:ATOM:Using prefeaturized data; number of features = 306\n",
      "WARNING:ATOM:Previous dataset split restored\n",
      "INFO:ATOM:Wrote transformers to ./../HPO/HPO_models_CYP2C9_old/cyp2c9_union_trainset_base_smiles/NN_computed_descriptors_scaffold_regression/51a69070-0244-4020-82f7-41c42b2b09ff/transformers.pkl\n",
      "INFO:ATOM:Transforming response data\n",
      "INFO:ATOM:Transforming feature data\n",
      "INFO:ATOM:Transforming response data\n",
      "INFO:ATOM:Transforming feature data\n",
      "INFO:ATOM:Transforming response data\n",
      "INFO:ATOM:Transforming feature data\n",
      "INFO:ATOM:Total score for epoch 0 is 0.027\n",
      "INFO:ATOM:Epoch 0: training r2_score = 0.049, validation r2_score = 0.027, test r2_score = -0.417\n",
      "INFO:ATOM:*** Total score for epoch 1 is 0.0612, is new maximum\n",
      "INFO:ATOM:Epoch 1: training r2_score = 0.115, validation r2_score = 0.061, test r2_score = 0.732\n",
      "INFO:ATOM:Epoch 2: training r2_score = 0.049, validation r2_score = 0.024, test r2_score = -0.480\n",
      "INFO:ATOM:Epoch 3: training r2_score = 0.098, validation r2_score = 0.050, test r2_score = -0.427\n",
      "INFO:ATOM:Epoch 4: training r2_score = 0.081, validation r2_score = 0.039, test r2_score = -0.348\n",
      "INFO:ATOM:Epoch 5: training r2_score = 0.099, validation r2_score = 0.054, test r2_score = -0.708\n",
      "INFO:ATOM:Epoch 6: training r2_score = 0.067, validation r2_score = 0.036, test r2_score = -0.503\n",
      "INFO:ATOM:Epoch 7: training r2_score = 0.106, validation r2_score = 0.052, test r2_score = -0.387\n",
      "INFO:ATOM:Epoch 8: training r2_score = 0.097, validation r2_score = 0.035, test r2_score = -0.362\n",
      "INFO:ATOM:Epoch 9: training r2_score = 0.034, validation r2_score = 0.015, test r2_score = -0.419\n",
      "INFO:ATOM:Epoch 10: training r2_score = 0.079, validation r2_score = 0.038, test r2_score = -0.443\n",
      "INFO:ATOM:Epoch 11: training r2_score = 0.023, validation r2_score = 0.009, test r2_score = -0.458\n",
      "INFO:ATOM:Epoch 12: training r2_score = 0.000, validation r2_score = -0.013, test r2_score = -0.345\n",
      "INFO:ATOM:Epoch 13: training r2_score = 0.042, validation r2_score = 0.023, test r2_score = -0.441\n",
      "INFO:ATOM:Epoch 14: training r2_score = 0.052, validation r2_score = 0.026, test r2_score = -0.351\n",
      "INFO:ATOM:Epoch 15: training r2_score = 0.057, validation r2_score = 0.030, test r2_score = -0.485\n",
      "INFO:ATOM:Epoch 16: training r2_score = 0.068, validation r2_score = 0.040, test r2_score = -0.422\n",
      "INFO:ATOM:Epoch 17: training r2_score = 0.067, validation r2_score = 0.036, test r2_score = -0.450\n",
      "INFO:ATOM:Epoch 18: training r2_score = 0.053, validation r2_score = 0.029, test r2_score = -0.446\n",
      "INFO:ATOM:Epoch 19: training r2_score = 0.079, validation r2_score = 0.043, test r2_score = -0.340\n",
      "INFO:ATOM:Epoch 20: training r2_score = 0.061, validation r2_score = 0.038, test r2_score = -0.438\n",
      "INFO:ATOM:Epoch 21: training r2_score = 0.041, validation r2_score = 0.021, test r2_score = -0.471\n",
      "INFO:ATOM:Epoch 22: training r2_score = 0.097, validation r2_score = 0.051, test r2_score = -0.417\n",
      "INFO:ATOM:Epoch 23: training r2_score = 0.062, validation r2_score = 0.035, test r2_score = -0.378\n",
      "INFO:ATOM:Epoch 24: training r2_score = 0.084, validation r2_score = 0.047, test r2_score = -0.503\n",
      "INFO:ATOM:Epoch 25: training r2_score = 0.019, validation r2_score = 0.005, test r2_score = -0.419\n",
      "INFO:ATOM:Epoch 26: training r2_score = 0.046, validation r2_score = 0.024, test r2_score = -0.381\n",
      "INFO:ATOM:Epoch 27: training r2_score = 0.105, validation r2_score = 0.052, test r2_score = -0.394\n",
      "INFO:ATOM:Epoch 28: training r2_score = 0.119, validation r2_score = 0.045, test r2_score = -0.417\n",
      "INFO:ATOM:Epoch 29: training r2_score = 0.057, validation r2_score = 0.031, test r2_score = -0.519\n",
      "INFO:ATOM:Saved model files to './../HPO/HPO_models_CYP2C9_old/cyp2c9_union_trainset_base_smiles/NN_computed_descriptors_scaffold_regression/51a69070-0244-4020-82f7-41c42b2b09ff/best_model'\n",
      "INFO:ATOM:Best model from epoch 1 saved to ./../HPO/HPO_models_CYP2C9_old/cyp2c9_union_trainset_base_smiles/NN_computed_descriptors_scaffold_regression/51a69070-0244-4020-82f7-41c42b2b09ff/best_model\n",
      "INFO:ATOM:Wrote model tarball to ./../HPO/HPO_models_CYP2C9_old/cyp2c9_union_trainset_base_smiles_model_51a69070-0244-4020-82f7-41c42b2b09ff.tar.gz\n",
      "INFO:ATOM:Created a dataset hash '5784653341796c83c2c652313bd6db26' from dataset_key '/usr/WS2/atom/titli/MoDaC/Data/CYP2C9-ampl-1.1.0_old/cyp2c9_union_trainset_base_smiles.csv'\n",
      "DEBUG:ATOM:Attempting to load featurized dataset\n"
     ]
    },
    {
     "name": "stdout",
     "output_type": "stream",
     "text": [
      "['./../HPO/HPO_models_CYP2C9_old/cyp2c9_union_trainset_base_smiles/NN_computed_descriptors_scaffold_regression/51a69070-0244-4020-82f7-41c42b2b09ff/model/checkpoint1.pt', './../HPO/HPO_models_CYP2C9_old/cyp2c9_union_trainset_base_smiles/NN_computed_descriptors_scaffold_regression/51a69070-0244-4020-82f7-41c42b2b09ff/model/checkpoint2.pt', './../HPO/HPO_models_CYP2C9_old/cyp2c9_union_trainset_base_smiles/NN_computed_descriptors_scaffold_regression/51a69070-0244-4020-82f7-41c42b2b09ff/model/checkpoint3.pt']\n",
      "./../HPO/HPO_models_CYP2C9_old/cyp2c9_union_trainset_base_smiles/NN_computed_descriptors_scaffold_regression/51a69070-0244-4020-82f7-41c42b2b09ff/model/checkpoint1.pt\n",
      "layers: 256,64, dropouts: 0.5,0.5, learning rate: 0.005, valid_r2: 0.0612400844411225\n",
      "\n"
     ]
    },
    {
     "name": "stderr",
     "output_type": "stream",
     "text": [
      "DEBUG:ATOM:Got dataset, attempting to extract data\n",
      "DEBUG:ATOM:Creating deepchem dataset\n",
      "INFO:ATOM:Using prefeaturized data; number of features = 306\n",
      "WARNING:ATOM:Previous dataset split restored\n",
      "INFO:ATOM:Wrote transformers to ./../HPO/HPO_models_CYP2C9_old/cyp2c9_union_trainset_base_smiles/NN_computed_descriptors_scaffold_regression/a69d8d9a-929f-439e-a960-e32f4b2dd05a/transformers.pkl\n",
      "INFO:ATOM:Transforming response data\n",
      "INFO:ATOM:Transforming feature data\n",
      "INFO:ATOM:Transforming response data\n",
      "INFO:ATOM:Transforming feature data\n",
      "INFO:ATOM:Transforming response data\n",
      "INFO:ATOM:Transforming feature data\n",
      "INFO:ATOM:Total score for epoch 0 is 0.0771\n",
      "INFO:ATOM:Epoch 0: training r2_score = 0.119, validation r2_score = 0.077, test r2_score = 0.491\n",
      "INFO:ATOM:*** Total score for epoch 1 is 0.0863, is new maximum\n",
      "INFO:ATOM:Epoch 1: training r2_score = 0.146, validation r2_score = 0.086, test r2_score = 0.817\n",
      "INFO:ATOM:Epoch 2: training r2_score = 0.150, validation r2_score = 0.068, test r2_score = 0.868\n",
      "INFO:ATOM:Epoch 3: training r2_score = 0.182, validation r2_score = 0.083, test r2_score = 0.785\n",
      "INFO:ATOM:Epoch 4: training r2_score = 0.198, validation r2_score = 0.086, test r2_score = 0.976\n",
      "INFO:ATOM:*** Total score for epoch 5 is 0.0922, is new maximum\n",
      "INFO:ATOM:Epoch 5: training r2_score = 0.194, validation r2_score = 0.092, test r2_score = 0.800\n",
      "INFO:ATOM:Epoch 6: training r2_score = 0.217, validation r2_score = 0.092, test r2_score = 0.880\n",
      "INFO:ATOM:*** Total score for epoch 7 is 0.102, is new maximum\n",
      "INFO:ATOM:Epoch 7: training r2_score = 0.223, validation r2_score = 0.102, test r2_score = 0.898\n",
      "INFO:ATOM:Epoch 8: training r2_score = 0.229, validation r2_score = 0.093, test r2_score = 0.809\n",
      "INFO:ATOM:*** Total score for epoch 9 is 0.104, is new maximum\n",
      "INFO:ATOM:Epoch 9: training r2_score = 0.247, validation r2_score = 0.104, test r2_score = 0.881\n",
      "INFO:ATOM:*** Total score for epoch 10 is 0.111, is new maximum\n",
      "INFO:ATOM:Epoch 10: training r2_score = 0.261, validation r2_score = 0.111, test r2_score = 0.688\n",
      "INFO:ATOM:Epoch 11: training r2_score = 0.240, validation r2_score = 0.089, test r2_score = 0.574\n",
      "INFO:ATOM:Epoch 12: training r2_score = 0.284, validation r2_score = 0.108, test r2_score = 0.624\n",
      "INFO:ATOM:Epoch 13: training r2_score = 0.278, validation r2_score = 0.102, test r2_score = 0.846\n",
      "INFO:ATOM:Epoch 14: training r2_score = 0.273, validation r2_score = 0.097, test r2_score = 0.750\n",
      "INFO:ATOM:*** Total score for epoch 15 is 0.114, is new maximum\n",
      "INFO:ATOM:Epoch 15: training r2_score = 0.290, validation r2_score = 0.114, test r2_score = 0.595\n",
      "INFO:ATOM:Epoch 16: training r2_score = 0.299, validation r2_score = 0.105, test r2_score = 0.820\n",
      "INFO:ATOM:*** Total score for epoch 17 is 0.12, is new maximum\n",
      "INFO:ATOM:Epoch 17: training r2_score = 0.308, validation r2_score = 0.120, test r2_score = 0.741\n",
      "INFO:ATOM:Epoch 18: training r2_score = 0.310, validation r2_score = 0.112, test r2_score = 0.655\n",
      "INFO:ATOM:Epoch 19: training r2_score = 0.316, validation r2_score = 0.114, test r2_score = 0.844\n",
      "INFO:ATOM:*** Total score for epoch 20 is 0.121, is new maximum\n",
      "INFO:ATOM:Epoch 20: training r2_score = 0.318, validation r2_score = 0.121, test r2_score = 0.783\n",
      "INFO:ATOM:Epoch 21: training r2_score = 0.313, validation r2_score = 0.107, test r2_score = 0.833\n",
      "INFO:ATOM:Epoch 22: training r2_score = 0.341, validation r2_score = 0.106, test r2_score = 0.619\n",
      "INFO:ATOM:Epoch 23: training r2_score = 0.337, validation r2_score = 0.113, test r2_score = 0.856\n",
      "INFO:ATOM:Epoch 24: training r2_score = 0.358, validation r2_score = 0.094, test r2_score = 0.849\n",
      "INFO:ATOM:Epoch 25: training r2_score = 0.354, validation r2_score = 0.117, test r2_score = 0.540\n",
      "INFO:ATOM:Epoch 26: training r2_score = 0.372, validation r2_score = 0.106, test r2_score = 0.744\n",
      "INFO:ATOM:Epoch 27: training r2_score = 0.367, validation r2_score = 0.110, test r2_score = 0.781\n",
      "INFO:ATOM:Epoch 28: training r2_score = 0.357, validation r2_score = 0.114, test r2_score = 0.258\n",
      "INFO:ATOM:Epoch 29: training r2_score = 0.361, validation r2_score = 0.108, test r2_score = 0.550\n",
      "INFO:ATOM:Saved model files to './../HPO/HPO_models_CYP2C9_old/cyp2c9_union_trainset_base_smiles/NN_computed_descriptors_scaffold_regression/a69d8d9a-929f-439e-a960-e32f4b2dd05a/best_model'\n",
      "INFO:ATOM:Best model from epoch 20 saved to ./../HPO/HPO_models_CYP2C9_old/cyp2c9_union_trainset_base_smiles/NN_computed_descriptors_scaffold_regression/a69d8d9a-929f-439e-a960-e32f4b2dd05a/best_model\n",
      "INFO:ATOM:Wrote model tarball to ./../HPO/HPO_models_CYP2C9_old/cyp2c9_union_trainset_base_smiles_model_a69d8d9a-929f-439e-a960-e32f4b2dd05a.tar.gz\n"
     ]
    },
    {
     "name": "stdout",
     "output_type": "stream",
     "text": [
      "['./../HPO/HPO_models_CYP2C9_old/cyp2c9_union_trainset_base_smiles/NN_computed_descriptors_scaffold_regression/a69d8d9a-929f-439e-a960-e32f4b2dd05a/model/checkpoint1.pt', './../HPO/HPO_models_CYP2C9_old/cyp2c9_union_trainset_base_smiles/NN_computed_descriptors_scaffold_regression/a69d8d9a-929f-439e-a960-e32f4b2dd05a/model/checkpoint2.pt', './../HPO/HPO_models_CYP2C9_old/cyp2c9_union_trainset_base_smiles/NN_computed_descriptors_scaffold_regression/a69d8d9a-929f-439e-a960-e32f4b2dd05a/model/checkpoint3.pt', './../HPO/HPO_models_CYP2C9_old/cyp2c9_union_trainset_base_smiles/NN_computed_descriptors_scaffold_regression/a69d8d9a-929f-439e-a960-e32f4b2dd05a/model/checkpoint4.pt', './../HPO/HPO_models_CYP2C9_old/cyp2c9_union_trainset_base_smiles/NN_computed_descriptors_scaffold_regression/a69d8d9a-929f-439e-a960-e32f4b2dd05a/model/checkpoint5.pt']\n",
      "./../HPO/HPO_models_CYP2C9_old/cyp2c9_union_trainset_base_smiles/NN_computed_descriptors_scaffold_regression/a69d8d9a-929f-439e-a960-e32f4b2dd05a/model/checkpoint1.pt\n"
     ]
    },
    {
     "name": "stderr",
     "output_type": "stream",
     "text": [
      "INFO:ATOM:Created a dataset hash '5784653341796c83c2c652313bd6db26' from dataset_key '/usr/WS2/atom/titli/MoDaC/Data/CYP2C9-ampl-1.1.0_old/cyp2c9_union_trainset_base_smiles.csv'\n",
      "DEBUG:ATOM:Attempting to load featurized dataset\n"
     ]
    },
    {
     "name": "stdout",
     "output_type": "stream",
     "text": [
      "layers: 512,128, dropouts: 0.5,0.5, learning rate: 0.0007, valid_r2: 0.12134573813083616\n",
      "\n"
     ]
    },
    {
     "name": "stderr",
     "output_type": "stream",
     "text": [
      "DEBUG:ATOM:Got dataset, attempting to extract data\n",
      "DEBUG:ATOM:Creating deepchem dataset\n",
      "INFO:ATOM:Using prefeaturized data; number of features = 306\n",
      "WARNING:ATOM:Previous dataset split restored\n",
      "INFO:ATOM:Wrote transformers to ./../HPO/HPO_models_CYP2C9_old/cyp2c9_union_trainset_base_smiles/NN_computed_descriptors_scaffold_regression/9ebd30fb-c6ca-4815-8c41-4662aa57342e/transformers.pkl\n",
      "INFO:ATOM:Transforming response data\n",
      "INFO:ATOM:Transforming feature data\n",
      "INFO:ATOM:Transforming response data\n",
      "INFO:ATOM:Transforming feature data\n",
      "INFO:ATOM:Transforming response data\n",
      "INFO:ATOM:Transforming feature data\n",
      "INFO:ATOM:Total score for epoch 0 is 0.0593\n",
      "INFO:ATOM:Epoch 0: training r2_score = 0.087, validation r2_score = 0.059, test r2_score = 0.483\n",
      "INFO:ATOM:Epoch 1: training r2_score = 0.077, validation r2_score = 0.055, test r2_score = 0.248\n",
      "INFO:ATOM:Epoch 2: training r2_score = 0.083, validation r2_score = 0.050, test r2_score = -0.034\n",
      "INFO:ATOM:Epoch 3: training r2_score = 0.046, validation r2_score = 0.010, test r2_score = 0.191\n",
      "INFO:ATOM:Epoch 4: training r2_score = -0.006, validation r2_score = -0.003, test r2_score = -0.624\n",
      "INFO:ATOM:Epoch 5: training r2_score = -0.000, validation r2_score = -0.001, test r2_score = -0.625\n",
      "INFO:ATOM:Epoch 6: training r2_score = -0.000, validation r2_score = -0.001, test r2_score = -0.612\n",
      "INFO:ATOM:Epoch 7: training r2_score = -0.000, validation r2_score = -0.003, test r2_score = -0.545\n",
      "INFO:ATOM:Epoch 8: training r2_score = -0.000, validation r2_score = -0.001, test r2_score = -0.647\n",
      "INFO:ATOM:Epoch 9: training r2_score = -0.001, validation r2_score = -0.000, test r2_score = -0.699\n",
      "INFO:ATOM:Epoch 10: training r2_score = -0.000, validation r2_score = -0.001, test r2_score = -0.620\n",
      "INFO:ATOM:Epoch 11: training r2_score = -0.000, validation r2_score = -0.002, test r2_score = -0.577\n",
      "INFO:ATOM:Epoch 12: training r2_score = -0.000, validation r2_score = -0.002, test r2_score = -0.596\n",
      "INFO:ATOM:Epoch 13: training r2_score = -0.000, validation r2_score = -0.002, test r2_score = -0.601\n",
      "INFO:ATOM:Epoch 14: training r2_score = -0.000, validation r2_score = -0.002, test r2_score = -0.582\n",
      "INFO:ATOM:Epoch 15: training r2_score = 0.019, validation r2_score = 0.013, test r2_score = 0.915\n",
      "INFO:ATOM:Epoch 16: training r2_score = 0.000, validation r2_score = -0.002, test r2_score = -0.579\n",
      "INFO:ATOM:Epoch 17: training r2_score = 0.001, validation r2_score = -0.001, test r2_score = -0.584\n",
      "INFO:ATOM:Epoch 18: training r2_score = -0.000, validation r2_score = -0.002, test r2_score = -0.579\n",
      "INFO:ATOM:Epoch 19: training r2_score = -0.020, validation r2_score = -0.015, test r2_score = -0.829\n",
      "INFO:ATOM:Epoch 20: training r2_score = -0.000, validation r2_score = -0.001, test r2_score = -0.663\n",
      "INFO:ATOM:Epoch 21: training r2_score = -0.035, validation r2_score = -0.047, test r2_score = -0.304\n",
      "INFO:ATOM:Epoch 22: training r2_score = -0.000, validation r2_score = -0.002, test r2_score = -0.582\n",
      "INFO:ATOM:Epoch 23: training r2_score = -0.000, validation r2_score = -0.002, test r2_score = -0.575\n",
      "INFO:ATOM:Epoch 24: training r2_score = -0.000, validation r2_score = -0.001, test r2_score = -0.661\n",
      "INFO:ATOM:Epoch 25: training r2_score = -0.000, validation r2_score = -0.001, test r2_score = -0.652\n",
      "INFO:ATOM:Epoch 26: training r2_score = -0.000, validation r2_score = -0.001, test r2_score = -0.658\n",
      "INFO:ATOM:Epoch 27: training r2_score = -0.002, validation r2_score = -0.007, test r2_score = -0.467\n",
      "INFO:ATOM:Epoch 28: training r2_score = -0.007, validation r2_score = -0.009, test r2_score = -0.619\n",
      "INFO:ATOM:Epoch 29: training r2_score = -0.000, validation r2_score = -0.003, test r2_score = -0.552\n",
      "INFO:ATOM:Saved model files to './../HPO/HPO_models_CYP2C9_old/cyp2c9_union_trainset_base_smiles/NN_computed_descriptors_scaffold_regression/9ebd30fb-c6ca-4815-8c41-4662aa57342e/best_model'\n",
      "INFO:ATOM:Best model from epoch 0 saved to ./../HPO/HPO_models_CYP2C9_old/cyp2c9_union_trainset_base_smiles/NN_computed_descriptors_scaffold_regression/9ebd30fb-c6ca-4815-8c41-4662aa57342e/best_model\n",
      "INFO:ATOM:Wrote model tarball to ./../HPO/HPO_models_CYP2C9_old/cyp2c9_union_trainset_base_smiles_model_9ebd30fb-c6ca-4815-8c41-4662aa57342e.tar.gz\n"
     ]
    },
    {
     "name": "stdout",
     "output_type": "stream",
     "text": [
      "['./../HPO/HPO_models_CYP2C9_old/cyp2c9_union_trainset_base_smiles/NN_computed_descriptors_scaffold_regression/9ebd30fb-c6ca-4815-8c41-4662aa57342e/model/checkpoint1.pt', './../HPO/HPO_models_CYP2C9_old/cyp2c9_union_trainset_base_smiles/NN_computed_descriptors_scaffold_regression/9ebd30fb-c6ca-4815-8c41-4662aa57342e/model/checkpoint2.pt']\n",
      "./../HPO/HPO_models_CYP2C9_old/cyp2c9_union_trainset_base_smiles/NN_computed_descriptors_scaffold_regression/9ebd30fb-c6ca-4815-8c41-4662aa57342e/model/checkpoint1.pt\n",
      "layers: 512,128, dropouts: 0.5,0.5, learning rate: 0.005, valid_r2: 0.05926473860751891\n",
      "\n"
     ]
    },
    {
     "name": "stderr",
     "output_type": "stream",
     "text": [
      "INFO:ATOM:Created a dataset hash '5784653341796c83c2c652313bd6db26' from dataset_key '/usr/WS2/atom/titli/MoDaC/Data/CYP2C9-ampl-1.1.0_old/cyp2c9_union_trainset_base_smiles.csv'\n",
      "DEBUG:ATOM:Attempting to load featurized dataset\n",
      "DEBUG:ATOM:Got dataset, attempting to extract data\n",
      "DEBUG:ATOM:Creating deepchem dataset\n",
      "INFO:ATOM:Using prefeaturized data; number of features = 306\n",
      "WARNING:ATOM:Previous dataset split restored\n",
      "INFO:ATOM:Wrote transformers to ./../HPO/HPO_models_CYP2C9_old/cyp2c9_union_trainset_base_smiles/NN_computed_descriptors_scaffold_regression/384ed742-4423-4675-b45f-d900259dae57/transformers.pkl\n",
      "INFO:ATOM:Transforming response data\n",
      "INFO:ATOM:Transforming feature data\n",
      "INFO:ATOM:Transforming response data\n",
      "INFO:ATOM:Transforming feature data\n",
      "INFO:ATOM:Transforming response data\n",
      "INFO:ATOM:Transforming feature data\n",
      "INFO:ATOM:Total score for epoch 0 is 0.0694\n",
      "INFO:ATOM:Epoch 0: training r2_score = 0.105, validation r2_score = 0.069, test r2_score = 0.436\n",
      "INFO:ATOM:Epoch 1: training r2_score = 0.104, validation r2_score = 0.044, test r2_score = 0.404\n",
      "INFO:ATOM:*** Total score for epoch 2 is 0.0828, is new maximum\n",
      "INFO:ATOM:Epoch 2: training r2_score = 0.165, validation r2_score = 0.083, test r2_score = 0.681\n",
      "INFO:ATOM:*** Total score for epoch 3 is 0.0875, is new maximum\n",
      "INFO:ATOM:Epoch 3: training r2_score = 0.177, validation r2_score = 0.087, test r2_score = 0.575\n",
      "INFO:ATOM:Epoch 4: training r2_score = 0.187, validation r2_score = 0.079, test r2_score = 0.748\n",
      "INFO:ATOM:Epoch 5: training r2_score = 0.185, validation r2_score = 0.083, test r2_score = 0.246\n",
      "INFO:ATOM:*** Total score for epoch 6 is 0.0914, is new maximum\n",
      "INFO:ATOM:Epoch 6: training r2_score = 0.217, validation r2_score = 0.091, test r2_score = 0.570\n",
      "INFO:ATOM:*** Total score for epoch 7 is 0.0968, is new maximum\n",
      "INFO:ATOM:Epoch 7: training r2_score = 0.229, validation r2_score = 0.097, test r2_score = 0.510\n",
      "INFO:ATOM:Epoch 8: training r2_score = 0.225, validation r2_score = 0.094, test r2_score = 0.541\n",
      "INFO:ATOM:*** Total score for epoch 9 is 0.1, is new maximum\n",
      "INFO:ATOM:Epoch 9: training r2_score = 0.225, validation r2_score = 0.100, test r2_score = 0.417\n",
      "INFO:ATOM:Epoch 10: training r2_score = 0.253, validation r2_score = 0.097, test r2_score = 0.837\n",
      "INFO:ATOM:*** Total score for epoch 11 is 0.113, is new maximum\n",
      "INFO:ATOM:Epoch 11: training r2_score = 0.260, validation r2_score = 0.113, test r2_score = 0.609\n",
      "INFO:ATOM:Epoch 12: training r2_score = 0.257, validation r2_score = 0.102, test r2_score = 0.403\n",
      "INFO:ATOM:Epoch 13: training r2_score = 0.269, validation r2_score = 0.112, test r2_score = 0.473\n",
      "INFO:ATOM:Epoch 14: training r2_score = 0.291, validation r2_score = 0.101, test r2_score = 0.722\n",
      "INFO:ATOM:*** Total score for epoch 15 is 0.118, is new maximum\n",
      "INFO:ATOM:Epoch 15: training r2_score = 0.281, validation r2_score = 0.118, test r2_score = 0.668\n",
      "INFO:ATOM:Epoch 16: training r2_score = 0.294, validation r2_score = 0.112, test r2_score = 0.713\n",
      "INFO:ATOM:Epoch 17: training r2_score = 0.302, validation r2_score = 0.103, test r2_score = 0.625\n",
      "INFO:ATOM:Epoch 18: training r2_score = 0.303, validation r2_score = 0.112, test r2_score = 0.489\n",
      "INFO:ATOM:Epoch 19: training r2_score = 0.305, validation r2_score = 0.103, test r2_score = 0.791\n",
      "INFO:ATOM:Epoch 20: training r2_score = 0.307, validation r2_score = 0.116, test r2_score = 0.728\n",
      "INFO:ATOM:Epoch 21: training r2_score = 0.312, validation r2_score = 0.113, test r2_score = 0.797\n",
      "INFO:ATOM:Epoch 22: training r2_score = 0.315, validation r2_score = 0.112, test r2_score = 0.818\n",
      "INFO:ATOM:Epoch 23: training r2_score = 0.338, validation r2_score = 0.116, test r2_score = 0.780\n",
      "INFO:ATOM:Epoch 24: training r2_score = 0.335, validation r2_score = 0.114, test r2_score = 0.640\n",
      "INFO:ATOM:Epoch 25: training r2_score = 0.328, validation r2_score = 0.100, test r2_score = 0.877\n",
      "INFO:ATOM:*** Total score for epoch 26 is 0.119, is new maximum\n",
      "INFO:ATOM:Epoch 26: training r2_score = 0.338, validation r2_score = 0.119, test r2_score = 0.820\n",
      "INFO:ATOM:Epoch 27: training r2_score = 0.356, validation r2_score = 0.088, test r2_score = 0.616\n",
      "INFO:ATOM:*** Total score for epoch 28 is 0.126, is new maximum\n",
      "INFO:ATOM:Epoch 28: training r2_score = 0.323, validation r2_score = 0.126, test r2_score = 0.593\n",
      "INFO:ATOM:Epoch 29: training r2_score = 0.351, validation r2_score = 0.118, test r2_score = 0.586\n",
      "INFO:ATOM:Saved model files to './../HPO/HPO_models_CYP2C9_old/cyp2c9_union_trainset_base_smiles/NN_computed_descriptors_scaffold_regression/384ed742-4423-4675-b45f-d900259dae57/best_model'\n",
      "INFO:ATOM:Best model from epoch 28 saved to ./../HPO/HPO_models_CYP2C9_old/cyp2c9_union_trainset_base_smiles/NN_computed_descriptors_scaffold_regression/384ed742-4423-4675-b45f-d900259dae57/best_model\n"
     ]
    },
    {
     "name": "stdout",
     "output_type": "stream",
     "text": [
      "['./../HPO/HPO_models_CYP2C9_old/cyp2c9_union_trainset_base_smiles/NN_computed_descriptors_scaffold_regression/384ed742-4423-4675-b45f-d900259dae57/model/checkpoint1.pt', './../HPO/HPO_models_CYP2C9_old/cyp2c9_union_trainset_base_smiles/NN_computed_descriptors_scaffold_regression/384ed742-4423-4675-b45f-d900259dae57/model/checkpoint2.pt', './../HPO/HPO_models_CYP2C9_old/cyp2c9_union_trainset_base_smiles/NN_computed_descriptors_scaffold_regression/384ed742-4423-4675-b45f-d900259dae57/model/checkpoint3.pt', './../HPO/HPO_models_CYP2C9_old/cyp2c9_union_trainset_base_smiles/NN_computed_descriptors_scaffold_regression/384ed742-4423-4675-b45f-d900259dae57/model/checkpoint4.pt', './../HPO/HPO_models_CYP2C9_old/cyp2c9_union_trainset_base_smiles/NN_computed_descriptors_scaffold_regression/384ed742-4423-4675-b45f-d900259dae57/model/checkpoint5.pt']\n",
      "./../HPO/HPO_models_CYP2C9_old/cyp2c9_union_trainset_base_smiles/NN_computed_descriptors_scaffold_regression/384ed742-4423-4675-b45f-d900259dae57/model/checkpoint1.pt\n"
     ]
    },
    {
     "name": "stderr",
     "output_type": "stream",
     "text": [
      "INFO:ATOM:Wrote model tarball to ./../HPO/HPO_models_CYP2C9_old/cyp2c9_union_trainset_base_smiles_model_384ed742-4423-4675-b45f-d900259dae57.tar.gz\n",
      "INFO:ATOM:Created a dataset hash '5784653341796c83c2c652313bd6db26' from dataset_key '/usr/WS2/atom/titli/MoDaC/Data/CYP2C9-ampl-1.1.0_old/cyp2c9_union_trainset_base_smiles.csv'\n",
      "DEBUG:ATOM:Attempting to load featurized dataset\n"
     ]
    },
    {
     "name": "stdout",
     "output_type": "stream",
     "text": [
      "layers: 512,256,32, dropouts: 0.5,0.5,0.5, learning rate: 0.0007, valid_r2: 0.1264342486458483\n",
      "\n"
     ]
    },
    {
     "name": "stderr",
     "output_type": "stream",
     "text": [
      "DEBUG:ATOM:Got dataset, attempting to extract data\n",
      "DEBUG:ATOM:Creating deepchem dataset\n",
      "INFO:ATOM:Using prefeaturized data; number of features = 306\n",
      "WARNING:ATOM:Previous dataset split restored\n",
      "INFO:ATOM:Wrote transformers to ./../HPO/HPO_models_CYP2C9_old/cyp2c9_union_trainset_base_smiles/NN_computed_descriptors_scaffold_regression/7ac5f193-8e03-4f46-962b-6c285edd784b/transformers.pkl\n",
      "INFO:ATOM:Transforming response data\n",
      "INFO:ATOM:Transforming feature data\n",
      "INFO:ATOM:Transforming response data\n",
      "INFO:ATOM:Transforming feature data\n",
      "INFO:ATOM:Transforming response data\n",
      "INFO:ATOM:Transforming feature data\n",
      "INFO:ATOM:Total score for epoch 0 is 7.24e-07\n",
      "INFO:ATOM:Epoch 0: training r2_score = -0.002, validation r2_score = 0.000, test r2_score = -0.739\n",
      "INFO:ATOM:Epoch 1: training r2_score = -0.000, validation r2_score = -0.001, test r2_score = -0.623\n",
      "INFO:ATOM:Epoch 2: training r2_score = -0.000, validation r2_score = -0.002, test r2_score = -0.577\n",
      "INFO:ATOM:Epoch 3: training r2_score = -0.000, validation r2_score = -0.001, test r2_score = -0.620\n",
      "INFO:ATOM:Epoch 4: training r2_score = -0.000, validation r2_score = -0.001, test r2_score = -0.635\n",
      "INFO:ATOM:Epoch 5: training r2_score = -0.000, validation r2_score = -0.002, test r2_score = -0.593\n",
      "INFO:ATOM:Epoch 6: training r2_score = -0.000, validation r2_score = -0.002, test r2_score = -0.589\n",
      "INFO:ATOM:Epoch 7: training r2_score = -0.001, validation r2_score = -0.005, test r2_score = -0.508\n",
      "INFO:ATOM:Epoch 8: training r2_score = -0.000, validation r2_score = -0.003, test r2_score = -0.571\n",
      "INFO:ATOM:Epoch 9: training r2_score = -0.001, validation r2_score = -0.000, test r2_score = -0.725\n",
      "INFO:ATOM:Epoch 10: training r2_score = -0.000, validation r2_score = -0.004, test r2_score = -0.530\n",
      "INFO:ATOM:Epoch 11: training r2_score = -0.000, validation r2_score = -0.003, test r2_score = -0.547\n",
      "INFO:ATOM:Epoch 12: training r2_score = -0.000, validation r2_score = -0.002, test r2_score = -0.597\n",
      "INFO:ATOM:Epoch 13: training r2_score = -0.000, validation r2_score = -0.001, test r2_score = -0.650\n",
      "INFO:ATOM:Epoch 14: training r2_score = -0.000, validation r2_score = -0.002, test r2_score = -0.591\n",
      "INFO:ATOM:Epoch 15: training r2_score = -0.001, validation r2_score = -0.000, test r2_score = -0.710\n",
      "INFO:ATOM:Epoch 16: training r2_score = -0.000, validation r2_score = -0.003, test r2_score = -0.553\n",
      "INFO:ATOM:Epoch 17: training r2_score = -0.000, validation r2_score = -0.001, test r2_score = -0.616\n",
      "INFO:ATOM:Epoch 18: training r2_score = -0.000, validation r2_score = -0.002, test r2_score = -0.593\n",
      "INFO:ATOM:Epoch 19: training r2_score = -0.000, validation r2_score = -0.004, test r2_score = -0.541\n",
      "INFO:ATOM:Epoch 20: training r2_score = -0.001, validation r2_score = -0.000, test r2_score = -0.701\n",
      "INFO:ATOM:Epoch 21: training r2_score = -0.000, validation r2_score = -0.003, test r2_score = -0.560\n",
      "INFO:ATOM:Epoch 22: training r2_score = -0.001, validation r2_score = -0.000, test r2_score = -0.682\n",
      "INFO:ATOM:Epoch 23: training r2_score = -0.000, validation r2_score = -0.002, test r2_score = -0.582\n",
      "INFO:ATOM:Epoch 24: training r2_score = -0.000, validation r2_score = -0.001, test r2_score = -0.647\n",
      "INFO:ATOM:Epoch 25: training r2_score = -0.000, validation r2_score = -0.001, test r2_score = -0.643\n",
      "INFO:ATOM:Epoch 26: training r2_score = -0.000, validation r2_score = -0.002, test r2_score = -0.606\n",
      "INFO:ATOM:Epoch 27: training r2_score = -0.000, validation r2_score = -0.003, test r2_score = -0.544\n",
      "INFO:ATOM:Epoch 28: training r2_score = -0.001, validation r2_score = -0.006, test r2_score = -0.494\n",
      "INFO:ATOM:Epoch 29: training r2_score = -0.000, validation r2_score = -0.001, test r2_score = -0.665\n",
      "INFO:ATOM:Saved model files to './../HPO/HPO_models_CYP2C9_old/cyp2c9_union_trainset_base_smiles/NN_computed_descriptors_scaffold_regression/7ac5f193-8e03-4f46-962b-6c285edd784b/best_model'\n",
      "INFO:ATOM:Best model from epoch 0 saved to ./../HPO/HPO_models_CYP2C9_old/cyp2c9_union_trainset_base_smiles/NN_computed_descriptors_scaffold_regression/7ac5f193-8e03-4f46-962b-6c285edd784b/best_model\n"
     ]
    },
    {
     "name": "stdout",
     "output_type": "stream",
     "text": [
      "['./../HPO/HPO_models_CYP2C9_old/cyp2c9_union_trainset_base_smiles/NN_computed_descriptors_scaffold_regression/7ac5f193-8e03-4f46-962b-6c285edd784b/model/checkpoint1.pt', './../HPO/HPO_models_CYP2C9_old/cyp2c9_union_trainset_base_smiles/NN_computed_descriptors_scaffold_regression/7ac5f193-8e03-4f46-962b-6c285edd784b/model/checkpoint2.pt']\n",
      "./../HPO/HPO_models_CYP2C9_old/cyp2c9_union_trainset_base_smiles/NN_computed_descriptors_scaffold_regression/7ac5f193-8e03-4f46-962b-6c285edd784b/model/checkpoint1.pt\n"
     ]
    },
    {
     "name": "stderr",
     "output_type": "stream",
     "text": [
      "INFO:ATOM:Wrote model tarball to ./../HPO/HPO_models_CYP2C9_old/cyp2c9_union_trainset_base_smiles_model_7ac5f193-8e03-4f46-962b-6c285edd784b.tar.gz\n",
      "INFO:ATOM:Created a dataset hash '5784653341796c83c2c652313bd6db26' from dataset_key '/usr/WS2/atom/titli/MoDaC/Data/CYP2C9-ampl-1.1.0_old/cyp2c9_union_trainset_base_smiles.csv'\n",
      "DEBUG:ATOM:Attempting to load featurized dataset\n"
     ]
    },
    {
     "name": "stdout",
     "output_type": "stream",
     "text": [
      "layers: 512,256,32, dropouts: 0.5,0.5,0.5, learning rate: 0.005, valid_r2: 7.23733996732534e-07\n",
      "\n"
     ]
    },
    {
     "name": "stderr",
     "output_type": "stream",
     "text": [
      "DEBUG:ATOM:Got dataset, attempting to extract data\n",
      "DEBUG:ATOM:Creating deepchem dataset\n",
      "INFO:ATOM:Using prefeaturized data; number of features = 306\n",
      "WARNING:ATOM:Previous dataset split restored\n",
      "INFO:ATOM:Wrote transformers to ./../HPO/HPO_models_CYP2C9_old/cyp2c9_union_trainset_base_smiles/NN_computed_descriptors_scaffold_regression/e6f0114c-692c-4511-9309-f4b5f50f2232/transformers.pkl\n",
      "INFO:ATOM:Transforming response data\n",
      "INFO:ATOM:Transforming feature data\n",
      "INFO:ATOM:Transforming response data\n",
      "INFO:ATOM:Transforming feature data\n",
      "INFO:ATOM:Transforming response data\n",
      "INFO:ATOM:Transforming feature data\n",
      "INFO:ATOM:Total score for epoch 0 is 0.0755\n",
      "INFO:ATOM:Epoch 0: training r2_score = 0.115, validation r2_score = 0.076, test r2_score = 0.574\n",
      "INFO:ATOM:*** Total score for epoch 1 is 0.0791, is new maximum\n",
      "INFO:ATOM:Epoch 1: training r2_score = 0.131, validation r2_score = 0.079, test r2_score = 0.572\n",
      "INFO:ATOM:Epoch 2: training r2_score = 0.151, validation r2_score = 0.078, test r2_score = 0.549\n",
      "INFO:ATOM:*** Total score for epoch 3 is 0.0836, is new maximum\n",
      "INFO:ATOM:Epoch 3: training r2_score = 0.172, validation r2_score = 0.084, test r2_score = 0.667\n",
      "INFO:ATOM:*** Total score for epoch 4 is 0.0876, is new maximum\n",
      "INFO:ATOM:Epoch 4: training r2_score = 0.202, validation r2_score = 0.088, test r2_score = 0.766\n",
      "INFO:ATOM:Epoch 5: training r2_score = 0.195, validation r2_score = 0.075, test r2_score = 0.352\n",
      "INFO:ATOM:Epoch 6: training r2_score = 0.214, validation r2_score = 0.087, test r2_score = 0.571\n",
      "INFO:ATOM:Epoch 7: training r2_score = 0.239, validation r2_score = 0.081, test r2_score = 0.633\n",
      "INFO:ATOM:*** Total score for epoch 8 is 0.0993, is new maximum\n",
      "INFO:ATOM:Epoch 8: training r2_score = 0.244, validation r2_score = 0.099, test r2_score = 0.557\n",
      "INFO:ATOM:Epoch 9: training r2_score = 0.243, validation r2_score = 0.088, test r2_score = 0.676\n",
      "INFO:ATOM:Epoch 10: training r2_score = 0.244, validation r2_score = 0.092, test r2_score = 0.421\n",
      "INFO:ATOM:Epoch 11: training r2_score = 0.274, validation r2_score = 0.083, test r2_score = 0.769\n",
      "INFO:ATOM:Epoch 12: training r2_score = 0.266, validation r2_score = 0.093, test r2_score = 0.821\n",
      "INFO:ATOM:Epoch 13: training r2_score = 0.290, validation r2_score = 0.091, test r2_score = 0.586\n",
      "INFO:ATOM:Epoch 14: training r2_score = 0.292, validation r2_score = 0.096, test r2_score = 0.613\n",
      "INFO:ATOM:Epoch 15: training r2_score = 0.274, validation r2_score = 0.097, test r2_score = 0.469\n",
      "INFO:ATOM:Epoch 16: training r2_score = 0.307, validation r2_score = 0.098, test r2_score = 0.689\n",
      "INFO:ATOM:Epoch 17: training r2_score = 0.287, validation r2_score = 0.084, test r2_score = 0.723\n",
      "INFO:ATOM:*** Total score for epoch 18 is 0.106, is new maximum\n",
      "INFO:ATOM:Epoch 18: training r2_score = 0.296, validation r2_score = 0.106, test r2_score = 0.456\n",
      "INFO:ATOM:Epoch 19: training r2_score = 0.330, validation r2_score = 0.085, test r2_score = 0.645\n",
      "INFO:ATOM:Epoch 20: training r2_score = 0.320, validation r2_score = 0.098, test r2_score = 0.704\n",
      "INFO:ATOM:Epoch 21: training r2_score = 0.324, validation r2_score = 0.098, test r2_score = 0.531\n",
      "INFO:ATOM:*** Total score for epoch 22 is 0.11, is new maximum\n",
      "INFO:ATOM:Epoch 22: training r2_score = 0.326, validation r2_score = 0.110, test r2_score = 0.499\n",
      "INFO:ATOM:Epoch 23: training r2_score = 0.351, validation r2_score = 0.097, test r2_score = 0.647\n",
      "INFO:ATOM:Epoch 24: training r2_score = 0.359, validation r2_score = 0.096, test r2_score = 0.693\n",
      "INFO:ATOM:Epoch 25: training r2_score = 0.338, validation r2_score = 0.103, test r2_score = 0.521\n",
      "INFO:ATOM:Epoch 26: training r2_score = 0.361, validation r2_score = 0.102, test r2_score = 0.778\n",
      "INFO:ATOM:Epoch 27: training r2_score = 0.340, validation r2_score = 0.107, test r2_score = 0.083\n",
      "INFO:ATOM:*** Total score for epoch 28 is 0.114, is new maximum\n",
      "INFO:ATOM:Epoch 28: training r2_score = 0.326, validation r2_score = 0.114, test r2_score = 0.368\n",
      "INFO:ATOM:*** Total score for epoch 29 is 0.125, is new maximum\n",
      "INFO:ATOM:Epoch 29: training r2_score = 0.354, validation r2_score = 0.125, test r2_score = 0.692\n",
      "INFO:ATOM:Saved model files to './../HPO/HPO_models_CYP2C9_old/cyp2c9_union_trainset_base_smiles/NN_computed_descriptors_scaffold_regression/e6f0114c-692c-4511-9309-f4b5f50f2232/best_model'\n",
      "INFO:ATOM:Best model from epoch 29 saved to ./../HPO/HPO_models_CYP2C9_old/cyp2c9_union_trainset_base_smiles/NN_computed_descriptors_scaffold_regression/e6f0114c-692c-4511-9309-f4b5f50f2232/best_model\n"
     ]
    },
    {
     "name": "stdout",
     "output_type": "stream",
     "text": [
      "['./../HPO/HPO_models_CYP2C9_old/cyp2c9_union_trainset_base_smiles/NN_computed_descriptors_scaffold_regression/e6f0114c-692c-4511-9309-f4b5f50f2232/model/checkpoint1.pt', './../HPO/HPO_models_CYP2C9_old/cyp2c9_union_trainset_base_smiles/NN_computed_descriptors_scaffold_regression/e6f0114c-692c-4511-9309-f4b5f50f2232/model/checkpoint2.pt', './../HPO/HPO_models_CYP2C9_old/cyp2c9_union_trainset_base_smiles/NN_computed_descriptors_scaffold_regression/e6f0114c-692c-4511-9309-f4b5f50f2232/model/checkpoint3.pt', './../HPO/HPO_models_CYP2C9_old/cyp2c9_union_trainset_base_smiles/NN_computed_descriptors_scaffold_regression/e6f0114c-692c-4511-9309-f4b5f50f2232/model/checkpoint4.pt', './../HPO/HPO_models_CYP2C9_old/cyp2c9_union_trainset_base_smiles/NN_computed_descriptors_scaffold_regression/e6f0114c-692c-4511-9309-f4b5f50f2232/model/checkpoint5.pt']\n",
      "./../HPO/HPO_models_CYP2C9_old/cyp2c9_union_trainset_base_smiles/NN_computed_descriptors_scaffold_regression/e6f0114c-692c-4511-9309-f4b5f50f2232/model/checkpoint1.pt\n"
     ]
    },
    {
     "name": "stderr",
     "output_type": "stream",
     "text": [
      "INFO:ATOM:Wrote model tarball to ./../HPO/HPO_models_CYP2C9_old/cyp2c9_union_trainset_base_smiles_model_e6f0114c-692c-4511-9309-f4b5f50f2232.tar.gz\n",
      "INFO:ATOM:Created a dataset hash '5784653341796c83c2c652313bd6db26' from dataset_key '/usr/WS2/atom/titli/MoDaC/Data/CYP2C9-ampl-1.1.0_old/cyp2c9_union_trainset_base_smiles.csv'\n",
      "DEBUG:ATOM:Attempting to load featurized dataset\n"
     ]
    },
    {
     "name": "stdout",
     "output_type": "stream",
     "text": [
      "layers: 512,256,128, dropouts: 0.5,0.5,0.5, learning rate: 0.0007, valid_r2: 0.1251314345723633\n",
      "\n"
     ]
    },
    {
     "name": "stderr",
     "output_type": "stream",
     "text": [
      "DEBUG:ATOM:Got dataset, attempting to extract data\n",
      "DEBUG:ATOM:Creating deepchem dataset\n",
      "INFO:ATOM:Using prefeaturized data; number of features = 306\n",
      "WARNING:ATOM:Previous dataset split restored\n",
      "INFO:ATOM:Wrote transformers to ./../HPO/HPO_models_CYP2C9_old/cyp2c9_union_trainset_base_smiles/NN_computed_descriptors_scaffold_regression/1170ac18-919c-4ade-b9d5-f157925e3c6c/transformers.pkl\n",
      "INFO:ATOM:Transforming response data\n",
      "INFO:ATOM:Transforming feature data\n",
      "INFO:ATOM:Transforming response data\n",
      "INFO:ATOM:Transforming feature data\n",
      "INFO:ATOM:Transforming response data\n",
      "INFO:ATOM:Transforming feature data\n",
      "INFO:ATOM:Total score for epoch 0 is 0.0599\n",
      "INFO:ATOM:Epoch 0: training r2_score = 0.109, validation r2_score = 0.060, test r2_score = 0.509\n",
      "INFO:ATOM:Epoch 1: training r2_score = 0.021, validation r2_score = 0.008, test r2_score = -0.499\n",
      "INFO:ATOM:Epoch 2: training r2_score = 0.031, validation r2_score = 0.002, test r2_score = 0.084\n",
      "INFO:ATOM:Epoch 3: training r2_score = 0.029, validation r2_score = 0.012, test r2_score = -0.405\n",
      "INFO:ATOM:Epoch 4: training r2_score = -0.000, validation r2_score = -0.001, test r2_score = -0.621\n",
      "INFO:ATOM:Epoch 5: training r2_score = -0.000, validation r2_score = -0.000, test r2_score = -0.666\n",
      "INFO:ATOM:Epoch 6: training r2_score = -0.000, validation r2_score = -0.002, test r2_score = -0.604\n",
      "INFO:ATOM:Epoch 7: training r2_score = -0.000, validation r2_score = -0.001, test r2_score = -0.665\n",
      "INFO:ATOM:Epoch 8: training r2_score = -0.000, validation r2_score = -0.003, test r2_score = -0.554\n",
      "INFO:ATOM:Epoch 9: training r2_score = -0.001, validation r2_score = -0.005, test r2_score = -0.516\n",
      "INFO:ATOM:Epoch 10: training r2_score = -0.000, validation r2_score = -0.004, test r2_score = -0.533\n",
      "INFO:ATOM:Epoch 11: training r2_score = -0.000, validation r2_score = -0.002, test r2_score = -0.574\n",
      "INFO:ATOM:Epoch 12: training r2_score = -0.000, validation r2_score = -0.001, test r2_score = -0.615\n",
      "INFO:ATOM:Epoch 13: training r2_score = -0.000, validation r2_score = -0.003, test r2_score = -0.559\n",
      "INFO:ATOM:Epoch 14: training r2_score = -0.000, validation r2_score = -0.003, test r2_score = -0.567\n",
      "INFO:ATOM:Epoch 15: training r2_score = -0.000, validation r2_score = -0.001, test r2_score = -0.619\n",
      "INFO:ATOM:Epoch 16: training r2_score = -0.000, validation r2_score = -0.003, test r2_score = -0.559\n",
      "INFO:ATOM:Epoch 17: training r2_score = -0.000, validation r2_score = -0.001, test r2_score = -0.617\n",
      "INFO:ATOM:Epoch 18: training r2_score = -0.000, validation r2_score = -0.001, test r2_score = -0.612\n",
      "INFO:ATOM:Epoch 19: training r2_score = -0.001, validation r2_score = -0.005, test r2_score = -0.514\n",
      "INFO:ATOM:Epoch 20: training r2_score = -0.000, validation r2_score = -0.002, test r2_score = -0.608\n",
      "INFO:ATOM:Epoch 21: training r2_score = -0.000, validation r2_score = -0.004, test r2_score = -0.527\n",
      "INFO:ATOM:Epoch 22: training r2_score = -0.000, validation r2_score = -0.001, test r2_score = -0.646\n",
      "INFO:ATOM:Epoch 23: training r2_score = -0.000, validation r2_score = -0.001, test r2_score = -0.664\n",
      "INFO:ATOM:Epoch 24: training r2_score = -0.000, validation r2_score = -0.002, test r2_score = -0.598\n",
      "INFO:ATOM:Epoch 25: training r2_score = -0.000, validation r2_score = -0.004, test r2_score = -0.521\n",
      "INFO:ATOM:Epoch 26: training r2_score = -0.000, validation r2_score = -0.001, test r2_score = -0.610\n",
      "INFO:ATOM:Epoch 27: training r2_score = -0.000, validation r2_score = -0.003, test r2_score = -0.557\n",
      "INFO:ATOM:Epoch 28: training r2_score = -0.000, validation r2_score = -0.004, test r2_score = -0.538\n",
      "INFO:ATOM:Epoch 29: training r2_score = -0.000, validation r2_score = -0.002, test r2_score = -0.574\n",
      "INFO:ATOM:Saved model files to './../HPO/HPO_models_CYP2C9_old/cyp2c9_union_trainset_base_smiles/NN_computed_descriptors_scaffold_regression/1170ac18-919c-4ade-b9d5-f157925e3c6c/best_model'\n",
      "INFO:ATOM:Best model from epoch 0 saved to ./../HPO/HPO_models_CYP2C9_old/cyp2c9_union_trainset_base_smiles/NN_computed_descriptors_scaffold_regression/1170ac18-919c-4ade-b9d5-f157925e3c6c/best_model\n"
     ]
    },
    {
     "name": "stdout",
     "output_type": "stream",
     "text": [
      "['./../HPO/HPO_models_CYP2C9_old/cyp2c9_union_trainset_base_smiles/NN_computed_descriptors_scaffold_regression/1170ac18-919c-4ade-b9d5-f157925e3c6c/model/checkpoint1.pt', './../HPO/HPO_models_CYP2C9_old/cyp2c9_union_trainset_base_smiles/NN_computed_descriptors_scaffold_regression/1170ac18-919c-4ade-b9d5-f157925e3c6c/model/checkpoint2.pt']\n",
      "./../HPO/HPO_models_CYP2C9_old/cyp2c9_union_trainset_base_smiles/NN_computed_descriptors_scaffold_regression/1170ac18-919c-4ade-b9d5-f157925e3c6c/model/checkpoint1.pt\n"
     ]
    },
    {
     "name": "stderr",
     "output_type": "stream",
     "text": [
      "INFO:ATOM:Wrote model tarball to ./../HPO/HPO_models_CYP2C9_old/cyp2c9_union_trainset_base_smiles_model_1170ac18-919c-4ade-b9d5-f157925e3c6c.tar.gz\n"
     ]
    },
    {
     "name": "stdout",
     "output_type": "stream",
     "text": [
      "layers: 512,256,128, dropouts: 0.5,0.5,0.5, learning rate: 0.005, valid_r2: 0.05985911269162181\n",
      "\n"
     ]
    }
   ],
   "source": [
    "# (SLOW - more than 12 hours)\n",
    "layer_dropout = [\n",
    "#                 ('64,16','0.3,0.3'),\n",
    "#                 ('64,16','0.5,0.5'),\n",
    "                 #('128,32','0.0,0.0'),\n",
    "                 ('128,32','0.5,0.5'),\n",
    "                 #('128,32','0.5,0.5'),\n",
    "                 #('256,64','0.0,0.0'),\n",
    "                 ('256,64','0.5,0.5'),\n",
    "                 #('512,128','0.0,0.0'),\n",
    "                 #('512,128','0.3,0.3'),\n",
    "                 ('512,128','0.5,0.5'),\n",
    "                 #('256,64,16','0.0,0.0,0.0'),\n",
    "                 #('256,64,16','0.5,0.5,0.5'),\n",
    "                 #('512,256,32','0.0,0.0,0.0'),\n",
    "                 ('512,256,32','0.5,0.5,0.5'),\n",
    "                 #('512,256,128','0.0,0.0,0.0'),\n",
    "                 ('512,256,128','0.5,0.5,0.5'),\n",
    "                 #('512,128,128','0.5,0.5,0.5'),\n",
    "                 #('512,256,128,64','0.5,0.5,0.5,0.5'),\n",
    "\n",
    "]\n",
    "lr_choice = [0.0007, 0.005] # [.00001,.00005,.0001,.0005,.001,.005,.01,.05]\n",
    "\n",
    "for layers,dropouts in layer_dropout:\n",
    "    for learning_rate in lr_choice:\n",
    "        params[\"layer_sizes\"] = layers\n",
    "        params[\"dropouts\"] = dropouts\n",
    "        params[\"learning_rate\"] = learning_rate\n",
    "        tp = parse.wrapper(params)\n",
    "        pl = mp.ModelPipeline(tp)\n",
    "        pl.train_model()\n",
    "        pred_data = pl.model_wrapper.get_perf_data(subset=\"valid\", epoch_label=\"best\")\n",
    "        pred_results = pred_data.get_prediction_results()\n",
    "        print(f\"layers: {layers}, dropouts: {dropouts}, learning rate: {learning_rate}, valid_r2: {pred_results['r2_score']}\\n\")"
   ]
  },
  {
   "cell_type": "markdown",
   "metadata": {},
   "source": [
    "# Grid Search - NN (submit batch jobs FRCE- Titli's code new)"
   ]
  },
  {
   "cell_type": "code",
   "execution_count": null,
   "metadata": {},
   "outputs": [],
   "source": [
    "import multiprocessing\n",
    "from joblib import parallel, delayed\n",
    "multiprocessing.cpu_count()"
   ]
  },
  {
   "cell_type": "code",
   "execution_count": null,
   "metadata": {},
   "outputs": [],
   "source": [
    "param_combos = [] # list of params dict: each element is a params dict with specific set of leyrs,dropouts, lr_rate combinations\n",
    "\n",
    "# layer_dropout = [\n",
    "#                 #  ('64,16','0.1,0.1'),\n",
    "#                 #  ('64,16','0.2,0.2'),\n",
    "#                  ('64,16','0.3,0.3'),\n",
    "#                  ('64,16','0.4,0.4'),\n",
    "#                  ('128,32','0.1,0.1'),\n",
    "#                  ('128,32','0.2,0.2'),\n",
    "#                  ('128,32','0.3,0.3'),\n",
    "#                  ('128,32','0.4,0.4'),\n",
    "#                  ('256,64','0.1,0.1'),\n",
    "#                  ('256,64','0.2,0.2'),\n",
    "#                  ('256,64','0.3,0.3'),\n",
    "#                  ('256,64','0.4,0.4'),\n",
    "#                  ('512,128','0.1,0.1'),\n",
    "#                  ('512,128','0.2,0.2'),\n",
    "#                  ('512,128','0.3,0.3'),\n",
    "#                  ('512,128','0.4,0.4'),\n",
    "#                  ('256,64,16','0.1,0.1,0.1'),\n",
    "#                  ('256,64,16','0.2,0.2,0.2'),\n",
    "#                  ('256,64,16','0.3,0.3,0.3'),\n",
    "#                  ('256,64,16','0.4,0.4,0.4'),\n",
    "# ]\n",
    "# lr_choice = [.00001,.00005,.0001,.0005,.001,.005,.01,.025,.05,.075]\n",
    "# def parallelrun(params):\n",
    "#     tp = parse.wrapper(params)\n",
    "#     pl = mp.ModelPipeline(tp)\n",
    "#     pl.train_model()\n",
    "#     pred_data = pl.model_wrapper.get_perf_data(subset=\"valid\", epoch_label=\"best\")\n",
    "#     pred_results = pred_data.get_prediction_results()\n",
    "#     print(f\"layers: {layers}, dropouts: {dropouts}, learning rate: {learning_rate}, valid_r2: {pred_results['r2_score']}\\n\")\n",
    "    \n",
    "# #Parallel(n_jobs=multiprocessing.cpu_count(), verbose=50)delayed(parallelrun)(params)for combo in combos)\n",
    "param_combos=[]\n",
    "for layers,dropouts in layer_dropout:\n",
    "  for learning_rate in lr_choice:\n",
    "    params[]"
   ]
  },
  {
   "cell_type": "markdown",
   "metadata": {},
   "source": [
    "# Grid Search - xGBoost"
   ]
  },
  {
   "cell_type": "code",
   "execution_count": null,
   "metadata": {},
   "outputs": [],
   "source": [
    "params={\n",
    " 'collection_name': 'CYP2D6',\n",
    " 'dataset_key': data_file,\n",
    " 'datastore': 'False',\n",
    " 'featurizer': 'computed_descriptors',\n",
    " 'descriptor_type':'mordred_filtered',\n",
    " 'id_col': 'compound_id',\n",
    " 'lc_account': 'None',\n",
    " 'max_epochs': '100',\n",
    " 'model_type': 'xgboost',\n",
    " 'prediction_type': 'regression',\n",
    " 'previously_split': 'True',\n",
    " 'rerun': 'False',\n",
    " 'response_cols': 'pIC50',\n",
    " 'result_dir': outdir,\n",
    " 'save_results': 'False',\n",
    " 'smiles_col': 'base_rdkit_smiles',\n",
    " 'split_uuid': split_uuid,\n",
    " 'transformers': 'True',\n",
    " 'uncertainty': 'True',\n",
    " 'verbose': 'False'}"
   ]
  },
  {
   "cell_type": "code",
   "execution_count": null,
   "metadata": {},
   "outputs": [],
   "source": [
    "# 96 models per feature set, ~40 seconds per model; ~1:04 hours\n",
    "gamma_choice = [4,8,16] # done [0.00,0.05, 0.1,0.2,0.3,0.4,0.5,1,2]\n",
    "lr_choice = [0.15,0.10,0.05,0.01,0.001,0.0001] # done  [0.25,0.2] \n",
    "\n",
    "for gamma in gamma_choice:\n",
    "    for learning_rate in lr_choice:\n",
    "        params[\"xgb_gamma\"] = gamma\n",
    "        params[\"xgb_learning_rate\"] = learning_rate\n",
    "        tp = parse.wrapper(params)\n",
    "        pl = mp.ModelPipeline(tp)\n",
    "        pl.train_model()\n",
    "        pred_data = pl.model_wrapper.get_perf_data(subset=\"valid\", epoch_label=\"best\")\n",
    "        pred_results = pred_data.get_prediction_results()\n",
    "        print(f\"xgb gamma: {gamma}, xgb learning rate: {learning_rate}, valid_r2: {pred_results['r2_score']}\\n\")"
   ]
  },
  {
   "cell_type": "code",
   "execution_count": null,
   "metadata": {},
   "outputs": [],
   "source": []
  },
  {
   "cell_type": "markdown",
   "metadata": {},
   "source": [
    "# Monitor HP search with *groupby*"
   ]
  },
  {
   "cell_type": "code",
   "execution_count": null,
   "metadata": {},
   "outputs": [],
   "source": [
    "# source = outdir+'RF_GridSearch/*'\n",
    "# ! mv $source $outdir\n",
    "# !ls $outdir"
   ]
  },
  {
   "cell_type": "code",
   "execution_count": null,
   "metadata": {},
   "outputs": [],
   "source": [
    "perf_df = cm.get_summary_perf_tables(collection_names=None, filter_dict={}, result_dir=outdir, prediction_type='regression', verbose=False)\n",
    "#perf_df = perf_df[perf_df.rf_estimators!=500]\n",
    "perf_df = perf_df.sort_values(by=\"valid_r2_score\", ascending=False)\n",
    "perf_df.head(2)"
   ]
  },
  {
   "cell_type": "code",
   "execution_count": null,
   "metadata": {},
   "outputs": [],
   "source": [
    "perf_df.shape"
   ]
  },
  {
   "cell_type": "code",
   "execution_count": null,
   "metadata": {},
   "outputs": [],
   "source": [
    "perf_df.groupby(by=['model_type', 'features']).count()[['model_uuid']].T"
   ]
  },
  {
   "cell_type": "code",
   "execution_count": null,
   "metadata": {},
   "outputs": [],
   "source": [
    "rfmods = perf_df[perf_df.model_type==\"RF\"]\n",
    "print(rfmods.shape)\n",
    "print(rfmods.head(1)['valid_r2_score'])\n",
    "rfmods.head(2)"
   ]
  },
  {
   "cell_type": "code",
   "execution_count": null,
   "metadata": {},
   "outputs": [],
   "source": [
    "nnmods = perf_df[perf_df.model_type==\"NN\"]\n",
    "print(nnmods.shape)\n",
    "print(nnmods.head(1)['valid_r2_score'])\n",
    "nnmods.head(2)"
   ]
  },
  {
   "cell_type": "code",
   "execution_count": null,
   "metadata": {},
   "outputs": [],
   "source": [
    "xgboostmods = perf_df[perf_df.model_type==\"xgboost\"]\n",
    "print(xgboostmods.shape)\n",
    "print(xgboostmods.head(1)['valid_r2_score'])\n",
    "xgboostmods.head(2)"
   ]
  },
  {
   "cell_type": "code",
   "execution_count": null,
   "metadata": {},
   "outputs": [],
   "source": [
    "# should be 10 each, 20 groups per feature, if you got all the models created\n",
    "nnmods.groupby(by=['features','layer_sizes','dropouts']).count()[['model_uuid']]"
   ]
  },
  {
   "cell_type": "code",
   "execution_count": null,
   "metadata": {},
   "outputs": [],
   "source": []
  },
  {
   "cell_type": "code",
   "execution_count": null,
   "metadata": {},
   "outputs": [],
   "source": []
  },
  {
   "cell_type": "code",
   "execution_count": null,
   "metadata": {},
   "outputs": [],
   "source": []
  },
  {
   "cell_type": "code",
   "execution_count": null,
   "metadata": {},
   "outputs": [],
   "source": []
  },
  {
   "cell_type": "code",
   "execution_count": null,
   "metadata": {},
   "outputs": [],
   "source": [
    "#visual of RF HPO results\n",
    "fig, ax = plt.subplots(1,3,figsize=(21,7))\n",
    "sns.boxplot(data=perf_df, x=\"rf_estimators\", y=\"valid_r2_score\", ax=ax[0])\n",
    "sns.boxplot(data=perf_df, x=\"rf_max_depth\", y=\"valid_r2_score\", ax=ax[1])\n",
    "sns.boxplot(data=perf_df, x=\"rf_max_features\", y=\"valid_r2_score\", ax=ax[2])\n",
    "fig.tight_layout()"
   ]
  },
  {
   "cell_type": "markdown",
   "metadata": {},
   "source": [
    "# Baysean optimization NN - manually"
   ]
  },
  {
   "cell_type": "code",
   "execution_count": null,
   "metadata": {},
   "outputs": [],
   "source": [
    "#define loss function\n",
    "def lossfn(p):\n",
    "    params[\"learning_rate\"] = float(p[\"learn_rate\"])\n",
    "    params[\"layer_sizes\"] = int(p[\"layer_size\"])\n",
    "    params[\"layer_nums\"] = int(p[\"layer_num\"])\n",
    "    params[\"dropouts\"] = float(p[\"dropout\"])\n",
    "\n",
    "    tparam = parse.wrapper(params)\n",
    "    pl = mp.ModelPipeline(tparam)\n",
    "    pl.train_model()\n",
    "    perf_data = pl.model_wrapper.get_perf_data(subset=\"valid\", epoch_label=\"best\")\n",
    "    pred_results = perf_data.get_prediction_results()\n",
    "    r2 = pred_results['r2_score']\n",
    "    return {'loss': 1-r2, \n",
    "            'status': STATUS_OK, \n",
    "            'model': tparam.model_tarball_path, \n",
    "            'model_uuid': tparam.model_uuid,\n",
    "            'learn_rate': params[\"learning_rate\"],\n",
    "            'layer_size': params[\"layer_sizes\"],\n",
    "            'layer_num': params[\"layer_nums\"],\n",
    "            'dropout': params['dropouts']}\n",
    "\n",
    "space = {\n",
    "    \"learn_rate\": hp.uniform(\"learn_rate\", 0.002, 0.006),\n",
    "    \"layer_size\": hp.uniform(\"layer_size\", 16, 256),\n",
    "    \"layer_num\": hp.uniform(\"layer_num\", 2, 4),\n",
    "    \"dropout\": hp.uniform(\"droupout\", 0.1, 0.6)\n",
    "\n",
    "}"
   ]
  },
  {
   "cell_type": "code",
   "execution_count": null,
   "metadata": {},
   "outputs": [],
   "source": [
    "trials = Trials()\n",
    "best = fmin(lossfn, space, algo=tpe.suggest, max_evals=5, trials=trials)"
   ]
  },
  {
   "cell_type": "code",
   "execution_count": null,
   "metadata": {},
   "outputs": [],
   "source": [
    "r2_list = [1-trials.trials[i][\"result\"][\"loss\"] for i in range(len(trials.trials))]\n",
    "fig, ax = plt.subplots(1,1,figsize=(10,10))\n",
    "sns.lineplot(x=list(range(1,len(trials.trials)+1)), y=r2_list, ax=ax)\n",
    "#ax.set_ylim(0.2,0.6)"
   ]
  },
  {
   "cell_type": "code",
   "execution_count": null,
   "metadata": {},
   "outputs": [],
   "source": [
    "perf_df = pd.DataFrame({\"model_uuid\": model_uuid_list,\"learning_rate\": lr_list, \"layer_sizes\": ls_list, \"layer_nums\": ln_list, \"dropouts\": drop_list, \"valid_r2_score\": r2_list})\n",
    "perf_df.sort_values(by=\"valid_r2_score\", ascending=False)\n",
    "# perf_df.to_csv(file_dir + 'NN_Bayesian_Search/' + target_name + '_NN_Bayesian_Search_5_trials.csv', index=False)"
   ]
  },
  {
   "cell_type": "code",
   "execution_count": null,
   "metadata": {},
   "outputs": [],
   "source": [
    "#Save Bayesian optimization trial object and continue later\n",
    "# save the trial object\n",
    "trial_file = os.path.join(\"hp_trial.pkl\")\n",
    "with open(trial_file, \"wb\") as f:\n",
    "    pickle.dump(trials, f)\n",
    "\n"
   ]
  },
  {
   "cell_type": "code",
   "execution_count": null,
   "metadata": {},
   "outputs": [],
   "source": [
    "# load the trial object\n",
    "with open(trial_file, \"rb\") as f:\n",
    "    new_trials = pickle.load(f)"
   ]
  },
  {
   "cell_type": "code",
   "execution_count": null,
   "metadata": {},
   "outputs": [],
   "source": [
    "# continue HPO\n",
    "best = fmin(lossfn, space, algo=tpe.suggest, max_evals=50, trials=new_trials)"
   ]
  },
  {
   "cell_type": "code",
   "execution_count": null,
   "metadata": {},
   "outputs": [],
   "source": [
    "r2_list = [1-new_trials.trials[i][\"result\"][\"loss\"] for i in range(len(new_trials.trials))]\n",
    "fig, ax = plt.subplots(1,1,figsize=(10,10))\n",
    "sns.lineplot(x=list(range(1,len(new_trials.trials)+1)), y=r2_list, ax=ax)\n",
    "#ax.set_ylim(0.2,0.6)"
   ]
  },
  {
   "cell_type": "code",
   "execution_count": null,
   "metadata": {},
   "outputs": [],
   "source": [
    "lr_list = [trials.trials[i][\"result\"][\"learn_rate\"] for i in range(len(trials.trials))]\n",
    "ls_list = [trials.trials[i][\"result\"][\"layer_size\"] for i in range(len(trials.trials))]\n",
    "ln_list = [trials.trials[i][\"result\"][\"layer_num\"] for i in range(len(trials.trials))]\n",
    "drop_list = [trials.trials[i][\"result\"][\"dropout\"] for i in range(len(trials.trials))]\n",
    "model_uuid_list = [trials.trials[i][\"result\"][\"model_uuid\"] for i in range(len(trials.trials))] "
   ]
  },
  {
   "cell_type": "code",
   "execution_count": null,
   "metadata": {},
   "outputs": [],
   "source": []
  },
  {
   "cell_type": "markdown",
   "metadata": {},
   "source": [
    "### RF"
   ]
  },
  {
   "cell_type": "code",
   "execution_count": null,
   "metadata": {},
   "outputs": [],
   "source": [
    "! tail -qn 2 /g/g16/apaulson/train_JSON_FILE.DILIst_hyperopt_RF.json.out"
   ]
  },
  {
   "cell_type": "code",
   "execution_count": null,
   "metadata": {},
   "outputs": [],
   "source": [
    "! tail -qn 3 /g/g16/apaulson/train_JSON_FILE.DILIst_hyperopt_RF_mordred_seltrain.json.out"
   ]
  },
  {
   "cell_type": "code",
   "execution_count": null,
   "metadata": {},
   "outputs": [],
   "source": [
    "! tail -qn 3 /g/g16/apaulson/train_JSON_FILE.DILIst_txptr_hyperopt_RF.json.out"
   ]
  },
  {
   "cell_type": "code",
   "execution_count": null,
   "metadata": {},
   "outputs": [],
   "source": [
    "! tail -qn 3 /g/g16/apaulson/train_JSON_FILE.DILIst_scr_hyperopt_RF.json.out"
   ]
  },
  {
   "cell_type": "markdown",
   "metadata": {},
   "source": [
    "### NN computed descriptors"
   ]
  },
  {
   "cell_type": "code",
   "execution_count": null,
   "metadata": {},
   "outputs": [],
   "source": [
    "! tail -qn 1 /g/g16/apaulson/train_JSON_FILE.DILIst_hyperopt_NN_3_noGC.json.out"
   ]
  },
  {
   "cell_type": "code",
   "execution_count": null,
   "metadata": {},
   "outputs": [],
   "source": [
    "# ! tail -qn 3 /g/g16/apaulson/train_JSON_FILE.DILIst_hyperopt_NN_mordred_sel.json.out"
   ]
  },
  {
   "cell_type": "code",
   "execution_count": null,
   "metadata": {},
   "outputs": [],
   "source": [
    "# ! tail -qn 3 /g/g16/apaulson/train_JSON_FILE.DILIst_hyperopt_NN_mordred_seltrain.json.out"
   ]
  },
  {
   "cell_type": "code",
   "execution_count": null,
   "metadata": {},
   "outputs": [],
   "source": [
    "! tail -qn 3 /g/g16/apaulson/train_JSON_FILE.DILIst_txptr_hyperopt_NN.json.out"
   ]
  },
  {
   "cell_type": "code",
   "execution_count": null,
   "metadata": {},
   "outputs": [],
   "source": [
    "! tail -qn 3 /g/g16/apaulson/train_JSON_FILE.DILIst_scr_hyperopt_NN.json.out"
   ]
  },
  {
   "cell_type": "markdown",
   "metadata": {},
   "source": [
    "### NN GC"
   ]
  },
  {
   "cell_type": "code",
   "execution_count": null,
   "metadata": {},
   "outputs": [],
   "source": [
    "! tail -qn 1 /g/g16/apaulson/train_JSON_FILE.DILIst_hyperopt_NN_3_GC.json.out"
   ]
  },
  {
   "cell_type": "markdown",
   "metadata": {},
   "source": [
    "### XG boost"
   ]
  },
  {
   "cell_type": "code",
   "execution_count": null,
   "metadata": {},
   "outputs": [],
   "source": [
    "! tail -qn 3 /g/g16/apaulson/train_JSON_FILE.DILIst_hyperopt_xg_mordred_seltrain.json.out"
   ]
  },
  {
   "cell_type": "code",
   "execution_count": null,
   "metadata": {},
   "outputs": [],
   "source": [
    "! tail -qn 3 /g/g16/apaulson/train_JSON_FILE.DILIst_txptr_hyperopt_xg.json.out"
   ]
  },
  {
   "cell_type": "code",
   "execution_count": null,
   "metadata": {},
   "outputs": [],
   "source": [
    "! tail -qn 3 /g/g16/apaulson/train_JSON_FILE.DILIst_scr_hyperopt_xg.json.out"
   ]
  },
  {
   "cell_type": "markdown",
   "metadata": {},
   "source": [
    "# Best model"
   ]
  },
  {
   "cell_type": "code",
   "execution_count": null,
   "metadata": {},
   "outputs": [],
   "source": [
    "import warnings\n",
    "warnings.filterwarnings(action='once')\n",
    "from atomsci.clients import MLMTClient\n",
    "import atomsci.ddm.pipeline.model_tracker as mt\n",
    "import atomsci.ddm.pipeline.compare_models as cmp\n",
    "import pandas as pd"
   ]
  },
  {
   "cell_type": "code",
   "execution_count": null,
   "metadata": {},
   "outputs": [],
   "source": [
    "client=MLMTClient()\n",
    "for coll in client.get_collection_names()[2:19]:\n",
    "    collections = [coll]\n",
    "    res=client.count_models(coll)\n",
    "    print(f'Num models in {coll}: {res}')"
   ]
  },
  {
   "cell_type": "code",
   "execution_count": null,
   "metadata": {},
   "outputs": [],
   "source": [
    "collections=['DILIst_class']\n",
    "responsecols = 'DILIst_Classification'\n",
    "allmodels1=cmp.get_multitask_perf_from_tracker(collections[0], response_cols=responsecols, \n",
    "                                              expand_subsets='train,test,val', exhaustive=True)\n",
    "allmodels1=allmodels1[allmodels1.prediction_type=='classification']\n",
    "allmodels1['model_run']='No bio data'\n",
    "allmodels1=allmodels1.reset_index(drop=True)\n",
    "print(allmodels1.best_valid_roc_auc_score.max())\n",
    "print(allmodels1.shape)\n",
    "allmodels1.groupby(by=['model_type', 'features', 'best_valid_num_compounds']).count()[['model_uuid']].T"
   ]
  },
  {
   "cell_type": "code",
   "execution_count": null,
   "metadata": {},
   "outputs": [],
   "source": [
    "collections=['DILIst_txptr_class']\n",
    "responsecols = 'DILIst_Classification'\n",
    "allmodels2=cmp.get_multitask_perf_from_tracker(collections[0], response_cols=responsecols, \n",
    "                                              expand_subsets='train,test,val', exhaustive=True)\n",
    "allmodels2=allmodels2[allmodels2.features.str.contains('scr')]\n",
    "allmodels2['model_run']='Scram bio data'\n",
    "allmodels2=allmodels2.reset_index(drop=True)\n",
    "print(allmodels2.best_valid_roc_auc_score.max())\n",
    "print(allmodels2.shape)\n",
    "allmodels2.groupby(by=['model_type', 'features', 'best_valid_num_compounds']).count()[['model_uuid']].T"
   ]
  },
  {
   "cell_type": "code",
   "execution_count": null,
   "metadata": {},
   "outputs": [],
   "source": [
    "collections=['DILIst_txptr_class']\n",
    "responsecols = 'DILIst_Classification'\n",
    "allmodels3=cmp.get_multitask_perf_from_tracker(collections[0], response_cols=responsecols, \n",
    "                                              expand_subsets='train,test,val', exhaustive=True)\n",
    "allmodels3=allmodels3[allmodels3.prediction_type=='classification']\n",
    "allmodels3=allmodels3[allmodels3.features.str.contains('txptr')]\n",
    "allmodels3['model_run']='With bio data'\n",
    "allmodels3=allmodels3.reset_index(drop=True)\n",
    "print(allmodels3.best_valid_roc_auc_score.max())\n",
    "print(allmodels3.shape)\n",
    "allmodels3.groupby(by=['model_type', 'features', 'best_valid_num_compounds']).count()[['model_uuid']].T"
   ]
  },
  {
   "cell_type": "code",
   "execution_count": null,
   "metadata": {},
   "outputs": [],
   "source": [
    "allmodels=pd.concat([allmodels1, allmodels2, allmodels3])\n",
    "allmodels = allmodels[allmodels.descriptor_type!= 'mordred_sel']\n",
    "allmodels.shape"
   ]
  },
  {
   "cell_type": "markdown",
   "metadata": {},
   "source": [
    "### Best RF model +/- txptr"
   ]
  },
  {
   "cell_type": "code",
   "execution_count": null,
   "metadata": {},
   "outputs": [],
   "source": [
    "model_uuid=allmodels[(allmodels.model_type=='RF') & (allmodels.model_run=='Scram bio data')].sort_values('best_valid_roc_auc_score', ascending=False).model_uuid.iloc[0]\n",
    "collection_name = collection = mt.get_model_collection_by_uuid(model_uuid)\n",
    "top_model=mt.get_full_metadata_by_uuid(model_uuid, collection_name)\n",
    "model_uuid"
   ]
  },
  {
   "cell_type": "code",
   "execution_count": null,
   "metadata": {},
   "outputs": [],
   "source": [
    "top_model['training_metrics'][1]#['prediction_results']['r2_score']"
   ]
  },
  {
   "cell_type": "code",
   "execution_count": null,
   "metadata": {},
   "outputs": [],
   "source": [
    "model_uuid=allmodels[(allmodels.model_type=='RF') & (allmodels.model_run=='With bio data')].sort_values('best_valid_roc_auc_score', ascending=False).model_uuid.iloc[0]\n",
    "collection_name = collection = mt.get_model_collection_by_uuid(model_uuid)\n",
    "top_model=mt.get_full_metadata_by_uuid(model_uuid, collection_name)\n",
    "model_uuid"
   ]
  },
  {
   "cell_type": "code",
   "execution_count": null,
   "metadata": {},
   "outputs": [],
   "source": [
    "top_model['training_metrics'][1]#['prediction_results']['r2_score']"
   ]
  },
  {
   "cell_type": "markdown",
   "metadata": {},
   "source": [
    "# Best NN model"
   ]
  },
  {
   "cell_type": "code",
   "execution_count": null,
   "metadata": {},
   "outputs": [],
   "source": [
    "model_uuid=allmodels[(allmodels.model_type=='NN') & (allmodels.model_run=='Scram bio data')].sort_values('best_valid_roc_auc_score', ascending=False).model_uuid.iloc[0]\n",
    "collection_name = mt.get_model_collection_by_uuid(model_uuid)\n",
    "top_model=mt.get_full_metadata_by_uuid(model_uuid, collection_name)\n",
    "model_uuid"
   ]
  },
  {
   "cell_type": "code",
   "execution_count": null,
   "metadata": {},
   "outputs": [],
   "source": [
    "top_model['training_metrics'][1]#['prediction_results']['r2_score']"
   ]
  },
  {
   "cell_type": "code",
   "execution_count": null,
   "metadata": {},
   "outputs": [],
   "source": [
    "model_uuid=allmodels[(allmodels.model_type=='NN') & (allmodels.model_run=='With bio data')].sort_values('best_valid_roc_auc_score', ascending=False).model_uuid.iloc[0]\n",
    "collection_name = mt.get_model_collection_by_uuid(model_uuid)\n",
    "top_model=mt.get_full_metadata_by_uuid(model_uuid, collection_name)\n",
    "model_uuid"
   ]
  },
  {
   "cell_type": "code",
   "execution_count": null,
   "metadata": {},
   "outputs": [],
   "source": [
    "top_model['training_metrics'][1]#['prediction_results']['r2_score']"
   ]
  },
  {
   "cell_type": "markdown",
   "metadata": {},
   "source": [
    "# Best XG model"
   ]
  },
  {
   "cell_type": "code",
   "execution_count": null,
   "metadata": {},
   "outputs": [],
   "source": [
    "model_uuid=allmodels[(allmodels.model_type=='xgboost') & (allmodels.model_run=='Scram bio data')].sort_values('best_valid_roc_auc_score', ascending=False).model_uuid.iloc[0]\n",
    "collection_name = collection = mt.get_model_collection_by_uuid(model_uuid)\n",
    "top_model=mt.get_full_metadata_by_uuid(model_uuid, collection_name)\n",
    "model_uuid"
   ]
  },
  {
   "cell_type": "code",
   "execution_count": null,
   "metadata": {},
   "outputs": [],
   "source": [
    "top_model['training_metrics'][1]#['prediction_results']['r2_score']"
   ]
  },
  {
   "cell_type": "code",
   "execution_count": null,
   "metadata": {},
   "outputs": [],
   "source": [
    "model_uuid=allmodels[(allmodels.model_type=='xgboost') & (allmodels.model_run=='With bio data')].sort_values('best_valid_roc_auc_score', ascending=False).model_uuid.iloc[0]\n",
    "collection_name = collection = mt.get_model_collection_by_uuid(model_uuid)\n",
    "top_model=mt.get_full_metadata_by_uuid(model_uuid, collection_name)\n",
    "model_uuid"
   ]
  },
  {
   "cell_type": "code",
   "execution_count": null,
   "metadata": {},
   "outputs": [],
   "source": [
    "top_model#['training_metrics'][1]#['prediction_results']['r2_score']"
   ]
  },
  {
   "cell_type": "markdown",
   "metadata": {},
   "source": [
    "# predict w/ best model"
   ]
  },
  {
   "cell_type": "code",
   "execution_count": null,
   "metadata": {},
   "outputs": [],
   "source": [
    "import os\n",
    "import sys\n",
    "sys.path.append('%s/workspace/bitbucket_repos/data_science/code' % os.environ['HOME'])\n",
    "\n",
    "from atomsci.ddm.pipeline import predict_from_model as pfm\n",
    "import plotting_functions_misc_akp as pfma\n",
    "from sklearn.metrics import roc_curve, auc, roc_auc_score, r2_score, precision_recall_curve, average_precision_score, confusion_matrix, precision_score, recall_score\n",
    "from sklearn.metrics import precision_score, recall_score, accuracy_score, matthews_corrcoef, cohen_kappa_score, log_loss\n",
    "import matplotlib.pyplot as plt\n",
    "import seaborn as sns\n",
    "import numpy as np\n",
    "import pandas as pd\n",
    "sns.set_context('poster')\n",
    "sns.set_style('white')"
   ]
  },
  {
   "cell_type": "code",
   "execution_count": null,
   "metadata": {},
   "outputs": [],
   "source": [
    "# adapted from sklearn 0.22.0 package\n",
    "def balanced_accuracy_score(conf_mat, *, sample_weight=None,\n",
    "                            adjusted=False):\n",
    "    \"\"\"Compute the balanced accuracy.\n",
    "    The balanced accuracy in binary and multiclass classification problems to\n",
    "    deal with imbalanced datasets. It is defined as the average of recall\n",
    "    obtained on each class.\n",
    "    The best value is 1 and the worst value is 0 when ``adjusted=False``.\n",
    "    \"\"\"\n",
    "    with np.errstate(divide='ignore', invalid='ignore'):\n",
    "        per_class = np.diag(conf_mat) / conf_mat.sum(axis=1)\n",
    "    if np.any(np.isnan(per_class)):\n",
    "        warnings.warn('y_pred contains classes not in y_true')\n",
    "        per_class = per_class[~np.isnan(per_class)]\n",
    "    score = np.mean(per_class)\n",
    "    if adjusted:\n",
    "        n_classes = len(per_class)\n",
    "        chance = 1 / n_classes\n",
    "        score -= chance\n",
    "        score /= 1 - chance\n",
    "    return score"
   ]
  },
  {
   "cell_type": "code",
   "execution_count": null,
   "metadata": {},
   "outputs": [],
   "source": [
    "allmodels['best_valid_balanced_accuracy'] = [balanced_accuracy_score(np.array(x[0])) for x in allmodels.best_valid_confusion_matrix]\n",
    "allmodels['best_test_balanced_accuracy'] = [balanced_accuracy_score(np.array(x[0])) for x in allmodels.best_test_confusion_matrix]\n",
    "allmodels['best_train_balanced_accuracy'] = [balanced_accuracy_score(np.array(x[0])) for x in allmodels.best_train_confusion_matrix]"
   ]
  },
  {
   "cell_type": "code",
   "execution_count": null,
   "metadata": {},
   "outputs": [],
   "source": [
    "selection_metric = 'best_valid_roc_auc_score'\n",
    "# selection_metric = 'best_valid_balanced_accuracy'\n",
    "# selection_metric = 'best_valid_prc_auc_score'\n",
    "# selection_metric = 'best_valid_accuracy_score'"
   ]
  },
  {
   "cell_type": "code",
   "execution_count": null,
   "metadata": {},
   "outputs": [],
   "source": [
    "print('Best class scramble model', allmodels[allmodels.model_run=='Scram bio data'][selection_metric].max())\n",
    "print('Best classification model', allmodels[allmodels.model_run=='No bio data'][selection_metric].max())\n",
    "print('Best class+tbiodata model', allmodels[allmodels.model_run=='With bio data'][selection_metric].max())"
   ]
  },
  {
   "cell_type": "code",
   "execution_count": null,
   "metadata": {},
   "outputs": [],
   "source": [
    "top_model1=allmodels[allmodels.model_run=='Scram bio data'].sort_values(selection_metric, ascending=False).iloc[0]\n",
    "top_model2=allmodels[allmodels.model_run=='With bio data'].sort_values(selection_metric, ascending=False).iloc[0:10]\n",
    "# top_models=[(top_model1.model_uuid, 'best base model'), (top_model2.model_uuid, 'best +bio model')]\n",
    "top_models=top_model2.model_uuid.tolist()\n",
    "print(top_models)\n",
    "print(top_model1[selection_metric])\n",
    "print(top_model2[selection_metric])"
   ]
  },
  {
   "cell_type": "code",
   "execution_count": null,
   "metadata": {},
   "outputs": [],
   "source": [
    "# Create an array with the colors you want to use\n",
    "colors = [\n",
    "    \"#7682A4\",\n",
    "    \"#A7DDD8\",\n",
    "    \"#373C50\",\n",
    "    \"#694691\",\n",
    "    \"#BE2369\",\n",
    "    \"#EB1E23\",\n",
    "    \"#6EC8BE\",\n",
    "    \"#FFC30F\",\n",
    "]\n",
    "# Set your custom color palette\n",
    "pal=sns.color_palette(colors)\n",
    "sns.set_palette(pal)\n",
    "sns.palplot(pal)"
   ]
  },
  {
   "cell_type": "code",
   "execution_count": null,
   "metadata": {},
   "outputs": [],
   "source": [
    "import importlib\n",
    "importlib.reload(pfma)\n",
    "import tempfile\n",
    "from atomsci.ddm.pipeline import parameter_parser as parse\n",
    "from atomsci.ddm.pipeline import model_pipeline as mp\n",
    "\n",
    "sns.set_context('poster')\n",
    "sns.set_style(\"white\")\n",
    "tcpl='_tcpl';adj='_adj'\n",
    "id_col='compound_id'\n",
    "smiles_col='base_rdkit_smiles'\n",
    "pos_label=1\n",
    "class_names=['DILIneg', 'DILIpos']\n",
    "\n",
    "model_label='Best bio data model'\n",
    "\n",
    "with warnings.catch_warnings():\n",
    "    warnings.simplefilter('ignore')\n",
    "\n",
    "    for model_uuid in top_models:\n",
    "\n",
    "# set variable names & get data\n",
    "        collection_name = mt.get_model_collection_by_uuid(model_uuid)\n",
    "        top_model=mt.get_full_metadata_by_uuid(model_uuid, collection_name)\n",
    "        dataset_key=top_model['training_dataset']['dataset_key']\n",
    "        dataset = dataset_key.split('/')[-1].replace('.csv','')\n",
    "        df=pd.read_csv(dataset_key, index_col=0)\n",
    "        response_cols = top_model['training_dataset']['response_cols']\n",
    "        if len(response_cols)==1: response_col=response_cols[0]\n",
    "        else: response_col=response_cols\n",
    "        featurizer= top_model['model_parameters']['featurizer']\n",
    "        cols=['compound_id', 'DILIst_Classification', 'CompoundName', 'vDILIConcern', 'SeverityClass']\n",
    "        split_uuid=top_model['splitting_parameters']['split_uuid']\n",
    "        if featurizer == 'computed_descriptors':\n",
    "            featurized = True\n",
    "            feat_type=top_model['descriptor_specific']['descriptor_type']\n",
    "            feat = pd.read_csv(f'/g/g16/apaulson/workspace/datasets/scaled_descriptors/{dataset}_with_{feat_type}_descriptors.csv')\n",
    "        else:\n",
    "            featurized = False\n",
    "            feat_type = featurizer\n",
    "            feat=df\n",
    "        feat[id_col]=feat[id_col].astype(str)\n",
    "        meta=df[cols]\n",
    "        meta[id_col]=meta[id_col].astype(str)\n",
    "        splitdf=pd.read_csv(f'/g/g16/apaulson/workspace/datasets/{dataset}_train_valid_test_scaffold_{split_uuid}.csv')\n",
    "        splitdf['cmpd_id']=splitdf['cmpd_id'].astype(str)\n",
    "        \n",
    "# list model metrics from model tracker\n",
    "        print('Training metrics from model tracker\\n\\n', top_model['training_metrics'][0]['prediction_results'], '\\n')\n",
    "        print('Validation metrics from model tracker\\n\\n', top_model['training_metrics'][1]['prediction_results'], '\\n')\n",
    "        print('Test metrics from model tracker\\n\\n', top_model['training_metrics'][2]['prediction_results'], '\\n')\n",
    "        \n",
    "# predict (either predict from model or this code snippet give same results)\n",
    "        pred_params = {\n",
    "        'featurizer': 'computed_descriptors',\n",
    "        'result_dir': tempfile.mkdtemp(),\n",
    "        'id_col': id_col,\n",
    "        'smiles_col': smiles_col,\n",
    "        'response_cols': response_cols\n",
    "        }\n",
    "        pred_params = parse.wrapper(pred_params)\n",
    "        # pipe, pparams = mp.load_from_tracker(model_uuid)\n",
    "        pipe = mp.create_prediction_pipeline(pred_params, model_uuid, collection_name)\n",
    "        if pipe.params.model_type == 'xgboost':\n",
    "            pipe.params.uncertainty = False\n",
    "        full_df = pipe.predict_full_dataset(feat, contains_responses=True, is_featurized=featurized,\n",
    "                                            dset_params=pred_params)\n",
    "#         full_df = pfm.predict_from_tracker_model(model_uuid, collection_name, feat, id_col,\n",
    "#                                                  smiles_col, response_cols,\n",
    "#                                                  is_featurized=featurized, dont_standardize=True)\n",
    "        full_df=full_df.merge(meta, how=\"inner\", on=\"compound_id\")\n",
    "        full_df=full_df.merge(splitdf, how=\"inner\", left_on=\"compound_id\", right_on=\"cmpd_id\")\n",
    "        full_df=full_df[~full_df[response_col].isna()]\n",
    "        \n",
    "# graph\n",
    "        fig, ax = plt.subplots(2,2, sharex=False, sharey=False, figsize=(20,20))\n",
    "        ax=ax.ravel()\n",
    "       \n",
    "    \n",
    "# training set    \n",
    "        pred_df=full_df[full_df.subset=='train']\n",
    "        \n",
    "    # calculate further metrics\n",
    "        print('\\nCalculated metrics from predictions')\n",
    "        \n",
    "        accscore = accuracy_score(pred_df[f'{response_col}'], pred_df[f'{response_col}_pred'])\n",
    "        print('\\ntrain accuracy', accscore)\n",
    "        \n",
    "        cm=confusion_matrix(pred_df[f'{response_col}'], pred_df[f'{response_col}_pred'])\n",
    "        print('train CM', cm)\n",
    "                \n",
    "        average_precision = average_precision_score(pred_df[f'{response_col}'], pred_df[f'{response_col}_prob'])\n",
    "        print('train prc_auc', average_precision)\n",
    "        \n",
    "        prescore = precision_score(pred_df[f'{response_col}'], pred_df[f'{response_col}_pred'])\n",
    "        print(\"train precision\", prescore)\n",
    "        \n",
    "        recscore =    recall_score(pred_df[f'{response_col}'], pred_df[f'{response_col}_pred'])\n",
    "        print(\"train recall\", recscore)\n",
    "\n",
    "        roc_auc = roc_auc_score(pred_df[f'{response_col}'], pred_df[f'{response_col}_pred'])\n",
    "        print(\"train roc_auc\", roc_auc, '\\n')\n",
    "    # plot curve\n",
    "        fpr, tpr, _ = roc_curve(pred_df[f'{response_col}'], pred_df[f'{response_col}_prob'])\n",
    "        lw = 2\n",
    "        ax[0].plot(fpr, tpr, lw=lw, label='Train ROC curve (area = %0.2f)' % roc_auc, color = pal[3])\n",
    "    # prc \n",
    "        precision, recall, _ = precision_recall_curve(pred_df[f'{response_col}'], pred_df[f'{response_col}_prob'])\n",
    "        line_kwargs = {\"drawstyle\": \"steps-post\"}\n",
    "        line_kwargs[\"label\"] = (f\"AP = \"\n",
    "                                f\"{average_precision:0.2f}\")\n",
    "        ax[1].plot(recall, precision, color=pal[3], **line_kwargs) \n",
    "        \n",
    "# validation set\n",
    "        pred_df=full_df[full_df.subset=='valid']\n",
    "    \n",
    "    # calculate further metrics\n",
    "        accscore = accuracy_score(pred_df[f'{response_col}'], pred_df[f'{response_col}_pred'])\n",
    "        print('valid accuracy', accscore)\n",
    "        \n",
    "        cm=confusion_matrix(pred_df[f'{response_col}'], pred_df[f'{response_col}_pred'])\n",
    "        print('valid CM', cm)\n",
    "        \n",
    "        average_precision = average_precision_score(pred_df[f'{response_col}'], pred_df[f'{response_col}_prob'])\n",
    "        print('valid prc_auc', average_precision)\n",
    "        \n",
    "        prescore = precision_score(pred_df[f'{response_col}'], pred_df[f'{response_col}_pred'])\n",
    "        print(\"valid precision\", prescore)\n",
    "        \n",
    "        recscore =    recall_score(pred_df[f'{response_col}'], pred_df[f'{response_col}_pred'])\n",
    "        print(\"valid recall\", recscore)\n",
    "        \n",
    "        roc_auc = roc_auc_score(pred_df[f'{response_col}'], pred_df[f'{response_col}_pred'])\n",
    "        print(\"valid roc_auc\", roc_auc, '\\n')\n",
    "        \n",
    "    # ROC AUC curve\n",
    "        fpr, tpr, _ = roc_curve(pred_df[f'{response_col}'], pred_df[f'{response_col}_prob'])\n",
    "        lw = 2\n",
    "        line_kwargs = {\"drawstyle\": \"steps-post\"}\n",
    "        ax[0].plot(fpr, tpr, lw=lw, label='Valid ROC curve (area = %0.2f)' % roc_auc, color = pal[4], **line_kwargs)\n",
    "#         ax[0].plot([0, 1], [0, 1], lw=lw, linestyle='--')\n",
    "#         ax[0].set_xlim([0.0, 1.0])\n",
    "#         ax[0].set_ylim([0.0, 1.05])\n",
    "#         ax[0].set_xlabel('False Positive Rate')\n",
    "#         ax[0].set_ylabel('True Positive Rate')\n",
    "#         ax[0].legend(loc=\"lower right\")\n",
    "        \n",
    "    # PR curve\n",
    "        precision, recall, _ = precision_recall_curve(pred_df[f'{response_col}'], pred_df[f'{response_col}_prob'])\n",
    "        line_kwargs = {\"drawstyle\": \"steps-post\"}\n",
    "        line_kwargs[\"label\"] = (f\"AP = \"\n",
    "                                f\"{average_precision:0.2f}\")\n",
    "        ax[1].plot(recall, precision, color=pal[4], **line_kwargs)\n",
    "#         info_pos_label = (f\" (Positive label: {pos_label})\")\n",
    "#         xlabel = \"Recall\" + info_pos_label\n",
    "#         ylabel = \"Precision\" + info_pos_label\n",
    "#         ax[1].set(xlabel=xlabel, ylabel=ylabel)\n",
    "#         ax[1].set_ylim([-0.05, 1.05])\n",
    "#         ax[1].set_ylim([-0.05, 1.05])\n",
    "#         ax[1].legend(loc=\"upper right\")\n",
    "#         ax[1].set_title(f'{dataset} {model_label} validation set\\n{model_uuid}')\n",
    "        \n",
    "    # confusion matrix - valid set (recalculated, not from table)\n",
    "        cm=confusion_matrix(pred_df[f'{response_col}'], pred_df[f'{response_col}_pred'])\n",
    "        print('Valid balanced accuracy\\n', balanced_accuracy_score(cm))\n",
    "        # cm=np.array(top_model['training_metrics'][1]['prediction_results']['confusion_matrix'][0])\n",
    "        im = pfma.plot_confusion_matrix(cm, classes=class_names, normalize=False, cmap=sns.cubehelix_palette(rot=0, start=2.40, as_cmap=True), ax=ax[2])\n",
    "        fig.colorbar(mappable=im, ax=ax[2], shrink=0.7)\n",
    "        ax[2].set_title(\"Valid CM\")\n",
    "        \n",
    "        \n",
    "# test set    \n",
    "        pred_df=full_df[full_df.subset=='test']\n",
    "    \n",
    "    # calculate further metrics\n",
    "        accscore = accuracy_score(pred_df[f'{response_col}'], pred_df[f'{response_col}_pred'])\n",
    "        print('test accuracy', accscore)\n",
    "        \n",
    "        cm=confusion_matrix(pred_df[f'{response_col}'], pred_df[f'{response_col}_pred'])\n",
    "        print('test CM', cm)\n",
    "        \n",
    "        average_precision = average_precision_score(pred_df[f'{response_col}'], pred_df[f'{response_col}_prob'])\n",
    "        print('test prc_auc', average_precision) \n",
    "        \n",
    "        prescore = precision_score(pred_df[f'{response_col}'], pred_df[f'{response_col}_pred'])\n",
    "        print(\"test precision\", prescore)\n",
    "        \n",
    "        recscore =    recall_score(pred_df[f'{response_col}'], pred_df[f'{response_col}_pred'])\n",
    "        print(\"test recall\", recscore)\n",
    "        \n",
    "        roc_auc = roc_auc_score(pred_df[f'{response_col}'], pred_df[f'{response_col}_pred'])\n",
    "        print(\"test roc_auc\", roc_auc, '\\n')\n",
    "        \n",
    "    # ROC AUC curve\n",
    "        fpr, tpr, _ = roc_curve(pred_df[f'{response_col}'], pred_df[f'{response_col}_prob'])\n",
    "        lw = 2\n",
    "        line_kwargs = {\"drawstyle\": \"steps-post\"}\n",
    "        ax[0].plot(fpr, tpr, lw=lw, label='Test ROC curve (area = %0.2f)' % roc_auc, color = pal[5], **line_kwargs)\n",
    "        ax[0].plot([0, 1], [0, 1], lw=lw, linestyle='--')\n",
    "        ax[0].set_xlim([-0.05, 1.05])\n",
    "        ax[0].set_ylim([-0.05, 1.05])\n",
    "        ax[0].set_xlabel('False Positive Rate')\n",
    "        ax[0].set_ylabel('True Positive Rate')\n",
    "        ax[0].legend(loc=\"lower right\")\n",
    "        \n",
    "    # PR curve\n",
    "        precision, recall, _ = precision_recall_curve(pred_df[f'{response_col}'], pred_df[f'{response_col}_prob'])\n",
    "        line_kwargs = {\"drawstyle\": \"steps-post\"}\n",
    "        line_kwargs[\"label\"] = (f\"AP = \"\n",
    "                                f\"{average_precision:0.2f}\")\n",
    "        ax[1].plot(recall, precision, color=pal[5], **line_kwargs)\n",
    "        info_pos_label = (f\" (Positive label: {pos_label})\")\n",
    "        xlabel = \"Recall\" + info_pos_label\n",
    "        ylabel = \"Precision\" + info_pos_label\n",
    "        ax[1].set(xlabel=xlabel, ylabel=ylabel)\n",
    "        ax[1].set_xlim([-0.05, 1.05])\n",
    "        ax[1].set_ylim([-0.05, 1.05])\n",
    "        ax[1].legend(loc=\"lower right\")\n",
    "#         ax[1].set_title(f'{dataset} {model_label} test set\\n{model_uuid}')\n",
    "        \n",
    "    # confusion matrix - test set  (recalculated, not from table)\n",
    "        cm=confusion_matrix(pred_df[f'{response_col}'], pred_df[f'{response_col}_pred'])\n",
    "        print('Test balanced accuracy\\n', balanced_accuracy_score(cm))\n",
    "        # cm=np.array(top_model['training_metrics'][2]['prediction_results']['confusion_matrix'][0])\n",
    "        im=pfma.plot_confusion_matrix(cm, classes=class_names, normalize=False, cmap=sns.cubehelix_palette(rot=0, start=2.40, as_cmap=True), ax=ax[3])\n",
    "        fig.colorbar(mappable=im, ax=ax[3], shrink=0.7)\n",
    "        ax[3].set_title(\"Train CM\")\n",
    "#         plt.tight_layout()\n",
    "        fig.suptitle(f'{dataset} {model_label}')#\\n{model_uuid}')"
   ]
  },
  {
   "cell_type": "code",
   "execution_count": null,
   "metadata": {},
   "outputs": [],
   "source": [
    "# pipe=mp.retrain_model('a7e54dec-a8aa-4d6d-a875-b15d29e464e7')"
   ]
  },
  {
   "cell_type": "code",
   "execution_count": null,
   "metadata": {},
   "outputs": [],
   "source": [
    "# import atomsci.ddm.pipeline.perf_plots as pp"
   ]
  },
  {
   "cell_type": "code",
   "execution_count": null,
   "metadata": {},
   "outputs": [],
   "source": [
    "# pp.plot_ROC_curve(pipe)"
   ]
  },
  {
   "cell_type": "markdown",
   "metadata": {},
   "source": [
    "# examine hyperparams"
   ]
  },
  {
   "cell_type": "code",
   "execution_count": null,
   "metadata": {},
   "outputs": [],
   "source": [
    "scoretype = 'balanced_accuracy'\n",
    "winnertype= f'best_valid_{scoretype}'\n",
    "\n",
    "perf_track_df=allmodels.sort_values(by=winnertype, ascending=False)\n",
    "\n",
    "if (sum(~perf_track_df.dropouts.isna())>0):\n",
    "    perf_track_df[['drop1', 'drop2', 'drop3']] = perf_track_df.dropouts.astype(str).str.strip('[]').str.split(pat=',',n=3, expand=True).astype(float)\n",
    "    perf_track_df['layer_sizes'] = perf_track_df.layer_sizes.astype(str).str.strip('[]')\n",
    "    perf_track_df[['layer1','layer2','layer3']]=perf_track_df.layer_sizes.str.split(pat=',', n=3, expand=True).astype(float)\n",
    "    perf_track_df['num_layers'] = 3-perf_track_df[['layer1','layer2','layer3']].isna().sum(axis=1)\n",
    "    perf_track_df[['layer1','layer2','layer3']]=perf_track_df[['layer1','layer2','layer3']].fillna(value=1).astype(int)\n",
    "    perf_track_df['num_nodes']=perf_track_df.layer1 * perf_track_df.layer2 * perf_track_df.layer3\n",
    "    perf_track_df.loc[perf_track_df.model_type != \"NN\", 'layer_sizes']=np.nan\n",
    "    perf_track_df.loc[perf_track_df.model_type != \"NN\", 'num_layers']=np.nan\n",
    "    perf_track_df.loc[perf_track_df.model_type != \"NN\", 'num_nodes']=np.nan\n",
    "    perf_track_df.loc[perf_track_df.model_type != \"NN\", 'drop1']=np.nan\n",
    "    perf_track_df.loc[perf_track_df.model_type != \"NN\", 'drop2']=np.nan\n",
    "    perf_track_df.loc[perf_track_df.model_type != \"NN\", 'drop3']=np.nan\n",
    "    perf_track_df.loc[perf_track_df.model_type != \"NN\", 'layer1']=np.nan\n",
    "    perf_track_df.loc[perf_track_df.model_type != \"NN\", 'layer2']=np.nan\n",
    "    perf_track_df.loc[perf_track_df.model_type != \"NN\", 'layer3']=np.nan\n",
    "\n",
    "print(perf_track_df.shape)\n",
    "# print(perf_track_df.columns)\n",
    "\n",
    "print('top bal acc score:', perf_track_df[f'{winnertype}'].max().round(4))\n",
    "\n",
    "scoretype = 'roc_auc_score'\n",
    "winnertype= f'best_valid_{scoretype}'\n",
    "print('top roc score:', perf_track_df[f'{winnertype}'].max().round(4))\n",
    "\n",
    "scoretype = 'prc_auc_score'\n",
    "winnertype= f'best_valid_{scoretype}'\n",
    "print('top prc score:', perf_track_df[f'{winnertype}'].max().round(4))"
   ]
  },
  {
   "cell_type": "code",
   "execution_count": null,
   "metadata": {},
   "outputs": [],
   "source": [
    "hyperparams = ['features', 'model_type', 'learning_rate','layer1', 'layer2', 'layer3', 'drop1', 'drop2', 'drop3',  'rf_estimators', 'rf_max_depth', 'rf_max_features','xgb_learning_rate', 'xgb_gamma', 'num_nodes', ]\n",
    "loghps=['learning_rate', 'xgb_learning_rate']\n",
    "len(hyperparams)"
   ]
  },
  {
   "cell_type": "code",
   "execution_count": null,
   "metadata": {},
   "outputs": [],
   "source": [
    "fig, axes = plt.subplots(5,3,figsize=(30,20))\n",
    "for i, ax in enumerate(axes.flat):\n",
    "    plot = perf_track_df[hyperparams[i]]\n",
    "    if isinstance(plot.iloc[0], str):\n",
    "        g=sns.countplot(plot, ax=ax)\n",
    "        if hyperparams[i]=='features':\n",
    "            g.set_xticklabels(g.get_xticklabels(), rotation=20, ha='right')\n",
    "    elif hyperparams[i] in loghps:\n",
    "        sns.distplot(plot, hist_kws={'log':True}, ax=ax)\n",
    "    else:\n",
    "        sns.distplot(plot, ax=ax)\n",
    "plt.tight_layout()"
   ]
  },
  {
   "cell_type": "code",
   "execution_count": null,
   "metadata": {},
   "outputs": [],
   "source": [
    "from scipy.stats import ttest_ind"
   ]
  },
  {
   "cell_type": "code",
   "execution_count": null,
   "metadata": {},
   "outputs": [],
   "source": [
    "selection_metric = 'best_valid_roc_auc_score'\n",
    "perf_track_df['txptr_features']=perf_track_df['features'].str.replace('_txptr', '').str.replace('_scr','')\n",
    "perf_track_df=perf_track_df.sort_values(['model_run','features'])\n",
    "plot_df=perf_track_df[(perf_track_df.txptr_features!='ecfp')&(perf_track_df.txptr_features!='graphconv')&(perf_track_df.model_run!='No bio data')]#&(perf_track_df.txptr_features!='mordred_seltrain')]\n",
    "sns.set_style(\"ticks\")\n",
    "sns.catplot(x=\"txptr_features\", y=selection_metric, \n",
    "            hue='model_run', height = 10, aspect=1, \n",
    "            kind = 'box',  showfliers = False,\n",
    "            #col='model_type',\n",
    "            data=plot_df);\n",
    "\n",
    "plot_df=plot_df.reset_index(drop=True)\n",
    "print(plot_df.shape)\n",
    "scores = plot_df.pivot(columns='features', values=selection_metric)\n",
    "print(scores.shape)\n",
    "print(scores.max())\n",
    "print(\"MOE\",ttest_ind(scores.moe_scr, scores.moe_txptr, nan_policy='omit'))\n",
    "print(\"MRS\",ttest_ind(scores.mordred_filtered_scr, scores.mordred_filtered_txptr, nan_policy='omit'))\n",
    "print(\"MRF\",ttest_ind(scores.mordred_seltrain_scr, scores.mordred_seltrain_txptr, nan_policy='omit'))\n",
    "print(\"RDK\",ttest_ind(scores.rdkit_raw_scr, scores.rdkit_raw_txptr, nan_policy='omit'))"
   ]
  },
  {
   "cell_type": "code",
   "execution_count": null,
   "metadata": {},
   "outputs": [],
   "source": [
    "scores"
   ]
  },
  {
   "cell_type": "code",
   "execution_count": null,
   "metadata": {},
   "outputs": [],
   "source": [
    "scoretype='balanced_accuracy'\n",
    "subset='best_valid'\n",
    "winnertype= f'{subset}_{scoretype}'\n",
    "plot_df=perf_track_df#[perf_track_df.descriptor_type=='mordred_seltrain']\n",
    "plot_df=plot_df[[f\"best_train_{scoretype}\",f\"best_valid_{scoretype}\",f\"best_test_{scoretype}\"]]\n",
    "# turn off sorting if you have a ton of models.. slow\n",
    "plot_df=plot_df.sort_values(f\"best_test_{scoretype}\")\n",
    "\n",
    "fig, ax = plt.subplots(1,2,figsize=(26,8))\n",
    "sns.kdeplot(perf_track_df[f'best_train_{scoretype}'], label=\"train\",ax=ax[0])\n",
    "sns.kdeplot(perf_track_df[f'best_valid_{scoretype}'], label=\"valid\",ax=ax[0])\n",
    "sns.kdeplot(perf_track_df[f'best_test_{scoretype}'], label=\"test\",ax=ax[0])\n",
    "\n",
    "ax[0].legend(loc=\"upper left\")\n",
    "ax[1].plot(plot_df.T);\n",
    "ax[1].set_xticklabels(['train','valid','test'])\n",
    "ax[1].set_ylim(plot_df.min().min()-.1,1)\n",
    "fig.suptitle(f\"{scoretype} for DILIst classification models\");"
   ]
  },
  {
   "cell_type": "code",
   "execution_count": null,
   "metadata": {},
   "outputs": [],
   "source": [
    "# bin each hp for downstream viz\n",
    "pd.set_option('display.float_format', '{:.2g}'.format)\n",
    "# hyperparams.append('best_valid_balanced_accuracy')\n",
    "hpbins =      [10,10,10,10,10,10,10,10,10,10,5,5,10,10]\n",
    "\n",
    "for i, hp in enumerate(hyperparams[2:]):\n",
    "    perf_track_df[['binned_'+hp+'_0', 'binned_'+hp]] = pd.cut(perf_track_df[hp], hpbins[i], precision=2).astype(str).str.strip('(]').str.split(',', expand=True)\n",
    "    perf_track_df=perf_track_df.drop('binned_'+hp+'_0', axis='columns')\n",
    "    perf_track_df['binned_'+hp] = perf_track_df['binned_'+hp].astype(float)"
   ]
  },
  {
   "cell_type": "code",
   "execution_count": null,
   "metadata": {},
   "outputs": [],
   "source": [
    "# perf_track_df.binned_num_nodes=perf_track_df.binned_num_nodes.astype(float)\n",
    "# perf_track_df.binned_num_nodes"
   ]
  },
  {
   "cell_type": "code",
   "execution_count": null,
   "metadata": {},
   "outputs": [],
   "source": [
    "dataset_name='DILIst Classification'\n",
    "if sum(~perf_track_df.rf_estimators.isna())>0:\n",
    "    feat1 = 'binned_rf_estimators'; feat2 = 'binned_rf_max_depth'; feat3 = 'binned_rf_max_features'\n",
    "    hue=feat3\n",
    "    plot_df=perf_track_df[perf_track_df.model_type=='RF']\n",
    "    plot_df = plot_df.sort_values([feat3, feat1, feat2])\n",
    "    plot_df[f'{feat1}/{feat2}'] = ['%s / %s' % (mf,est) for mf,est in zip(plot_df[feat1], plot_df[feat2])]\n",
    "    with sns.axes_style(\"whitegrid\"):\n",
    "        fig = plt.figure(figsize=(80,15))\n",
    "        ax1 = fig.add_subplot(111)\n",
    "        sns.scatterplot(x=f'{feat1}/{feat2}', y='{0}_{1}'.format(subset, scoretype), hue=hue, palette=sns.cubehelix_palette(len(plot_df[hue].unique())), data=plot_df, ax=ax1)\n",
    "        plt.legend(bbox_to_anchor=(1.05, 1), loc=2, borderaxespad=0.)\n",
    "        plt.xticks(rotation=30, ha='right')\n",
    "        plt.title(f'%s RF model performance' % dataset_name);"
   ]
  },
  {
   "cell_type": "code",
   "execution_count": null,
   "metadata": {},
   "outputs": [],
   "source": [
    "if sum(~perf_track_df.dropouts.isna())>0:\n",
    "    feat1 = 'binned_learning_rate'; feat3 = 'binned_drop1'; feat2 = 'binned_layer1'\n",
    "    hue=feat3\n",
    "    plot_df=perf_track_df[perf_track_df.model_type=='NN']\n",
    "    plot_df = plot_df.sort_values([feat3, feat1, feat2])\n",
    "    plot_df[f'{feat1}/{feat2}'] = ['%s / %s' % (mf,est) for mf,est in zip(plot_df[feat1], plot_df[feat2])]\n",
    "    with sns.axes_style(\"whitegrid\"):\n",
    "        fig = plt.figure(figsize=(80,15))\n",
    "        ax1 = fig.add_subplot(111)\n",
    "        sns.scatterplot(x=f'{feat1}/{feat2}', y='{0}_{1}'.format(subset, scoretype), hue=hue, palette=sns.cubehelix_palette(len(plot_df[hue].unique())), data=plot_df, ax=ax1)\n",
    "        plt.legend(bbox_to_anchor=(1.05, 1), loc=2, borderaxespad=0.)\n",
    "        plt.xticks(rotation=30, ha='right')\n",
    "        plt.title(f'%s NN model performance - layer 1' % dataset_name);"
   ]
  },
  {
   "cell_type": "code",
   "execution_count": null,
   "metadata": {},
   "outputs": [],
   "source": [
    "if sum(~perf_track_df.dropouts.isna())>0:\n",
    "    feat1 = 'binned_learning_rate'; feat3 = 'binned_drop2'; feat2 = 'binned_layer2'\n",
    "    hue=feat3\n",
    "    plot_df=perf_track_df[perf_track_df.model_type=='NN']\n",
    "    plot_df = plot_df.sort_values([feat3, feat1, feat2])\n",
    "    plot_df[f'{feat1}/{feat2}'] = ['%s / %s' % (mf,est) for mf,est in zip(plot_df[feat1], plot_df[feat2])]\n",
    "    with sns.axes_style(\"whitegrid\"):\n",
    "        fig = plt.figure(figsize=(80,15))\n",
    "        ax1 = fig.add_subplot(111)\n",
    "        sns.scatterplot(x=f'{feat1}/{feat2}', y='{0}_{1}'.format(subset, scoretype), hue=hue, palette=sns.cubehelix_palette(len(plot_df[hue].unique())), data=plot_df, ax=ax1)\n",
    "        plt.legend(bbox_to_anchor=(1.05, 1), loc=2, borderaxespad=0.)\n",
    "        plt.xticks(rotation=30, ha='right')\n",
    "        plt.title(f'%s NN model performance - layer 2' % dataset_name);"
   ]
  },
  {
   "cell_type": "code",
   "execution_count": null,
   "metadata": {},
   "outputs": [],
   "source": [
    "if sum(~perf_track_df.dropouts.isna())>0:\n",
    "    feat1 = 'binned_learning_rate'; feat3 = 'binned_drop3'; feat2 = 'binned_layer3'\n",
    "    hue=feat3\n",
    "    plot_df=perf_track_df[perf_track_df.model_type=='NN']\n",
    "    plot_df = plot_df.sort_values([feat3, feat1, feat2])\n",
    "    plot_df[f'{feat1}/{feat2}'] = ['%s / %s' % (mf,est) for mf,est in zip(plot_df[feat1], plot_df[feat2])]\n",
    "    with sns.axes_style(\"whitegrid\"):\n",
    "        fig = plt.figure(figsize=(80,15))\n",
    "        ax1 = fig.add_subplot(111)\n",
    "        sns.scatterplot(x=f'{feat1}/{feat2}', y='{0}_{1}'.format(subset, scoretype), hue=hue, palette=sns.cubehelix_palette(len(plot_df[hue].unique())-1), data=plot_df, ax=ax1)\n",
    "        plt.legend(bbox_to_anchor=(1.05, 1), loc=2, borderaxespad=0.)\n",
    "        plt.xticks(rotation=30, ha='right')\n",
    "        plt.title(f'%s NN model performance - layer 3' % dataset_name);"
   ]
  },
  {
   "cell_type": "code",
   "execution_count": null,
   "metadata": {},
   "outputs": [],
   "source": [
    "if sum(~perf_track_df.xgb_gamma.isna())>0:\n",
    "    feat2 = 'binned_xgb_learning_rate'; feat1 = 'xgb_gamma'\n",
    "    hue=feat2\n",
    "    plot_df=perf_track_df[perf_track_df.model_type=='xgboost']\n",
    "    plot_df = plot_df.sort_values([feat1, feat2])\n",
    "    #plot_df[f'{feat1}/{feat2}'] = ['%s / %s' % (mf,est) for mf,est in zip(plot_df[feat1], plot_df[feat2])]\n",
    "    with sns.axes_style(\"whitegrid\"):\n",
    "        fig = plt.figure(figsize=(40,15))\n",
    "        ax1 = fig.add_subplot(111)\n",
    "        sns.scatterplot(x=feat1, y='{0}_{1}'.format(subset, scoretype), \n",
    "                        hue=hue, palette=sns.cubehelix_palette(len(plot_df[hue].unique())), \n",
    "                        data=plot_df, ax=ax1)\n",
    "        plt.legend(bbox_to_anchor=(1.05, 1), loc=2, borderaxespad=0.)\n",
    "        plt.xticks(rotation=30, ha='center')\n",
    "        plt.title(f'%s XGboost model performance' % dataset_name);"
   ]
  },
  {
   "cell_type": "code",
   "execution_count": null,
   "metadata": {},
   "outputs": [],
   "source": [
    "nfeats=3; scoretype='balanced_accuracy'; winnertype='best_valid_balanced_accuracy'\n",
    "feat1='binned_drop1'; feat2='binned_learning_rate'; feat3='binned_num_nodes'; feat4='binned_layer1'\n",
    "feat5='binned_rf_max_depth'; feat6='binned_rf_max_features'; feat7='binned_rf_estimators'; \n",
    "feat8='binned_xgb_gamma'; feat9='binned_xgb_learning_rate'; feat12='best_test_balanced_accuracy'\n",
    "feat10='features'; feat11='model_type'; "
   ]
  },
  {
   "cell_type": "code",
   "execution_count": null,
   "metadata": {},
   "outputs": [],
   "source": [
    "import math\n",
    "bnnlabs = perf_track_df.binned_num_nodes.sort_values(ascending=True).unique().tolist()\n",
    "bnnlabs.pop(-1) #remove nan - comment out if only NN models in df\n",
    "bnnlabs = [round(x, 3 - int(math.floor(math.log10(abs(x)))) - 1) for x in bnnlabs]\n",
    "bnnlabs"
   ]
  },
  {
   "cell_type": "code",
   "execution_count": null,
   "metadata": {},
   "outputs": [],
   "source": [
    "# ax[0,0].ticklabel_format(style='sci', scilimits=(0,0)); \n",
    "sns.set_context('poster')\n",
    "plotdf2=perf_track_df\n",
    "fig, ax = plt.subplots(3,4, figsize=(60,40))\n",
    "if sum(~perf_track_df.dropouts.isna())>0:\n",
    "    sns.boxplot(x=feat1, y=winnertype, palette=sns.cubehelix_palette(len(plotdf2[feat1].unique()), rot=0, start=0.60), data=plotdf2, ax=ax[0,0]); ax[0,0].tick_params(rotation=0); ax[0,0].set_xlabel('NN dropouts layer 1')\n",
    "    sns.boxplot(x=feat2, y=winnertype, palette=sns.cubehelix_palette(len(plotdf2[feat2].unique()), rot=0, start=0.60), data=plotdf2, ax=ax[0,1]); ax[0,1].tick_params(rotation=0); ax[0,1].set_xlabel('NN learning rate')#ax[0,1].legend_.remove(); ax[0,1].title.set_text(f\"Hyperparameters colored by {feat1}\")\n",
    "    sns.boxplot(x=feat3, y=winnertype, palette=sns.cubehelix_palette(len(plotdf2[feat3].unique()), rot=0, start=0.60), data=plotdf2, ax=ax[0,2]); ax[0,2].tick_params(rotation=15);ax[0,2].set_xlabel('NN number of parameters in hidden layers'); ax[0,2].set_xticklabels(bnnlabs); #ax[0,2].legend_.remove()#(bbox_to_anchor=(1,1), title=feat1)#, prop={'size': 12})\n",
    "    sns.boxplot(x=feat4, y=winnertype, palette=sns.cubehelix_palette(len(plotdf2[feat4].unique()), rot=0, start=0.60), data=plotdf2, ax=ax[0,3]); ax[0,3].tick_params(rotation=0); ax[0,3].set_xlabel('NN params layer 1')#ax[1,0].legend_.remove(); ax[1,0].tick_params(rotation=45)\n",
    "if sum(~perf_track_df.rf_estimators.isna())>0:\n",
    "    sns.boxplot(x=feat5, y=winnertype, palette=sns.cubehelix_palette(len(plotdf2[feat5].unique()), rot=0, start=2.00), data=plotdf2, ax=ax[1,0]); ax[1,0].tick_params(rotation=0); ax[1,0].set_xlabel('RF max depth')#ax[1,1].title.set_text(f\"Hyperparameters colored by {feat2}\")\n",
    "    sns.boxplot(x=feat6, y=winnertype, palette=sns.cubehelix_palette(len(plotdf2[feat6].unique()), rot=0, start=2.00), data=plotdf2, ax=ax[1,1]); ax[1,1].tick_params(rotation=0); ax[1,1].set_xlabel('RF max features per node')#ax[1,2].legend_.remove()#(bbox_to_anchor=(1,1), title=feat2)\n",
    "    sns.boxplot(x=feat7, y=winnertype, palette=sns.cubehelix_palette(len(plotdf2[feat7].unique()), rot=0, start=2.00), data=plotdf2, ax=ax[1,2]); ax[1,2].tick_params(rotation=0); ax[1,2].set_xlabel('RF number of trees')#ax[2,0].legend_.remove(); ax[2,0].tick_params(rotation=45)\n",
    "sns.scatterplot(x=feat12,y=winnertype, color=pal,                                                                      data=plotdf2, ax=ax[1,3]); ax[1,3].tick_params(rotation=0); ax[1,3].set_xlabel(f'{feat12}')#ax[2,1].legend_.remove(); ax[2,1].title.set_text(f\"Hyperparameters colored by {feat3}\")\n",
    "if sum(~perf_track_df.xgb_gamma.isna())>0:\n",
    "    sns.boxplot(x=feat8, y=winnertype, palette=sns.cubehelix_palette(len(plotdf2[feat8].unique()), rot=0, start=2.40), data=plotdf2, ax=ax[2,0]); ax[2,0].tick_params(rotation=0); ax[2,0].set_xlabel('XGBoost gamma')#ax[2,2].legend(bbox_to_anchor=(1,1), title=feat3);\n",
    "    sns.boxplot(x=feat9, y=winnertype, palette=sns.cubehelix_palette(len(plotdf2[feat9].unique()), rot=0, start=2.40), data=plotdf2, ax=ax[2,1]); ax[2,1].tick_params(rotation=0); ax[2,1].set_xlabel('XGBoost learning rate')#ax[2,0].legend_.remove(); ax[2,0].tick_params(rotation=45)\n",
    "sns.boxplot(    x=feat10,y=winnertype, palette=sns.cubehelix_palette(len(plotdf2[feat10].unique()),rot=0, start=0.10), data=plotdf2, ax=ax[2,2]); ax[2,2].tick_params(rotation=30);ax[2,2].set_xlabel('Featurization type')#ax[2,1].legend_.remove(); ax[2,1].title.set_text(f\"Hyperparameters colored by {feat3}\")\n",
    "sns.boxplot(    x=feat11,y=winnertype, palette=sns.cubehelix_palette(len(plotdf2[feat11].unique()),rot=0, start=0.10), data=plotdf2, ax=ax[2,3]); ax[2,3].tick_params(rotation=0); ax[2,3].set_xlabel('Model type');#ax[2,2].legend(bbox_to_anchor=(1,1), title=feat3);\n",
    "plt.tight_layout()"
   ]
  },
  {
   "cell_type": "code",
   "execution_count": null,
   "metadata": {},
   "outputs": [],
   "source": []
  }
 ],
 "metadata": {
  "kernelspec": {
   "display_name": "AMPL-1.4.1",
   "language": "python",
   "name": "ampl-1.4.1"
  },
  "language_info": {
   "codemirror_mode": {
    "name": "ipython",
    "version": 3
   },
   "file_extension": ".py",
   "mimetype": "text/x-python",
   "name": "python",
   "nbconvert_exporter": "python",
   "pygments_lexer": "ipython3",
   "version": "3.7.10"
  }
 },
 "nbformat": 4,
 "nbformat_minor": 4
}
