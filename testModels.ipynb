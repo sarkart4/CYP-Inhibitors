{
 "cells": [
  {
   "cell_type": "code",
   "execution_count": 1,
   "metadata": {
    "colab": {
     "base_uri": "https://localhost:8080/"
    },
    "id": "682s_a4BgFtT",
    "outputId": "08457ae0-8dde-4983-fccb-f3232475bded"
   },
   "outputs": [
    {
     "name": "stdout",
     "output_type": "stream",
     "text": [
      "/usr/WS2/atom/titli/MoDaC/Codes\r\n"
     ]
    }
   ],
   "source": [
    "!pwd\n",
    "# Import python modules\n",
    "import pandas as pd\n",
    "import pprint\n",
    "import json\n",
    "import matplotlib.pyplot as plt\n",
    "import seaborn as sns\n",
    "#import deepchem as dc\n",
    "#print(dc.__version__)\n",
    "\n",
    "# We temporarily disable warnings for demonstration.\n",
    "import warnings\n",
    "warnings.filterwarnings(\"ignore\",category=DeprecationWarning)\n",
    "\n",
    "pd.set_option('display.max_rows', 10)\n",
    "pd.set_option('display.max_columns', 500)\n",
    "pd.set_option('display.width', 1000)"
   ]
  },
  {
   "cell_type": "code",
   "execution_count": 2,
   "metadata": {
    "colab": {
     "base_uri": "https://localhost:8080/"
    },
    "id": "urBC9KGXgPml",
    "outputId": "a4b5e036-91f8-42f1-f13a-b52ec7777f9d"
   },
   "outputs": [],
   "source": [
    "# Import AMPL modules\n",
    "import atomsci.ddm.pipeline\n",
    "#from atomsci.ddm.pipeline import predict_from_model as pfm  # only need this"
   ]
  },
  {
   "cell_type": "code",
   "execution_count": null,
   "metadata": {},
   "outputs": [],
   "source": [
    "print(\"Hello World\")"
   ]
  },
  {
   "cell_type": "code",
   "execution_count": null,
   "metadata": {
    "scrolled": true
   },
   "outputs": [],
   "source": [
    "!pwd \n",
    "data_dir = 'NCI_DOE_Archive/ATOM/Safety_Screen_Targets/'\n",
    "%ls $data_dir\n",
    "len_data_dir = len(data_dir.split(\"/\"))-1\n",
    "\n",
    "# output dir\n",
    "ampl140_dir = data_dir + 'output_ampl-1.4.0/'"
   ]
  },
  {
   "cell_type": "code",
   "execution_count": null,
   "metadata": {
    "id": "o58D8AJZ1NQ8"
   },
   "outputs": [],
   "source": [
    "import numpy as np\n",
    "import matplotlib.pyplot as plt\n",
    "import tempfile,tarfile,os,stat\n",
    "from sklearn.metrics import r2_score,accuracy_score, mean_squared_error, roc_auc_score, adjusted_rand_score, f1_score \n",
    "from sklearn.metrics import roc_curve, precision_recall_curve\n",
    "\n",
    "def test_model(model_path, data_path): # only model/data name is passed here. They have to be in the same location\n",
    "  gene = model_path.split(\"_\")[0] # gene name\n",
    "  print(\"Gene = %s\" % gene)\n",
    "\n",
    "  # extract test data\n",
    "  reload_dir = tempfile.mkdtemp()\n",
    "  data_fp = tarfile.open(data_dir + data_path, mode='r:gz') # open the tarfile, extractall and close\n",
    "  data_fp.extractall(path = reload_dir)\n",
    "  data_fp.close()\n",
    "  # view contents of the extracted DATA tar file from temp folder\n",
    "  test_data = [l for l in os.listdir(reload_dir) if 'testset' in l] # [dtc, chembl, excape, union]\n",
    "  print(len(test_data),test_data)dir(reload_dir) if 'trainset' in l] # [dtc, chembl, excape, union]\n",
    "  print(len(test_data),test_data) \n",
    "  train_data = [l for l in os.list \n",
    "\n",
    "  # run prediction on each model for each gene sample with four data sources \n",
    "  def run_prediction(data, dtype):\n",
    "      models_df = pd.DataFrame(columns=['gene', 'data_source', 'dist_metric', 'MSE', 'R2', 'ARI'])\n",
    "      for i in data:\n",
    "        print(\"\\n\", i)\n",
    "        df = pd.read_csv(os.path.join(reload_dir, i))\n",
    "        df.rename(columns = {\"PIC50\": \"pIC50\"}, inplace = True)\n",
    "        df.rename(columns = {\"pXC50\": \"pIC50\"}, inplace = True) # X - I or E\n",
    "        print(df.columns)\n",
    "\n",
    "        dist_metric  = ['cityblock', 'cosine', 'euclidean', 'jaccard', 'manhattan']\n",
    "        for dist in dist_metric:\n",
    "          #pred_df = pfm.predict_from_model_file(data_dir+model_path, df, id_col='compound_id', smiles_col='base_rdkit_smiles',\\\n",
    "                          #response_col='pIC50', conc_col=None, is_featurized=False, dont_standardize=False, AD_method=None, k=5, \\\n",
    "                          #dist_metric=\"euclidean\", external_training_data=None)\n",
    "\n",
    "          pred_df = pfm.predict_from_model_file(ampl140_dir + model_path, df, \\\n",
    "                                                id_col='compound_id', smiles_col='base_rdkit_smiles', response_col='pIC50', \\\n",
    "                                                dist_metric=dist)\n",
    "          print(gene, i, dist, pred_df.columns)\n",
    "\n",
    "          r2 = np.round(r2_score(pred_df['pIC50_actual'], pred_df['pIC50_pred']), 2)\n",
    "          print(\"r2_score = \", r2)\n",
    "          mse =  np.round(mean_squared_error(pred_df['pIC50_actual'], pred_df['pIC50_pred']), 2)\n",
    "          print(\"mean_squared_error (MSE) = \", mse)\n",
    "          ari =  np.round(adjusted_rand_score(pred_df['pIC50_actual'], pred_df['pIC50_pred']), 2)\n",
    "          print(\"adjusted_rand_score (ARI) = \", ari)\n",
    "\n",
    "          models_df.loc[len(models_df.index)] = [gene, i, dist, mse, r2, ari]\n",
    "\n",
    "          # plot\n",
    "          '''plt.figure(figsize=(5,5))\n",
    "          actual_value = pred_df['pIC50_actual']\n",
    "          predicted_value = pred_df['pIC50_pred']\n",
    "          plt.scatter(actual_value, predicted_value, c='crimson')\n",
    "          p1 = max(max(predicted_value), max(actual_value))\n",
    "          p2 = min(min(predicted_value), min(actual_value))\n",
    "          plt.plot([p1, p2], [p1, p2], 'b-')\n",
    "          plt.xlabel('Actual')\n",
    "          plt.ylabel('Predicted')\n",
    "          plt.title(i+'_'+ dist)\n",
    "          plt.show()'''\n",
    "      print(model_path, \"\\n\", data_path, \"\\n\", models_df)\n",
    "      # save comparion results for each gene in a dataframe \n",
    "      models_df.to_csv(ampl140_dir + gene + '_' + dtype + '.csv', encoding = 'utf-8-sig')\n",
    " \n",
    "  run_prediction(test_data, \"test\")\n",
    "  #run_prediction(train_data, \"train\")"
   ]
  },
  {
   "cell_type": "code",
   "execution_count": null,
   "metadata": {
    "colab": {
     "base_uri": "https://localhost:8080/"
    },
    "id": "i4nDFgshhRNK",
    "outputId": "8b6b5d47-7ed1-4ec6-f30c-e803526fbdd2"
   },
   "outputs": [],
   "source": [
    "#genes = ['CHRM1', 'CHRM2', 'CHRM3', 'CYP2C9', 'CYP2D6', 'CYP3A4', 'HRH1', 'KCNH2', 'PIK3CG']\n",
    "genes = ['CYP3A4'] \n",
    "print(len(genes),genes)\n",
    "for gene in genes:\n",
    "  # data filepath\n",
    "  data_path = gene.upper()+'-ampl-1.1.0.tar.gz'\n",
    "    \n",
    "  #model file path (I have renamed the code generated model name as per MoDaC naming convention)\n",
    "  if gene in ['CHRM1','CHRM2', 'CHRM3','HRH1', 'KCNH2']: \n",
    "    model_path = gene.lower() + \"_union_trainset_graphconv_ampl-1.4.0.tar.gz\";\n",
    "  if gene in ['CYP2C9', 'CYP2D6', 'CYP3A4']:\n",
    "    model_path = gene.lower() + \"_union_trainset_mordred_ampl-1.4.0.tar.gz\";\n",
    "  #model_path = 'cyp3a4_union_trainset_base_smiles_model_f69c686c-0d16-4395-9526-8c2d96c60979.tar.gz'\n",
    "  print(model_path, data_path)\n",
    "  test_model(model_path, data_path)\n",
    "\n",
    "print(\"CODE END\")"
   ]
  },
  {
   "cell_type": "code",
   "execution_count": null,
   "metadata": {},
   "outputs": [],
   "source": [
    "#!ls -ltr NCI_DOE_Archive/ATOM/Safety_Screen_Targets/output_ampl-1.4.0/"
   ]
  },
  {
   "cell_type": "code",
   "execution_count": null,
   "metadata": {},
   "outputs": [],
   "source": [
    "import sys \n",
    "print(sys.version)"
   ]
  },
  {
   "cell_type": "code",
   "execution_count": 5,
   "metadata": {},
   "outputs": [
    {
     "name": "stdout",
     "output_type": "stream",
     "text": [
      "chrm1_union_trainset_base_smiles\r\n",
      "chrm1_union_trainset_base_smiles_model_1bc99b84-d648-4c05-a9e0-a207bc5f95d0.tar.gz\r\n",
      "chrm2_union_trainset_base_smiles\r\n",
      "chrm2_union_trainset_base_smiles_model_f5b07cfc-e997-4432-b8c4-efe6167dad65.tar.gz\r\n",
      "chrm3_union_trainset_base_smiles\r\n",
      "chrm3_union_trainset_base_smiles_model_745e4fb3-d3a8-4ed7-acd3-fcaac0dffac9.tar.gz\r\n",
      "cyp2c9_union_trainset_base_smiles\r\n",
      "cyp2c9_union_trainset_base_smiles_model_1effb9ec-f9eb-4e8e-a6ac-523349ce061d.tar.gz\r\n",
      "cyp2d6_union_trainset_base_smiles\r\n",
      "cyp2d6_union_trainset_base_smiles_model_4109d3b2-062e-494a-b69b-d2b2364e3461.tar.gz\r\n",
      "cyp3a4_union_trainset_base_smiles\r\n",
      "cyp3a4_union_trainset_base_smiles_model_edd9e3d3-df64-443f-be50-54e807d78d9f.tar.gz\r\n",
      "hrh1_union_trainset_base_smiles\r\n",
      "hrh1_union_trainset_base_smiles_model_ebba0d8c-0111-443b-9654-bd203f07a42f.tar.gz\r\n",
      "kcnh2_union_trainset_base_smiles\r\n",
      "kcnh2_union_trainset_base_smiles_model_32d3656d-b731-482a-9135-e0a70235f1a0.tar.gz\r\n"
     ]
    }
   ],
   "source": [
    "data_dir = './../NCI_DOE_Archive/ATOM/Safety_Screen_Targets/output_ampl-1.4.0_FRCE/'\n",
    "#/usr/WS2/atom/titli/MoDaC/NCI_DOE_Archive/ATOM/Safety_Screen_Targets/output_ampl-1.4.0_FRCE\n",
    "!ls $data_dir"
   ]
  },
  {
   "cell_type": "code",
   "execution_count": 25,
   "metadata": {},
   "outputs": [
    {
     "name": "stdout",
     "output_type": "stream",
     "text": [
      "CHRM1 graphconv None 1.4.0\n",
      "CHRM2 graphconv None 1.4.0\n",
      "CHRM3 graphconv None 1.4.0\n",
      "CYP2C9 computed_descriptors mordred_filtered 1.4.0\n",
      "CYP2D6 computed_descriptors mordred_filtered 1.4.0\n",
      "CYP3A4 computed_descriptors mordred_filtered 1.4.0\n",
      "HRH1 graphconv None 1.4.0\n",
      "KCNH2 graphconv None 1.4.0\n",
      "PIK3CG computed_descriptors mordred_filtered 1.4.0\n"
     ]
    }
   ],
   "source": [
    "import os, tempfile, tarfile\n",
    "genes = ['CHRM1', 'CHRM2', 'CHRM3', 'CYP2C9', 'CYP2D6', 'CYP3A4', 'HRH1', 'KCNH2', 'PIK3CG']\n",
    "for gene in genes:\n",
    "    model_path = [file for file in os.listdir(data_dir) if file.startswith(gene.lower()+'_union_trainset_base_smiles_model_')][0]\n",
    "    #print(model_path)\n",
    "    # extract test data\n",
    "    model_extracted_dir = data_dir + model_path.replace('.tar.gz','') + '/'\n",
    "    if not os.path.exists(model_extracted_dir):os.makedirs(model_extracted_dir)\n",
    "    with tarfile.open(data_dir + model_path , mode='r:gz') as tar:tar.extractall(path = model_extracted_dir) \n",
    "    with open(model_extracted_dir+'model_metadata.json') as json_file:\n",
    "        data = json.load(json_file)\n",
    "        ampl_version = data['model_parameters']['ampl_version']\n",
    "        featurizer = data['model_parameters']['featurizer']\n",
    "        descriptor='None'\n",
    "        if (featurizer == 'computed_descriptors'):\n",
    "            descriptor = data['descriptor_specific']['descriptor_type']\n",
    "        print(gene,featurizer, descriptor,ampl_version)\n",
    "        "
   ]
  },
  {
   "cell_type": "code",
   "execution_count": null,
   "metadata": {},
   "outputs": [],
   "source": []
  }
 ],
 "metadata": {
  "colab": {
   "collapsed_sections": [],
   "name": "TestModels.ipynb",
   "provenance": []
  },
  "interpreter": {
   "hash": "701e31e3ffddde006d2d167e1261a1469ba91f3cadb0c52c1de5d04407db521a"
  },
  "kernelspec": {
   "display_name": "AMPL-1.4.1",
   "language": "python",
   "name": "ampl-1.4.1"
  },
  "language_info": {
   "codemirror_mode": {
    "name": "ipython",
    "version": 3
   },
   "file_extension": ".py",
   "mimetype": "text/x-python",
   "name": "python",
   "nbconvert_exporter": "python",
   "pygments_lexer": "ipython3",
   "version": "3.7.10"
  }
 },
 "nbformat": 4,
 "nbformat_minor": 1
}
