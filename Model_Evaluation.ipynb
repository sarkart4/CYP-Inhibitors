{
 "cells": [
  {
   "cell_type": "markdown",
   "metadata": {},
   "source": [
    "# Model Evaluation after HPO"
   ]
  },
  {
   "cell_type": "code",
   "execution_count": 46,
   "metadata": {},
   "outputs": [
    {
     "name": "stdout",
     "output_type": "stream",
     "text": [
      "Imports Done.\n"
     ]
    }
   ],
   "source": [
    "import matplotlib.pyplot as plt\n",
    "import seaborn as sns\n",
    "import numpy as np\n",
    "import pandas as pd\n",
    "import os, time\n",
    "import multiprocessing\n",
    "from joblib import Parallel, delayed\n",
    "import tensorflow as tf \n",
    "\n",
    "from atomsci.ddm.pipeline import model_pipeline as mp\n",
    "from atomsci.ddm.pipeline import parameter_parser as parse\n",
    "from atomsci.ddm.pipeline import predict_from_model as pfm \n",
    "from atomsci.ddm.pipeline import compare_models as cm \n",
    "from atomsci.ddm.utils import curate_data as cd\n",
    "from sklearn.metrics import r2_score\n",
    "\n",
    "sns.set_context(\"poster\")\n",
    "sns.set_style(\"whitegrid\")\n",
    "sns.set_palette(\"Set2\")\n",
    "pal = sns.color_palette()\n",
    "\n",
    "pd.set_option('display.max_rows', 15)\n",
    "pd.set_option('display.max_columns', 150)\n",
    "\n",
    "print(\"Imports Done.\")"
   ]
  },
  {
   "cell_type": "code",
   "execution_count": 47,
   "metadata": {},
   "outputs": [],
   "source": [
    "target = 'CYP2D6'"
   ]
  },
  {
   "cell_type": "code",
   "execution_count": 48,
   "metadata": {},
   "outputs": [],
   "source": [
    "data_dir = '/mnt/projects/ATOM/sarkart4/Data/'+ target + '-ampl-1.1.0_old/'\n",
    "outdir = '/mnt/projects/ATOM/sarkart4/Data/HPO_models_'+ target + '_old/'\n",
    "curated_dir = '/mnt/projects/ATOM/sarkart4/Data/'+ target + '-Curated/'\n",
    "#!ls $outdir"
   ]
  },
  {
   "cell_type": "code",
   "execution_count": 49,
   "metadata": {},
   "outputs": [],
   "source": [
    "perf_df = cm.get_summary_perf_tables(collection_names=None, filter_dict={}, result_dir=outdir, prediction_type='regression', verbose=False)\n",
    "#perf_df = perf_df[perf_df.rf_estimators!=500]\n",
    "perf_df = perf_df.sort_values(by=\"valid_r2_score\", ascending=False)\n",
    "perf_df.to_csv(outdir+'perf_df.csv', index=False)"
   ]
  },
  {
   "cell_type": "code",
   "execution_count": 50,
   "metadata": {},
   "outputs": [
    {
     "name": "stdout",
     "output_type": "stream",
     "text": [
      "(745, 43)\n"
     ]
    },
    {
     "data": {
      "text/html": [
       "<div>\n",
       "<style scoped>\n",
       "    .dataframe tbody tr th:only-of-type {\n",
       "        vertical-align: middle;\n",
       "    }\n",
       "\n",
       "    .dataframe tbody tr th {\n",
       "        vertical-align: top;\n",
       "    }\n",
       "\n",
       "    .dataframe thead th {\n",
       "        text-align: right;\n",
       "    }\n",
       "</style>\n",
       "<table border=\"1\" class=\"dataframe\">\n",
       "  <thead>\n",
       "    <tr style=\"text-align: right;\">\n",
       "      <th></th>\n",
       "      <th>collection</th>\n",
       "      <th>ampl_version</th>\n",
       "      <th>model_uuid</th>\n",
       "      <th>time_built</th>\n",
       "      <th>model_type</th>\n",
       "      <th>featurizer</th>\n",
       "      <th>features</th>\n",
       "      <th>transformer</th>\n",
       "      <th>splitter</th>\n",
       "      <th>split_strategy</th>\n",
       "      <th>split_uuid</th>\n",
       "      <th>umap_dim</th>\n",
       "      <th>umap_targ_wt</th>\n",
       "      <th>umap_neighbors</th>\n",
       "      <th>umap_min_dist</th>\n",
       "      <th>dataset_bucket</th>\n",
       "      <th>dataset_key</th>\n",
       "      <th>dataset_size</th>\n",
       "      <th>parameter</th>\n",
       "      <th>max_epochs</th>\n",
       "      <th>best_epoch</th>\n",
       "      <th>learning_rate</th>\n",
       "      <th>layer_sizes</th>\n",
       "      <th>dropouts</th>\n",
       "      <th>rf_estimators</th>\n",
       "      <th>rf_max_features</th>\n",
       "      <th>rf_max_depth</th>\n",
       "      <th>xgb_gamma</th>\n",
       "      <th>xgb_learning_rate</th>\n",
       "      <th>model_parameters_dict</th>\n",
       "      <th>feat_parameters_dict</th>\n",
       "      <th>train_size</th>\n",
       "      <th>train_r2_score</th>\n",
       "      <th>train_mae_score</th>\n",
       "      <th>train_rms_score</th>\n",
       "      <th>valid_size</th>\n",
       "      <th>valid_r2_score</th>\n",
       "      <th>valid_mae_score</th>\n",
       "      <th>valid_rms_score</th>\n",
       "      <th>test_size</th>\n",
       "      <th>test_r2_score</th>\n",
       "      <th>test_mae_score</th>\n",
       "      <th>test_rms_score</th>\n",
       "    </tr>\n",
       "  </thead>\n",
       "  <tbody>\n",
       "    <tr>\n",
       "      <th>132</th>\n",
       "      <td>/mnt/projects/ATOM/sarkart4/Data/HPO_models_CY...</td>\n",
       "      <td>1.4.0</td>\n",
       "      <td>cae5358b-3792-4c86-85af-f199e159c8cf</td>\n",
       "      <td>1.662759e+09</td>\n",
       "      <td>RF</td>\n",
       "      <td>ecfp</td>\n",
       "      <td>ecfp</td>\n",
       "      <td>normalization</td>\n",
       "      <td>scaffold</td>\n",
       "      <td>train_valid_test</td>\n",
       "      <td>c391ef72-9cd5-4bb7-a88e-9c55be5012a9</td>\n",
       "      <td>NaN</td>\n",
       "      <td>NaN</td>\n",
       "      <td>NaN</td>\n",
       "      <td>NaN</td>\n",
       "      <td>public</td>\n",
       "      <td>/mnt/projects/ATOM/sarkart4/Data/CYP2D6-ampl-1...</td>\n",
       "      <td>10445</td>\n",
       "      <td>pIC50</td>\n",
       "      <td>NaN</td>\n",
       "      <td>NaN</td>\n",
       "      <td>NaN</td>\n",
       "      <td>NaN</td>\n",
       "      <td>NaN</td>\n",
       "      <td>256.0</td>\n",
       "      <td>64.0</td>\n",
       "      <td>128.0</td>\n",
       "      <td>NaN</td>\n",
       "      <td>NaN</td>\n",
       "      <td>{\"rf_estimators\": 256, \"rf_max_depth\": 128, \"r...</td>\n",
       "      <td>{\"ecfp_radius\": 2, \"ecfp_size\": 1024}</td>\n",
       "      <td>8876</td>\n",
       "      <td>0.922680</td>\n",
       "      <td>0.137632</td>\n",
       "      <td>0.219756</td>\n",
       "      <td>1566</td>\n",
       "      <td>0.236583</td>\n",
       "      <td>0.451190</td>\n",
       "      <td>0.659740</td>\n",
       "      <td>3</td>\n",
       "      <td>0.270269</td>\n",
       "      <td>1.045955</td>\n",
       "      <td>1.228132</td>\n",
       "    </tr>\n",
       "    <tr>\n",
       "      <th>190</th>\n",
       "      <td>/mnt/projects/ATOM/sarkart4/Data/HPO_models_CY...</td>\n",
       "      <td>1.4.0</td>\n",
       "      <td>3d1c8db6-1585-4804-8c64-49f81970f408</td>\n",
       "      <td>1.662761e+09</td>\n",
       "      <td>RF</td>\n",
       "      <td>ecfp</td>\n",
       "      <td>ecfp</td>\n",
       "      <td>normalization</td>\n",
       "      <td>scaffold</td>\n",
       "      <td>train_valid_test</td>\n",
       "      <td>c391ef72-9cd5-4bb7-a88e-9c55be5012a9</td>\n",
       "      <td>NaN</td>\n",
       "      <td>NaN</td>\n",
       "      <td>NaN</td>\n",
       "      <td>NaN</td>\n",
       "      <td>public</td>\n",
       "      <td>/mnt/projects/ATOM/sarkart4/Data/CYP2D6-ampl-1...</td>\n",
       "      <td>10445</td>\n",
       "      <td>pIC50</td>\n",
       "      <td>NaN</td>\n",
       "      <td>NaN</td>\n",
       "      <td>NaN</td>\n",
       "      <td>NaN</td>\n",
       "      <td>NaN</td>\n",
       "      <td>512.0</td>\n",
       "      <td>64.0</td>\n",
       "      <td>256.0</td>\n",
       "      <td>NaN</td>\n",
       "      <td>NaN</td>\n",
       "      <td>{\"rf_estimators\": 512, \"rf_max_depth\": 256, \"r...</td>\n",
       "      <td>{\"ecfp_radius\": 2, \"ecfp_size\": 1024}</td>\n",
       "      <td>8876</td>\n",
       "      <td>0.923579</td>\n",
       "      <td>0.136383</td>\n",
       "      <td>0.218475</td>\n",
       "      <td>1566</td>\n",
       "      <td>0.232021</td>\n",
       "      <td>0.452646</td>\n",
       "      <td>0.661708</td>\n",
       "      <td>3</td>\n",
       "      <td>0.266967</td>\n",
       "      <td>1.058036</td>\n",
       "      <td>1.230907</td>\n",
       "    </tr>\n",
       "  </tbody>\n",
       "</table>\n",
       "</div>"
      ],
      "text/plain": [
       "                                            collection ampl_version  \\\n",
       "132  /mnt/projects/ATOM/sarkart4/Data/HPO_models_CY...        1.4.0   \n",
       "190  /mnt/projects/ATOM/sarkart4/Data/HPO_models_CY...        1.4.0   \n",
       "\n",
       "                               model_uuid    time_built model_type featurizer  \\\n",
       "132  cae5358b-3792-4c86-85af-f199e159c8cf  1.662759e+09         RF       ecfp   \n",
       "190  3d1c8db6-1585-4804-8c64-49f81970f408  1.662761e+09         RF       ecfp   \n",
       "\n",
       "    features    transformer  splitter    split_strategy  \\\n",
       "132     ecfp  normalization  scaffold  train_valid_test   \n",
       "190     ecfp  normalization  scaffold  train_valid_test   \n",
       "\n",
       "                               split_uuid  umap_dim  umap_targ_wt  \\\n",
       "132  c391ef72-9cd5-4bb7-a88e-9c55be5012a9       NaN           NaN   \n",
       "190  c391ef72-9cd5-4bb7-a88e-9c55be5012a9       NaN           NaN   \n",
       "\n",
       "     umap_neighbors  umap_min_dist dataset_bucket  \\\n",
       "132             NaN            NaN         public   \n",
       "190             NaN            NaN         public   \n",
       "\n",
       "                                           dataset_key  dataset_size  \\\n",
       "132  /mnt/projects/ATOM/sarkart4/Data/CYP2D6-ampl-1...         10445   \n",
       "190  /mnt/projects/ATOM/sarkart4/Data/CYP2D6-ampl-1...         10445   \n",
       "\n",
       "    parameter  max_epochs  best_epoch  learning_rate layer_sizes dropouts  \\\n",
       "132     pIC50         NaN         NaN            NaN         NaN      NaN   \n",
       "190     pIC50         NaN         NaN            NaN         NaN      NaN   \n",
       "\n",
       "     rf_estimators  rf_max_features  rf_max_depth  xgb_gamma  \\\n",
       "132          256.0             64.0         128.0        NaN   \n",
       "190          512.0             64.0         256.0        NaN   \n",
       "\n",
       "     xgb_learning_rate                              model_parameters_dict  \\\n",
       "132                NaN  {\"rf_estimators\": 256, \"rf_max_depth\": 128, \"r...   \n",
       "190                NaN  {\"rf_estimators\": 512, \"rf_max_depth\": 256, \"r...   \n",
       "\n",
       "                      feat_parameters_dict  train_size  train_r2_score  \\\n",
       "132  {\"ecfp_radius\": 2, \"ecfp_size\": 1024}        8876        0.922680   \n",
       "190  {\"ecfp_radius\": 2, \"ecfp_size\": 1024}        8876        0.923579   \n",
       "\n",
       "     train_mae_score  train_rms_score  valid_size  valid_r2_score  \\\n",
       "132         0.137632         0.219756        1566        0.236583   \n",
       "190         0.136383         0.218475        1566        0.232021   \n",
       "\n",
       "     valid_mae_score  valid_rms_score  test_size  test_r2_score  \\\n",
       "132         0.451190         0.659740          3       0.270269   \n",
       "190         0.452646         0.661708          3       0.266967   \n",
       "\n",
       "     test_mae_score  test_rms_score  \n",
       "132        1.045955        1.228132  \n",
       "190        1.058036        1.230907  "
      ]
     },
     "execution_count": 50,
     "metadata": {},
     "output_type": "execute_result"
    }
   ],
   "source": [
    "print(perf_df.shape)\n",
    "perf_df.head(2)"
   ]
  },
  {
   "cell_type": "code",
   "execution_count": 51,
   "metadata": {},
   "outputs": [
    {
     "data": {
      "text/html": [
       "<div>\n",
       "<style scoped>\n",
       "    .dataframe tbody tr th:only-of-type {\n",
       "        vertical-align: middle;\n",
       "    }\n",
       "\n",
       "    .dataframe tbody tr th {\n",
       "        vertical-align: top;\n",
       "    }\n",
       "\n",
       "    .dataframe thead th {\n",
       "        text-align: right;\n",
       "    }\n",
       "</style>\n",
       "<table border=\"1\" class=\"dataframe\">\n",
       "  <thead>\n",
       "    <tr style=\"text-align: right;\">\n",
       "      <th></th>\n",
       "      <th>model_type</th>\n",
       "      <th>featurizer</th>\n",
       "      <th>features</th>\n",
       "      <th>splitter</th>\n",
       "      <th>train_r2_score</th>\n",
       "      <th>valid_r2_score</th>\n",
       "      <th>rf_estimators</th>\n",
       "      <th>rf_max_features</th>\n",
       "      <th>rf_max_depth</th>\n",
       "      <th>layer_sizes</th>\n",
       "      <th>dropouts</th>\n",
       "      <th>best_epoch</th>\n",
       "      <th>learning_rate</th>\n",
       "    </tr>\n",
       "  </thead>\n",
       "  <tbody>\n",
       "    <tr>\n",
       "      <th>132</th>\n",
       "      <td>RF</td>\n",
       "      <td>ecfp</td>\n",
       "      <td>ecfp</td>\n",
       "      <td>scaffold</td>\n",
       "      <td>0.922680</td>\n",
       "      <td>2.365835e-01</td>\n",
       "      <td>256.0</td>\n",
       "      <td>64.0</td>\n",
       "      <td>128.0</td>\n",
       "      <td>NaN</td>\n",
       "      <td>NaN</td>\n",
       "      <td>NaN</td>\n",
       "      <td>NaN</td>\n",
       "    </tr>\n",
       "    <tr>\n",
       "      <th>190</th>\n",
       "      <td>RF</td>\n",
       "      <td>ecfp</td>\n",
       "      <td>ecfp</td>\n",
       "      <td>scaffold</td>\n",
       "      <td>0.923579</td>\n",
       "      <td>2.320205e-01</td>\n",
       "      <td>512.0</td>\n",
       "      <td>64.0</td>\n",
       "      <td>256.0</td>\n",
       "      <td>NaN</td>\n",
       "      <td>NaN</td>\n",
       "      <td>NaN</td>\n",
       "      <td>NaN</td>\n",
       "    </tr>\n",
       "    <tr>\n",
       "      <th>206</th>\n",
       "      <td>RF</td>\n",
       "      <td>ecfp</td>\n",
       "      <td>ecfp</td>\n",
       "      <td>scaffold</td>\n",
       "      <td>0.918995</td>\n",
       "      <td>2.313480e-01</td>\n",
       "      <td>256.0</td>\n",
       "      <td>32.0</td>\n",
       "      <td>64.0</td>\n",
       "      <td>NaN</td>\n",
       "      <td>NaN</td>\n",
       "      <td>NaN</td>\n",
       "      <td>NaN</td>\n",
       "    </tr>\n",
       "    <tr>\n",
       "      <th>41</th>\n",
       "      <td>RF</td>\n",
       "      <td>ecfp</td>\n",
       "      <td>ecfp</td>\n",
       "      <td>scaffold</td>\n",
       "      <td>0.920773</td>\n",
       "      <td>2.304568e-01</td>\n",
       "      <td>512.0</td>\n",
       "      <td>64.0</td>\n",
       "      <td>64.0</td>\n",
       "      <td>NaN</td>\n",
       "      <td>NaN</td>\n",
       "      <td>NaN</td>\n",
       "      <td>NaN</td>\n",
       "    </tr>\n",
       "    <tr>\n",
       "      <th>46</th>\n",
       "      <td>RF</td>\n",
       "      <td>ecfp</td>\n",
       "      <td>ecfp</td>\n",
       "      <td>scaffold</td>\n",
       "      <td>0.923611</td>\n",
       "      <td>2.304268e-01</td>\n",
       "      <td>512.0</td>\n",
       "      <td>128.0</td>\n",
       "      <td>128.0</td>\n",
       "      <td>NaN</td>\n",
       "      <td>NaN</td>\n",
       "      <td>NaN</td>\n",
       "      <td>NaN</td>\n",
       "    </tr>\n",
       "    <tr>\n",
       "      <th>...</th>\n",
       "      <td>...</td>\n",
       "      <td>...</td>\n",
       "      <td>...</td>\n",
       "      <td>...</td>\n",
       "      <td>...</td>\n",
       "      <td>...</td>\n",
       "      <td>...</td>\n",
       "      <td>...</td>\n",
       "      <td>...</td>\n",
       "      <td>...</td>\n",
       "      <td>...</td>\n",
       "      <td>...</td>\n",
       "      <td>...</td>\n",
       "    </tr>\n",
       "    <tr>\n",
       "      <th>674</th>\n",
       "      <td>NN</td>\n",
       "      <td>graphconv</td>\n",
       "      <td>graphconv</td>\n",
       "      <td>scaffold</td>\n",
       "      <td>0.121776</td>\n",
       "      <td>3.812478e-02</td>\n",
       "      <td>NaN</td>\n",
       "      <td>NaN</td>\n",
       "      <td>NaN</td>\n",
       "      <td>512,256,128</td>\n",
       "      <td>0.50,0.50,0.50</td>\n",
       "      <td>8.0</td>\n",
       "      <td>0.0007</td>\n",
       "    </tr>\n",
       "    <tr>\n",
       "      <th>743</th>\n",
       "      <td>NN</td>\n",
       "      <td>computed_descriptors</td>\n",
       "      <td>mordred_filtered</td>\n",
       "      <td>scaffold</td>\n",
       "      <td>0.008857</td>\n",
       "      <td>5.860912e-03</td>\n",
       "      <td>NaN</td>\n",
       "      <td>NaN</td>\n",
       "      <td>NaN</td>\n",
       "      <td>512,256,128,64</td>\n",
       "      <td>0.50,0.50,0.50,0.50</td>\n",
       "      <td>0.0</td>\n",
       "      <td>0.0050</td>\n",
       "    </tr>\n",
       "    <tr>\n",
       "      <th>14</th>\n",
       "      <td>NN</td>\n",
       "      <td>ecfp</td>\n",
       "      <td>ecfp</td>\n",
       "      <td>scaffold</td>\n",
       "      <td>-0.000075</td>\n",
       "      <td>-5.357997e-07</td>\n",
       "      <td>NaN</td>\n",
       "      <td>NaN</td>\n",
       "      <td>NaN</td>\n",
       "      <td>512,256,32</td>\n",
       "      <td>0.50,0.50,0.50</td>\n",
       "      <td>16.0</td>\n",
       "      <td>0.0050</td>\n",
       "    </tr>\n",
       "    <tr>\n",
       "      <th>735</th>\n",
       "      <td>NN</td>\n",
       "      <td>computed_descriptors</td>\n",
       "      <td>mordred_filtered</td>\n",
       "      <td>scaffold</td>\n",
       "      <td>-0.001761</td>\n",
       "      <td>-1.660120e-04</td>\n",
       "      <td>NaN</td>\n",
       "      <td>NaN</td>\n",
       "      <td>NaN</td>\n",
       "      <td>512,256,32</td>\n",
       "      <td>0.50,0.50,0.50</td>\n",
       "      <td>0.0</td>\n",
       "      <td>0.0050</td>\n",
       "    </tr>\n",
       "    <tr>\n",
       "      <th>696</th>\n",
       "      <td>NN</td>\n",
       "      <td>computed_descriptors</td>\n",
       "      <td>rdkit_raw</td>\n",
       "      <td>scaffold</td>\n",
       "      <td>-0.000744</td>\n",
       "      <td>-1.503896e-03</td>\n",
       "      <td>NaN</td>\n",
       "      <td>NaN</td>\n",
       "      <td>NaN</td>\n",
       "      <td>512,256,32</td>\n",
       "      <td>0.50,0.50,0.50</td>\n",
       "      <td>27.0</td>\n",
       "      <td>0.0050</td>\n",
       "    </tr>\n",
       "  </tbody>\n",
       "</table>\n",
       "<p>745 rows × 13 columns</p>\n",
       "</div>"
      ],
      "text/plain": [
       "    model_type            featurizer          features  splitter  \\\n",
       "132         RF                  ecfp              ecfp  scaffold   \n",
       "190         RF                  ecfp              ecfp  scaffold   \n",
       "206         RF                  ecfp              ecfp  scaffold   \n",
       "41          RF                  ecfp              ecfp  scaffold   \n",
       "46          RF                  ecfp              ecfp  scaffold   \n",
       "..         ...                   ...               ...       ...   \n",
       "674         NN             graphconv         graphconv  scaffold   \n",
       "743         NN  computed_descriptors  mordred_filtered  scaffold   \n",
       "14          NN                  ecfp              ecfp  scaffold   \n",
       "735         NN  computed_descriptors  mordred_filtered  scaffold   \n",
       "696         NN  computed_descriptors         rdkit_raw  scaffold   \n",
       "\n",
       "     train_r2_score  valid_r2_score  rf_estimators  rf_max_features  \\\n",
       "132        0.922680    2.365835e-01          256.0             64.0   \n",
       "190        0.923579    2.320205e-01          512.0             64.0   \n",
       "206        0.918995    2.313480e-01          256.0             32.0   \n",
       "41         0.920773    2.304568e-01          512.0             64.0   \n",
       "46         0.923611    2.304268e-01          512.0            128.0   \n",
       "..              ...             ...            ...              ...   \n",
       "674        0.121776    3.812478e-02            NaN              NaN   \n",
       "743        0.008857    5.860912e-03            NaN              NaN   \n",
       "14        -0.000075   -5.357997e-07            NaN              NaN   \n",
       "735       -0.001761   -1.660120e-04            NaN              NaN   \n",
       "696       -0.000744   -1.503896e-03            NaN              NaN   \n",
       "\n",
       "     rf_max_depth     layer_sizes             dropouts  best_epoch  \\\n",
       "132         128.0             NaN                  NaN         NaN   \n",
       "190         256.0             NaN                  NaN         NaN   \n",
       "206          64.0             NaN                  NaN         NaN   \n",
       "41           64.0             NaN                  NaN         NaN   \n",
       "46          128.0             NaN                  NaN         NaN   \n",
       "..            ...             ...                  ...         ...   \n",
       "674           NaN     512,256,128       0.50,0.50,0.50         8.0   \n",
       "743           NaN  512,256,128,64  0.50,0.50,0.50,0.50         0.0   \n",
       "14            NaN      512,256,32       0.50,0.50,0.50        16.0   \n",
       "735           NaN      512,256,32       0.50,0.50,0.50         0.0   \n",
       "696           NaN      512,256,32       0.50,0.50,0.50        27.0   \n",
       "\n",
       "     learning_rate  \n",
       "132            NaN  \n",
       "190            NaN  \n",
       "206            NaN  \n",
       "41             NaN  \n",
       "46             NaN  \n",
       "..             ...  \n",
       "674         0.0007  \n",
       "743         0.0050  \n",
       "14          0.0050  \n",
       "735         0.0050  \n",
       "696         0.0050  \n",
       "\n",
       "[745 rows x 13 columns]"
      ]
     },
     "execution_count": 51,
     "metadata": {},
     "output_type": "execute_result"
    }
   ],
   "source": [
    "perf_df_slice=perf_df[['model_type','featurizer','features','splitter','train_r2_score','valid_r2_score','rf_estimators','rf_max_features','rf_max_depth','layer_sizes','dropouts','best_epoch','learning_rate']]\n",
    "perf_df_slice.to_csv(outdir+'perf_df_slice.csv',index=False)\n",
    "perf_df_slice"
   ]
  },
  {
   "cell_type": "code",
   "execution_count": 52,
   "metadata": {},
   "outputs": [
    {
     "data": {
      "text/plain": [
       "(745, 43)"
      ]
     },
     "execution_count": 52,
     "metadata": {},
     "output_type": "execute_result"
    }
   ],
   "source": [
    "perf_df.shape"
   ]
  },
  {
   "cell_type": "code",
   "execution_count": 53,
   "metadata": {},
   "outputs": [
    {
     "data": {
      "text/html": [
       "<div>\n",
       "<style scoped>\n",
       "    .dataframe tbody tr th:only-of-type {\n",
       "        vertical-align: middle;\n",
       "    }\n",
       "\n",
       "    .dataframe tbody tr th {\n",
       "        vertical-align: top;\n",
       "    }\n",
       "\n",
       "    .dataframe thead tr th {\n",
       "        text-align: left;\n",
       "    }\n",
       "</style>\n",
       "<table border=\"1\" class=\"dataframe\">\n",
       "  <thead>\n",
       "    <tr>\n",
       "      <th>model_type</th>\n",
       "      <th colspan=\"4\" halign=\"left\">NN</th>\n",
       "      <th colspan=\"3\" halign=\"left\">RF</th>\n",
       "    </tr>\n",
       "    <tr>\n",
       "      <th>features</th>\n",
       "      <th>ecfp</th>\n",
       "      <th>graphconv</th>\n",
       "      <th>mordred_filtered</th>\n",
       "      <th>rdkit_raw</th>\n",
       "      <th>ecfp</th>\n",
       "      <th>mordred_filtered</th>\n",
       "      <th>rdkit_raw</th>\n",
       "    </tr>\n",
       "  </thead>\n",
       "  <tbody>\n",
       "    <tr>\n",
       "      <th>model_uuid</th>\n",
       "      <td>38</td>\n",
       "      <td>16</td>\n",
       "      <td>28</td>\n",
       "      <td>32</td>\n",
       "      <td>211</td>\n",
       "      <td>210</td>\n",
       "      <td>210</td>\n",
       "    </tr>\n",
       "  </tbody>\n",
       "</table>\n",
       "</div>"
      ],
      "text/plain": [
       "model_type   NN                                        RF                   \\\n",
       "features   ecfp graphconv mordred_filtered rdkit_raw ecfp mordred_filtered   \n",
       "model_uuid   38        16               28        32  211              210   \n",
       "\n",
       "model_type            \n",
       "features   rdkit_raw  \n",
       "model_uuid       210  "
      ]
     },
     "execution_count": 53,
     "metadata": {},
     "output_type": "execute_result"
    }
   ],
   "source": [
    "perf_df.groupby(by=['model_type', 'features']).count()[['model_uuid']].T"
   ]
  },
  {
   "cell_type": "code",
   "execution_count": 54,
   "metadata": {},
   "outputs": [
    {
     "name": "stdout",
     "output_type": "stream",
     "text": [
      "(631, 43)\n",
      "132    0.236583\n",
      "Name: valid_r2_score, dtype: float64\n"
     ]
    },
    {
     "data": {
      "text/html": [
       "<div>\n",
       "<style scoped>\n",
       "    .dataframe tbody tr th:only-of-type {\n",
       "        vertical-align: middle;\n",
       "    }\n",
       "\n",
       "    .dataframe tbody tr th {\n",
       "        vertical-align: top;\n",
       "    }\n",
       "\n",
       "    .dataframe thead th {\n",
       "        text-align: right;\n",
       "    }\n",
       "</style>\n",
       "<table border=\"1\" class=\"dataframe\">\n",
       "  <thead>\n",
       "    <tr style=\"text-align: right;\">\n",
       "      <th></th>\n",
       "      <th>model_type</th>\n",
       "      <th>featurizer</th>\n",
       "      <th>features</th>\n",
       "      <th>splitter</th>\n",
       "      <th>train_r2_score</th>\n",
       "      <th>valid_r2_score</th>\n",
       "      <th>rf_estimators</th>\n",
       "      <th>rf_max_features</th>\n",
       "      <th>rf_max_depth</th>\n",
       "    </tr>\n",
       "  </thead>\n",
       "  <tbody>\n",
       "    <tr>\n",
       "      <th>132</th>\n",
       "      <td>RF</td>\n",
       "      <td>ecfp</td>\n",
       "      <td>ecfp</td>\n",
       "      <td>scaffold</td>\n",
       "      <td>0.922680</td>\n",
       "      <td>0.236583</td>\n",
       "      <td>256.0</td>\n",
       "      <td>64.0</td>\n",
       "      <td>128.0</td>\n",
       "    </tr>\n",
       "    <tr>\n",
       "      <th>190</th>\n",
       "      <td>RF</td>\n",
       "      <td>ecfp</td>\n",
       "      <td>ecfp</td>\n",
       "      <td>scaffold</td>\n",
       "      <td>0.923579</td>\n",
       "      <td>0.232021</td>\n",
       "      <td>512.0</td>\n",
       "      <td>64.0</td>\n",
       "      <td>256.0</td>\n",
       "    </tr>\n",
       "    <tr>\n",
       "      <th>206</th>\n",
       "      <td>RF</td>\n",
       "      <td>ecfp</td>\n",
       "      <td>ecfp</td>\n",
       "      <td>scaffold</td>\n",
       "      <td>0.918995</td>\n",
       "      <td>0.231348</td>\n",
       "      <td>256.0</td>\n",
       "      <td>32.0</td>\n",
       "      <td>64.0</td>\n",
       "    </tr>\n",
       "    <tr>\n",
       "      <th>41</th>\n",
       "      <td>RF</td>\n",
       "      <td>ecfp</td>\n",
       "      <td>ecfp</td>\n",
       "      <td>scaffold</td>\n",
       "      <td>0.920773</td>\n",
       "      <td>0.230457</td>\n",
       "      <td>512.0</td>\n",
       "      <td>64.0</td>\n",
       "      <td>64.0</td>\n",
       "    </tr>\n",
       "    <tr>\n",
       "      <th>46</th>\n",
       "      <td>RF</td>\n",
       "      <td>ecfp</td>\n",
       "      <td>ecfp</td>\n",
       "      <td>scaffold</td>\n",
       "      <td>0.923611</td>\n",
       "      <td>0.230427</td>\n",
       "      <td>512.0</td>\n",
       "      <td>128.0</td>\n",
       "      <td>128.0</td>\n",
       "    </tr>\n",
       "    <tr>\n",
       "      <th>...</th>\n",
       "      <td>...</td>\n",
       "      <td>...</td>\n",
       "      <td>...</td>\n",
       "      <td>...</td>\n",
       "      <td>...</td>\n",
       "      <td>...</td>\n",
       "      <td>...</td>\n",
       "      <td>...</td>\n",
       "      <td>...</td>\n",
       "    </tr>\n",
       "    <tr>\n",
       "      <th>331</th>\n",
       "      <td>RF</td>\n",
       "      <td>computed_descriptors</td>\n",
       "      <td>rdkit_raw</td>\n",
       "      <td>scaffold</td>\n",
       "      <td>0.898822</td>\n",
       "      <td>0.131703</td>\n",
       "      <td>16.0</td>\n",
       "      <td>16.0</td>\n",
       "      <td>32.0</td>\n",
       "    </tr>\n",
       "    <tr>\n",
       "      <th>473</th>\n",
       "      <td>RF</td>\n",
       "      <td>computed_descriptors</td>\n",
       "      <td>mordred_filtered</td>\n",
       "      <td>scaffold</td>\n",
       "      <td>0.893024</td>\n",
       "      <td>0.130207</td>\n",
       "      <td>16.0</td>\n",
       "      <td>32.0</td>\n",
       "      <td>64.0</td>\n",
       "    </tr>\n",
       "    <tr>\n",
       "      <th>454</th>\n",
       "      <td>RF</td>\n",
       "      <td>computed_descriptors</td>\n",
       "      <td>mordred_filtered</td>\n",
       "      <td>scaffold</td>\n",
       "      <td>0.893190</td>\n",
       "      <td>0.126769</td>\n",
       "      <td>16.0</td>\n",
       "      <td>32.0</td>\n",
       "      <td>128.0</td>\n",
       "    </tr>\n",
       "    <tr>\n",
       "      <th>146</th>\n",
       "      <td>RF</td>\n",
       "      <td>ecfp</td>\n",
       "      <td>ecfp</td>\n",
       "      <td>scaffold</td>\n",
       "      <td>0.474645</td>\n",
       "      <td>0.126370</td>\n",
       "      <td>16.0</td>\n",
       "      <td>16.0</td>\n",
       "      <td>16.0</td>\n",
       "    </tr>\n",
       "    <tr>\n",
       "      <th>499</th>\n",
       "      <td>RF</td>\n",
       "      <td>computed_descriptors</td>\n",
       "      <td>mordred_filtered</td>\n",
       "      <td>scaffold</td>\n",
       "      <td>0.888929</td>\n",
       "      <td>0.125143</td>\n",
       "      <td>16.0</td>\n",
       "      <td>24.0</td>\n",
       "      <td>24.0</td>\n",
       "    </tr>\n",
       "  </tbody>\n",
       "</table>\n",
       "<p>631 rows × 9 columns</p>\n",
       "</div>"
      ],
      "text/plain": [
       "    model_type            featurizer          features  splitter  \\\n",
       "132         RF                  ecfp              ecfp  scaffold   \n",
       "190         RF                  ecfp              ecfp  scaffold   \n",
       "206         RF                  ecfp              ecfp  scaffold   \n",
       "41          RF                  ecfp              ecfp  scaffold   \n",
       "46          RF                  ecfp              ecfp  scaffold   \n",
       "..         ...                   ...               ...       ...   \n",
       "331         RF  computed_descriptors         rdkit_raw  scaffold   \n",
       "473         RF  computed_descriptors  mordred_filtered  scaffold   \n",
       "454         RF  computed_descriptors  mordred_filtered  scaffold   \n",
       "146         RF                  ecfp              ecfp  scaffold   \n",
       "499         RF  computed_descriptors  mordred_filtered  scaffold   \n",
       "\n",
       "     train_r2_score  valid_r2_score  rf_estimators  rf_max_features  \\\n",
       "132        0.922680        0.236583          256.0             64.0   \n",
       "190        0.923579        0.232021          512.0             64.0   \n",
       "206        0.918995        0.231348          256.0             32.0   \n",
       "41         0.920773        0.230457          512.0             64.0   \n",
       "46         0.923611        0.230427          512.0            128.0   \n",
       "..              ...             ...            ...              ...   \n",
       "331        0.898822        0.131703           16.0             16.0   \n",
       "473        0.893024        0.130207           16.0             32.0   \n",
       "454        0.893190        0.126769           16.0             32.0   \n",
       "146        0.474645        0.126370           16.0             16.0   \n",
       "499        0.888929        0.125143           16.0             24.0   \n",
       "\n",
       "     rf_max_depth  \n",
       "132         128.0  \n",
       "190         256.0  \n",
       "206          64.0  \n",
       "41           64.0  \n",
       "46          128.0  \n",
       "..            ...  \n",
       "331          32.0  \n",
       "473          64.0  \n",
       "454         128.0  \n",
       "146          16.0  \n",
       "499          24.0  \n",
       "\n",
       "[631 rows x 9 columns]"
      ]
     },
     "execution_count": 54,
     "metadata": {},
     "output_type": "execute_result"
    }
   ],
   "source": [
    "rfmods = perf_df[perf_df.model_type==\"RF\"]\n",
    "print(rfmods.shape)\n",
    "print(rfmods.head(1)['valid_r2_score'])\n",
    "rfmods[['model_type','featurizer','features','splitter','train_r2_score','valid_r2_score','rf_estimators','rf_max_features','rf_max_depth']]\n",
    "#rfmods.head(10)"
   ]
  },
  {
   "cell_type": "code",
   "execution_count": 55,
   "metadata": {},
   "outputs": [
    {
     "name": "stdout",
     "output_type": "stream",
     "text": [
      "(114, 43)\n",
      "15    0.21124\n",
      "Name: valid_r2_score, dtype: float64\n"
     ]
    },
    {
     "data": {
      "text/html": [
       "<div>\n",
       "<style scoped>\n",
       "    .dataframe tbody tr th:only-of-type {\n",
       "        vertical-align: middle;\n",
       "    }\n",
       "\n",
       "    .dataframe tbody tr th {\n",
       "        vertical-align: top;\n",
       "    }\n",
       "\n",
       "    .dataframe thead th {\n",
       "        text-align: right;\n",
       "    }\n",
       "</style>\n",
       "<table border=\"1\" class=\"dataframe\">\n",
       "  <thead>\n",
       "    <tr style=\"text-align: right;\">\n",
       "      <th></th>\n",
       "      <th>model_type</th>\n",
       "      <th>featurizer</th>\n",
       "      <th>features</th>\n",
       "      <th>splitter</th>\n",
       "      <th>train_r2_score</th>\n",
       "      <th>valid_r2_score</th>\n",
       "      <th>layer_sizes</th>\n",
       "      <th>dropouts</th>\n",
       "      <th>best_epoch</th>\n",
       "      <th>learning_rate</th>\n",
       "    </tr>\n",
       "  </thead>\n",
       "  <tbody>\n",
       "    <tr>\n",
       "      <th>15</th>\n",
       "      <td>NN</td>\n",
       "      <td>ecfp</td>\n",
       "      <td>ecfp</td>\n",
       "      <td>scaffold</td>\n",
       "      <td>0.664887</td>\n",
       "      <td>0.211240</td>\n",
       "      <td>256,64</td>\n",
       "      <td>0.30,0.30</td>\n",
       "      <td>4.0</td>\n",
       "      <td>0.0050</td>\n",
       "    </tr>\n",
       "    <tr>\n",
       "      <th>0</th>\n",
       "      <td>NN</td>\n",
       "      <td>ecfp</td>\n",
       "      <td>ecfp</td>\n",
       "      <td>scaffold</td>\n",
       "      <td>0.671560</td>\n",
       "      <td>0.211221</td>\n",
       "      <td>512,128</td>\n",
       "      <td>0.50,0.50</td>\n",
       "      <td>13.0</td>\n",
       "      <td>0.0050</td>\n",
       "    </tr>\n",
       "    <tr>\n",
       "      <th>5</th>\n",
       "      <td>NN</td>\n",
       "      <td>ecfp</td>\n",
       "      <td>ecfp</td>\n",
       "      <td>scaffold</td>\n",
       "      <td>0.728206</td>\n",
       "      <td>0.204688</td>\n",
       "      <td>128,32</td>\n",
       "      <td>0.50,0.50</td>\n",
       "      <td>20.0</td>\n",
       "      <td>0.0050</td>\n",
       "    </tr>\n",
       "    <tr>\n",
       "      <th>29</th>\n",
       "      <td>NN</td>\n",
       "      <td>ecfp</td>\n",
       "      <td>ecfp</td>\n",
       "      <td>scaffold</td>\n",
       "      <td>0.775481</td>\n",
       "      <td>0.201950</td>\n",
       "      <td>128,32</td>\n",
       "      <td>0.30,0.30</td>\n",
       "      <td>10.0</td>\n",
       "      <td>0.0050</td>\n",
       "    </tr>\n",
       "    <tr>\n",
       "      <th>37</th>\n",
       "      <td>NN</td>\n",
       "      <td>ecfp</td>\n",
       "      <td>ecfp</td>\n",
       "      <td>scaffold</td>\n",
       "      <td>0.796605</td>\n",
       "      <td>0.201182</td>\n",
       "      <td>256,64,16</td>\n",
       "      <td>0.30,0.30,0.30</td>\n",
       "      <td>29.0</td>\n",
       "      <td>0.0050</td>\n",
       "    </tr>\n",
       "    <tr>\n",
       "      <th>...</th>\n",
       "      <td>...</td>\n",
       "      <td>...</td>\n",
       "      <td>...</td>\n",
       "      <td>...</td>\n",
       "      <td>...</td>\n",
       "      <td>...</td>\n",
       "      <td>...</td>\n",
       "      <td>...</td>\n",
       "      <td>...</td>\n",
       "      <td>...</td>\n",
       "    </tr>\n",
       "    <tr>\n",
       "      <th>680</th>\n",
       "      <td>NN</td>\n",
       "      <td>graphconv</td>\n",
       "      <td>graphconv</td>\n",
       "      <td>scaffold</td>\n",
       "      <td>0.197382</td>\n",
       "      <td>0.087698</td>\n",
       "      <td>256,64,16</td>\n",
       "      <td>0.50,0.50,0.50</td>\n",
       "      <td>25.0</td>\n",
       "      <td>0.0007</td>\n",
       "    </tr>\n",
       "    <tr>\n",
       "      <th>681</th>\n",
       "      <td>NN</td>\n",
       "      <td>graphconv</td>\n",
       "      <td>graphconv</td>\n",
       "      <td>scaffold</td>\n",
       "      <td>0.163813</td>\n",
       "      <td>0.085194</td>\n",
       "      <td>512,256,128</td>\n",
       "      <td>0.50,0.50,0.50</td>\n",
       "      <td>11.0</td>\n",
       "      <td>0.0050</td>\n",
       "    </tr>\n",
       "    <tr>\n",
       "      <th>719</th>\n",
       "      <td>NN</td>\n",
       "      <td>computed_descriptors</td>\n",
       "      <td>rdkit_raw</td>\n",
       "      <td>scaffold</td>\n",
       "      <td>0.146599</td>\n",
       "      <td>0.081895</td>\n",
       "      <td>512,128,128</td>\n",
       "      <td>0.50,0.50,0.50</td>\n",
       "      <td>18.0</td>\n",
       "      <td>0.0050</td>\n",
       "    </tr>\n",
       "    <tr>\n",
       "      <th>689</th>\n",
       "      <td>NN</td>\n",
       "      <td>computed_descriptors</td>\n",
       "      <td>mordred_filtered</td>\n",
       "      <td>scaffold</td>\n",
       "      <td>0.128226</td>\n",
       "      <td>0.075205</td>\n",
       "      <td>256,64,16</td>\n",
       "      <td>0.50,0.50,0.50</td>\n",
       "      <td>1.0</td>\n",
       "      <td>0.0050</td>\n",
       "    </tr>\n",
       "    <tr>\n",
       "      <th>678</th>\n",
       "      <td>NN</td>\n",
       "      <td>graphconv</td>\n",
       "      <td>graphconv</td>\n",
       "      <td>scaffold</td>\n",
       "      <td>0.216117</td>\n",
       "      <td>0.072602</td>\n",
       "      <td>128,32</td>\n",
       "      <td>0.50,0.50</td>\n",
       "      <td>26.0</td>\n",
       "      <td>0.0007</td>\n",
       "    </tr>\n",
       "  </tbody>\n",
       "</table>\n",
       "<p>100 rows × 10 columns</p>\n",
       "</div>"
      ],
      "text/plain": [
       "    model_type            featurizer          features  splitter  \\\n",
       "15          NN                  ecfp              ecfp  scaffold   \n",
       "0           NN                  ecfp              ecfp  scaffold   \n",
       "5           NN                  ecfp              ecfp  scaffold   \n",
       "29          NN                  ecfp              ecfp  scaffold   \n",
       "37          NN                  ecfp              ecfp  scaffold   \n",
       "..         ...                   ...               ...       ...   \n",
       "680         NN             graphconv         graphconv  scaffold   \n",
       "681         NN             graphconv         graphconv  scaffold   \n",
       "719         NN  computed_descriptors         rdkit_raw  scaffold   \n",
       "689         NN  computed_descriptors  mordred_filtered  scaffold   \n",
       "678         NN             graphconv         graphconv  scaffold   \n",
       "\n",
       "     train_r2_score  valid_r2_score  layer_sizes        dropouts  best_epoch  \\\n",
       "15         0.664887        0.211240       256,64       0.30,0.30         4.0   \n",
       "0          0.671560        0.211221      512,128       0.50,0.50        13.0   \n",
       "5          0.728206        0.204688       128,32       0.50,0.50        20.0   \n",
       "29         0.775481        0.201950       128,32       0.30,0.30        10.0   \n",
       "37         0.796605        0.201182    256,64,16  0.30,0.30,0.30        29.0   \n",
       "..              ...             ...          ...             ...         ...   \n",
       "680        0.197382        0.087698    256,64,16  0.50,0.50,0.50        25.0   \n",
       "681        0.163813        0.085194  512,256,128  0.50,0.50,0.50        11.0   \n",
       "719        0.146599        0.081895  512,128,128  0.50,0.50,0.50        18.0   \n",
       "689        0.128226        0.075205    256,64,16  0.50,0.50,0.50         1.0   \n",
       "678        0.216117        0.072602       128,32       0.50,0.50        26.0   \n",
       "\n",
       "     learning_rate  \n",
       "15          0.0050  \n",
       "0           0.0050  \n",
       "5           0.0050  \n",
       "29          0.0050  \n",
       "37          0.0050  \n",
       "..             ...  \n",
       "680         0.0007  \n",
       "681         0.0050  \n",
       "719         0.0050  \n",
       "689         0.0050  \n",
       "678         0.0007  \n",
       "\n",
       "[100 rows x 10 columns]"
      ]
     },
     "execution_count": 55,
     "metadata": {},
     "output_type": "execute_result"
    }
   ],
   "source": [
    "nnmods = perf_df[perf_df.model_type==\"NN\"]\n",
    "print(nnmods.shape)\n",
    "print(nnmods.head(1)['valid_r2_score'])\n",
    "nnmods[['model_type','featurizer','features','splitter','train_r2_score','valid_r2_score','layer_sizes','dropouts','best_epoch','learning_rate']].head(100)\n",
    "\n",
    "#nnmods.head(5)"
   ]
  },
  {
   "cell_type": "code",
   "execution_count": 56,
   "metadata": {},
   "outputs": [
    {
     "name": "stdout",
     "output_type": "stream",
     "text": [
      "(0, 43)\n",
      "Series([], Name: valid_r2_score, dtype: float64)\n"
     ]
    },
    {
     "data": {
      "text/html": [
       "<div>\n",
       "<style scoped>\n",
       "    .dataframe tbody tr th:only-of-type {\n",
       "        vertical-align: middle;\n",
       "    }\n",
       "\n",
       "    .dataframe tbody tr th {\n",
       "        vertical-align: top;\n",
       "    }\n",
       "\n",
       "    .dataframe thead th {\n",
       "        text-align: right;\n",
       "    }\n",
       "</style>\n",
       "<table border=\"1\" class=\"dataframe\">\n",
       "  <thead>\n",
       "    <tr style=\"text-align: right;\">\n",
       "      <th></th>\n",
       "      <th>collection</th>\n",
       "      <th>ampl_version</th>\n",
       "      <th>model_uuid</th>\n",
       "      <th>time_built</th>\n",
       "      <th>model_type</th>\n",
       "      <th>featurizer</th>\n",
       "      <th>features</th>\n",
       "      <th>transformer</th>\n",
       "      <th>splitter</th>\n",
       "      <th>split_strategy</th>\n",
       "      <th>split_uuid</th>\n",
       "      <th>umap_dim</th>\n",
       "      <th>umap_targ_wt</th>\n",
       "      <th>umap_neighbors</th>\n",
       "      <th>umap_min_dist</th>\n",
       "      <th>dataset_bucket</th>\n",
       "      <th>dataset_key</th>\n",
       "      <th>dataset_size</th>\n",
       "      <th>parameter</th>\n",
       "      <th>max_epochs</th>\n",
       "      <th>best_epoch</th>\n",
       "      <th>learning_rate</th>\n",
       "      <th>layer_sizes</th>\n",
       "      <th>dropouts</th>\n",
       "      <th>rf_estimators</th>\n",
       "      <th>rf_max_features</th>\n",
       "      <th>rf_max_depth</th>\n",
       "      <th>xgb_gamma</th>\n",
       "      <th>xgb_learning_rate</th>\n",
       "      <th>model_parameters_dict</th>\n",
       "      <th>feat_parameters_dict</th>\n",
       "      <th>train_size</th>\n",
       "      <th>train_r2_score</th>\n",
       "      <th>train_mae_score</th>\n",
       "      <th>train_rms_score</th>\n",
       "      <th>valid_size</th>\n",
       "      <th>valid_r2_score</th>\n",
       "      <th>valid_mae_score</th>\n",
       "      <th>valid_rms_score</th>\n",
       "      <th>test_size</th>\n",
       "      <th>test_r2_score</th>\n",
       "      <th>test_mae_score</th>\n",
       "      <th>test_rms_score</th>\n",
       "    </tr>\n",
       "  </thead>\n",
       "  <tbody>\n",
       "  </tbody>\n",
       "</table>\n",
       "</div>"
      ],
      "text/plain": [
       "Empty DataFrame\n",
       "Columns: [collection, ampl_version, model_uuid, time_built, model_type, featurizer, features, transformer, splitter, split_strategy, split_uuid, umap_dim, umap_targ_wt, umap_neighbors, umap_min_dist, dataset_bucket, dataset_key, dataset_size, parameter, max_epochs, best_epoch, learning_rate, layer_sizes, dropouts, rf_estimators, rf_max_features, rf_max_depth, xgb_gamma, xgb_learning_rate, model_parameters_dict, feat_parameters_dict, train_size, train_r2_score, train_mae_score, train_rms_score, valid_size, valid_r2_score, valid_mae_score, valid_rms_score, test_size, test_r2_score, test_mae_score, test_rms_score]\n",
       "Index: []"
      ]
     },
     "execution_count": 56,
     "metadata": {},
     "output_type": "execute_result"
    }
   ],
   "source": [
    "xgboostmods = perf_df[perf_df.model_type==\"xgboost\"]\n",
    "print(xgboostmods.shape)\n",
    "print(xgboostmods.head(1)['valid_r2_score'])\n",
    "xgboostmods.head(2)"
   ]
  },
  {
   "cell_type": "code",
   "execution_count": 57,
   "metadata": {},
   "outputs": [
    {
     "data": {
      "text/html": [
       "<div>\n",
       "<style scoped>\n",
       "    .dataframe tbody tr th:only-of-type {\n",
       "        vertical-align: middle;\n",
       "    }\n",
       "\n",
       "    .dataframe tbody tr th {\n",
       "        vertical-align: top;\n",
       "    }\n",
       "\n",
       "    .dataframe thead th {\n",
       "        text-align: right;\n",
       "    }\n",
       "</style>\n",
       "<table border=\"1\" class=\"dataframe\">\n",
       "  <thead>\n",
       "    <tr style=\"text-align: right;\">\n",
       "      <th></th>\n",
       "      <th></th>\n",
       "      <th></th>\n",
       "      <th>model_uuid</th>\n",
       "    </tr>\n",
       "    <tr>\n",
       "      <th>features</th>\n",
       "      <th>layer_sizes</th>\n",
       "      <th>dropouts</th>\n",
       "      <th></th>\n",
       "    </tr>\n",
       "  </thead>\n",
       "  <tbody>\n",
       "    <tr>\n",
       "      <th rowspan=\"5\" valign=\"top\">ecfp</th>\n",
       "      <th rowspan=\"3\" valign=\"top\">128,32</th>\n",
       "      <th>0.00,0.00</th>\n",
       "      <td>2</td>\n",
       "    </tr>\n",
       "    <tr>\n",
       "      <th>0.30,0.30</th>\n",
       "      <td>2</td>\n",
       "    </tr>\n",
       "    <tr>\n",
       "      <th>0.50,0.50</th>\n",
       "      <td>2</td>\n",
       "    </tr>\n",
       "    <tr>\n",
       "      <th rowspan=\"2\" valign=\"top\">256,64</th>\n",
       "      <th>0.00,0.00</th>\n",
       "      <td>2</td>\n",
       "    </tr>\n",
       "    <tr>\n",
       "      <th>0.30,0.30</th>\n",
       "      <td>2</td>\n",
       "    </tr>\n",
       "    <tr>\n",
       "      <th>...</th>\n",
       "      <th>...</th>\n",
       "      <th>...</th>\n",
       "      <td>...</td>\n",
       "    </tr>\n",
       "    <tr>\n",
       "      <th rowspan=\"5\" valign=\"top\">rdkit_raw</th>\n",
       "      <th rowspan=\"2\" valign=\"top\">512,256,128</th>\n",
       "      <th>0.00,0.00,0.00</th>\n",
       "      <td>2</td>\n",
       "    </tr>\n",
       "    <tr>\n",
       "      <th>0.50,0.50,0.50</th>\n",
       "      <td>2</td>\n",
       "    </tr>\n",
       "    <tr>\n",
       "      <th>512,256,128,64</th>\n",
       "      <th>0.50,0.50,0.50,0.50</th>\n",
       "      <td>4</td>\n",
       "    </tr>\n",
       "    <tr>\n",
       "      <th rowspan=\"2\" valign=\"top\">512,256,32</th>\n",
       "      <th>0.00,0.00,0.00</th>\n",
       "      <td>2</td>\n",
       "    </tr>\n",
       "    <tr>\n",
       "      <th>0.50,0.50,0.50</th>\n",
       "      <td>2</td>\n",
       "    </tr>\n",
       "  </tbody>\n",
       "</table>\n",
       "<p>55 rows × 1 columns</p>\n",
       "</div>"
      ],
      "text/plain": [
       "                                              model_uuid\n",
       "features  layer_sizes    dropouts                       \n",
       "ecfp      128,32         0.00,0.00                     2\n",
       "                         0.30,0.30                     2\n",
       "                         0.50,0.50                     2\n",
       "          256,64         0.00,0.00                     2\n",
       "                         0.30,0.30                     2\n",
       "...                                                  ...\n",
       "rdkit_raw 512,256,128    0.00,0.00,0.00                2\n",
       "                         0.50,0.50,0.50                2\n",
       "          512,256,128,64 0.50,0.50,0.50,0.50           4\n",
       "          512,256,32     0.00,0.00,0.00                2\n",
       "                         0.50,0.50,0.50                2\n",
       "\n",
       "[55 rows x 1 columns]"
      ]
     },
     "execution_count": 57,
     "metadata": {},
     "output_type": "execute_result"
    }
   ],
   "source": [
    "# should be 10 each, 20 groups per feature, if you got all the models created\n",
    "nnmods.groupby(by=['features','layer_sizes','dropouts']).count()[['model_uuid']]"
   ]
  },
  {
   "cell_type": "code",
   "execution_count": 58,
   "metadata": {},
   "outputs": [
    {
     "data": {
      "image/png": "[encoded data removed]",
      "text/plain": [
       "<Figure size 1080x504 with 7 Axes>"
      ]
     },
     "metadata": {},
     "output_type": "display_data"
    }
   ],
   "source": [
    "#visual of HPO results\n",
    "plt.rc('font', size=10)          # controls default text size\n",
    "plt.rc('xtick', labelsize=10)    # fontsize of the tick labels\n",
    "plt.rc('ytick', labelsize=10)    # fontsize of the tick labels\n",
    "plt.rc('axes', labelsize=10)    # fontsize of the x and y labels\n",
    "\n",
    "fig, ax = plt.subplots(2,4,figsize=(15,7))\n",
    "fig.suptitle(target+ \" - HPO RF/NN\")\n",
    "sns.boxplot(data=perf_df, x=\"rf_estimators\", y=\"valid_r2_score\", ax=ax[0][0])\n",
    "sns.boxplot(data=perf_df, x=\"rf_max_depth\", y=\"valid_r2_score\", ax=ax[0][1])\n",
    "sns.boxplot(data=perf_df, x=\"rf_max_features\", y=\"valid_r2_score\", ax=ax[0][2])\n",
    "sns.boxplot(data=perf_df, x=\"featurizer\", y=\"valid_r2_score\", ax=ax[0][3])\n",
    "\n",
    "sns.boxplot(data=perf_df, x=\"learning_rate\", y=\"valid_r2_score\", ax=ax[1][0])\n",
    "sns.boxplot(data=perf_df, x=\"layer_sizes\", y=\"valid_r2_score\", ax=ax[1][1])\n",
    "sns.boxplot(data=perf_df, x=\"dropouts\", y=\"valid_r2_score\", ax=ax[1][2])\n",
    "ax[0][0].tick_params(labelrotation=90)\n",
    "ax[0][1].tick_params(labelrotation=90)\n",
    "ax[0][2].tick_params(labelrotation=90)\n",
    "ax[0][3].tick_params(labelrotation=90)\n",
    "ax[1][0].tick_params(labelrotation=90)\n",
    "ax[1][1].tick_params(labelrotation=90)\n",
    "ax[1][2].tick_params(labelrotation=90)\n",
    "fig.tight_layout()\n",
    "fig.delaxes(ax= ax[1,3]) # delete last empty plot (as we have plotted 7 params (2 row, 4 col), not 8)"
   ]
  },
  {
   "cell_type": "code",
   "execution_count": 59,
   "metadata": {},
   "outputs": [],
   "source": [
    "# #visual of RF HPO results\n",
    "# fig, ax = plt.subplots(1,4,figsize=(21,7))\n",
    "# sns.boxplot(data=perf_df, x=\"rf_estimators\", y=\"valid_r2_score\", ax=ax[0])\n",
    "# sns.boxplot(data=perf_df, x=\"rf_max_depth\", y=\"valid_r2_score\", ax=ax[1])\n",
    "# sns.boxplot(data=perf_df, x=\"rf_max_features\", y=\"valid_r2_score\", ax=ax[2])\n",
    "# sns.boxplot(data=perf_df, x=\"featurizer\", y=\"valid_r2_score\", ax=ax[3])\n",
    "# fig.tight_layout()"
   ]
  },
  {
   "cell_type": "code",
   "execution_count": 60,
   "metadata": {},
   "outputs": [],
   "source": [
    "#  #visual of NN HPO results\n",
    "# fig, ax =plt.subplots(1,4,figsize=(21,7))\n",
    "# sns.boxplot(data=perf_df, x=\"learning_rate\", y=\"valid_r2_score\", ax=ax[0])\n",
    "# sns.boxplot(data=perf_df, x=\"layer_sizes\", y=\"valid_r2_score\", ax=ax[1])\n",
    "# sns.boxplot(data=perf_df, x=\"dropouts\", y=\"valid_r2_score\", ax=ax[2])\n",
    "# sns.boxplot(data=perf_df, x=\"featurizer\", y=\"valid_r2_score\", ax=ax[3])\n",
    "# fig.tight_layout()"
   ]
  },
  {
   "cell_type": "markdown",
   "metadata": {},
   "source": [
    "# Predict from model using best model"
   ]
  },
  {
   "cell_type": "markdown",
   "metadata": {},
   "source": [
    "### 1. Select the best model (from trained models, based on top valid_r2_score)"
   ]
  },
  {
   "cell_type": "code",
   "execution_count": 61,
   "metadata": {},
   "outputs": [
    {
     "data": {
      "text/plain": [
       "'cae5358b-3792-4c86-85af-f199e159c8cf'"
      ]
     },
     "execution_count": 61,
     "metadata": {},
     "output_type": "execute_result"
    }
   ],
   "source": [
    "model_uuid = perf_df.head(1)['model_uuid'].tolist()[0] # best model, note: perf_df is sorted in desccending order\n",
    "model_uuid"
   ]
  },
  {
   "cell_type": "code",
   "execution_count": 62,
   "metadata": {},
   "outputs": [],
   "source": [
    "from atomsci.ddm.pipeline import predict_from_model as pfm\n",
    "import time\n",
    "from sklearn.metrics import r2_score"
   ]
  },
  {
   "cell_type": "code",
   "execution_count": 63,
   "metadata": {},
   "outputs": [
    {
     "name": "stdout",
     "output_type": "stream",
     "text": [
      "model tarball found\n"
     ]
    },
    {
     "data": {
      "text/plain": [
       "'/mnt/projects/ATOM/sarkart4/Data/HPO_models_CYP2D6_old/cyp2d6_union_trainset_base_smiles_model_cae5358b-3792-4c86-85af-f199e159c8cf.tar.gz'"
      ]
     },
     "execution_count": 63,
     "metadata": {},
     "output_type": "execute_result"
    }
   ],
   "source": [
    "# get best model\n",
    "tarball = outdir+ target.lower()+'_union_trainset_base_smiles_model_'+model_uuid+'.tar.gz' \n",
    "if os.path.exists(tarball):print(\"model tarball found\");\n",
    "response_col = 'pIC50'\n",
    "tarball"
   ]
  },
  {
   "cell_type": "markdown",
   "metadata": {},
   "source": [
    "### 2. Predict on union_test"
   ]
  },
  {
   "cell_type": "code",
   "execution_count": 64,
   "metadata": {},
   "outputs": [
    {
     "name": "stdout",
     "output_type": "stream",
     "text": [
      "union_test data found\n"
     ]
    },
    {
     "data": {
      "text/html": [
       "<div>\n",
       "<style scoped>\n",
       "    .dataframe tbody tr th:only-of-type {\n",
       "        vertical-align: middle;\n",
       "    }\n",
       "\n",
       "    .dataframe tbody tr th {\n",
       "        vertical-align: top;\n",
       "    }\n",
       "\n",
       "    .dataframe thead th {\n",
       "        text-align: right;\n",
       "    }\n",
       "</style>\n",
       "<table border=\"1\" class=\"dataframe\">\n",
       "  <thead>\n",
       "    <tr style=\"text-align: right;\">\n",
       "      <th></th>\n",
       "      <th>base_rdkit_smiles</th>\n",
       "      <th>compound_id</th>\n",
       "      <th>pIC50</th>\n",
       "      <th>relation</th>\n",
       "      <th>active</th>\n",
       "    </tr>\n",
       "  </thead>\n",
       "  <tbody>\n",
       "    <tr>\n",
       "      <th>0</th>\n",
       "      <td>S=C(Nc1ccc2cn[nH]c2c1)Nc1ccc2cn[nH]c2c1</td>\n",
       "      <td>OTJWJLLGPAFTIP-KNLWZTMUNA-N</td>\n",
       "      <td>5.7</td>\n",
       "      <td>NaN</td>\n",
       "      <td>1</td>\n",
       "    </tr>\n",
       "    <tr>\n",
       "      <th>1</th>\n",
       "      <td>Cc1[nH]c2ccccc2c1C(c1ccccn1)N1CCC(C)CC1</td>\n",
       "      <td>NBKDMBGWUXYCJB-UHFFFAOYNA-N</td>\n",
       "      <td>4.6</td>\n",
       "      <td>&lt;</td>\n",
       "      <td>0</td>\n",
       "    </tr>\n",
       "  </tbody>\n",
       "</table>\n",
       "</div>"
      ],
      "text/plain": [
       "                         base_rdkit_smiles                  compound_id  \\\n",
       "0  S=C(Nc1ccc2cn[nH]c2c1)Nc1ccc2cn[nH]c2c1  OTJWJLLGPAFTIP-KNLWZTMUNA-N   \n",
       "1  Cc1[nH]c2ccccc2c1C(c1ccccn1)N1CCC(C)CC1  NBKDMBGWUXYCJB-UHFFFAOYNA-N   \n",
       "\n",
       "   pIC50 relation  active  \n",
       "0    5.7      NaN       1  \n",
       "1    4.6        <       0  "
      ]
     },
     "execution_count": 64,
     "metadata": {},
     "output_type": "execute_result"
    }
   ],
   "source": [
    "union_test_file = data_dir+ target.lower()+\"_union_testset_base_smiles.csv\"\n",
    "union_test = pd.read_csv(union_test_file) \n",
    "if os.path.exists(union_test_file):print(\"union_test data found\");\n",
    "union_test.head(2)"
   ]
  },
  {
   "cell_type": "code",
   "execution_count": 65,
   "metadata": {},
   "outputs": [
    {
     "name": "stderr",
     "output_type": "stream",
     "text": [
      "INFO:atomsci.ddm.utils.model_version_utils:/mnt/projects/ATOM/sarkart4/Data/HPO_models_CYP2D6_old/cyp2d6_union_trainset_base_smiles_model_cae5358b-3792-4c86-85af-f199e159c8cf.tar.gz, 1.4.0\n",
      "INFO:atomsci.ddm.utils.model_version_utils:Version compatible check: /mnt/projects/ATOM/sarkart4/Data/HPO_models_CYP2D6_old/cyp2d6_union_trainset_base_smiles_model_cae5358b-3792-4c86-85af-f199e159c8cf.tar.gz version = \"1.4.0\", AMPL version = \"1.4.0\"\n"
     ]
    },
    {
     "name": "stdout",
     "output_type": "stream",
     "text": [
      "num_model_tasks is deprecated and its value is ignored.\n",
      "Featurization = DynamicFeaturization with ecfp features\n",
      "number of features: 1024\n",
      "Featurizing training data for AD calculation.\n",
      "number of features: 1024\n",
      "Calculating AD index.\n",
      "number of features: 1024\n",
      "42.39063382148743\n"
     ]
    },
    {
     "data": {
      "text/plain": [
       "0.431"
      ]
     },
     "execution_count": 65,
     "metadata": {},
     "output_type": "execute_result"
    }
   ],
   "source": [
    "start=time.time()\n",
    "union_test_pred_df = pfm.predict_from_model_file(tarball, # model used for prediction, input format=tar.gz\n",
    "                                            union_test, # unseen data, format=csv\n",
    "                                            id_col='compound_id',\n",
    "                                            smiles_col='base_rdkit_smiles',\n",
    "                                            response_col='pIC50',\n",
    "                                            conc_col=None,\n",
    "                                            is_featurized=False,\n",
    "                                            dont_standardize=True,\n",
    "                                            AD_method='z_score',\n",
    "                                            k=5,\n",
    "                                            dist_metric='euclidean',\n",
    "                                            external_training_data=None)\n",
    "union_test_pred_df.to_csv(outdir+target+'union_test_pred_df_using_best_model.csv')\n",
    "print(time.time()-start)\n",
    "union_test_r2=round(r2_score(y_true=union_test_pred_df[f'{response_col}_actual'], y_pred=union_test_pred_df[f'{response_col}_pred']), 3)\n",
    "union_test_r2"
   ]
  },
  {
   "cell_type": "code",
   "execution_count": 66,
   "metadata": {},
   "outputs": [
    {
     "data": {
      "text/html": [
       "<div>\n",
       "<style scoped>\n",
       "    .dataframe tbody tr th:only-of-type {\n",
       "        vertical-align: middle;\n",
       "    }\n",
       "\n",
       "    .dataframe tbody tr th {\n",
       "        vertical-align: top;\n",
       "    }\n",
       "\n",
       "    .dataframe thead th {\n",
       "        text-align: right;\n",
       "    }\n",
       "</style>\n",
       "<table border=\"1\" class=\"dataframe\">\n",
       "  <thead>\n",
       "    <tr style=\"text-align: right;\">\n",
       "      <th></th>\n",
       "      <th>base_rdkit_smiles</th>\n",
       "      <th>compound_id</th>\n",
       "      <th>pIC50</th>\n",
       "      <th>relation</th>\n",
       "      <th>active</th>\n",
       "      <th>pIC50_actual</th>\n",
       "      <th>pIC50_pred</th>\n",
       "      <th>pIC50_std</th>\n",
       "      <th>AD_index</th>\n",
       "    </tr>\n",
       "  </thead>\n",
       "  <tbody>\n",
       "    <tr>\n",
       "      <th>0</th>\n",
       "      <td>S=C(Nc1ccc2cn[nH]c2c1)Nc1ccc2cn[nH]c2c1</td>\n",
       "      <td>OTJWJLLGPAFTIP-KNLWZTMUNA-N</td>\n",
       "      <td>5.7</td>\n",
       "      <td>NaN</td>\n",
       "      <td>1</td>\n",
       "      <td>5.7</td>\n",
       "      <td>5.143797</td>\n",
       "      <td>0.654045</td>\n",
       "      <td>1.429730</td>\n",
       "    </tr>\n",
       "    <tr>\n",
       "      <th>1</th>\n",
       "      <td>Cc1[nH]c2ccccc2c1C(c1ccccn1)N1CCC(C)CC1</td>\n",
       "      <td>NBKDMBGWUXYCJB-UHFFFAOYNA-N</td>\n",
       "      <td>4.6</td>\n",
       "      <td>&lt;</td>\n",
       "      <td>0</td>\n",
       "      <td>4.6</td>\n",
       "      <td>5.243888</td>\n",
       "      <td>0.833574</td>\n",
       "      <td>2.197562</td>\n",
       "    </tr>\n",
       "  </tbody>\n",
       "</table>\n",
       "</div>"
      ],
      "text/plain": [
       "                         base_rdkit_smiles                  compound_id  \\\n",
       "0  S=C(Nc1ccc2cn[nH]c2c1)Nc1ccc2cn[nH]c2c1  OTJWJLLGPAFTIP-KNLWZTMUNA-N   \n",
       "1  Cc1[nH]c2ccccc2c1C(c1ccccn1)N1CCC(C)CC1  NBKDMBGWUXYCJB-UHFFFAOYNA-N   \n",
       "\n",
       "   pIC50 relation  active  pIC50_actual  pIC50_pred  pIC50_std  AD_index  \n",
       "0    5.7      NaN       1           5.7    5.143797   0.654045  1.429730  \n",
       "1    4.6        <       0           4.6    5.243888   0.833574  2.197562  "
      ]
     },
     "execution_count": 66,
     "metadata": {},
     "output_type": "execute_result"
    }
   ],
   "source": [
    "union_test_pred_df.head(2)"
   ]
  },
  {
   "cell_type": "markdown",
   "metadata": {},
   "source": [
    "### 3.a. Predict on raw dtc"
   ]
  },
  {
   "cell_type": "code",
   "execution_count": 67,
   "metadata": {},
   "outputs": [
    {
     "name": "stdout",
     "output_type": "stream",
     "text": [
      "/mnt/projects/ATOM/sarkart4/Data/CYP2D6-Curated/CYP2D6_dtc_smiles_curated.csv\n"
     ]
    },
    {
     "data": {
      "text/html": [
       "<div>\n",
       "<style scoped>\n",
       "    .dataframe tbody tr th:only-of-type {\n",
       "        vertical-align: middle;\n",
       "    }\n",
       "\n",
       "    .dataframe tbody tr th {\n",
       "        vertical-align: top;\n",
       "    }\n",
       "\n",
       "    .dataframe thead th {\n",
       "        text-align: right;\n",
       "    }\n",
       "</style>\n",
       "<table border=\"1\" class=\"dataframe\">\n",
       "  <thead>\n",
       "    <tr style=\"text-align: right;\">\n",
       "      <th></th>\n",
       "      <th>compound_id</th>\n",
       "      <th>base_rdkit_smiles</th>\n",
       "      <th>relation</th>\n",
       "      <th>PIC50</th>\n",
       "      <th>active</th>\n",
       "    </tr>\n",
       "  </thead>\n",
       "  <tbody>\n",
       "    <tr>\n",
       "      <th>0</th>\n",
       "      <td>SWWRPROUTDGFFV-UHFFFAOYSA-N</td>\n",
       "      <td>CCS(=O)(=O)CCc1c(Cn2c(=O)n(C3CC3)c3ccncc32)nc2...</td>\n",
       "      <td>&gt;</td>\n",
       "      <td>4.30103</td>\n",
       "      <td>0</td>\n",
       "    </tr>\n",
       "    <tr>\n",
       "      <th>1</th>\n",
       "      <td>FBZXCTCJIZJFCP-UHFFFAOYSA-N</td>\n",
       "      <td>COc1ccc2[nH]cc(CC(C)(C)NCC(O)COc3ccccc3C#N)c2c1</td>\n",
       "      <td>NaN</td>\n",
       "      <td>7.30103</td>\n",
       "      <td>1</td>\n",
       "    </tr>\n",
       "  </tbody>\n",
       "</table>\n",
       "</div>"
      ],
      "text/plain": [
       "                   compound_id  \\\n",
       "0  SWWRPROUTDGFFV-UHFFFAOYSA-N   \n",
       "1  FBZXCTCJIZJFCP-UHFFFAOYSA-N   \n",
       "\n",
       "                                   base_rdkit_smiles relation    PIC50  active  \n",
       "0  CCS(=O)(=O)CCc1c(Cn2c(=O)n(C3CC3)c3ccncc32)nc2...        >  4.30103       0  \n",
       "1    COc1ccc2[nH]cc(CC(C)(C)NCC(O)COc3ccccc3C#N)c2c1      NaN  7.30103       1  "
      ]
     },
     "execution_count": 67,
     "metadata": {},
     "output_type": "execute_result"
    }
   ],
   "source": [
    "start=time.time()\n",
    "# dtc_raw from MoDaC - I have curated the data and used curated file saved at ./../Data/CYP3A4-Curated/CYP3A4_dtc_smiles_curated.csv\n",
    "#dtc_raw_file=data_dir+target.lower()+'_dtc_smiles.csv'\n",
    "dtc_raw_file=curated_dir+target+'_dtc_smiles_curated.csv'\n",
    "if os.path.exists(dtc_raw_file):print(dtc_raw_file);\n",
    "dtc_raw_df=pd.read_csv(dtc_raw_file)\n",
    "dtc_raw_df.head(2)\n",
    "#dtc_raw_df.standard_relation\n",
    "#dtc_raw_df.PIC50"
   ]
  },
  {
   "cell_type": "code",
   "execution_count": 68,
   "metadata": {},
   "outputs": [
    {
     "name": "stderr",
     "output_type": "stream",
     "text": [
      "INFO:atomsci.ddm.utils.model_version_utils:/mnt/projects/ATOM/sarkart4/Data/HPO_models_CYP2D6_old/cyp2d6_union_trainset_base_smiles_model_cae5358b-3792-4c86-85af-f199e159c8cf.tar.gz, 1.4.0\n",
      "INFO:atomsci.ddm.utils.model_version_utils:Version compatible check: /mnt/projects/ATOM/sarkart4/Data/HPO_models_CYP2D6_old/cyp2d6_union_trainset_base_smiles_model_cae5358b-3792-4c86-85af-f199e159c8cf.tar.gz version = \"1.4.0\", AMPL version = \"1.4.0\"\n"
     ]
    },
    {
     "name": "stdout",
     "output_type": "stream",
     "text": [
      "num_model_tasks is deprecated and its value is ignored.\n",
      "Featurization = DynamicFeaturization with ecfp features\n",
      "number of features: 1024\n",
      "Featurizing training data for AD calculation.\n",
      "number of features: 1024\n",
      "Calculating AD index.\n",
      "number of features: 1024\n",
      "51.304726123809814\n"
     ]
    },
    {
     "data": {
      "text/plain": [
       "0.844"
      ]
     },
     "execution_count": 68,
     "metadata": {},
     "output_type": "execute_result"
    }
   ],
   "source": [
    "response_col = 'pIC50'\n",
    "dtc_raw_pred_df = pfm.predict_from_model_file(tarball, # model used for prediction, input format=tar.gz\n",
    "                                            dtc_raw_df, # unseen data, format=csv\n",
    "                                            id_col='compound_id',\n",
    "                                            smiles_col='base_rdkit_smiles',\n",
    "                                            response_col='PIC50',\n",
    "                                            conc_col=None,\n",
    "                                            is_featurized=False,\n",
    "                                            dont_standardize=True,\n",
    "                                            AD_method='z_score',\n",
    "                                            k=5,\n",
    "                                            dist_metric='euclidean',\n",
    "                                            external_training_data=None)\n",
    "dtc_raw_pred_df.to_csv(outdir+target+'dtc_raw_pred_df_using_best_model.csv')\n",
    "print(time.time()-start)\n",
    "dtc_raw_r2=round(r2_score(y_true=dtc_raw_pred_df[f'{response_col}_actual'], y_pred=dtc_raw_pred_df[f'{response_col}_pred']), 3)\n",
    "dtc_raw_r2"
   ]
  },
  {
   "cell_type": "markdown",
   "metadata": {},
   "source": [
    "### 3.b. Predict on dtc_test"
   ]
  },
  {
   "cell_type": "code",
   "execution_count": 69,
   "metadata": {},
   "outputs": [
    {
     "name": "stdout",
     "output_type": "stream",
     "text": [
      "dtc test data found\n"
     ]
    },
    {
     "data": {
      "text/html": [
       "<div>\n",
       "<style scoped>\n",
       "    .dataframe tbody tr th:only-of-type {\n",
       "        vertical-align: middle;\n",
       "    }\n",
       "\n",
       "    .dataframe tbody tr th {\n",
       "        vertical-align: top;\n",
       "    }\n",
       "\n",
       "    .dataframe thead th {\n",
       "        text-align: right;\n",
       "    }\n",
       "</style>\n",
       "<table border=\"1\" class=\"dataframe\">\n",
       "  <thead>\n",
       "    <tr style=\"text-align: right;\">\n",
       "      <th></th>\n",
       "      <th>compound_id</th>\n",
       "      <th>base_rdkit_smiles</th>\n",
       "      <th>relation</th>\n",
       "      <th>PIC50</th>\n",
       "      <th>active</th>\n",
       "    </tr>\n",
       "  </thead>\n",
       "  <tbody>\n",
       "    <tr>\n",
       "      <th>0</th>\n",
       "      <td>SWWRPROUTDGFFV-UHFFFAOYSA-N</td>\n",
       "      <td>CCS(=O)(=O)CCc1c(Cn2c(=O)n(C3CC3)c3ccncc32)nc2...</td>\n",
       "      <td>&gt;</td>\n",
       "      <td>4.30103</td>\n",
       "      <td>0</td>\n",
       "    </tr>\n",
       "    <tr>\n",
       "      <th>1</th>\n",
       "      <td>FBZXCTCJIZJFCP-UHFFFAOYSA-N</td>\n",
       "      <td>COc1ccc2[nH]cc(CC(C)(C)NCC(O)COc3ccccc3C#N)c2c1</td>\n",
       "      <td>NaN</td>\n",
       "      <td>7.30103</td>\n",
       "      <td>1</td>\n",
       "    </tr>\n",
       "  </tbody>\n",
       "</table>\n",
       "</div>"
      ],
      "text/plain": [
       "                   compound_id  \\\n",
       "0  SWWRPROUTDGFFV-UHFFFAOYSA-N   \n",
       "1  FBZXCTCJIZJFCP-UHFFFAOYSA-N   \n",
       "\n",
       "                                   base_rdkit_smiles relation    PIC50  active  \n",
       "0  CCS(=O)(=O)CCc1c(Cn2c(=O)n(C3CC3)c3ccncc32)nc2...        >  4.30103       0  \n",
       "1    COc1ccc2[nH]cc(CC(C)(C)NCC(O)COc3ccccc3C#N)c2c1      NaN  7.30103       1  "
      ]
     },
     "execution_count": 69,
     "metadata": {},
     "output_type": "execute_result"
    }
   ],
   "source": [
    "# from MoDac, it was curated and uploaded\n",
    "start=time.time()\n",
    "dtc_test_file = data_dir+ target.lower()+\"_dtc_testset_base_smiles_union.csv\"\n",
    "dtc_test = pd.read_csv(dtc_raw_file) \n",
    "if os.path.exists(dtc_test_file):print(\"dtc test data found\");\n",
    "dtc_test.head(2)"
   ]
  },
  {
   "cell_type": "code",
   "execution_count": 70,
   "metadata": {},
   "outputs": [
    {
     "name": "stderr",
     "output_type": "stream",
     "text": [
      "INFO:atomsci.ddm.utils.model_version_utils:/mnt/projects/ATOM/sarkart4/Data/HPO_models_CYP2D6_old/cyp2d6_union_trainset_base_smiles_model_cae5358b-3792-4c86-85af-f199e159c8cf.tar.gz, 1.4.0\n",
      "INFO:atomsci.ddm.utils.model_version_utils:Version compatible check: /mnt/projects/ATOM/sarkart4/Data/HPO_models_CYP2D6_old/cyp2d6_union_trainset_base_smiles_model_cae5358b-3792-4c86-85af-f199e159c8cf.tar.gz version = \"1.4.0\", AMPL version = \"1.4.0\"\n"
     ]
    },
    {
     "name": "stdout",
     "output_type": "stream",
     "text": [
      "num_model_tasks is deprecated and its value is ignored.\n",
      "Featurization = DynamicFeaturization with ecfp features\n",
      "number of features: 1024\n",
      "Featurizing training data for AD calculation.\n",
      "number of features: 1024\n",
      "Calculating AD index.\n",
      "number of features: 1024\n",
      "51.5497784614563\n"
     ]
    },
    {
     "data": {
      "text/plain": [
       "0.844"
      ]
     },
     "execution_count": 70,
     "metadata": {},
     "output_type": "execute_result"
    }
   ],
   "source": [
    "# response_col = 'pIC50'\n",
    "dtc_test_pred_df = pfm.predict_from_model_file(tarball, # model used for prediction, input format=tar.gz\n",
    "                                            dtc_test, # unseen data, format=csv\n",
    "                                            id_col='compound_id',\n",
    "                                            smiles_col='base_rdkit_smiles',\n",
    "                                            response_col='PIC50',\n",
    "                                            conc_col=None,\n",
    "                                            is_featurized=False,\n",
    "                                            dont_standardize=True,\n",
    "                                            AD_method='z_score',\n",
    "                                            k=5,\n",
    "                                            dist_metric='euclidean',\n",
    "                                            external_training_data=None)\n",
    "dtc_test_pred_df.to_csv(outdir+target+'dtc_test_pred_df_using_best_model.csv')\n",
    "print(time.time()-start)\n",
    "\n",
    "dtc_test_r2=round(r2_score(y_true=dtc_test_pred_df[f'{response_col}_actual'], y_pred=dtc_test_pred_df[f'{response_col}_pred']), 3)\n",
    "dtc_test_r2"
   ]
  },
  {
   "cell_type": "markdown",
   "metadata": {},
   "source": [
    "### 4.a. prediction on Excape raw"
   ]
  },
  {
   "cell_type": "code",
   "execution_count": 71,
   "metadata": {},
   "outputs": [
    {
     "name": "stdout",
     "output_type": "stream",
     "text": [
      "(7892, 17)\n",
      "excape raw data found\n",
      "Index(['Ambit_InchiKey', 'compound_id', 'Entrez_ID', 'Activity_Flag', 'pIC50',\n",
      "       'DB', 'Original_Assay_ID', 'Tax_ID', 'Gene_Symbol', 'Ortholog_Group',\n",
      "       'InChI', 'SMILES', 'rdkit_smiles', 'VALUE_NUM_mean', 'VALUE_NUM_std',\n",
      "       'Perc_Var', 'Remove_BadDuplicate'],\n",
      "      dtype='object')\n",
      "(7891, 17)\n"
     ]
    },
    {
     "data": {
      "text/html": [
       "<div>\n",
       "<style scoped>\n",
       "    .dataframe tbody tr th:only-of-type {\n",
       "        vertical-align: middle;\n",
       "    }\n",
       "\n",
       "    .dataframe tbody tr th {\n",
       "        vertical-align: top;\n",
       "    }\n",
       "\n",
       "    .dataframe thead th {\n",
       "        text-align: right;\n",
       "    }\n",
       "</style>\n",
       "<table border=\"1\" class=\"dataframe\">\n",
       "  <thead>\n",
       "    <tr style=\"text-align: right;\">\n",
       "      <th></th>\n",
       "      <th>Ambit_InchiKey</th>\n",
       "      <th>compound_id</th>\n",
       "      <th>Entrez_ID</th>\n",
       "      <th>Activity_Flag</th>\n",
       "      <th>pIC50</th>\n",
       "      <th>DB</th>\n",
       "      <th>Original_Assay_ID</th>\n",
       "      <th>Tax_ID</th>\n",
       "      <th>Gene_Symbol</th>\n",
       "      <th>Ortholog_Group</th>\n",
       "      <th>InChI</th>\n",
       "      <th>SMILES</th>\n",
       "      <th>rdkit_smiles</th>\n",
       "      <th>VALUE_NUM_mean</th>\n",
       "      <th>VALUE_NUM_std</th>\n",
       "      <th>Perc_Var</th>\n",
       "      <th>Remove_BadDuplicate</th>\n",
       "    </tr>\n",
       "  </thead>\n",
       "  <tbody>\n",
       "    <tr>\n",
       "      <th>0</th>\n",
       "      <td>AABYLPRACHMDSN-CIQXGXBCNA-N</td>\n",
       "      <td>CHEMBL1593731</td>\n",
       "      <td>1565</td>\n",
       "      <td>A</td>\n",
       "      <td>5.80000</td>\n",
       "      <td>chembl20</td>\n",
       "      <td>737822</td>\n",
       "      <td>9606</td>\n",
       "      <td>CYP2D6</td>\n",
       "      <td>un13</td>\n",
       "      <td>InChI=1/C26H32N2O3/c1-18(24(29)27-16-19-13-14-...</td>\n",
       "      <td>O=C(NCC1CC1)[C@@H]([C@@H]2[C@](C2)([C@H](NC(OC...</td>\n",
       "      <td>C[C@@H](C(=O)NCC1CC1)[C@H]1C[C@]1(C)[C@H](NC(=...</td>\n",
       "      <td>5.80000</td>\n",
       "      <td>NaN</td>\n",
       "      <td>0.0</td>\n",
       "      <td>0</td>\n",
       "    </tr>\n",
       "    <tr>\n",
       "      <th>1</th>\n",
       "      <td>AABYLPRACHMDSN-TWWBEHSRNA-N</td>\n",
       "      <td>3247293</td>\n",
       "      <td>1565</td>\n",
       "      <td>A</td>\n",
       "      <td>6.10002</td>\n",
       "      <td>pubchem</td>\n",
       "      <td>891</td>\n",
       "      <td>9606</td>\n",
       "      <td>CYP2D6</td>\n",
       "      <td>un13</td>\n",
       "      <td>InChI=1/C26H32N2O3/c1-18(24(29)27-16-19-13-14-...</td>\n",
       "      <td>O=C(NCC1CC1)[C@@H]([C@H]2[C@@](C2)([C@@H](NC(O...</td>\n",
       "      <td>C[C@@H](C(=O)NCC1CC1)[C@@H]1C[C@@]1(C)[C@@H](N...</td>\n",
       "      <td>6.10002</td>\n",
       "      <td>NaN</td>\n",
       "      <td>0.0</td>\n",
       "      <td>0</td>\n",
       "    </tr>\n",
       "  </tbody>\n",
       "</table>\n",
       "</div>"
      ],
      "text/plain": [
       "                Ambit_InchiKey    compound_id  Entrez_ID Activity_Flag  \\\n",
       "0  AABYLPRACHMDSN-CIQXGXBCNA-N  CHEMBL1593731       1565             A   \n",
       "1  AABYLPRACHMDSN-TWWBEHSRNA-N        3247293       1565             A   \n",
       "\n",
       "     pIC50        DB  Original_Assay_ID  Tax_ID Gene_Symbol Ortholog_Group  \\\n",
       "0  5.80000  chembl20             737822    9606      CYP2D6           un13   \n",
       "1  6.10002   pubchem                891    9606      CYP2D6           un13   \n",
       "\n",
       "                                               InChI  \\\n",
       "0  InChI=1/C26H32N2O3/c1-18(24(29)27-16-19-13-14-...   \n",
       "1  InChI=1/C26H32N2O3/c1-18(24(29)27-16-19-13-14-...   \n",
       "\n",
       "                                              SMILES  \\\n",
       "0  O=C(NCC1CC1)[C@@H]([C@@H]2[C@](C2)([C@H](NC(OC...   \n",
       "1  O=C(NCC1CC1)[C@@H]([C@H]2[C@@](C2)([C@@H](NC(O...   \n",
       "\n",
       "                                        rdkit_smiles  VALUE_NUM_mean  \\\n",
       "0  C[C@@H](C(=O)NCC1CC1)[C@H]1C[C@]1(C)[C@H](NC(=...         5.80000   \n",
       "1  C[C@@H](C(=O)NCC1CC1)[C@@H]1C[C@@]1(C)[C@@H](N...         6.10002   \n",
       "\n",
       "   VALUE_NUM_std  Perc_Var  Remove_BadDuplicate  \n",
       "0            NaN       0.0                    0  \n",
       "1            NaN       0.0                    0  "
      ]
     },
     "execution_count": 71,
     "metadata": {},
     "output_type": "execute_result"
    }
   ],
   "source": [
    "start=time.time()\n",
    "# excape_raw from MoDaC - I have curated the data and used curated file saved at ./../Data/CYP3A4-Curated/CYP3A4_excape_smiles_curated.csv\n",
    "#dtc_raw_file=data_dir+target.lower()+'_dtc_smiles.csv'\n",
    "#excape_raw_file = data_dir+ target.lower()+\"_excape_smiles.csv\"\n",
    "excape_raw_file = curated_dir+ target+\"_excape_smiles_curated.csv\"\n",
    "excape_raw = pd.read_csv(excape_raw_file) \n",
    "print(excape_raw.shape)\n",
    "if os.path.exists(excape_raw_file):print(\"excape raw data found\");\n",
    "excape_raw = excape_raw[~excape_raw.rdkit_smiles.isna()] \n",
    "print(excape_raw.columns)\n",
    "print(excape_raw.shape)\n",
    "excape_raw.head(2)"
   ]
  },
  {
   "cell_type": "code",
   "execution_count": 72,
   "metadata": {},
   "outputs": [
    {
     "name": "stderr",
     "output_type": "stream",
     "text": [
      "INFO:atomsci.ddm.utils.model_version_utils:/mnt/projects/ATOM/sarkart4/Data/HPO_models_CYP2D6_old/cyp2d6_union_trainset_base_smiles_model_cae5358b-3792-4c86-85af-f199e159c8cf.tar.gz, 1.4.0\n",
      "INFO:atomsci.ddm.utils.model_version_utils:Version compatible check: /mnt/projects/ATOM/sarkart4/Data/HPO_models_CYP2D6_old/cyp2d6_union_trainset_base_smiles_model_cae5358b-3792-4c86-85af-f199e159c8cf.tar.gz version = \"1.4.0\", AMPL version = \"1.4.0\"\n"
     ]
    },
    {
     "name": "stdout",
     "output_type": "stream",
     "text": [
      "num_model_tasks is deprecated and its value is ignored.\n",
      "Featurization = DynamicFeaturization with ecfp features\n",
      "number of features: 1024\n",
      "Featurizing training data for AD calculation.\n",
      "Cannot find original training data, AD not calculated\n",
      "40.90812110900879\n"
     ]
    },
    {
     "data": {
      "text/plain": [
       "0.699"
      ]
     },
     "execution_count": 72,
     "metadata": {},
     "output_type": "execute_result"
    }
   ],
   "source": [
    "response_col = 'pIC50'\n",
    "excape_raw_pred_df = pfm.predict_from_model_file(tarball, # model used for prediction, input format=tar.gz\n",
    "                                            excape_raw, # unseen data, format=csv\n",
    "                                            id_col='Original_Entry_ID', # ???\n",
    "                                            smiles_col='rdkit_smiles',\n",
    "                                            response_col='pIC50',\n",
    "                                            conc_col=None,\n",
    "                                            is_featurized=False,\n",
    "                                            dont_standardize=True,\n",
    "                                            AD_method='z_score',\n",
    "                                            #k=5,\n",
    "                                            dist_metric='euclidean',\n",
    "                                            external_training_data=None)\n",
    "excape_raw_pred_df.to_csv(outdir+target+'excape_raw_pred_df_using_best_model.csv')\n",
    "print(time.time()-start)\n",
    "excape_raw_r2=round(r2_score(y_true=excape_raw_pred_df[f'{response_col}_actual'], y_pred=excape_raw_pred_df[f'{response_col}_pred']), 3)\n",
    "excape_raw_r2"
   ]
  },
  {
   "cell_type": "markdown",
   "metadata": {},
   "source": [
    "### 4.b. prediction on Excape test"
   ]
  },
  {
   "cell_type": "code",
   "execution_count": 73,
   "metadata": {},
   "outputs": [
    {
     "name": "stdout",
     "output_type": "stream",
     "text": [
      "excape test data found\n",
      "Index(['base_rdkit_smiles', 'compound_id', 'pIC50', 'relation', 'active'], dtype='object')\n"
     ]
    },
    {
     "data": {
      "text/html": [
       "<div>\n",
       "<style scoped>\n",
       "    .dataframe tbody tr th:only-of-type {\n",
       "        vertical-align: middle;\n",
       "    }\n",
       "\n",
       "    .dataframe tbody tr th {\n",
       "        vertical-align: top;\n",
       "    }\n",
       "\n",
       "    .dataframe thead th {\n",
       "        text-align: right;\n",
       "    }\n",
       "</style>\n",
       "<table border=\"1\" class=\"dataframe\">\n",
       "  <thead>\n",
       "    <tr style=\"text-align: right;\">\n",
       "      <th></th>\n",
       "      <th>base_rdkit_smiles</th>\n",
       "      <th>compound_id</th>\n",
       "      <th>pIC50</th>\n",
       "      <th>relation</th>\n",
       "      <th>active</th>\n",
       "    </tr>\n",
       "  </thead>\n",
       "  <tbody>\n",
       "    <tr>\n",
       "      <th>0</th>\n",
       "      <td>COCCCNC(=O)C1CCC(=O)N1Cc1ccccc1Cl</td>\n",
       "      <td>SLQVVKYIMOJGIK-GPQMBLKYNA-N</td>\n",
       "      <td>4.6</td>\n",
       "      <td>&lt;</td>\n",
       "      <td>0</td>\n",
       "    </tr>\n",
       "    <tr>\n",
       "      <th>1</th>\n",
       "      <td>Cc1ccc(CC(=O)N2CCN(c3cccc(C(F)(F)F)c3)CC2)cc1</td>\n",
       "      <td>SBUISHYOUSIRIU-UHFFFAOYNA-N</td>\n",
       "      <td>4.5</td>\n",
       "      <td>&lt;</td>\n",
       "      <td>0</td>\n",
       "    </tr>\n",
       "  </tbody>\n",
       "</table>\n",
       "</div>"
      ],
      "text/plain": [
       "                               base_rdkit_smiles                  compound_id  \\\n",
       "0              COCCCNC(=O)C1CCC(=O)N1Cc1ccccc1Cl  SLQVVKYIMOJGIK-GPQMBLKYNA-N   \n",
       "1  Cc1ccc(CC(=O)N2CCN(c3cccc(C(F)(F)F)c3)CC2)cc1  SBUISHYOUSIRIU-UHFFFAOYNA-N   \n",
       "\n",
       "   pIC50 relation  active  \n",
       "0    4.6        <       0  \n",
       "1    4.5        <       0  "
      ]
     },
     "execution_count": 73,
     "metadata": {},
     "output_type": "execute_result"
    }
   ],
   "source": [
    "start=time.time()\n",
    "excape_test_file = data_dir+target.lower()+\"_excape_testset_base_smiles_union.csv\" # note: filename mixed upper and lower case\n",
    "excape_test = pd.read_csv(excape_test_file) \n",
    "if os.path.exists(excape_test_file):print(\"excape test data found\");\n",
    "print(excape_test.columns)\n",
    "excape_test.head(2)"
   ]
  },
  {
   "cell_type": "code",
   "execution_count": 74,
   "metadata": {},
   "outputs": [
    {
     "name": "stderr",
     "output_type": "stream",
     "text": [
      "INFO:atomsci.ddm.utils.model_version_utils:/mnt/projects/ATOM/sarkart4/Data/HPO_models_CYP2D6_old/cyp2d6_union_trainset_base_smiles_model_cae5358b-3792-4c86-85af-f199e159c8cf.tar.gz, 1.4.0\n",
      "INFO:atomsci.ddm.utils.model_version_utils:Version compatible check: /mnt/projects/ATOM/sarkart4/Data/HPO_models_CYP2D6_old/cyp2d6_union_trainset_base_smiles_model_cae5358b-3792-4c86-85af-f199e159c8cf.tar.gz version = \"1.4.0\", AMPL version = \"1.4.0\"\n"
     ]
    },
    {
     "name": "stdout",
     "output_type": "stream",
     "text": [
      "num_model_tasks is deprecated and its value is ignored.\n",
      "Featurization = DynamicFeaturization with ecfp features\n",
      "number of features: 1024\n",
      "Featurizing training data for AD calculation.\n",
      "number of features: 1024\n",
      "Calculating AD index.\n",
      "number of features: 1024\n",
      "40.38132119178772\n"
     ]
    },
    {
     "data": {
      "text/plain": [
       "0.713"
      ]
     },
     "execution_count": 74,
     "metadata": {},
     "output_type": "execute_result"
    }
   ],
   "source": [
    "response_col = 'pIC50'\n",
    "excape_test_pred_df = pfm.predict_from_model_file(tarball, # model used for prediction, input format=tar.gz\n",
    "                                            excape_test, # unseen data, format=csv\n",
    "                                            id_col='compound_id',\n",
    "                                            smiles_col='base_rdkit_smiles',\n",
    "                                            response_col='pIC50',\n",
    "                                            conc_col=None,\n",
    "                                            is_featurized=False,\n",
    "                                            dont_standardize=True,\n",
    "                                            AD_method='z_score',\n",
    "                                            k=5,\n",
    "                                            dist_metric='euclidean',\n",
    "                                            external_training_data=None)\n",
    "excape_test_pred_df.to_csv(outdir+target+'excape_test_pred_df_using_best_model.csv')\n",
    "print(time.time()-start)\n",
    "excape_test_r2=round(r2_score(y_true=excape_test_pred_df[f'{response_col}_actual'], y_pred=excape_test_pred_df[f'{response_col}_pred']), 3)\n",
    "excape_test_r2"
   ]
  },
  {
   "cell_type": "markdown",
   "metadata": {},
   "source": [
    "# 5. Prediction on DIFFEERENT dataset \n",
    " I used the CYP3A4 model to predict on raw dataset of CYP2D6 etc, also, CHRM1 etc. \n",
    " \n",
    " \n",
    " Same is done for other two CYP models -  CYP2D6 and CYP2C9"
   ]
  },
  {
   "cell_type": "code",
   "execution_count": 75,
   "metadata": {},
   "outputs": [],
   "source": [
    "data_dir_all = '/home/sarkart4/MoDaC/NCI_DOE_Archive/ATOM/Safety_Screen_Targets/'\n",
    "#!ls $data_dir_all"
   ]
  },
  {
   "cell_type": "code",
   "execution_count": 120,
   "metadata": {
    "scrolled": false
   },
   "outputs": [],
   "source": [
    "#chrm1_dtc_raw = pd.read_csv(data_dir_all+ 'CHRM1-ampl-1.1.0/chrm1_dtc_smiles.csv') # compound_id, rdkit_smiles\n",
    "chrm1_dtc_raw = pd.read_csv('/mnt/projects/ATOM/sarkart4/Data/CHRM1-Curated/CHRM1_dtc_smiles_curated.csv')\n",
    "chrm2_dtc_raw = pd.read_csv(data_dir_all+ 'CHRM2-ampl-1.1.0/chrm2_dtc_base_smiles_all.csv') # compound_id, base_rdkit_smiles, PIC50\n",
    "chrm3_dtc_raw = pd.read_csv(data_dir_all+ 'CHRM3-ampl-1.1.0/chrm3_dtc_smiles.csv') # compound_id, rdkit_smiles\n",
    "# use curated data\n",
    "#cyp3a4_dtc_raw = pd.read_csv(data_dir_all+ 'CYP3A4-ampl-1.1.0/cyp3a4_dtc_smiles.csv') # compound_id, rdkit_smiles\n",
    "cyp3a4_dtc_raw = pd.read_csv('/mnt/projects/ATOM/sarkart4/Data/CYP3A4-Curated/CYP3A4_dtc_smiles_curated.csv')\n",
    "# cyp2d6 raw data do not have any pIC50 column, therefore, I am using the curated data\n",
    "#cyp2d6_dtc_raw = pd.read_csv(data_dir_all+ 'CYP2D6-ampl-1.1.0/cyp2d6_dtc_smiles.csv') # compound_id, rdkit_smiles\n",
    "cyp2d6_dtc_raw = pd.read_csv('/mnt/projects/ATOM/sarkart4/Data/CYP2D6-Curated/CYP2D6_dtc_smiles_curated.csv')\n",
    "# use raw data\n",
    "#cyp2c9_dtc_raw = pd.read_csv(data_dir_all+ 'CYP2C9-ampl-1.1.0/cyp2c9_dtc_smiles.csv') # compound_id, rdkit_smiles\n",
    "cyp2c9_dtc_raw = pd.read_csv('/mnt/projects/ATOM/sarkart4/Data/CYP2C9-Curated/CYP2C9_dtc_smiles_curated.csv')\n",
    "hrh1_dtc_raw = pd.read_csv(data_dir_all+ 'HRH1-ampl-1.1.0/hrh1_dtc_smiles.csv') # compound_id, rdkit_smiles\n",
    "kcnh2_dtc_raw = pd.read_csv(data_dir_all+ 'KCNH2-ampl-1.1.0/kcnh2_dtc_smiles.csv') # compound_id, rdkit_smiles\n",
    "pik3cg_dtc_raw = pd.read_csv(data_dir_all+ 'PIK3CG-ampl-1.1.0/pik3cg_dtc_smiles.csv') # compound_id, rdkit_smiles\n",
    "#pik3cg_dtc_raw.head(2)"
   ]
  },
  {
   "cell_type": "code",
   "execution_count": 78,
   "metadata": {
    "scrolled": false
   },
   "outputs": [],
   "source": [
    "#chrm1_excape_raw = pd.read_csv(data_dir_all+ 'CHRM1-ampl-1.1.0/chrm1_excape_smiles.csv') # compound_id, rdkit_smiles\n",
    "chrm1_excape_raw = pd.read_csv('/mnt/projects/ATOM/sarkart4/Data/CHRM1-Curated/CHRM1_excape_smiles_curated.csv')\n",
    "chrm2_excape_raw = pd.read_csv(data_dir_all+ 'CHRM2-ampl-1.1.0/chrm2_excape_smiles.csv') # compound_id, base_rdkit_smiles, PIC50\n",
    "chrm3_excape_raw = pd.read_csv(data_dir_all+ 'CHRM3-ampl-1.1.0/chrm3_excape_smiles.csv') # compound_id, rdkit_smiles\n",
    "#cyp3a4_excape_raw = pd.read_csv(data_dir_all+ 'CYP3A4-ampl-1.1.0/cyp3a4_excape_smiles.csv') # compound_id, rdkit_smiles\n",
    "cyp3a4_excape_raw = pd.read_csv('/mnt/projects/ATOM/sarkart4/Data/CYP3A4-Curated/CYP3A4_excape_smiles_curated.csv')\n",
    "#cyp2d6_excape_raw = pd.read_csv(data_dir_all+ 'CYP2D6-ampl-1.1.0/cyp2d6_excape_smiles.csv') # compound_id, rdkit_smiles\n",
    "cyp2d6_excape_raw = pd.read_csv('/mnt/projects/ATOM/sarkart4/Data/CYP2D6-Curated/CYP2D6_excape_smiles_curated.csv')\n",
    "#cyp2c9_excape_raw = pd.read_csv(data_dir_all+ 'CYP2C9-ampl-1.1.0/cyp2c9_excape_smiles.csv') # compound_id, rdkit_smiles\n",
    "cyp2c9_excape_raw = pd.read_csv('/mnt/projects/ATOM/sarkart4/Data/CYP2C9-Curated/CYP2C9_excape_smiles_curated.csv')\n",
    "hrh1_excape_raw = pd.read_csv(data_dir_all+ 'HRH1-ampl-1.1.0/hrh1_excape_smiles.csv') # compound_id, rdkit_smiles\n",
    "kcnh2_excape_raw = pd.read_csv(data_dir_all+ 'KCNH2-ampl-1.1.0/kcnh2_excape_smiles.csv') # compound_id, rdkit_smiles\n",
    "pik3cg_excape_raw = pd.read_csv(data_dir_all+ 'PIK3CG-ampl-1.1.0/pik3cg_excape_smiles.csv') # compound_id, rdkit_smiles\n",
    "#pik3cg_excape_raw.head(2)"
   ]
  },
  {
   "cell_type": "markdown",
   "metadata": {},
   "source": [
    "### Predict from model "
   ]
  },
  {
   "cell_type": "code",
   "execution_count": 79,
   "metadata": {},
   "outputs": [
    {
     "data": {
      "text/plain": [
       "['/mnt/projects/ATOM/sarkart4/Data/HPO_models_CYP2D6_old/cyp2d6_union_trainset_base_smiles_model_cae5358b-3792-4c86-85af-f199e159c8cf.tar.gz',\n",
       " 'cae5358b-3792-4c86-85af-f199e159c8cf']"
      ]
     },
     "execution_count": 79,
     "metadata": {},
     "output_type": "execute_result"
    }
   ],
   "source": [
    "response_col = 'PIC50'\n",
    "[tarball,model_uuid]"
   ]
  },
  {
   "cell_type": "code",
   "execution_count": 80,
   "metadata": {},
   "outputs": [
    {
     "name": "stderr",
     "output_type": "stream",
     "text": [
      "INFO:atomsci.ddm.utils.model_version_utils:/mnt/projects/ATOM/sarkart4/Data/HPO_models_CYP2D6_old/cyp2d6_union_trainset_base_smiles_model_cae5358b-3792-4c86-85af-f199e159c8cf.tar.gz, 1.4.0\n",
      "INFO:atomsci.ddm.utils.model_version_utils:Version compatible check: /mnt/projects/ATOM/sarkart4/Data/HPO_models_CYP2D6_old/cyp2d6_union_trainset_base_smiles_model_cae5358b-3792-4c86-85af-f199e159c8cf.tar.gz version = \"1.4.0\", AMPL version = \"1.4.0\"\n"
     ]
    },
    {
     "name": "stdout",
     "output_type": "stream",
     "text": [
      "num_model_tasks is deprecated and its value is ignored.\n",
      "Featurization = DynamicFeaturization with ecfp features\n",
      "number of features: 1024\n",
      "Featurizing training data for AD calculation.\n",
      "number of features: 1024\n",
      "Calculating AD index.\n",
      "number of features: 1024\n",
      "38.91560983657837\n"
     ]
    },
    {
     "data": {
      "text/plain": [
       "-0.514"
      ]
     },
     "execution_count": 80,
     "metadata": {},
     "output_type": "execute_result"
    }
   ],
   "source": [
    "start=time.time()\n",
    "chrm1_dtc_raw_pred_df = pfm.predict_from_model_file(tarball,chrm1_dtc_raw,id_col='compound_id',smiles_col='base_rdkit_smiles',response_col='pIC50',conc_col=None,is_featurized=False,dont_standardize=True,AD_method='z_score',k=5,dist_metric='euclidean',external_training_data=None)\n",
    "chrm1_dtc_raw_pred_df.to_csv(outdir+target+'chrm1_dtc_raw_pred_df_using_best_model_'+model_uuid+'.csv')\n",
    "#chrm1_dtc_raw_pred_df.head(2)\n",
    "print(time.time()-start)\n",
    "chrm1_dtc_raw_r2=round(r2_score(y_true=chrm1_dtc_raw_pred_df['PIC50'], y_pred=chrm1_dtc_raw_pred_df['pIC50_pred']), 3)\n",
    "chrm1_dtc_raw_r2"
   ]
  },
  {
   "cell_type": "code",
   "execution_count": 81,
   "metadata": {
    "scrolled": false
   },
   "outputs": [
    {
     "name": "stderr",
     "output_type": "stream",
     "text": [
      "INFO:atomsci.ddm.utils.model_version_utils:/mnt/projects/ATOM/sarkart4/Data/HPO_models_CYP2D6_old/cyp2d6_union_trainset_base_smiles_model_cae5358b-3792-4c86-85af-f199e159c8cf.tar.gz, 1.4.0\n",
      "INFO:atomsci.ddm.utils.model_version_utils:Version compatible check: /mnt/projects/ATOM/sarkart4/Data/HPO_models_CYP2D6_old/cyp2d6_union_trainset_base_smiles_model_cae5358b-3792-4c86-85af-f199e159c8cf.tar.gz version = \"1.4.0\", AMPL version = \"1.4.0\"\n"
     ]
    },
    {
     "name": "stdout",
     "output_type": "stream",
     "text": [
      "num_model_tasks is deprecated and its value is ignored.\n",
      "Featurization = DynamicFeaturization with ecfp features\n",
      "number of features: 1024\n",
      "Featurizing training data for AD calculation.\n",
      "number of features: 1024\n",
      "Calculating AD index.\n",
      "number of features: 1024\n",
      "38.19033646583557\n"
     ]
    }
   ],
   "source": [
    "start=time.time()\n",
    "chrm2_dtc_raw_pred_df = pfm.predict_from_model_file(tarball,chrm2_dtc_raw,id_col='compound_id',smiles_col='base_rdkit_smiles',response_col='PIC50',conc_col=None,is_featurized=False,dont_standardize=True,AD_method='z_score',k=5,dist_metric='euclidean',external_training_data=None)\n",
    "chrm2_dtc_raw_pred_df.to_csv(outdir+target+'chrm2_dtc_raw_pred_df_using_best_model_'+model_uuid+'.csv')\n",
    "chrm2_dtc_raw_pred_df.head(2)\n",
    "print(time.time()-start)"
   ]
  },
  {
   "cell_type": "code",
   "execution_count": 82,
   "metadata": {},
   "outputs": [
    {
     "data": {
      "text/plain": [
       "-0.845"
      ]
     },
     "execution_count": 82,
     "metadata": {},
     "output_type": "execute_result"
    }
   ],
   "source": [
    "chrm2_dtc_raw_r2=round(r2_score(y_true=chrm2_dtc_raw_pred_df['PIC50'], y_pred=chrm2_dtc_raw_pred_df['pIC50_pred']), 3)\n",
    "chrm2_dtc_raw_r2"
   ]
  },
  {
   "cell_type": "code",
   "execution_count": 83,
   "metadata": {
    "scrolled": false
   },
   "outputs": [
    {
     "name": "stderr",
     "output_type": "stream",
     "text": [
      "INFO:atomsci.ddm.utils.model_version_utils:/mnt/projects/ATOM/sarkart4/Data/HPO_models_CYP2D6_old/cyp2d6_union_trainset_base_smiles_model_cae5358b-3792-4c86-85af-f199e159c8cf.tar.gz, 1.4.0\n",
      "INFO:atomsci.ddm.utils.model_version_utils:Version compatible check: /mnt/projects/ATOM/sarkart4/Data/HPO_models_CYP2D6_old/cyp2d6_union_trainset_base_smiles_model_cae5358b-3792-4c86-85af-f199e159c8cf.tar.gz version = \"1.4.0\", AMPL version = \"1.4.0\"\n"
     ]
    },
    {
     "name": "stdout",
     "output_type": "stream",
     "text": [
      "num_model_tasks is deprecated and its value is ignored.\n",
      "Featurization = DynamicFeaturization with ecfp features\n",
      "number of features: 1024\n",
      "Featurizing training data for AD calculation.\n",
      "Cannot find original training data, AD not calculated\n",
      "3.7018091678619385\n"
     ]
    }
   ],
   "source": [
    "start=time.time()\n",
    "chrm3_dtc_raw_pred_df = pfm.predict_from_model_file(tarball,chrm3_dtc_raw,id_col='compound_id',smiles_col='rdkit_smiles',response_col='pIC50',conc_col=None,is_featurized=False,dont_standardize=True,AD_method='z_score',k=5,dist_metric='euclidean',external_training_data=None)\n",
    "chrm3_dtc_raw_pred_df.to_csv(outdir+target+'chrm3_dtc_raw_pred_df_using_best_model_'+model_uuid+'.csv')\n",
    "#chrm3_dtc_raw_pred_df.head(2)\n",
    "print(time.time()-start)"
   ]
  },
  {
   "cell_type": "code",
   "execution_count": 84,
   "metadata": {},
   "outputs": [
    {
     "data": {
      "text/plain": [
       "-1.085"
      ]
     },
     "execution_count": 84,
     "metadata": {},
     "output_type": "execute_result"
    }
   ],
   "source": [
    "chrm3_dtc_raw_r2=round(r2_score(y_true=chrm3_dtc_raw_pred_df['PIC50'], y_pred=chrm3_dtc_raw_pred_df['pIC50_pred']), 3)\n",
    "chrm3_dtc_raw_r2"
   ]
  },
  {
   "cell_type": "code",
   "execution_count": 85,
   "metadata": {},
   "outputs": [
    {
     "name": "stderr",
     "output_type": "stream",
     "text": [
      "INFO:atomsci.ddm.utils.model_version_utils:/mnt/projects/ATOM/sarkart4/Data/HPO_models_CYP2D6_old/cyp2d6_union_trainset_base_smiles_model_cae5358b-3792-4c86-85af-f199e159c8cf.tar.gz, 1.4.0\n",
      "INFO:atomsci.ddm.utils.model_version_utils:Version compatible check: /mnt/projects/ATOM/sarkart4/Data/HPO_models_CYP2D6_old/cyp2d6_union_trainset_base_smiles_model_cae5358b-3792-4c86-85af-f199e159c8cf.tar.gz version = \"1.4.0\", AMPL version = \"1.4.0\"\n"
     ]
    },
    {
     "name": "stdout",
     "output_type": "stream",
     "text": [
      "num_model_tasks is deprecated and its value is ignored.\n",
      "Featurization = DynamicFeaturization with ecfp features\n",
      "number of features: 1024\n",
      "Featurizing training data for AD calculation.\n",
      "number of features: 1024\n",
      "Calculating AD index.\n",
      "number of features: 1024\n",
      "65.07965517044067\n"
     ]
    }
   ],
   "source": [
    "start=time.time()\n",
    "cyp3a4_dtc_raw_pred_df = pfm.predict_from_model_file(tarball,cyp3a4_dtc_raw,id_col='compound_id',smiles_col='base_rdkit_smiles',response_col='pIC50',conc_col=None,is_featurized=False,dont_standardize=True,AD_method='z_score',k=5,dist_metric='euclidean',external_training_data=None)\n",
    "cyp3a4_dtc_raw_pred_df.to_csv(outdir+target+'cyp3a4_dtc_raw_pred_df_using_best_model_'+model_uuid+'.csv')\n",
    "print(time.time()-start)"
   ]
  },
  {
   "cell_type": "code",
   "execution_count": 86,
   "metadata": {},
   "outputs": [
    {
     "data": {
      "text/plain": [
       "0.088"
      ]
     },
     "execution_count": 86,
     "metadata": {},
     "output_type": "execute_result"
    }
   ],
   "source": [
    "cyp3a4_dtc_raw_r2=round(r2_score(y_true=cyp3a4_dtc_raw_pred_df['PIC50'], y_pred=cyp3a4_dtc_raw_pred_df['pIC50_pred']), 3)\n",
    "cyp3a4_dtc_raw_r2"
   ]
  },
  {
   "cell_type": "code",
   "execution_count": 87,
   "metadata": {},
   "outputs": [
    {
     "name": "stderr",
     "output_type": "stream",
     "text": [
      "INFO:atomsci.ddm.utils.model_version_utils:/mnt/projects/ATOM/sarkart4/Data/HPO_models_CYP2D6_old/cyp2d6_union_trainset_base_smiles_model_cae5358b-3792-4c86-85af-f199e159c8cf.tar.gz, 1.4.0\n",
      "INFO:atomsci.ddm.utils.model_version_utils:Version compatible check: /mnt/projects/ATOM/sarkart4/Data/HPO_models_CYP2D6_old/cyp2d6_union_trainset_base_smiles_model_cae5358b-3792-4c86-85af-f199e159c8cf.tar.gz version = \"1.4.0\", AMPL version = \"1.4.0\"\n"
     ]
    },
    {
     "name": "stdout",
     "output_type": "stream",
     "text": [
      "num_model_tasks is deprecated and its value is ignored.\n",
      "Featurization = DynamicFeaturization with ecfp features\n",
      "number of features: 1024\n",
      "Featurizing training data for AD calculation.\n",
      "number of features: 1024\n",
      "Calculating AD index.\n",
      "number of features: 1024\n",
      "51.51071834564209\n"
     ]
    }
   ],
   "source": [
    "start=time.time()\n",
    "cyp2d6_dtc_raw_pred_df = pfm.predict_from_model_file(tarball,cyp2d6_dtc_raw,id_col='compound_id',smiles_col='base_rdkit_smiles',response_col='PIC50',conc_col=None,is_featurized=False,dont_standardize=True,AD_method='z_score',k=5,dist_metric='euclidean',external_training_data=None)\n",
    "cyp2d6_dtc_raw_pred_df.to_csv(outdir+target+'cyp2d6_dtc_raw_pred_df_using_best_model_'+model_uuid+'.csv')\n",
    "print(time.time()-start)"
   ]
  },
  {
   "cell_type": "code",
   "execution_count": 88,
   "metadata": {},
   "outputs": [
    {
     "data": {
      "text/plain": [
       "0.844"
      ]
     },
     "execution_count": 88,
     "metadata": {},
     "output_type": "execute_result"
    }
   ],
   "source": [
    "cyp2d6_dtc_raw_pred_df.head(2)\n",
    "cyp2d6_dtc_raw_r2=round(r2_score(y_true=cyp2d6_dtc_raw_pred_df['PIC50'], y_pred=cyp2d6_dtc_raw_pred_df['pIC50_pred']), 3)\n",
    "cyp2d6_dtc_raw_r2"
   ]
  },
  {
   "cell_type": "code",
   "execution_count": 89,
   "metadata": {},
   "outputs": [
    {
     "name": "stderr",
     "output_type": "stream",
     "text": [
      "INFO:atomsci.ddm.utils.model_version_utils:/mnt/projects/ATOM/sarkart4/Data/HPO_models_CYP2D6_old/cyp2d6_union_trainset_base_smiles_model_cae5358b-3792-4c86-85af-f199e159c8cf.tar.gz, 1.4.0\n",
      "INFO:atomsci.ddm.utils.model_version_utils:Version compatible check: /mnt/projects/ATOM/sarkart4/Data/HPO_models_CYP2D6_old/cyp2d6_union_trainset_base_smiles_model_cae5358b-3792-4c86-85af-f199e159c8cf.tar.gz version = \"1.4.0\", AMPL version = \"1.4.0\"\n"
     ]
    },
    {
     "name": "stdout",
     "output_type": "stream",
     "text": [
      "num_model_tasks is deprecated and its value is ignored.\n",
      "Featurization = DynamicFeaturization with ecfp features\n",
      "number of features: 1024\n",
      "Featurizing training data for AD calculation.\n",
      "number of features: 1024\n",
      "Calculating AD index.\n",
      "number of features: 1024\n",
      "48.97891664505005\n"
     ]
    }
   ],
   "source": [
    "start=time.time()\n",
    "cyp2c9_dtc_raw_pred_df = pfm.predict_from_model_file(tarball,cyp2c9_dtc_raw,id_col='compound_id',smiles_col='base_rdkit_smiles',response_col='pIC50',conc_col=None,is_featurized=False,dont_standardize=True,AD_method='z_score',k=5,dist_metric='euclidean',external_training_data=None)\n",
    "cyp2c9_dtc_raw_pred_df.to_csv(outdir+target+'cyp2c9_dtc_raw_pred_df_using_best_model_'+model_uuid+'.csv')\n",
    "print(time.time()-start)"
   ]
  },
  {
   "cell_type": "code",
   "execution_count": 90,
   "metadata": {},
   "outputs": [
    {
     "data": {
      "text/plain": [
       "0.175"
      ]
     },
     "execution_count": 90,
     "metadata": {},
     "output_type": "execute_result"
    }
   ],
   "source": [
    "cyp2c9_dtc_raw_r2=round(r2_score(y_true=cyp2c9_dtc_raw_pred_df['PIC50'], y_pred=cyp2c9_dtc_raw_pred_df['pIC50_pred']), 3)\n",
    "cyp2c9_dtc_raw_r2"
   ]
  },
  {
   "cell_type": "code",
   "execution_count": 91,
   "metadata": {},
   "outputs": [],
   "source": [
    "# #cyp3a4_excape_raw.head(2)\n",
    "# start=time.time()\n",
    "# cyp3a4_excape_raw_pred_df = pfm.predict_from_model_file(tarball,cyp3a4_excape_raw,id_col='compound_id',smiles_col='rdkit_smiles',response_col='pIC50',conc_col=None,is_featurized=False,dont_standardize=True,AD_method='z_score',k=5,dist_metric='euclidean',external_training_data=None)\n",
    "# cyp3a4_excape_raw_pred_df.to_csv(outdir+target+'cyp3a4_excape_raw_pred_df_using_best_model_'+model_uuid+'.csv')\n",
    "# print(time.time()-start)"
   ]
  },
  {
   "cell_type": "code",
   "execution_count": 92,
   "metadata": {},
   "outputs": [],
   "source": [
    "# cyp3a4_excape_raw_r2=round(r2_score(y_true=cyp3a4_excape_raw_pred_df['PIC50'], y_pred=cyp3a4_excape_raw_pred_df['pIC50_pred']), 3)\n",
    "# cyp3a4_excape_raw_r2"
   ]
  },
  {
   "cell_type": "code",
   "execution_count": null,
   "metadata": {},
   "outputs": [],
   "source": []
  },
  {
   "cell_type": "code",
   "execution_count": 93,
   "metadata": {},
   "outputs": [
    {
     "data": {
      "text/plain": [
       "[-0.514, -0.845, -1.085]"
      ]
     },
     "execution_count": 93,
     "metadata": {},
     "output_type": "execute_result"
    }
   ],
   "source": [
    "[chrm1_dtc_raw_r2, chrm2_dtc_raw_r2, chrm3_dtc_raw_r2 ]"
   ]
  },
  {
   "cell_type": "code",
   "execution_count": 94,
   "metadata": {},
   "outputs": [
    {
     "data": {
      "text/plain": [
       "[0.088, 0.844, 0.175]"
      ]
     },
     "execution_count": 94,
     "metadata": {},
     "output_type": "execute_result"
    }
   ],
   "source": [
    "[cyp3a4_dtc_raw_r2, cyp2d6_dtc_raw_r2, cyp2c9_dtc_raw_r2 ]"
   ]
  },
  {
   "cell_type": "code",
   "execution_count": 95,
   "metadata": {},
   "outputs": [],
   "source": [
    "#!ls $data_dir"
   ]
  },
  {
   "cell_type": "code",
   "execution_count": 96,
   "metadata": {},
   "outputs": [
    {
     "data": {
      "text/plain": [
       "[0.431, 0.844, 0.844, 0.699, 0.713]"
      ]
     },
     "execution_count": 96,
     "metadata": {},
     "output_type": "execute_result"
    }
   ],
   "source": [
    "[union_test_r2, dtc_raw_r2, dtc_test_r2, excape_raw_r2, excape_test_r2]"
   ]
  },
  {
   "cell_type": "code",
   "execution_count": 97,
   "metadata": {},
   "outputs": [
    {
     "data": {
      "image/png": "[encoded data removed]",
      "text/plain": [
       "<Figure size 576x360 with 1 Axes>"
      ]
     },
     "metadata": {},
     "output_type": "display_data"
    }
   ],
   "source": [
    "# plot\n",
    "#sns.set_context('paper')\n",
    "#import matplotlib.pyplot as plt\n",
    "plt.rc('font', size=12)          # controls default text sizes\n",
    "# plt.rc('axes', titlesize=SMALL_SIZE)     # fontsize of the axes title\n",
    "plt.rc('axes', labelsize=12)    # fontsize of the x and y labels\n",
    "plt.rc('xtick', labelsize=12)    # fontsize of the tick labels\n",
    "plt.rc('ytick', labelsize=12)    # fontsize of the tick labels\n",
    "# plt.rc('legend', fontsize=SMALL_SIZE)    # legend fontsize\n",
    "#plt.rc('figure', titlesize=5)  # fontsize of the figure title\n",
    "fig = plt.figure(figsize = (8,5))\n",
    "datasets = ['union_test_r2', 'dtc_raw_r2', 'dtc_test_r2', 'excape_raw_r2', 'excape_test_r2','cyp3a4_dtc_raw_r2', 'cyp2d6_dtc_raw_r2', 'cyp2c9_dtc_raw_r2','chrm1_dtc_raw_r2']\n",
    "r2scores = [union_test_r2, dtc_raw_r2, dtc_test_r2, excape_raw_r2, excape_test_r2, cyp3a4_dtc_raw_r2, cyp2d6_dtc_raw_r2, cyp2c9_dtc_raw_r2, chrm1_dtc_raw_r2]\n",
    "plt.bar(datasets, r2scores, color=['red','darkgreen','lightgreen', 'darkblue', 'lightblue', 'green', 'green', 'green', 'green'], width=0.3, edgecolor='grey')\n",
    "plt.ylabel(\"r2_score\")\n",
    "plt.title(target+\"_prediction using HPO best model_\\n\"+model_uuid, fontsize=12)\n",
    "for i in range(len(datasets)):plt.text(i, r2scores[i], r2scores[i], ha='center');\n",
    "plt.xticks(rotation = 90) # Rotates X-Axis Ticks\n",
    "plt.show()"
   ]
  },
  {
   "cell_type": "markdown",
   "metadata": {},
   "source": [
    "# Confusion Matrix and visualization of predicted results"
   ]
  },
  {
   "cell_type": "code",
   "execution_count": 98,
   "metadata": {},
   "outputs": [
    {
     "data": {
      "text/plain": [
       "'/mnt/projects/ATOM/sarkart4/Data/HPO_models_CYP2D6_old/'"
      ]
     },
     "execution_count": 98,
     "metadata": {},
     "output_type": "execute_result"
    }
   ],
   "source": [
    "outdir"
   ]
  },
  {
   "cell_type": "code",
   "execution_count": 99,
   "metadata": {},
   "outputs": [
    {
     "name": "stdout",
     "output_type": "stream",
     "text": [
      "(1843, 10)\n"
     ]
    },
    {
     "data": {
      "text/html": [
       "<div>\n",
       "<style scoped>\n",
       "    .dataframe tbody tr th:only-of-type {\n",
       "        vertical-align: middle;\n",
       "    }\n",
       "\n",
       "    .dataframe tbody tr th {\n",
       "        vertical-align: top;\n",
       "    }\n",
       "\n",
       "    .dataframe thead th {\n",
       "        text-align: right;\n",
       "    }\n",
       "</style>\n",
       "<table border=\"1\" class=\"dataframe\">\n",
       "  <thead>\n",
       "    <tr style=\"text-align: right;\">\n",
       "      <th></th>\n",
       "      <th>Unnamed: 0</th>\n",
       "      <th>base_rdkit_smiles</th>\n",
       "      <th>compound_id</th>\n",
       "      <th>pIC50</th>\n",
       "      <th>relation</th>\n",
       "      <th>active</th>\n",
       "      <th>pIC50_actual</th>\n",
       "      <th>pIC50_pred</th>\n",
       "      <th>pIC50_std</th>\n",
       "      <th>AD_index</th>\n",
       "    </tr>\n",
       "  </thead>\n",
       "  <tbody>\n",
       "    <tr>\n",
       "      <th>0</th>\n",
       "      <td>0</td>\n",
       "      <td>S=C(Nc1ccc2cn[nH]c2c1)Nc1ccc2cn[nH]c2c1</td>\n",
       "      <td>OTJWJLLGPAFTIP-KNLWZTMUNA-N</td>\n",
       "      <td>5.7</td>\n",
       "      <td>NaN</td>\n",
       "      <td>1</td>\n",
       "      <td>5.7</td>\n",
       "      <td>5.143797</td>\n",
       "      <td>0.654045</td>\n",
       "      <td>1.429730</td>\n",
       "    </tr>\n",
       "    <tr>\n",
       "      <th>1</th>\n",
       "      <td>1</td>\n",
       "      <td>Cc1[nH]c2ccccc2c1C(c1ccccn1)N1CCC(C)CC1</td>\n",
       "      <td>NBKDMBGWUXYCJB-UHFFFAOYNA-N</td>\n",
       "      <td>4.6</td>\n",
       "      <td>&lt;</td>\n",
       "      <td>0</td>\n",
       "      <td>4.6</td>\n",
       "      <td>5.243888</td>\n",
       "      <td>0.833574</td>\n",
       "      <td>2.197562</td>\n",
       "    </tr>\n",
       "  </tbody>\n",
       "</table>\n",
       "</div>"
      ],
      "text/plain": [
       "   Unnamed: 0                        base_rdkit_smiles  \\\n",
       "0           0  S=C(Nc1ccc2cn[nH]c2c1)Nc1ccc2cn[nH]c2c1   \n",
       "1           1  Cc1[nH]c2ccccc2c1C(c1ccccn1)N1CCC(C)CC1   \n",
       "\n",
       "                   compound_id  pIC50 relation  active  pIC50_actual  \\\n",
       "0  OTJWJLLGPAFTIP-KNLWZTMUNA-N    5.7      NaN       1           5.7   \n",
       "1  NBKDMBGWUXYCJB-UHFFFAOYNA-N    4.6        <       0           4.6   \n",
       "\n",
       "   pIC50_pred  pIC50_std  AD_index  \n",
       "0    5.143797   0.654045  1.429730  \n",
       "1    5.243888   0.833574  2.197562  "
      ]
     },
     "execution_count": 99,
     "metadata": {},
     "output_type": "execute_result"
    }
   ],
   "source": [
    "# read pred df - union test\n",
    "pred_df = pd.read_csv(outdir+target+'union_test_pred_df_using_best_model.csv')\n",
    "print(pred_df.shape)\n",
    "pred_df.head(2)"
   ]
  },
  {
   "cell_type": "code",
   "execution_count": 100,
   "metadata": {},
   "outputs": [
    {
     "data": {
      "text/plain": [
       "count    1843.000000\n",
       "mean        5.147879\n",
       "std         0.775329\n",
       "min         1.348527\n",
       "25%         4.602060\n",
       "50%         5.000000\n",
       "75%         5.500000\n",
       "max         9.000000\n",
       "Name: pIC50_actual, dtype: float64"
      ]
     },
     "execution_count": 100,
     "metadata": {},
     "output_type": "execute_result"
    }
   ],
   "source": [
    "pred_df.pIC50_actual.describe()"
   ]
  },
  {
   "cell_type": "code",
   "execution_count": 101,
   "metadata": {},
   "outputs": [
    {
     "data": {
      "text/plain": [
       "count    1843.000000\n",
       "mean        5.128650\n",
       "std         0.448415\n",
       "min         4.020329\n",
       "25%         4.891172\n",
       "50%         5.054979\n",
       "75%         5.278692\n",
       "max         7.693412\n",
       "Name: pIC50_pred, dtype: float64"
      ]
     },
     "execution_count": 101,
     "metadata": {},
     "output_type": "execute_result"
    }
   ],
   "source": [
    "pred_df.pIC50_pred.describe()"
   ]
  },
  {
   "cell_type": "code",
   "execution_count": 102,
   "metadata": {},
   "outputs": [
    {
     "data": {
      "image/png": "[encoded data removed]",
      "text/plain": [
       "<Figure size 720x360 with 1 Axes>"
      ]
     },
     "metadata": {},
     "output_type": "display_data"
    }
   ],
   "source": [
    "plt.figure(figsize=(10,5))\n",
    "bins = np.linspace(0, 10, 50)\n",
    "plt.hist(pred_df.pIC50_actual, bins, alpha=0.5, label='pIC50_actual')\n",
    "plt.hist(pred_df.pIC50_pred, bins, alpha=0.5, label='pIC50_pred')\n",
    "plt.legend(loc='upper right')\n",
    "plt.show()"
   ]
  },
  {
   "cell_type": "code",
   "execution_count": 103,
   "metadata": {},
   "outputs": [],
   "source": [
    "# # do we need to do this section?\n",
    "# #-----------------------------------------------------------------------\n",
    "# pred_df['censored']=pred_df[f'relation']\n",
    "# pred_df.loc[pred_df.censored.isna(),'censored']='='\n",
    "# relcat = CategoricalDtype(categories=[\"=\",\"<\", \">\",], ordered=True)\n",
    "# pred_df.censored=pred_df.censored.astype(relcat)\n",
    "#-----------------------------------------------------------------------"
   ]
  },
  {
   "cell_type": "code",
   "execution_count": 104,
   "metadata": {},
   "outputs": [],
   "source": [
    "# define catefories of prediction based on pIC50_std \n",
    "#add a new column category next to the pIC50_std. \n",
    "#category = pd.cut(pred_df.pIC50_std,bins=[0.00,0.42,0.55,0.64,1.44],labels=[0,1,2,3]) # labelled accordign to percentiles\n",
    "#pred_df.insert(5,'categories',category)\n",
    "#pred_df.categories\n",
    "\n",
    "bin_values = [0,2,4,6,8,10]\n",
    "pIC50_actual_category = pd.cut(pred_df.pIC50_actual,bins=bin_values,labels=[1,2,3,4,5])\n",
    "# pred_df.insert(3,'pIC50_actual_category',pIC50_actual_category)\n",
    "pred_df['pIC50_actual_category'] = pIC50_actual_category\n",
    "pIC50_pred_category = pd.cut(pred_df.pIC50_pred,bins=bin_values,labels=[1,2,3,4,5])\n",
    "# pred_df.insert(3,'pIC50_pred_category',pIC50_actual_category)\n",
    "pred_df['pIC50_pred_category'] = pIC50_pred_category"
   ]
  },
  {
   "cell_type": "code",
   "execution_count": 105,
   "metadata": {},
   "outputs": [
    {
     "data": {
      "text/html": [
       "<div>\n",
       "<style scoped>\n",
       "    .dataframe tbody tr th:only-of-type {\n",
       "        vertical-align: middle;\n",
       "    }\n",
       "\n",
       "    .dataframe tbody tr th {\n",
       "        vertical-align: top;\n",
       "    }\n",
       "\n",
       "    .dataframe thead th {\n",
       "        text-align: right;\n",
       "    }\n",
       "</style>\n",
       "<table border=\"1\" class=\"dataframe\">\n",
       "  <thead>\n",
       "    <tr style=\"text-align: right;\">\n",
       "      <th></th>\n",
       "      <th>pIC50_actual_category</th>\n",
       "      <th>pIC50_pred_category</th>\n",
       "    </tr>\n",
       "  </thead>\n",
       "  <tbody>\n",
       "    <tr>\n",
       "      <th>0</th>\n",
       "      <td>3</td>\n",
       "      <td>3</td>\n",
       "    </tr>\n",
       "    <tr>\n",
       "      <th>1</th>\n",
       "      <td>3</td>\n",
       "      <td>3</td>\n",
       "    </tr>\n",
       "    <tr>\n",
       "      <th>2</th>\n",
       "      <td>4</td>\n",
       "      <td>3</td>\n",
       "    </tr>\n",
       "    <tr>\n",
       "      <th>3</th>\n",
       "      <td>3</td>\n",
       "      <td>3</td>\n",
       "    </tr>\n",
       "    <tr>\n",
       "      <th>4</th>\n",
       "      <td>3</td>\n",
       "      <td>3</td>\n",
       "    </tr>\n",
       "    <tr>\n",
       "      <th>...</th>\n",
       "      <td>...</td>\n",
       "      <td>...</td>\n",
       "    </tr>\n",
       "    <tr>\n",
       "      <th>1838</th>\n",
       "      <td>3</td>\n",
       "      <td>3</td>\n",
       "    </tr>\n",
       "    <tr>\n",
       "      <th>1839</th>\n",
       "      <td>4</td>\n",
       "      <td>3</td>\n",
       "    </tr>\n",
       "    <tr>\n",
       "      <th>1840</th>\n",
       "      <td>3</td>\n",
       "      <td>3</td>\n",
       "    </tr>\n",
       "    <tr>\n",
       "      <th>1841</th>\n",
       "      <td>3</td>\n",
       "      <td>3</td>\n",
       "    </tr>\n",
       "    <tr>\n",
       "      <th>1842</th>\n",
       "      <td>3</td>\n",
       "      <td>3</td>\n",
       "    </tr>\n",
       "  </tbody>\n",
       "</table>\n",
       "<p>1843 rows × 2 columns</p>\n",
       "</div>"
      ],
      "text/plain": [
       "     pIC50_actual_category pIC50_pred_category\n",
       "0                        3                   3\n",
       "1                        3                   3\n",
       "2                        4                   3\n",
       "3                        3                   3\n",
       "4                        3                   3\n",
       "...                    ...                 ...\n",
       "1838                     3                   3\n",
       "1839                     4                   3\n",
       "1840                     3                   3\n",
       "1841                     3                   3\n",
       "1842                     3                   3\n",
       "\n",
       "[1843 rows x 2 columns]"
      ]
     },
     "execution_count": 105,
     "metadata": {},
     "output_type": "execute_result"
    }
   ],
   "source": [
    "pred_df[['pIC50_actual_category', 'pIC50_pred_category']]"
   ]
  },
  {
   "cell_type": "code",
   "execution_count": 106,
   "metadata": {},
   "outputs": [
    {
     "data": {
      "text/plain": [
       "array([[   0,    0,    2,    0,    0],\n",
       "       [   0,    0,   52,    0,    0],\n",
       "       [   0,    0, 1527,   19,    0],\n",
       "       [   0,    0,  153,   83,    0],\n",
       "       [   0,    0,    6,    1,    0]])"
      ]
     },
     "execution_count": 106,
     "metadata": {},
     "output_type": "execute_result"
    }
   ],
   "source": [
    "# Creating  a confusion matrix,which compares the y_test and y_pred\n",
    "from sklearn.metrics import confusion_matrix\n",
    "cnf_matrix = confusion_matrix(pred_df['pIC50_actual_category'], pred_df['pIC50_pred_category'])\n",
    "cnf_matrix"
   ]
  },
  {
   "cell_type": "code",
   "execution_count": 107,
   "metadata": {},
   "outputs": [
    {
     "data": {
      "text/html": [
       "<div>\n",
       "<style scoped>\n",
       "    .dataframe tbody tr th:only-of-type {\n",
       "        vertical-align: middle;\n",
       "    }\n",
       "\n",
       "    .dataframe tbody tr th {\n",
       "        vertical-align: top;\n",
       "    }\n",
       "\n",
       "    .dataframe thead th {\n",
       "        text-align: right;\n",
       "    }\n",
       "</style>\n",
       "<table border=\"1\" class=\"dataframe\">\n",
       "  <thead>\n",
       "    <tr style=\"text-align: right;\">\n",
       "      <th></th>\n",
       "      <th>1</th>\n",
       "      <th>2</th>\n",
       "      <th>3</th>\n",
       "      <th>4</th>\n",
       "      <th>5</th>\n",
       "    </tr>\n",
       "  </thead>\n",
       "  <tbody>\n",
       "    <tr>\n",
       "      <th>1</th>\n",
       "      <td>0</td>\n",
       "      <td>0</td>\n",
       "      <td>2</td>\n",
       "      <td>0</td>\n",
       "      <td>0</td>\n",
       "    </tr>\n",
       "    <tr>\n",
       "      <th>2</th>\n",
       "      <td>0</td>\n",
       "      <td>0</td>\n",
       "      <td>52</td>\n",
       "      <td>0</td>\n",
       "      <td>0</td>\n",
       "    </tr>\n",
       "    <tr>\n",
       "      <th>3</th>\n",
       "      <td>0</td>\n",
       "      <td>0</td>\n",
       "      <td>1527</td>\n",
       "      <td>19</td>\n",
       "      <td>0</td>\n",
       "    </tr>\n",
       "    <tr>\n",
       "      <th>4</th>\n",
       "      <td>0</td>\n",
       "      <td>0</td>\n",
       "      <td>153</td>\n",
       "      <td>83</td>\n",
       "      <td>0</td>\n",
       "    </tr>\n",
       "    <tr>\n",
       "      <th>5</th>\n",
       "      <td>0</td>\n",
       "      <td>0</td>\n",
       "      <td>6</td>\n",
       "      <td>1</td>\n",
       "      <td>0</td>\n",
       "    </tr>\n",
       "  </tbody>\n",
       "</table>\n",
       "</div>"
      ],
      "text/plain": [
       "   1  2     3   4  5\n",
       "1  0  0     2   0  0\n",
       "2  0  0    52   0  0\n",
       "3  0  0  1527  19  0\n",
       "4  0  0   153  83  0\n",
       "5  0  0     6   1  0"
      ]
     },
     "execution_count": 107,
     "metadata": {},
     "output_type": "execute_result"
    }
   ],
   "source": [
    "# Creating a dataframe for a array-formatted Confusion matrix,so it will be easy for plotting.\n",
    "cm_df = pd.DataFrame(cnf_matrix,\n",
    "                     index = [1,2,3,4,5], \n",
    "                     columns = [1,2,3,4,5])\n",
    "cm_df"
   ]
  },
  {
   "cell_type": "code",
   "execution_count": 108,
   "metadata": {},
   "outputs": [
    {
     "data": {
      "text/plain": [
       "<Figure size 720x360 with 0 Axes>"
      ]
     },
     "metadata": {},
     "output_type": "display_data"
    },
    {
     "data": {
      "image/png": "[encoded data removed]",
      "text/plain": [
       "<Figure size 432x288 with 2 Axes>"
      ]
     },
     "metadata": {},
     "output_type": "display_data"
    }
   ],
   "source": [
    "#Plotting the confusion matrix\n",
    "from sklearn import metrics\n",
    "\n",
    "plt.figure(figsize=(10,5))\n",
    "plt.rc('font', size=12)          # controls default text sizes\n",
    "# plt.rc('axes', titlesize=SMALL_SIZE)     # fontsize of the axes title\n",
    "plt.rc('axes', labelsize=12)    # fontsize of the x and y labels\n",
    "plt.rc('xtick', labelsize=12)    # fontsize of the tick labels\n",
    "plt.rc('ytick', labelsize=12)    # fontsize of the tick labels\n",
    "# sns.heatmap(cm_df, annot=True)\n",
    "# plt.title('Confusion Matrix')\n",
    "# plt.ylabel('Actal Values')\n",
    "# plt.xlabel('Predicted Values')\n",
    "# plt.show()\n",
    "\n",
    "cm_display = metrics.ConfusionMatrixDisplay(confusion_matrix = cnf_matrix, display_labels = [1,2,3,4,5])\n",
    "\n",
    "cm_display.plot()\n",
    "plt.show()"
   ]
  },
  {
   "cell_type": "code",
   "execution_count": 109,
   "metadata": {
    "scrolled": true
   },
   "outputs": [
    {
     "name": "stderr",
     "output_type": "stream",
     "text": [
      "/home/sarkart4/miniconda3/envs/ampl-1.4.1/lib/python3.7/site-packages/sklearn/metrics/_classification.py:1318: UndefinedMetricWarning: Precision and F-score are ill-defined and being set to 0.0 in labels with no predicted samples. Use `zero_division` parameter to control this behavior.\n",
      "  _warn_prf(average, modifier, msg_start, len(result))\n",
      "/home/sarkart4/miniconda3/envs/ampl-1.4.1/lib/python3.7/site-packages/sklearn/metrics/_classification.py:1318: UndefinedMetricWarning: Precision and F-score are ill-defined and being set to 0.0 in labels with no predicted samples. Use `zero_division` parameter to control this behavior.\n",
      "  _warn_prf(average, modifier, msg_start, len(result))\n",
      "/home/sarkart4/miniconda3/envs/ampl-1.4.1/lib/python3.7/site-packages/sklearn/metrics/_classification.py:1318: UndefinedMetricWarning: Precision and F-score are ill-defined and being set to 0.0 in labels with no predicted samples. Use `zero_division` parameter to control this behavior.\n",
      "  _warn_prf(average, modifier, msg_start, len(result))\n"
     ]
    },
    {
     "data": {
      "text/html": [
       "<div>\n",
       "<style scoped>\n",
       "    .dataframe tbody tr th:only-of-type {\n",
       "        vertical-align: middle;\n",
       "    }\n",
       "\n",
       "    .dataframe tbody tr th {\n",
       "        vertical-align: top;\n",
       "    }\n",
       "\n",
       "    .dataframe thead th {\n",
       "        text-align: right;\n",
       "    }\n",
       "</style>\n",
       "<table border=\"1\" class=\"dataframe\">\n",
       "  <thead>\n",
       "    <tr style=\"text-align: right;\">\n",
       "      <th></th>\n",
       "      <th>precision</th>\n",
       "      <th>recall</th>\n",
       "      <th>f1-score</th>\n",
       "      <th>support</th>\n",
       "    </tr>\n",
       "  </thead>\n",
       "  <tbody>\n",
       "    <tr>\n",
       "      <th>1</th>\n",
       "      <td>0.000000</td>\n",
       "      <td>0.000000</td>\n",
       "      <td>0.000000</td>\n",
       "      <td>2.000000</td>\n",
       "    </tr>\n",
       "    <tr>\n",
       "      <th>2</th>\n",
       "      <td>0.000000</td>\n",
       "      <td>0.000000</td>\n",
       "      <td>0.000000</td>\n",
       "      <td>52.000000</td>\n",
       "    </tr>\n",
       "    <tr>\n",
       "      <th>3</th>\n",
       "      <td>0.877586</td>\n",
       "      <td>0.987710</td>\n",
       "      <td>0.929397</td>\n",
       "      <td>1546.000000</td>\n",
       "    </tr>\n",
       "    <tr>\n",
       "      <th>4</th>\n",
       "      <td>0.805825</td>\n",
       "      <td>0.351695</td>\n",
       "      <td>0.489676</td>\n",
       "      <td>236.000000</td>\n",
       "    </tr>\n",
       "    <tr>\n",
       "      <th>5</th>\n",
       "      <td>0.000000</td>\n",
       "      <td>0.000000</td>\n",
       "      <td>0.000000</td>\n",
       "      <td>7.000000</td>\n",
       "    </tr>\n",
       "    <tr>\n",
       "      <th>accuracy</th>\n",
       "      <td>0.873576</td>\n",
       "      <td>0.873576</td>\n",
       "      <td>0.873576</td>\n",
       "      <td>0.873576</td>\n",
       "    </tr>\n",
       "    <tr>\n",
       "      <th>macro avg</th>\n",
       "      <td>0.336682</td>\n",
       "      <td>0.267881</td>\n",
       "      <td>0.283815</td>\n",
       "      <td>1843.000000</td>\n",
       "    </tr>\n",
       "    <tr>\n",
       "      <th>weighted avg</th>\n",
       "      <td>0.839351</td>\n",
       "      <td>0.873576</td>\n",
       "      <td>0.842329</td>\n",
       "      <td>1843.000000</td>\n",
       "    </tr>\n",
       "  </tbody>\n",
       "</table>\n",
       "</div>"
      ],
      "text/plain": [
       "              precision    recall  f1-score      support\n",
       "1              0.000000  0.000000  0.000000     2.000000\n",
       "2              0.000000  0.000000  0.000000    52.000000\n",
       "3              0.877586  0.987710  0.929397  1546.000000\n",
       "4              0.805825  0.351695  0.489676   236.000000\n",
       "5              0.000000  0.000000  0.000000     7.000000\n",
       "accuracy       0.873576  0.873576  0.873576     0.873576\n",
       "macro avg      0.336682  0.267881  0.283815  1843.000000\n",
       "weighted avg   0.839351  0.873576  0.842329  1843.000000"
      ]
     },
     "execution_count": 109,
     "metadata": {},
     "output_type": "execute_result"
    }
   ],
   "source": [
    "from sklearn.metrics import classification_report\n",
    "report = classification_report(pred_df['pIC50_actual_category'], pred_df['pIC50_pred_category'], \n",
    "                      labels=[1,2,3,4,5], digits=3, output_dict=True)\n",
    "df = pd.DataFrame(report).transpose()\n",
    "df"
   ]
  },
  {
   "cell_type": "markdown",
   "metadata": {},
   "source": [
    "# Try different binning\n",
    "\n",
    "#### Categorize 'pIC50_Actual' and 'pIC50_Pred' to 'active' or not. \n",
    "\n",
    "#### Please ignore previous 'active' and 'relation' column.\n",
    "\n",
    "#### If pIC50 >= 5: active (1) else: Inactive (0). The threashold 5 is chosen based on scientific observation that compounds with pIC50 >=5 are highly likely to have drug properties. \n",
    "\n",
    "#### Two new columns are added: 'actual_binary_class' and 'pred_binary_class'. \n"
   ]
  },
  {
   "cell_type": "code",
   "execution_count": 110,
   "metadata": {},
   "outputs": [
    {
     "data": {
      "text/html": [
       "<div>\n",
       "<style scoped>\n",
       "    .dataframe tbody tr th:only-of-type {\n",
       "        vertical-align: middle;\n",
       "    }\n",
       "\n",
       "    .dataframe tbody tr th {\n",
       "        vertical-align: top;\n",
       "    }\n",
       "\n",
       "    .dataframe thead th {\n",
       "        text-align: right;\n",
       "    }\n",
       "</style>\n",
       "<table border=\"1\" class=\"dataframe\">\n",
       "  <thead>\n",
       "    <tr style=\"text-align: right;\">\n",
       "      <th></th>\n",
       "      <th>Unnamed: 0</th>\n",
       "      <th>base_rdkit_smiles</th>\n",
       "      <th>compound_id</th>\n",
       "      <th>pIC50</th>\n",
       "      <th>relation</th>\n",
       "      <th>active</th>\n",
       "      <th>pIC50_actual</th>\n",
       "      <th>pIC50_pred</th>\n",
       "      <th>pIC50_std</th>\n",
       "      <th>AD_index</th>\n",
       "      <th>pIC50_actual_category</th>\n",
       "      <th>pIC50_pred_category</th>\n",
       "      <th>actual_binary_class</th>\n",
       "      <th>pred_binary_class</th>\n",
       "    </tr>\n",
       "  </thead>\n",
       "  <tbody>\n",
       "    <tr>\n",
       "      <th>0</th>\n",
       "      <td>0</td>\n",
       "      <td>S=C(Nc1ccc2cn[nH]c2c1)Nc1ccc2cn[nH]c2c1</td>\n",
       "      <td>OTJWJLLGPAFTIP-KNLWZTMUNA-N</td>\n",
       "      <td>5.700000</td>\n",
       "      <td>NaN</td>\n",
       "      <td>1</td>\n",
       "      <td>5.700000</td>\n",
       "      <td>5.143797</td>\n",
       "      <td>0.654045</td>\n",
       "      <td>1.429730</td>\n",
       "      <td>3</td>\n",
       "      <td>3</td>\n",
       "      <td>1.0</td>\n",
       "      <td>1.0</td>\n",
       "    </tr>\n",
       "    <tr>\n",
       "      <th>1</th>\n",
       "      <td>1</td>\n",
       "      <td>Cc1[nH]c2ccccc2c1C(c1ccccn1)N1CCC(C)CC1</td>\n",
       "      <td>NBKDMBGWUXYCJB-UHFFFAOYNA-N</td>\n",
       "      <td>4.600000</td>\n",
       "      <td>&lt;</td>\n",
       "      <td>0</td>\n",
       "      <td>4.600000</td>\n",
       "      <td>5.243888</td>\n",
       "      <td>0.833574</td>\n",
       "      <td>2.197562</td>\n",
       "      <td>3</td>\n",
       "      <td>3</td>\n",
       "      <td>0.0</td>\n",
       "      <td>1.0</td>\n",
       "    </tr>\n",
       "    <tr>\n",
       "      <th>2</th>\n",
       "      <td>2</td>\n",
       "      <td>CC(C)(Cc1c[nH]c2ccc(Cl)cc12)NCCOc1ccccc1OCC1CC1</td>\n",
       "      <td>XLZHXAXXJVKTFM-UHFFFAOYNA-N</td>\n",
       "      <td>7.000000</td>\n",
       "      <td>NaN</td>\n",
       "      <td>1</td>\n",
       "      <td>7.000000</td>\n",
       "      <td>5.660848</td>\n",
       "      <td>0.923944</td>\n",
       "      <td>2.454029</td>\n",
       "      <td>4</td>\n",
       "      <td>3</td>\n",
       "      <td>1.0</td>\n",
       "      <td>1.0</td>\n",
       "    </tr>\n",
       "    <tr>\n",
       "      <th>3</th>\n",
       "      <td>3</td>\n",
       "      <td>CCN(CC)C(=O)CN1CCCC(c2nc3ccccc3n2Cc2ccc(F)cc2)C1</td>\n",
       "      <td>CHEMBL1935432</td>\n",
       "      <td>5.720831</td>\n",
       "      <td>NaN</td>\n",
       "      <td>1</td>\n",
       "      <td>5.720831</td>\n",
       "      <td>5.210171</td>\n",
       "      <td>0.489335</td>\n",
       "      <td>0.246560</td>\n",
       "      <td>3</td>\n",
       "      <td>3</td>\n",
       "      <td>1.0</td>\n",
       "      <td>1.0</td>\n",
       "    </tr>\n",
       "    <tr>\n",
       "      <th>4</th>\n",
       "      <td>4</td>\n",
       "      <td>NC(=NCc1ccc(Cl)cc1)SCCCc1c[nH]cn1</td>\n",
       "      <td>UCAIEVHKDLMIFL-QDYITYEQNA-N</td>\n",
       "      <td>4.900000</td>\n",
       "      <td>&lt;</td>\n",
       "      <td>0</td>\n",
       "      <td>4.900000</td>\n",
       "      <td>5.249349</td>\n",
       "      <td>0.686501</td>\n",
       "      <td>2.114539</td>\n",
       "      <td>3</td>\n",
       "      <td>3</td>\n",
       "      <td>0.0</td>\n",
       "      <td>1.0</td>\n",
       "    </tr>\n",
       "    <tr>\n",
       "      <th>...</th>\n",
       "      <td>...</td>\n",
       "      <td>...</td>\n",
       "      <td>...</td>\n",
       "      <td>...</td>\n",
       "      <td>...</td>\n",
       "      <td>...</td>\n",
       "      <td>...</td>\n",
       "      <td>...</td>\n",
       "      <td>...</td>\n",
       "      <td>...</td>\n",
       "      <td>...</td>\n",
       "      <td>...</td>\n",
       "      <td>...</td>\n",
       "      <td>...</td>\n",
       "    </tr>\n",
       "    <tr>\n",
       "      <th>1838</th>\n",
       "      <td>1838</td>\n",
       "      <td>CCC(CCC(CC)NC(=O)C(NC(=O)N(C)Cc1csc(C(C)C)n1)C...</td>\n",
       "      <td>RXURCMJQURPYAA-JTAQYXEDSA-N</td>\n",
       "      <td>5.187087</td>\n",
       "      <td>NaN</td>\n",
       "      <td>1</td>\n",
       "      <td>5.187087</td>\n",
       "      <td>5.316523</td>\n",
       "      <td>0.470811</td>\n",
       "      <td>0.000001</td>\n",
       "      <td>3</td>\n",
       "      <td>3</td>\n",
       "      <td>1.0</td>\n",
       "      <td>1.0</td>\n",
       "    </tr>\n",
       "    <tr>\n",
       "      <th>1839</th>\n",
       "      <td>1839</td>\n",
       "      <td>CC(C)(C)c1ccc(SCC(c2ccccn2)c2cnc[nH]2)cc1</td>\n",
       "      <td>UNQMLUWBMWGIRY-UHFFFAOYSA-N</td>\n",
       "      <td>6.086186</td>\n",
       "      <td>NaN</td>\n",
       "      <td>1</td>\n",
       "      <td>6.086186</td>\n",
       "      <td>5.499550</td>\n",
       "      <td>0.687560</td>\n",
       "      <td>1.300730</td>\n",
       "      <td>4</td>\n",
       "      <td>3</td>\n",
       "      <td>1.0</td>\n",
       "      <td>1.0</td>\n",
       "    </tr>\n",
       "    <tr>\n",
       "      <th>1840</th>\n",
       "      <td>1840</td>\n",
       "      <td>Cc1c(NC(=O)OC[C@@H]2COCCN2)cn2ncnc(Nc3ccc4c(cn...</td>\n",
       "      <td>CHEMBL1645462</td>\n",
       "      <td>4.397940</td>\n",
       "      <td>&lt;</td>\n",
       "      <td>0</td>\n",
       "      <td>4.397940</td>\n",
       "      <td>4.634213</td>\n",
       "      <td>0.698343</td>\n",
       "      <td>2.661888</td>\n",
       "      <td>3</td>\n",
       "      <td>3</td>\n",
       "      <td>0.0</td>\n",
       "      <td>0.0</td>\n",
       "    </tr>\n",
       "    <tr>\n",
       "      <th>1841</th>\n",
       "      <td>1841</td>\n",
       "      <td>Cc1cccc(CNc2cc(-c3ccoc3)ncn2)c1</td>\n",
       "      <td>ULRGIOOICJQYLZ-HCKMINDGNA-N</td>\n",
       "      <td>4.600000</td>\n",
       "      <td>&lt;</td>\n",
       "      <td>0</td>\n",
       "      <td>4.600000</td>\n",
       "      <td>4.740827</td>\n",
       "      <td>0.250607</td>\n",
       "      <td>0.375060</td>\n",
       "      <td>3</td>\n",
       "      <td>3</td>\n",
       "      <td>0.0</td>\n",
       "      <td>0.0</td>\n",
       "    </tr>\n",
       "    <tr>\n",
       "      <th>1842</th>\n",
       "      <td>1842</td>\n",
       "      <td>Cc1cccc(NC(=O)C2CCN(S(=O)(=O)c3cccc4nsnc34)CC2)n1</td>\n",
       "      <td>XEVHJCSSYCATMY-UYBDAZJANA-N</td>\n",
       "      <td>4.850000</td>\n",
       "      <td>&lt;</td>\n",
       "      <td>0</td>\n",
       "      <td>4.850000</td>\n",
       "      <td>4.911179</td>\n",
       "      <td>0.595466</td>\n",
       "      <td>1.861746</td>\n",
       "      <td>3</td>\n",
       "      <td>3</td>\n",
       "      <td>0.0</td>\n",
       "      <td>0.0</td>\n",
       "    </tr>\n",
       "  </tbody>\n",
       "</table>\n",
       "<p>1843 rows × 14 columns</p>\n",
       "</div>"
      ],
      "text/plain": [
       "      Unnamed: 0                                  base_rdkit_smiles  \\\n",
       "0              0            S=C(Nc1ccc2cn[nH]c2c1)Nc1ccc2cn[nH]c2c1   \n",
       "1              1            Cc1[nH]c2ccccc2c1C(c1ccccn1)N1CCC(C)CC1   \n",
       "2              2    CC(C)(Cc1c[nH]c2ccc(Cl)cc12)NCCOc1ccccc1OCC1CC1   \n",
       "3              3   CCN(CC)C(=O)CN1CCCC(c2nc3ccccc3n2Cc2ccc(F)cc2)C1   \n",
       "4              4                  NC(=NCc1ccc(Cl)cc1)SCCCc1c[nH]cn1   \n",
       "...          ...                                                ...   \n",
       "1838        1838  CCC(CCC(CC)NC(=O)C(NC(=O)N(C)Cc1csc(C(C)C)n1)C...   \n",
       "1839        1839          CC(C)(C)c1ccc(SCC(c2ccccn2)c2cnc[nH]2)cc1   \n",
       "1840        1840  Cc1c(NC(=O)OC[C@@H]2COCCN2)cn2ncnc(Nc3ccc4c(cn...   \n",
       "1841        1841                    Cc1cccc(CNc2cc(-c3ccoc3)ncn2)c1   \n",
       "1842        1842  Cc1cccc(NC(=O)C2CCN(S(=O)(=O)c3cccc4nsnc34)CC2)n1   \n",
       "\n",
       "                      compound_id     pIC50 relation  active  pIC50_actual  \\\n",
       "0     OTJWJLLGPAFTIP-KNLWZTMUNA-N  5.700000      NaN       1      5.700000   \n",
       "1     NBKDMBGWUXYCJB-UHFFFAOYNA-N  4.600000        <       0      4.600000   \n",
       "2     XLZHXAXXJVKTFM-UHFFFAOYNA-N  7.000000      NaN       1      7.000000   \n",
       "3                   CHEMBL1935432  5.720831      NaN       1      5.720831   \n",
       "4     UCAIEVHKDLMIFL-QDYITYEQNA-N  4.900000        <       0      4.900000   \n",
       "...                           ...       ...      ...     ...           ...   \n",
       "1838  RXURCMJQURPYAA-JTAQYXEDSA-N  5.187087      NaN       1      5.187087   \n",
       "1839  UNQMLUWBMWGIRY-UHFFFAOYSA-N  6.086186      NaN       1      6.086186   \n",
       "1840                CHEMBL1645462  4.397940        <       0      4.397940   \n",
       "1841  ULRGIOOICJQYLZ-HCKMINDGNA-N  4.600000        <       0      4.600000   \n",
       "1842  XEVHJCSSYCATMY-UYBDAZJANA-N  4.850000        <       0      4.850000   \n",
       "\n",
       "      pIC50_pred  pIC50_std  AD_index pIC50_actual_category  \\\n",
       "0       5.143797   0.654045  1.429730                     3   \n",
       "1       5.243888   0.833574  2.197562                     3   \n",
       "2       5.660848   0.923944  2.454029                     4   \n",
       "3       5.210171   0.489335  0.246560                     3   \n",
       "4       5.249349   0.686501  2.114539                     3   \n",
       "...          ...        ...       ...                   ...   \n",
       "1838    5.316523   0.470811  0.000001                     3   \n",
       "1839    5.499550   0.687560  1.300730                     4   \n",
       "1840    4.634213   0.698343  2.661888                     3   \n",
       "1841    4.740827   0.250607  0.375060                     3   \n",
       "1842    4.911179   0.595466  1.861746                     3   \n",
       "\n",
       "     pIC50_pred_category  actual_binary_class  pred_binary_class  \n",
       "0                      3                  1.0                1.0  \n",
       "1                      3                  0.0                1.0  \n",
       "2                      3                  1.0                1.0  \n",
       "3                      3                  1.0                1.0  \n",
       "4                      3                  0.0                1.0  \n",
       "...                  ...                  ...                ...  \n",
       "1838                   3                  1.0                1.0  \n",
       "1839                   3                  1.0                1.0  \n",
       "1840                   3                  0.0                0.0  \n",
       "1841                   3                  0.0                0.0  \n",
       "1842                   3                  0.0                0.0  \n",
       "\n",
       "[1843 rows x 14 columns]"
      ]
     },
     "execution_count": 110,
     "metadata": {},
     "output_type": "execute_result"
    }
   ],
   "source": [
    "# I am generating 'active' column based on only pIC50 threashold 5\n",
    "active_threshold = 5 \n",
    "# Right inclusive=False implies pIC50 >=5 is active, else, inactive\n",
    "cd.add_classification_column(thresholds=active_threshold, value_column='pIC50_actual', label_column='actual_binary_class', data=pred_df, right_inclusive=False)\n",
    "cd.add_classification_column(thresholds=active_threshold, value_column='pIC50_pred', label_column='pred_binary_class', data=pred_df, right_inclusive=False)"
   ]
  },
  {
   "cell_type": "code",
   "execution_count": 111,
   "metadata": {},
   "outputs": [
    {
     "data": {
      "text/plain": [
       "1.0    952\n",
       "0.0    891\n",
       "Name: actual_binary_class, dtype: int64"
      ]
     },
     "execution_count": 111,
     "metadata": {},
     "output_type": "execute_result"
    }
   ],
   "source": [
    "pred_df.actual_binary_class.value_counts()"
   ]
  },
  {
   "cell_type": "code",
   "execution_count": 112,
   "metadata": {},
   "outputs": [
    {
     "data": {
      "text/plain": [
       "1.0    1125\n",
       "0.0     718\n",
       "Name: pred_binary_class, dtype: int64"
      ]
     },
     "execution_count": 112,
     "metadata": {},
     "output_type": "execute_result"
    }
   ],
   "source": [
    "pred_df.pred_binary_class.value_counts()"
   ]
  },
  {
   "cell_type": "code",
   "execution_count": 113,
   "metadata": {},
   "outputs": [
    {
     "data": {
      "text/plain": [
       "array([[541, 350],\n",
       "       [177, 775]])"
      ]
     },
     "execution_count": 113,
     "metadata": {},
     "output_type": "execute_result"
    }
   ],
   "source": [
    "# Creating  a confusion matrix,which compares the actual_binary_class and pred_binary_class\n",
    "from sklearn.metrics import confusion_matrix\n",
    "cnf_matrix = confusion_matrix(pred_df['actual_binary_class'], pred_df['pred_binary_class'])\n",
    "cnf_matrix"
   ]
  },
  {
   "cell_type": "code",
   "execution_count": 114,
   "metadata": {},
   "outputs": [
    {
     "data": {
      "text/plain": [
       "<Figure size 720x360 with 0 Axes>"
      ]
     },
     "metadata": {},
     "output_type": "display_data"
    },
    {
     "data": {
      "image/png": "[encoded data removed]",
      "text/plain": [
       "<Figure size 432x288 with 2 Axes>"
      ]
     },
     "metadata": {},
     "output_type": "display_data"
    }
   ],
   "source": [
    "#Plotting the confusion matrix\n",
    "from sklearn import metrics\n",
    "plt.figure(figsize=(10,5))\n",
    "plt.rc('font', size=12)          # controls default text sizes\n",
    "#plt.rc('axes', titlesize=SMALL_SIZE)     # fontsize of the axes title\n",
    "plt.rc('axes', labelsize=12)    # fontsize of the x and y labels\n",
    "plt.rc('xtick', labelsize=12)    # fontsize of the tick labels\n",
    "plt.rc('ytick', labelsize=12)    # fontsize of the tick labels\n",
    "cm_display = metrics.ConfusionMatrixDisplay(confusion_matrix = cnf_matrix)#, display_labels = )\n",
    "cm_display.plot()\n",
    "plt.show()"
   ]
  },
  {
   "cell_type": "code",
   "execution_count": 115,
   "metadata": {},
   "outputs": [
    {
     "data": {
      "text/html": [
       "<div>\n",
       "<style scoped>\n",
       "    .dataframe tbody tr th:only-of-type {\n",
       "        vertical-align: middle;\n",
       "    }\n",
       "\n",
       "    .dataframe tbody tr th {\n",
       "        vertical-align: top;\n",
       "    }\n",
       "\n",
       "    .dataframe thead th {\n",
       "        text-align: right;\n",
       "    }\n",
       "</style>\n",
       "<table border=\"1\" class=\"dataframe\">\n",
       "  <thead>\n",
       "    <tr style=\"text-align: right;\">\n",
       "      <th></th>\n",
       "      <th>precision</th>\n",
       "      <th>recall</th>\n",
       "      <th>f1-score</th>\n",
       "      <th>support</th>\n",
       "    </tr>\n",
       "  </thead>\n",
       "  <tbody>\n",
       "    <tr>\n",
       "      <th>0.0</th>\n",
       "      <td>0.753482</td>\n",
       "      <td>0.607183</td>\n",
       "      <td>0.672467</td>\n",
       "      <td>891.000000</td>\n",
       "    </tr>\n",
       "    <tr>\n",
       "      <th>1.0</th>\n",
       "      <td>0.688889</td>\n",
       "      <td>0.814076</td>\n",
       "      <td>0.746269</td>\n",
       "      <td>952.000000</td>\n",
       "    </tr>\n",
       "    <tr>\n",
       "      <th>accuracy</th>\n",
       "      <td>0.714053</td>\n",
       "      <td>0.714053</td>\n",
       "      <td>0.714053</td>\n",
       "      <td>0.714053</td>\n",
       "    </tr>\n",
       "    <tr>\n",
       "      <th>macro avg</th>\n",
       "      <td>0.721185</td>\n",
       "      <td>0.710629</td>\n",
       "      <td>0.709368</td>\n",
       "      <td>1843.000000</td>\n",
       "    </tr>\n",
       "    <tr>\n",
       "      <th>weighted avg</th>\n",
       "      <td>0.720116</td>\n",
       "      <td>0.714053</td>\n",
       "      <td>0.710589</td>\n",
       "      <td>1843.000000</td>\n",
       "    </tr>\n",
       "  </tbody>\n",
       "</table>\n",
       "</div>"
      ],
      "text/plain": [
       "              precision    recall  f1-score      support\n",
       "0.0            0.753482  0.607183  0.672467   891.000000\n",
       "1.0            0.688889  0.814076  0.746269   952.000000\n",
       "accuracy       0.714053  0.714053  0.714053     0.714053\n",
       "macro avg      0.721185  0.710629  0.709368  1843.000000\n",
       "weighted avg   0.720116  0.714053  0.710589  1843.000000"
      ]
     },
     "execution_count": 115,
     "metadata": {},
     "output_type": "execute_result"
    }
   ],
   "source": [
    "from sklearn.metrics import classification_report\n",
    "report = classification_report(pred_df['actual_binary_class'], pred_df['pred_binary_class'], digits=3, output_dict=True)\n",
    "df = pd.DataFrame(report).transpose()\n",
    "df"
   ]
  },
  {
   "cell_type": "code",
   "execution_count": 116,
   "metadata": {},
   "outputs": [
    {
     "data": {
      "image/png": "[encoded data removed]",
      "text/plain": [
       "<Figure size 432x288 with 2 Axes>"
      ]
     },
     "metadata": {},
     "output_type": "display_data"
    }
   ],
   "source": [
    "# ust a better representation!\n",
    "group_names = ['True Neg','False Pos','False Neg','True Pos']\n",
    "group_counts = [\"{0:0.0f}\".format(value) for value in cnf_matrix.flatten()]\n",
    "group_percentages = [\"{0:.2%}\".format(value) for value in cnf_matrix.flatten()/np.sum(cnf_matrix)]\n",
    "labels = [f\"{v1}\\n{v2}\\n{v3}\" for v1, v2, v3 in zip(group_names,group_counts,group_percentages)]\n",
    "labels = np.asarray(labels).reshape(2,2)\n",
    "ax = sns.heatmap(cnf_matrix, annot=labels, fmt='', cmap='Blues')\n",
    "ax.set_title('Confusion Matrix with Active',fontsize=14);\n",
    "ax.set_xlabel('Predicted Values')\n",
    "ax.set_ylabel('Actual Values ');\n",
    "## Ticket labels - List must be in alphabetical order\n",
    "ax.xaxis.set_ticklabels(['False','True'])\n",
    "ax.yaxis.set_ticklabels(['False','True'])\n",
    "## Display the visualization of the Confusion Matrix.\n",
    "plt.show()"
   ]
  },
  {
   "cell_type": "code",
   "execution_count": 117,
   "metadata": {},
   "outputs": [
    {
     "data": {
      "text/html": [
       "<div>\n",
       "<style scoped>\n",
       "    .dataframe tbody tr th:only-of-type {\n",
       "        vertical-align: middle;\n",
       "    }\n",
       "\n",
       "    .dataframe tbody tr th {\n",
       "        vertical-align: top;\n",
       "    }\n",
       "\n",
       "    .dataframe thead th {\n",
       "        text-align: right;\n",
       "    }\n",
       "</style>\n",
       "<table border=\"1\" class=\"dataframe\">\n",
       "  <thead>\n",
       "    <tr style=\"text-align: right;\">\n",
       "      <th></th>\n",
       "      <th>Unnamed: 0</th>\n",
       "      <th>base_rdkit_smiles</th>\n",
       "      <th>compound_id</th>\n",
       "      <th>pIC50</th>\n",
       "      <th>relation</th>\n",
       "      <th>active</th>\n",
       "      <th>pIC50_actual</th>\n",
       "      <th>pIC50_pred</th>\n",
       "      <th>pIC50_std</th>\n",
       "      <th>AD_index</th>\n",
       "      <th>pIC50_actual_category</th>\n",
       "      <th>pIC50_pred_category</th>\n",
       "      <th>actual_binary_class</th>\n",
       "      <th>pred_binary_class</th>\n",
       "    </tr>\n",
       "  </thead>\n",
       "  <tbody>\n",
       "    <tr>\n",
       "      <th>24</th>\n",
       "      <td>24</td>\n",
       "      <td>N/C(=N\\c1ccc2c(c1)CCN2C1CCNCC1)c1cccs1</td>\n",
       "      <td>BLZNLOLTHDUEOL-WVGMYIGGNA-N</td>\n",
       "      <td>6.12494</td>\n",
       "      <td>NaN</td>\n",
       "      <td>1</td>\n",
       "      <td>6.12494</td>\n",
       "      <td>4.855591</td>\n",
       "      <td>0.863832</td>\n",
       "      <td>0.825559</td>\n",
       "      <td>4</td>\n",
       "      <td>3</td>\n",
       "      <td>1.0</td>\n",
       "      <td>0.0</td>\n",
       "    </tr>\n",
       "    <tr>\n",
       "      <th>25</th>\n",
       "      <td>25</td>\n",
       "      <td>N#Cc1ccc(CN2CC[C@@]3(CCCN(C(=O)Oc4ccccc4)C3)C2...</td>\n",
       "      <td>DQMIAVFBQMCSQL-QHCPKHFHNA-N</td>\n",
       "      <td>5.50000</td>\n",
       "      <td>NaN</td>\n",
       "      <td>1</td>\n",
       "      <td>5.50000</td>\n",
       "      <td>4.935152</td>\n",
       "      <td>0.461913</td>\n",
       "      <td>0.262888</td>\n",
       "      <td>3</td>\n",
       "      <td>3</td>\n",
       "      <td>1.0</td>\n",
       "      <td>0.0</td>\n",
       "    </tr>\n",
       "    <tr>\n",
       "      <th>31</th>\n",
       "      <td>31</td>\n",
       "      <td>CCCCCCCC/C=C\\CCCCCCCC(=O)NCc1ccc(O)c(OC)c1</td>\n",
       "      <td>OPZKBPQVWDSATI-QMTUQTLUNA-N</td>\n",
       "      <td>5.50000</td>\n",
       "      <td>NaN</td>\n",
       "      <td>1</td>\n",
       "      <td>5.50000</td>\n",
       "      <td>4.567990</td>\n",
       "      <td>0.445678</td>\n",
       "      <td>0.160099</td>\n",
       "      <td>3</td>\n",
       "      <td>3</td>\n",
       "      <td>1.0</td>\n",
       "      <td>0.0</td>\n",
       "    </tr>\n",
       "    <tr>\n",
       "      <th>43</th>\n",
       "      <td>43</td>\n",
       "      <td>COc1cccc(CN(CCN2CCOCC2)C(=O)Nc2ccc(-c3cn[nH]c3...</td>\n",
       "      <td>GQMCGRYPKMDMGV-JJFURXLTNA-N</td>\n",
       "      <td>5.60000</td>\n",
       "      <td>NaN</td>\n",
       "      <td>1</td>\n",
       "      <td>5.60000</td>\n",
       "      <td>4.875632</td>\n",
       "      <td>0.646032</td>\n",
       "      <td>0.856746</td>\n",
       "      <td>3</td>\n",
       "      <td>3</td>\n",
       "      <td>1.0</td>\n",
       "      <td>0.0</td>\n",
       "    </tr>\n",
       "    <tr>\n",
       "      <th>47</th>\n",
       "      <td>47</td>\n",
       "      <td>O=c1[nH]c(-c2ccc(OCc3ccc(F)cc3F)cc2)nc2ccccc12</td>\n",
       "      <td>CHEMBL4084413</td>\n",
       "      <td>5.00000</td>\n",
       "      <td>&lt;</td>\n",
       "      <td>0</td>\n",
       "      <td>5.00000</td>\n",
       "      <td>4.941072</td>\n",
       "      <td>0.501968</td>\n",
       "      <td>1.272576</td>\n",
       "      <td>3</td>\n",
       "      <td>3</td>\n",
       "      <td>1.0</td>\n",
       "      <td>0.0</td>\n",
       "    </tr>\n",
       "    <tr>\n",
       "      <th>...</th>\n",
       "      <td>...</td>\n",
       "      <td>...</td>\n",
       "      <td>...</td>\n",
       "      <td>...</td>\n",
       "      <td>...</td>\n",
       "      <td>...</td>\n",
       "      <td>...</td>\n",
       "      <td>...</td>\n",
       "      <td>...</td>\n",
       "      <td>...</td>\n",
       "      <td>...</td>\n",
       "      <td>...</td>\n",
       "      <td>...</td>\n",
       "      <td>...</td>\n",
       "    </tr>\n",
       "    <tr>\n",
       "      <th>1778</th>\n",
       "      <td>1778</td>\n",
       "      <td>COc1ccc(CNc2ncncc2-c2cccc(C#N)c2)c(OC)c1</td>\n",
       "      <td>ZZEABKJZGWFGAG-MPIMZMORNA-N</td>\n",
       "      <td>5.30000</td>\n",
       "      <td>NaN</td>\n",
       "      <td>1</td>\n",
       "      <td>5.30000</td>\n",
       "      <td>4.999319</td>\n",
       "      <td>0.331269</td>\n",
       "      <td>0.000001</td>\n",
       "      <td>3</td>\n",
       "      <td>3</td>\n",
       "      <td>1.0</td>\n",
       "      <td>0.0</td>\n",
       "    </tr>\n",
       "    <tr>\n",
       "      <th>1799</th>\n",
       "      <td>1799</td>\n",
       "      <td>Cc1cc2nc(C3CCCN(C(=O)NCc4ccccc4)C3)[nH]c2cc1C</td>\n",
       "      <td>ZIKFGGUCAYDDAI-DVIAZDKANA-N</td>\n",
       "      <td>5.30000</td>\n",
       "      <td>NaN</td>\n",
       "      <td>1</td>\n",
       "      <td>5.30000</td>\n",
       "      <td>4.985725</td>\n",
       "      <td>0.541876</td>\n",
       "      <td>2.125144</td>\n",
       "      <td>3</td>\n",
       "      <td>3</td>\n",
       "      <td>1.0</td>\n",
       "      <td>0.0</td>\n",
       "    </tr>\n",
       "    <tr>\n",
       "      <th>1820</th>\n",
       "      <td>1820</td>\n",
       "      <td>O=C(OCC12CCN(CC1)CC2)c1c[nH]c2cc(F)ccc12</td>\n",
       "      <td>CHEMBL3951269</td>\n",
       "      <td>5.00000</td>\n",
       "      <td>&lt;</td>\n",
       "      <td>0</td>\n",
       "      <td>5.00000</td>\n",
       "      <td>4.992068</td>\n",
       "      <td>0.283585</td>\n",
       "      <td>0.000001</td>\n",
       "      <td>3</td>\n",
       "      <td>3</td>\n",
       "      <td>1.0</td>\n",
       "      <td>0.0</td>\n",
       "    </tr>\n",
       "    <tr>\n",
       "      <th>1827</th>\n",
       "      <td>1827</td>\n",
       "      <td>O=C1CC2(CCCC2)CC(=O)N1CCCCN1CCN(c2ncccn2)CC1</td>\n",
       "      <td>QWCRAEMEVRGPNT-UHFFFAOYNA-N</td>\n",
       "      <td>5.00000</td>\n",
       "      <td>NaN</td>\n",
       "      <td>1</td>\n",
       "      <td>5.00000</td>\n",
       "      <td>4.942748</td>\n",
       "      <td>0.539041</td>\n",
       "      <td>1.525269</td>\n",
       "      <td>3</td>\n",
       "      <td>3</td>\n",
       "      <td>1.0</td>\n",
       "      <td>0.0</td>\n",
       "    </tr>\n",
       "    <tr>\n",
       "      <th>1831</th>\n",
       "      <td>1831</td>\n",
       "      <td>Cc1c(C(=O)N2Cc3nnn(-c4ncc(F)cn4)c3C[C@@H]2C)cc...</td>\n",
       "      <td>CHEMBL3936866</td>\n",
       "      <td>5.00000</td>\n",
       "      <td>&lt;</td>\n",
       "      <td>0</td>\n",
       "      <td>5.00000</td>\n",
       "      <td>4.935562</td>\n",
       "      <td>0.432949</td>\n",
       "      <td>1.678112</td>\n",
       "      <td>3</td>\n",
       "      <td>3</td>\n",
       "      <td>1.0</td>\n",
       "      <td>0.0</td>\n",
       "    </tr>\n",
       "  </tbody>\n",
       "</table>\n",
       "<p>177 rows × 14 columns</p>\n",
       "</div>"
      ],
      "text/plain": [
       "      Unnamed: 0                                  base_rdkit_smiles  \\\n",
       "24            24             N/C(=N\\c1ccc2c(c1)CCN2C1CCNCC1)c1cccs1   \n",
       "25            25  N#Cc1ccc(CN2CC[C@@]3(CCCN(C(=O)Oc4ccccc4)C3)C2...   \n",
       "31            31         CCCCCCCC/C=C\\CCCCCCCC(=O)NCc1ccc(O)c(OC)c1   \n",
       "43            43  COc1cccc(CN(CCN2CCOCC2)C(=O)Nc2ccc(-c3cn[nH]c3...   \n",
       "47            47     O=c1[nH]c(-c2ccc(OCc3ccc(F)cc3F)cc2)nc2ccccc12   \n",
       "...          ...                                                ...   \n",
       "1778        1778           COc1ccc(CNc2ncncc2-c2cccc(C#N)c2)c(OC)c1   \n",
       "1799        1799      Cc1cc2nc(C3CCCN(C(=O)NCc4ccccc4)C3)[nH]c2cc1C   \n",
       "1820        1820           O=C(OCC12CCN(CC1)CC2)c1c[nH]c2cc(F)ccc12   \n",
       "1827        1827       O=C1CC2(CCCC2)CC(=O)N1CCCCN1CCN(c2ncccn2)CC1   \n",
       "1831        1831  Cc1c(C(=O)N2Cc3nnn(-c4ncc(F)cn4)c3C[C@@H]2C)cc...   \n",
       "\n",
       "                      compound_id    pIC50 relation  active  pIC50_actual  \\\n",
       "24    BLZNLOLTHDUEOL-WVGMYIGGNA-N  6.12494      NaN       1       6.12494   \n",
       "25    DQMIAVFBQMCSQL-QHCPKHFHNA-N  5.50000      NaN       1       5.50000   \n",
       "31    OPZKBPQVWDSATI-QMTUQTLUNA-N  5.50000      NaN       1       5.50000   \n",
       "43    GQMCGRYPKMDMGV-JJFURXLTNA-N  5.60000      NaN       1       5.60000   \n",
       "47                  CHEMBL4084413  5.00000        <       0       5.00000   \n",
       "...                           ...      ...      ...     ...           ...   \n",
       "1778  ZZEABKJZGWFGAG-MPIMZMORNA-N  5.30000      NaN       1       5.30000   \n",
       "1799  ZIKFGGUCAYDDAI-DVIAZDKANA-N  5.30000      NaN       1       5.30000   \n",
       "1820                CHEMBL3951269  5.00000        <       0       5.00000   \n",
       "1827  QWCRAEMEVRGPNT-UHFFFAOYNA-N  5.00000      NaN       1       5.00000   \n",
       "1831                CHEMBL3936866  5.00000        <       0       5.00000   \n",
       "\n",
       "      pIC50_pred  pIC50_std  AD_index pIC50_actual_category  \\\n",
       "24      4.855591   0.863832  0.825559                     4   \n",
       "25      4.935152   0.461913  0.262888                     3   \n",
       "31      4.567990   0.445678  0.160099                     3   \n",
       "43      4.875632   0.646032  0.856746                     3   \n",
       "47      4.941072   0.501968  1.272576                     3   \n",
       "...          ...        ...       ...                   ...   \n",
       "1778    4.999319   0.331269  0.000001                     3   \n",
       "1799    4.985725   0.541876  2.125144                     3   \n",
       "1820    4.992068   0.283585  0.000001                     3   \n",
       "1827    4.942748   0.539041  1.525269                     3   \n",
       "1831    4.935562   0.432949  1.678112                     3   \n",
       "\n",
       "     pIC50_pred_category  actual_binary_class  pred_binary_class  \n",
       "24                     3                  1.0                0.0  \n",
       "25                     3                  1.0                0.0  \n",
       "31                     3                  1.0                0.0  \n",
       "43                     3                  1.0                0.0  \n",
       "47                     3                  1.0                0.0  \n",
       "...                  ...                  ...                ...  \n",
       "1778                   3                  1.0                0.0  \n",
       "1799                   3                  1.0                0.0  \n",
       "1820                   3                  1.0                0.0  \n",
       "1827                   3                  1.0                0.0  \n",
       "1831                   3                  1.0                0.0  \n",
       "\n",
       "[177 rows x 14 columns]"
      ]
     },
     "execution_count": 117,
     "metadata": {},
     "output_type": "execute_result"
    }
   ],
   "source": [
    "# get FP compounds\n",
    "X_test = pred_df\n",
    "y_test = pred_df['actual_binary_class']\n",
    "y_pred = pred_df['pred_binary_class']\n",
    "\n",
    "# get compounds for False Positive where actual class is 1 and predicted class is 0\n",
    "FP_1 = X_test[(y_test == 1) & (y_pred == 0)]\n",
    "\n",
    "# get compounds for False Positive where actual class is 0 and predicted class is 1\n",
    "FP_0 = X_test[(y_test == 0) & (y_pred == 1)]\n",
    "[len(FP_1), len(FP_0)]\n",
    "FP_1"
   ]
  },
  {
   "cell_type": "code",
   "execution_count": 118,
   "metadata": {},
   "outputs": [
    {
     "data": {
      "image/png": "[encoded data removed]",
      "text/plain": [
       "<IPython.core.display.Image object>"
      ]
     },
     "execution_count": 118,
     "metadata": {},
     "output_type": "execute_result"
    }
   ],
   "source": [
    "# visualize False Positive compounds\n",
    "from rdkit import Chem\n",
    "FP_1_smiles = FP_1['base_rdkit_smiles'].to_list()[:9]\n",
    "FP_1_mols = [Chem.MolFromSmiles(smiles) for smiles in FP_1_smiles]\n",
    "Chem.Draw.MolsToGridImage(FP_1_mols, molsPerRow=3, legends=FP_1['base_rdkit_smiles'].to_list()[:9], subImgSize=(500,200))"
   ]
  },
  {
   "cell_type": "code",
   "execution_count": 119,
   "metadata": {},
   "outputs": [
    {
     "data": {
      "image/png": "[encoded data removed]",
      "text/plain": [
       "<IPython.core.display.Image object>"
      ]
     },
     "execution_count": 119,
     "metadata": {},
     "output_type": "execute_result"
    }
   ],
   "source": [
    "# visualize False Positive compounds\n",
    "from rdkit import Chem\n",
    "FP_0_smiles = FP_0['base_rdkit_smiles'].to_list()[:9]\n",
    "FP_0_mols = [Chem.MolFromSmiles(smiles) for smiles in FP_0_smiles]\n",
    "Chem.Draw.MolsToGridImage(FP_0_mols, molsPerRow=3, legends=FP_0['base_rdkit_smiles'].to_list()[:9], subImgSize=(500,200))"
   ]
  }
 ],
 "metadata": {
  "kernelspec": {
   "display_name": "ampl-1.4.1",
   "language": "python",
   "name": "ampl-1.4.1"
  },
  "language_info": {
   "codemirror_mode": {
    "name": "ipython",
    "version": 3
   },
   "file_extension": ".py",
   "mimetype": "text/x-python",
   "name": "python",
   "nbconvert_exporter": "python",
   "pygments_lexer": "ipython3",
   "version": "3.7.10"
  }
 },
 "nbformat": 4,
 "nbformat_minor": 4
}
