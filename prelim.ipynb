{
 "cells": [
  {
   "cell_type": "markdown",
   "id": "17aa4d28",
   "metadata": {},
   "source": [
    "# Data curation for Safety Screen Targets"
   ]
  },
  {
   "cell_type": "markdown",
   "id": "7ba187a8",
   "metadata": {},
   "source": [
    "# Read data"
   ]
  },
  {
   "cell_type": "code",
   "execution_count": 49,
   "id": "1564eac4",
   "metadata": {},
   "outputs": [
    {
     "name": "stdout",
     "output_type": "stream",
     "text": [
      "job ok\n"
     ]
    }
   ],
   "source": [
    "from atomsci.ddm.pipeline import model_pipeline as mp\n",
    "from atomsci.ddm.pipeline import predict_from_model as pfm\n",
    "print(\"job ok\")"
   ]
  },
  {
   "cell_type": "code",
   "execution_count": 50,
   "id": "2a447b36",
   "metadata": {},
   "outputs": [],
   "source": [
    "#genes = ['CHRM1', 'CHRM2', 'CHRM3', 'CYP2C9', 'CYP2D6', 'CYP3A4', 'HRH1', 'KCNH2', 'PIK3CG'] #PIK3CG - model file name problem\n",
    "gene='PIK3CG' "
   ]
  },
  {
   "cell_type": "code",
   "execution_count": 51,
   "id": "ea1a37ab",
   "metadata": {},
   "outputs": [
    {
     "name": "stdout",
     "output_type": "stream",
     "text": [
      "Module 1\n"
     ]
    }
   ],
   "source": [
    "from atomsci.ddm.utils import model_retrain\n",
    "import sys, os\n",
    "import pandas as pd\n",
    "%config Completer.use_jedi=False\n",
    "print(\"Module 1\")"
   ]
  },
  {
   "cell_type": "code",
   "execution_count": 52,
   "id": "d70e47ab",
   "metadata": {},
   "outputs": [],
   "source": [
    "home_dir='/home/sarkart4/MoDaC/NCI_DOE_Archive/ATOM/Safety_Screen_Targets/'\n",
    "#!ls $home_dir"
   ]
  },
  {
   "cell_type": "code",
   "execution_count": 53,
   "id": "a7f1cdea",
   "metadata": {},
   "outputs": [
    {
     "data": {
      "text/html": [
       "<div>\n",
       "<style scoped>\n",
       "    .dataframe tbody tr th:only-of-type {\n",
       "        vertical-align: middle;\n",
       "    }\n",
       "\n",
       "    .dataframe tbody tr th {\n",
       "        vertical-align: top;\n",
       "    }\n",
       "\n",
       "    .dataframe thead th {\n",
       "        text-align: right;\n",
       "    }\n",
       "</style>\n",
       "<table border=\"1\" class=\"dataframe\">\n",
       "  <thead>\n",
       "    <tr style=\"text-align: right;\">\n",
       "      <th></th>\n",
       "      <th>base_rdkit_smiles</th>\n",
       "      <th>compound_id</th>\n",
       "      <th>pIC50</th>\n",
       "      <th>relation</th>\n",
       "      <th>active</th>\n",
       "    </tr>\n",
       "  </thead>\n",
       "  <tbody>\n",
       "    <tr>\n",
       "      <th>0</th>\n",
       "      <td>COc1cc(Nc2nc3ccccc3nc2NS(=O)(=O)c2cccnc2)cc(C(...</td>\n",
       "      <td>CHEMBL3652121</td>\n",
       "      <td>5.508638</td>\n",
       "      <td>NaN</td>\n",
       "      <td>1</td>\n",
       "    </tr>\n",
       "    <tr>\n",
       "      <th>1</th>\n",
       "      <td>CN(C)c1ccc(Nc2ccc3c(c2)N(c2nc4c(s2)C(=O)NC(C)(...</td>\n",
       "      <td>CHEMBL489596</td>\n",
       "      <td>7.619859</td>\n",
       "      <td>NaN</td>\n",
       "      <td>1</td>\n",
       "    </tr>\n",
       "  </tbody>\n",
       "</table>\n",
       "</div>"
      ],
      "text/plain": [
       "                                   base_rdkit_smiles    compound_id     pIC50  \\\n",
       "0  COc1cc(Nc2nc3ccccc3nc2NS(=O)(=O)c2cccnc2)cc(C(...  CHEMBL3652121  5.508638   \n",
       "1  CN(C)c1ccc(Nc2ccc3c(c2)N(c2nc4c(s2)C(=O)NC(C)(...   CHEMBL489596  7.619859   \n",
       "\n",
       "  relation  active  \n",
       "0      NaN       1  \n",
       "1      NaN       1  "
      ]
     },
     "execution_count": 53,
     "metadata": {},
     "output_type": "execute_result"
    }
   ],
   "source": [
    "train=pd.read_csv(os.path.join(home_dir, gene.upper()+'-ampl-1.1.0/'+gene.lower()+'_union_trainset_base_smiles.csv'))\n",
    "train.head(2)"
   ]
  },
  {
   "cell_type": "code",
   "execution_count": 54,
   "id": "7c90a501",
   "metadata": {},
   "outputs": [
    {
     "data": {
      "text/html": [
       "<div>\n",
       "<style scoped>\n",
       "    .dataframe tbody tr th:only-of-type {\n",
       "        vertical-align: middle;\n",
       "    }\n",
       "\n",
       "    .dataframe tbody tr th {\n",
       "        vertical-align: top;\n",
       "    }\n",
       "\n",
       "    .dataframe thead th {\n",
       "        text-align: right;\n",
       "    }\n",
       "</style>\n",
       "<table border=\"1\" class=\"dataframe\">\n",
       "  <thead>\n",
       "    <tr style=\"text-align: right;\">\n",
       "      <th></th>\n",
       "      <th>base_rdkit_smiles</th>\n",
       "      <th>compound_id</th>\n",
       "      <th>pIC50</th>\n",
       "      <th>relation</th>\n",
       "      <th>active</th>\n",
       "    </tr>\n",
       "  </thead>\n",
       "  <tbody>\n",
       "    <tr>\n",
       "      <th>0</th>\n",
       "      <td>COc1cnc(Nc2cnc(Cl)c(NS(=O)(=O)N(C)C)c2)c(-c2nc...</td>\n",
       "      <td>BHEMPSVJQFJQIN-GETYNBQFNA-N</td>\n",
       "      <td>8.66</td>\n",
       "      <td>NaN</td>\n",
       "      <td>1</td>\n",
       "    </tr>\n",
       "    <tr>\n",
       "      <th>1</th>\n",
       "      <td>Cc1ccc(Nc2ncc(CN3CCN(S(C)(=O)=O)CC3)cc2-c2nc(C...</td>\n",
       "      <td>NRNPLKNQEHSDHU-JBVIFLSCNA-N</td>\n",
       "      <td>7.51</td>\n",
       "      <td>NaN</td>\n",
       "      <td>1</td>\n",
       "    </tr>\n",
       "  </tbody>\n",
       "</table>\n",
       "</div>"
      ],
      "text/plain": [
       "                                   base_rdkit_smiles  \\\n",
       "0  COc1cnc(Nc2cnc(Cl)c(NS(=O)(=O)N(C)C)c2)c(-c2nc...   \n",
       "1  Cc1ccc(Nc2ncc(CN3CCN(S(C)(=O)=O)CC3)cc2-c2nc(C...   \n",
       "\n",
       "                   compound_id  pIC50 relation  active  \n",
       "0  BHEMPSVJQFJQIN-GETYNBQFNA-N   8.66      NaN       1  \n",
       "1  NRNPLKNQEHSDHU-JBVIFLSCNA-N   7.51      NaN       1  "
      ]
     },
     "execution_count": 54,
     "metadata": {},
     "output_type": "execute_result"
    }
   ],
   "source": [
    "test=pd.read_csv(os.path.join(home_dir, gene.upper()+'-ampl-1.1.0/'+gene.lower()+'_union_testset_base_smiles.csv'))\n",
    "test.head(2)"
   ]
  },
  {
   "cell_type": "code",
   "execution_count": 55,
   "id": "e094e39e",
   "metadata": {},
   "outputs": [
    {
     "data": {
      "text/html": [
       "<div>\n",
       "<style scoped>\n",
       "    .dataframe tbody tr th:only-of-type {\n",
       "        vertical-align: middle;\n",
       "    }\n",
       "\n",
       "    .dataframe tbody tr th {\n",
       "        vertical-align: top;\n",
       "    }\n",
       "\n",
       "    .dataframe thead th {\n",
       "        text-align: right;\n",
       "    }\n",
       "</style>\n",
       "<table border=\"1\" class=\"dataframe\">\n",
       "  <thead>\n",
       "    <tr style=\"text-align: right;\">\n",
       "      <th></th>\n",
       "      <th>cmpd_id</th>\n",
       "      <th>fold</th>\n",
       "      <th>subset</th>\n",
       "    </tr>\n",
       "  </thead>\n",
       "  <tbody>\n",
       "    <tr>\n",
       "      <th>0</th>\n",
       "      <td>CHEMBL489596</td>\n",
       "      <td>0</td>\n",
       "      <td>train</td>\n",
       "    </tr>\n",
       "    <tr>\n",
       "      <th>1</th>\n",
       "      <td>ZCXQHOPHHNFUNN-UHFFFAOYSA-N</td>\n",
       "      <td>0</td>\n",
       "      <td>train</td>\n",
       "    </tr>\n",
       "  </tbody>\n",
       "</table>\n",
       "</div>"
      ],
      "text/plain": [
       "                       cmpd_id  fold subset\n",
       "0                 CHEMBL489596     0  train\n",
       "1  ZCXQHOPHHNFUNN-UHFFFAOYSA-N     0  train"
      ]
     },
     "execution_count": 55,
     "metadata": {},
     "output_type": "execute_result"
    }
   ],
   "source": [
    "# locate the split file\n",
    "split_file=[file for file in os.listdir(os.path.join(home_dir, gene.upper()+'-ampl-1.1.0/')) if file.startswith(gene.lower()+'_union_trainset_base_smiles_train_valid_test_')][0]\n",
    "split=pd.read_csv(home_dir+gene.upper()+'-ampl-1.1.0/'+split_file)\n",
    "split.head(2)"
   ]
  },
  {
   "cell_type": "code",
   "execution_count": 56,
   "id": "ab7ded91",
   "metadata": {},
   "outputs": [
    {
     "data": {
      "text/plain": [
       "((2611, 5), (428, 5), (2611, 3))"
      ]
     },
     "execution_count": 56,
     "metadata": {},
     "output_type": "execute_result"
    }
   ],
   "source": [
    "train.shape, test.shape, split.shape"
   ]
  },
  {
   "cell_type": "code",
   "execution_count": 57,
   "id": "e9e3cdd4",
   "metadata": {},
   "outputs": [
    {
     "data": {
      "text/plain": [
       "train    2214\n",
       "valid     391\n",
       "test        6\n",
       "Name: subset, dtype: int64"
      ]
     },
     "execution_count": 57,
     "metadata": {},
     "output_type": "execute_result"
    }
   ],
   "source": [
    "split.subset.value_counts()"
   ]
  },
  {
   "cell_type": "markdown",
   "id": "209d0fcc",
   "metadata": {},
   "source": [
    "## before merging split_file and union_test files, there were very few number of testdata in test_file\n",
    "## we are merging union_train, union_test and split_file to get train-validation-test split on overall data"
   ]
  },
  {
   "cell_type": "code",
   "execution_count": 58,
   "id": "da0386c9",
   "metadata": {},
   "outputs": [
    {
     "data": {
      "text/plain": [
       "train    2214\n",
       "test      434\n",
       "valid     391\n",
       "Name: subset, dtype: int64"
      ]
     },
     "execution_count": 58,
     "metadata": {},
     "output_type": "execute_result"
    }
   ],
   "source": [
    "# merge all info together and cut out feature columns\n",
    "pred_df=pd.concat([train,test])\n",
    "pred_df=pred_df.merge(split, how='left', left_on='compound_id', right_on='cmpd_id')\n",
    "pred_df.loc[pred_df.subset.isna(), 'subset']='test'\n",
    "\n",
    "#pred_df=pred_df[['compound_id', 'base_rdkit_smiles', 'pIC50_actual','pIC50_pred', 'relation', 'active', 'AD_index', 'subset']]\n",
    "pred_df\n",
    "pred_df.subset.value_counts()"
   ]
  },
  {
   "cell_type": "markdown",
   "id": "6e06feec",
   "metadata": {},
   "source": [
    "## plot "
   ]
  },
  {
   "cell_type": "code",
   "execution_count": 59,
   "id": "9c668821",
   "metadata": {},
   "outputs": [
    {
     "data": {
      "image/png": "[encoded data removed]",
      "text/plain": [
       "<Figure size 576x72 with 1 Axes>"
      ]
     },
     "metadata": {
      "needs_background": "light"
     },
     "output_type": "display_data"
    }
   ],
   "source": [
    "import math\n",
    "from sklearn.metrics import r2_score\n",
    "from atomsci.ddm.pipeline import diversity_plots as dp\n",
    "from pandas.api.types import CategoricalDtype\n",
    "import matplotlib.pyplot as plt\n",
    "import seaborn as sns\n",
    "# Create an array with the colors you want to use\n",
    "colors = [\n",
    "    \"#7682A4\",\n",
    "    \"#A7DDD8\",\n",
    "    \"#373C50\",\n",
    "    \"#694691\",\n",
    "    \"#BE2369\",\n",
    "    \"#EB1E23\",\n",
    "    \"#6EC8BE\",\n",
    "    \"#FFC30F\",\n",
    "]\n",
    "# Set your custom color palette\n",
    "pal=sns.color_palette(colors)\n",
    "sns.set_palette(pal)\n",
    "sns.palplot(pal)"
   ]
  },
  {
   "cell_type": "code",
   "execution_count": 60,
   "id": "b450ece7",
   "metadata": {},
   "outputs": [],
   "source": [
    "# categorize data to plot correctly\n",
    "if 'relation' in pred_df.columns:\n",
    "    pred_df['censored']=pred_df[f'relation']\n",
    "    pred_df.loc[pred_df.censored.isna(),'censored']='='\n",
    "    relcat = CategoricalDtype(categories=[\"=\",\"<\", \">\",], ordered=True)\n",
    "    pred_df.censored=pred_df.censored.astype(relcat)\n",
    "subcat = CategoricalDtype(categories=['train','valid','test'], ordered=True)\n",
    "pred_df.subset = pred_df.subset.astype(subcat)"
   ]
  },
  {
   "cell_type": "code",
   "execution_count": 61,
   "id": "0276c753",
   "metadata": {},
   "outputs": [],
   "source": [
    "outdir=os.path.join(home_dir, 'Diversity_Plots_union_train_test_and_split/')\n",
    "if not os.path.exists(outdir): \n",
    "    os.makedirs(outdir)"
   ]
  },
  {
   "cell_type": "code",
   "execution_count": 62,
   "id": "d4d41f3a",
   "metadata": {},
   "outputs": [
    {
     "name": "stdout",
     "output_type": "stream",
     "text": [
      "         dist subset\n",
      "0    0.159420   test\n",
      "1    0.387755   test\n",
      "2    0.191176   test\n",
      "3    0.297872   test\n",
      "4    0.363636   test\n",
      "..        ...    ...\n",
      "820  0.188679  valid\n",
      "821  0.338462  valid\n",
      "822  0.532258  valid\n",
      "823  0.354430  valid\n",
      "824  0.230769  valid\n",
      "\n",
      "[825 rows x 2 columns]\n"
     ]
    },
    {
     "data": {
      "image/png": "[encoded data removed]",
      "text/plain": [
       "<Figure size 432x432 with 1 Axes>"
      ]
     },
     "metadata": {
      "needs_background": "light"
     },
     "output_type": "display_data"
    }
   ],
   "source": [
    "sns.set_context('paper')\n",
    "#fig, ax = plt.subplots(1,1,figsize=(6,6))\n",
    "#sns.kdeplot(data=pred_df, x='AD_index', hue='subset', common_norm=False, log_scale=True, ax=ax);\n",
    "#ax.set_title('Distribution of AD indices among various subsets');\n",
    "dists = dp.plot_tani_dist_distr(pred_df, 'base_rdkit_smiles', df_name=gene.upper()+' Union', subsets=True, out_dir=outdir)\n",
    "print(dists)"
   ]
  },
  {
   "cell_type": "code",
   "execution_count": 63,
   "id": "68859b9f",
   "metadata": {},
   "outputs": [],
   "source": [
    "!ls $outdir"
   ]
  },
  {
   "cell_type": "code",
   "execution_count": 64,
   "id": "be23266b",
   "metadata": {},
   "outputs": [
    {
     "data": {
      "text/plain": [
       "train    2611\n",
       "test      428\n",
       "Name: subset, dtype: int64"
      ]
     },
     "execution_count": 64,
     "metadata": {},
     "output_type": "execute_result"
    }
   ],
   "source": [
    "train['subset']='train'\n",
    "test['subset']='test'\n",
    "pred_df=pd.concat([train,test])\n",
    "pred_df\n",
    "pred_df.subset.value_counts()"
   ]
  },
  {
   "cell_type": "code",
   "execution_count": 65,
   "id": "b697c3ce",
   "metadata": {},
   "outputs": [
    {
     "name": "stdout",
     "output_type": "stream",
     "text": [
      "         dist subset\n",
      "0    0.175439   test\n",
      "1    0.145161   test\n",
      "2    0.000000   test\n",
      "3    0.268657   test\n",
      "4    0.367347   test\n",
      "..        ...    ...\n",
      "423  0.387755   test\n",
      "424  0.166667   test\n",
      "425  0.129870   test\n",
      "426  0.202532   test\n",
      "427  0.183333   test\n",
      "\n",
      "[428 rows x 2 columns]\n"
     ]
    },
    {
     "data": {
      "image/png": "[encoded data removed]",
      "text/plain": [
       "<Figure size 432x432 with 1 Axes>"
      ]
     },
     "metadata": {
      "needs_background": "light"
     },
     "output_type": "display_data"
    }
   ],
   "source": [
    "sns.set_context('paper')\n",
    "dists = dp.plot_tani_dist_distr(pred_df, 'base_rdkit_smiles', df_name=gene.upper()+' Union', subsets=True, out_dir=outdir)\n",
    "print(dists)"
   ]
  },
  {
   "cell_type": "code",
   "execution_count": 66,
   "id": "f2b9f8a1",
   "metadata": {},
   "outputs": [],
   "source": [
    "# import json\n",
    "# #genes = ['CHRM1', 'CHRM2', 'CHRM3', 'CYP2C9', 'CYP2D6', 'CYP3A4', 'HRH1', 'KCNH2', 'PIK3CG'] #PIK3CG - model file name problem\n",
    "# genes = ['CYP3A4'] \n",
    "# for gene in genes:\n",
    "#     print(gene)\n",
    "#     model_path = os.path.join(home_dir, gene.lower()+'_union_trainset_graphconv_ampl-1.1.0/')\n",
    "#     print(os.listdir(model_path))\n",
    "#     if gene == 'PIK3CG':\n",
    "#         model_path = os.path.join(home_dir, gene.lower()+'_union_trainset_mordred_ampl-1.1.0/')\n",
    "#     for l in os.listdir(model_path): print(l)\n",
    "#     # extract model info from model_metadata.json file\n",
    "#     with open(model_path + 'model_metadata.json') as json_file:\n",
    "#         data = json.load(json_file)\n",
    "#         print(data.keys())\n",
    "#         print(data['model_parameters'])\n"
   ]
  },
  {
   "cell_type": "code",
   "execution_count": 67,
   "id": "4e4901f8",
   "metadata": {},
   "outputs": [],
   "source": [
    "\n",
    "    \n",
    "#     # extract model info from model_metadata.json file\n",
    "#     with open(model_extracted_dir + 'model_metadata.json') as json_file:\n",
    "#         data = json.load(json_file)\n",
    "#         #ampl_version = data['model_parameters']['ampl_version']\n",
    "#         #featurizer = data['model_parameters']['featurizer']\n",
    "#         #model_uuid = data['model_uuid']\n",
    "#         split_uuid = data['splitting_parameters']['split_uuid']\n",
    "# \t#get split file location\n",
    "#         split_dir = os.path.dirname(data['training_dataset']['dataset_key'])\n",
    "#         print(split_uuid, split_dir)\n"
   ]
  },
  {
   "cell_type": "code",
   "execution_count": 73,
   "id": "897e243a",
   "metadata": {},
   "outputs": [
    {
     "name": "stdout",
     "output_type": "stream",
     "text": [
      "\n",
      " CHRM1 -> Union\n",
      "train    1899\n",
      "test      335\n",
      "Name: subset, dtype: int64\n",
      "\n",
      " CHRM2 -> Union\n",
      "train    1493\n",
      "test      264\n",
      "Name: subset, dtype: int64\n",
      "\n",
      " CHRM3 -> Union\n",
      "train    1754\n",
      "test      310\n",
      "Name: subset, dtype: int64\n",
      "\n",
      " CYP2C9 -> Union\n",
      "train    11321\n",
      "test      1998\n",
      "Name: subset, dtype: int64\n",
      "\n",
      " CYP2D6 -> Union\n",
      "train    10445\n",
      "test      1843\n",
      "Name: subset, dtype: int64\n",
      "\n",
      " CYP3A4 -> Union\n",
      "train    17796\n",
      "test      3141\n",
      "Name: subset, dtype: int64\n",
      "\n",
      " HRH1 -> Union\n",
      "train    1077\n",
      "test      189\n",
      "Name: subset, dtype: int64\n",
      "\n",
      " KCNH2 -> Union\n",
      "train    11920\n",
      "test      2103\n",
      "Name: subset, dtype: int64\n",
      "\n",
      " PIK3CG -> Union\n",
      "train    2611\n",
      "test      428\n",
      "Name: subset, dtype: int64\n"
     ]
    }
   ],
   "source": [
    "home_dir='/home/sarkart4/MoDaC/NCI_DOE_Archive/ATOM/Safety_Screen_Targets/'\n",
    "#!ls $home_dir\n",
    "genes = ['CHRM1', 'CHRM2', 'CHRM3', 'CYP2C9', 'CYP2D6', 'CYP3A4', 'HRH1', 'KCNH2', 'PIK3CG'] #PIK3CG - model file name problem\n",
    "for gene in genes:\n",
    "    print(\"\\n\", gene, \"->\", \"Union\")\n",
    "    train=pd.read_csv(os.path.join(home_dir, gene.upper()+'-ampl-1.1.0/'+gene.lower()+'_union_trainset_base_smiles.csv'))\n",
    "    test=pd.read_csv(os.path.join(home_dir, gene.upper()+'-ampl-1.1.0/'+gene.lower()+'_union_testset_base_smiles.csv'))\n",
    "    train['subset']='train'\n",
    "    test['subset']='test'\n",
    "    split_file=[file for file in os.listdir(os.path.join(home_dir, gene.upper()+'-ampl-1.1.0/')) if file.startswith(gene.lower()+'_union_trainset_base_smiles_train_valid_test_')][0]\n",
    "    split=pd.read_csv(home_dir+gene.upper()+'-ampl-1.1.0/'+split_file)\n",
    "    # merge all info together and cut out feature columns\n",
    "    pred_df=pd.concat([train,test])\n",
    "    #pred_df=pred_df.merge(split, how='left', left_on='compound_id', right_on='cmpd_id')\n",
    "    #pred_df.loc[pred_df.subset.isna(), 'subset']='test'\n",
    "    print(pred_df.subset.value_counts())\n"
   ]
  },
  {
   "cell_type": "code",
   "execution_count": null,
   "id": "b4ebcc66",
   "metadata": {},
   "outputs": [],
   "source": []
  }
 ],
 "metadata": {
  "kernelspec": {
   "display_name": "ampl-1.4.0",
   "language": "python",
   "name": "ampl-1.4.0"
  },
  "language_info": {
   "codemirror_mode": {
    "name": "ipython",
    "version": 3
   },
   "file_extension": ".py",
   "mimetype": "text/x-python",
   "name": "python",
   "nbconvert_exporter": "python",
   "pygments_lexer": "ipython3",
   "version": "3.7.10"
  }
 },
 "nbformat": 4,
 "nbformat_minor": 5
}
